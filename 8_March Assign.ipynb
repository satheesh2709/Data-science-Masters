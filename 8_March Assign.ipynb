{
 "cells": [
  {
   "cell_type": "markdown",
   "id": "3e3f8f14-6d52-41bc-aae4-bbe183d469b9",
   "metadata": {},
   "source": [
    "### Q1. What is the Probability density function?\n",
    "\n",
    "#### Probability density functions are a statistical measure used to gauge the likely outcome of a discrete value"
   ]
  },
  {
   "cell_type": "markdown",
   "id": "c278d5fb-42cb-402c-8f80-5f595a3ea2bb",
   "metadata": {},
   "source": [
    "### Q2. What are the types of Probability distribution?\n",
    "\n",
    "#### Discrete probability distributions. \n",
    "#### Continuous probability distributions"
   ]
  },
  {
   "cell_type": "markdown",
   "id": "c57d13bc-1ba7-463d-bd6b-57fca2dec63f",
   "metadata": {},
   "source": [
    "### Q3. Write a Python function to calculate the probability density function of a normal distribution with given mean and standard deviation at a given point.\n"
   ]
  },
  {
   "cell_type": "code",
   "execution_count": 4,
   "id": "888625ab-9a5f-4d7e-bc59-a60859236f4c",
   "metadata": {},
   "outputs": [],
   "source": [
    "import math\n",
    "\n",
    "def normal_pdf(x, mean, std_dev):\n",
    "    \"\"\"\n",
    "    Calculates the probability density function of a normal distribution\n",
    "    with given mean and standard deviation at a given point x.\n",
    "    \"\"\"\n",
    "    exponent = -((x - mean)**2) / (2 * (std_dev**2))\n",
    "    coef = 1 / (math.sqrt(2 * math.pi) * std_dev)\n",
    "    return coef * math.exp(exponent)\n"
   ]
  },
  {
   "cell_type": "markdown",
   "id": "0b21dd14-d8af-4c78-a25f-7bfb42832a3e",
   "metadata": {},
   "source": [
    "### Q4. What are the properties of Binomial distribution? Give two examples of events where binomial distribution can be applied.\n"
   ]
  },
  {
   "cell_type": "markdown",
   "id": "a1457904-08c2-4e00-8012-cbd60481df88",
   "metadata": {},
   "source": [
    "#### The properties of the binomial distribution are: There are two possible outcomes: true or false, success or failure, yes or no\n",
    "#### Toss a coin & rolling a dice and manufacturing plant uses this to find the defect in a product"
   ]
  },
  {
   "cell_type": "markdown",
   "id": "14deed33-2c83-4767-81d1-f0e68d1e68a4",
   "metadata": {},
   "source": [
    "### Q5. Generate a random sample of size 1000 from a binomial distribution with probability of success 0.4 and plot a histogram of the results using matplotlib.\n"
   ]
  },
  {
   "cell_type": "code",
   "execution_count": 1,
   "id": "220e7740-f342-4fb5-8eab-f4d987610a80",
   "metadata": {},
   "outputs": [
    {
     "data": {
      "image/png": "[encoded data removed]",
      "text/plain": [
       "<Figure size 640x480 with 1 Axes>"
      ]
     },
     "metadata": {},
     "output_type": "display_data"
    }
   ],
   "source": [
    "import numpy as np\n",
    "import matplotlib.pyplot as plt\n",
    "\n",
    "\n",
    "np.random.seed(42)\n",
    "\n",
    "\n",
    "n = 1000  # Sample size\n",
    "p = 0.4  # Probability of success\n",
    "sample = np.random.binomial(n, p)\n",
    "\n",
    "plt.hist(sample, bins=20)\n",
    "plt.title('Histogram of Random Sample from Binomial Distribution')\n",
    "plt.xlabel('Number of Successes')\n",
    "plt.ylabel('Frequency')\n",
    "plt.show()\n"
   ]
  },
  {
   "cell_type": "markdown",
   "id": "f2742b72-0c73-4338-a08c-f5c8742cb4c4",
   "metadata": {},
   "source": [
    "### Q6. Write a Python function to calculate the cumulative distribution function of a Poisson distribution with given mean at a given point.\n"
   ]
  },
  {
   "cell_type": "code",
   "execution_count": 3,
   "id": "d4ae3dd4-3523-45d8-a32a-9915d431081c",
   "metadata": {},
   "outputs": [],
   "source": [
    "import math\n",
    "\n",
    "def poisson_cdf(mean, k):\n",
    "    cdf = 0\n",
    "    for i in range(k+1):\n",
    "        cdf += (math.exp(-mean) * mean**i) / math.factorial(i)\n",
    "    return cdf\n"
   ]
  },
  {
   "cell_type": "markdown",
   "id": "1c5d172f-9f11-4925-b6cb-02f4f8e3d0f2",
   "metadata": {},
   "source": [
    "### Q7. How Binomial distribution different from Poisson distribution?\n",
    "\n",
    "#### Binomial distribution is the one in which the number of outcomes are only 2 and whereas Poisson distribution is the one in which the number of outcomes are unlimited."
   ]
  },
  {
   "cell_type": "markdown",
   "id": "eea9ba06-2933-420f-8114-4be057b58b50",
   "metadata": {},
   "source": [
    "### Q8. Generate a random sample of size 1000 from a Poisson distribution with mean 5 and calculate the sample mean and variance.\n"
   ]
  },
  {
   "cell_type": "code",
   "execution_count": 5,
   "id": "126986b4-fe1e-4560-a972-d226958f155b",
   "metadata": {},
   "outputs": [
    {
     "name": "stdout",
     "output_type": "stream",
     "text": [
      "Sample mean: 4.985\n",
      "Sample variance: 5.001776776776777\n"
     ]
    }
   ],
   "source": [
    "import numpy as np\n",
    "\n",
    "np.random.seed(42)\n",
    "\n",
    "sample = np.random.poisson(lam=5, size=1000)\n",
    "\n",
    "sample_mean = np.mean(sample)\n",
    "sample_var = np.var(sample, ddof=1)\n",
    "\n",
    "print(\"Sample mean:\", sample_mean)\n",
    "print(\"Sample variance:\", sample_var)\n"
   ]
  },
  {
   "cell_type": "markdown",
   "id": "3e4a00ea-b698-490b-9632-b5b1f49b0844",
   "metadata": {},
   "source": [
    "### Q9. How mean and variance are related in Binomial distribution and Poisson distribution?\n",
    "\n",
    "#### the mean and variance are directly related in a Poisson distribution, whereas in a binomial distribution, the variance also depends on the probability of failure in each trial."
   ]
  },
  {
   "cell_type": "markdown",
   "id": "d8af597e-3820-43b7-bef8-006defba64e7",
   "metadata": {},
   "source": [
    "### Q10. In normal distribution with respect to mean position, where does the least frequent data appear?\n",
    "\n",
    "#### In a normal distribution, the least frequent data appears at the tail"
   ]
  },
  {
   "cell_type": "code",
   "execution_count": null,
   "id": "f0023782-da24-45fd-9497-118957831065",
   "metadata": {},
   "outputs": [],
   "source": []
  }
 ],
 "metadata": {
  "kernelspec": {
   "display_name": "Python 3 (ipykernel)",
   "language": "python",
   "name": "python3"
  },
  "language_info": {
   "codemirror_mode": {
    "name": "ipython",
    "version": 3
   },
   "file_extension": ".py",
   "mimetype": "text/x-python",
   "name": "python",
   "nbconvert_exporter": "python",
   "pygments_lexer": "ipython3",
   "version": "3.10.8"
  }
 },
 "nbformat": 4,
 "nbformat_minor": 5
}
