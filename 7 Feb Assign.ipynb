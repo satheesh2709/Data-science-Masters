{
 "cells": [
  {
   "cell_type": "markdown",
   "id": "4702c42b-71c5-4069-81b7-d696c7595587",
   "metadata": {},
   "source": [
    "### Q1. You are writing code for a company. The requirement of the company is that you create a python function that will check whether the password entered by the user is correct or not. The function should take the password as input and return the string “Valid Password” if the entered password follows the below-given password guidelines else it should return “Invalid Password”.\n",
    "\n",
    "1. The Password should contain at least two uppercase letters and at least two lowercase letters.\n",
    "2. The Password should contain at least a number and three special characters.\n",
    "3. The length of the password should be 10 characters long."
   ]
  },
  {
   "cell_type": "code",
   "execution_count": 6,
   "id": "f8eb0698-17c4-43b6-beed-3f7b45960457",
   "metadata": {},
   "outputs": [
    {
     "name": "stdin",
     "output_type": "stream",
     "text": [
      "Enter password:  WWaa@$&123fjdsjf\n"
     ]
    },
    {
     "name": "stdout",
     "output_type": "stream",
     "text": [
      "Valid password\n"
     ]
    }
   ],
   "source": [
    "l,u,t,p=0,0,0,0\n",
    "password = input('Enter password: ')\n",
    "\n",
    "if (len(password) > 10):\n",
    "    for i in password:\n",
    "        if (i.islower()):\n",
    "            l++1\n",
    "        \n",
    "        if (i.isupper()):\n",
    "            u+=1\n",
    "            \n",
    "        if (i.isdigit()):\n",
    "            t+=1\n",
    "            \n",
    "        if(i=='@' or i=='$' or i=='&'):\n",
    "            p+=1\n",
    "            \n",
    "if(l>2 or u>2 or t>1 or p>3):\n",
    "    print('Valid password')\n",
    "else:\n",
    "    print('Invalid password')\n",
    "        "
   ]
  },
  {
   "cell_type": "markdown",
   "id": "b52e1c79-0028-4e6a-807d-a58e90dfc45c",
   "metadata": {},
   "source": [
    "### Q2. Solve the below-given questions using at least one of the following:\n",
    "1. Lambda function\n",
    "2. Filter function\n",
    "3. Map function\n",
    "4. List ComprehensioN"
   ]
  },
  {
   "cell_type": "markdown",
   "id": "b13a223d-115c-45b7-965f-c5de8d10ebdf",
   "metadata": {
    "tags": []
   },
   "source": [
    "1. Check if the string starts with a particular letter"
   ]
  },
  {
   "cell_type": "code",
   "execution_count": 8,
   "id": "32874298-c704-4d8f-a7e9-1d69e8a23b41",
   "metadata": {},
   "outputs": [],
   "source": [
    "l = 'Pwskills'"
   ]
  },
  {
   "cell_type": "code",
   "execution_count": 32,
   "id": "a97cbb40-11da-4dec-aac6-4923de04e376",
   "metadata": {},
   "outputs": [
    {
     "data": {
      "text/plain": [
       "[True]"
      ]
     },
     "execution_count": 32,
     "metadata": {},
     "output_type": "execute_result"
    }
   ],
   "source": [
    "[True if l.startswith('P') else False]"
   ]
  },
  {
   "cell_type": "markdown",
   "id": "16894bac-0928-4360-99b1-38daea3cf823",
   "metadata": {},
   "source": [
    "2. Check if the string is numericY"
   ]
  },
  {
   "cell_type": "code",
   "execution_count": 38,
   "id": "50e49269-99a0-400b-8ccc-19e84691faf8",
   "metadata": {},
   "outputs": [
    {
     "data": {
      "text/plain": [
       "True"
      ]
     },
     "execution_count": 38,
     "metadata": {},
     "output_type": "execute_result"
    }
   ],
   "source": [
    "a = '1234567'\n",
    "\n",
    "bool(filter(lambda x:x.isdigit(),a))"
   ]
  },
  {
   "cell_type": "markdown",
   "id": "0f81ee12-0048-4163-b1ad-5d788a399ab0",
   "metadata": {},
   "source": [
    "3. Sort a list of tuples having fruit names and their quantity. [(\"mango\",99),(\"orange\",80), (\"grapes\", 1000)-"
   ]
  },
  {
   "cell_type": "code",
   "execution_count": 39,
   "id": "ea0410e2-4ebf-4aac-a094-680ca0c0476c",
   "metadata": {},
   "outputs": [],
   "source": [
    "fruits =  [(\"mango\",99),(\"orange\",80), (\"grapes\", 1000)]"
   ]
  },
  {
   "cell_type": "code",
   "execution_count": 44,
   "id": "8beef282-5241-4f32-9a73-166fb43ad5ff",
   "metadata": {},
   "outputs": [
    {
     "name": "stdout",
     "output_type": "stream",
     "text": [
      "[('orange', 80), ('mango', 99), ('grapes', 1000)]\n"
     ]
    }
   ],
   "source": [
    "sorted_fruits = sorted(fruits,key=lambda x: x[1])\n",
    "print(sorted_fruits)"
   ]
  },
  {
   "cell_type": "markdown",
   "id": "cb0f57e6-aa13-403d-9ad6-226cfd30b717",
   "metadata": {},
   "source": [
    "4. Find the squares of numbers from 1 to 10"
   ]
  },
  {
   "cell_type": "code",
   "execution_count": 45,
   "id": "09825136-d8a2-4977-9f52-fb35b683c163",
   "metadata": {},
   "outputs": [],
   "source": [
    "t = range(1,10)"
   ]
  },
  {
   "cell_type": "code",
   "execution_count": 46,
   "id": "3ee79a6c-163a-4cc5-b05c-3acd24a6b43a",
   "metadata": {},
   "outputs": [
    {
     "data": {
      "text/plain": [
       "[1, 4, 9, 16, 25, 36, 49, 64, 81]"
      ]
     },
     "execution_count": 46,
     "metadata": {},
     "output_type": "execute_result"
    }
   ],
   "source": [
    "[i**2 for i in t]"
   ]
  },
  {
   "cell_type": "markdown",
   "id": "95c59f5e-f37b-49bb-aaf1-84eae32bec5d",
   "metadata": {},
   "source": [
    "5. Find the cube root of numbers from 1 to 10Y"
   ]
  },
  {
   "cell_type": "code",
   "execution_count": 47,
   "id": "f9ab3c74-3496-4e32-8fb5-9b6270ca6417",
   "metadata": {},
   "outputs": [
    {
     "data": {
      "text/plain": [
       "[1, 8, 27, 64, 125, 216, 343, 512, 729]"
      ]
     },
     "execution_count": 47,
     "metadata": {},
     "output_type": "execute_result"
    }
   ],
   "source": [
    "[i**3 for i in t]"
   ]
  },
  {
   "cell_type": "markdown",
   "id": "d9793a9e-35b9-47cc-a40b-17c678db1a2f",
   "metadata": {},
   "source": [
    "6. Check if a given number is even"
   ]
  },
  {
   "cell_type": "code",
   "execution_count": 67,
   "id": "3d1841d3-9377-4f67-a70a-0fedb85437c6",
   "metadata": {},
   "outputs": [],
   "source": [
    "q = [57,56,58,200,201,507]"
   ]
  },
  {
   "cell_type": "code",
   "execution_count": 70,
   "id": "f4ff967e-b078-41fe-9faa-445e66ece0dd",
   "metadata": {},
   "outputs": [
    {
     "name": "stdout",
     "output_type": "stream",
     "text": [
      "[False, True, True, True, False, False]\n"
     ]
    }
   ],
   "source": [
    "result = list(map(lambda x : x%2==0,q))\n",
    "print(result)"
   ]
  },
  {
   "cell_type": "markdown",
   "id": "6f401680-682c-4e3b-bb13-18bb2f930f6c",
   "metadata": {},
   "source": [
    "7. Filter odd numbers from the given list. [1,2,3,4,5,6,7,8,9,10]"
   ]
  },
  {
   "cell_type": "code",
   "execution_count": 58,
   "id": "2e8b73a2-0926-4652-aa65-62315e57d753",
   "metadata": {},
   "outputs": [],
   "source": [
    "lists = [1,2,3,4,5,6,7,8,9,10]"
   ]
  },
  {
   "cell_type": "code",
   "execution_count": 60,
   "id": "80d22868-6e4f-47d2-ab6a-6df750a0efe7",
   "metadata": {},
   "outputs": [
    {
     "data": {
      "text/plain": [
       "[1, 3, 5, 7, 9]"
      ]
     },
     "execution_count": 60,
     "metadata": {},
     "output_type": "execute_result"
    }
   ],
   "source": [
    "list(filter(lambda x: x%2!=0,lists))"
   ]
  },
  {
   "cell_type": "markdown",
   "id": "b463080f-0993-4448-a1a1-ecc7cf82a7ab",
   "metadata": {},
   "source": [
    "8. Sort a list of integers into positive and negative integers lists.\n",
    "[1,2,3,4,5,6,-1,-2,-3,-4,-5,0]"
   ]
  },
  {
   "cell_type": "code",
   "execution_count": 61,
   "id": "113f99a1-ecef-424f-94af-e82ba265934a",
   "metadata": {},
   "outputs": [],
   "source": [
    "list1=[1,2,3,4,5,6,-1,-2,-3,-4,-5,0]"
   ]
  },
  {
   "cell_type": "code",
   "execution_count": 65,
   "id": "5b2096be-9950-47be-9411-e77740143483",
   "metadata": {},
   "outputs": [
    {
     "name": "stdout",
     "output_type": "stream",
     "text": [
      "[-5, -4, -3, -2, -1, 0, 1, 2, 3, 4, 5, 6]\n"
     ]
    }
   ],
   "source": [
    "sorted_list = sorted(list1, reverse = False)\n",
    "print(sorted_list)"
   ]
  },
  {
   "cell_type": "code",
   "execution_count": null,
   "id": "83a08e55-6636-4fe1-a3e6-04afaf088ddb",
   "metadata": {},
   "outputs": [],
   "source": []
  }
 ],
 "metadata": {
  "kernelspec": {
   "display_name": "Python 3 (ipykernel)",
   "language": "python",
   "name": "python3"
  },
  "language_info": {
   "codemirror_mode": {
    "name": "ipython",
    "version": 3
   },
   "file_extension": ".py",
   "mimetype": "text/x-python",
   "name": "python",
   "nbconvert_exporter": "python",
   "pygments_lexer": "ipython3",
   "version": "3.10.8"
  }
 },
 "nbformat": 4,
 "nbformat_minor": 5
}
