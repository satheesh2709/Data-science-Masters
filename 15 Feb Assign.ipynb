{
 "cells": [
  {
   "cell_type": "markdown",
   "id": "d9342423-4860-401b-8767-a7ed94ed18b5",
   "metadata": {},
   "source": [
    "#### Q1. What is multiprocessing in python? Why is it useful?\n",
    "\n",
    "###### Multiprocessig allows system to run multiple process simultaneously\n",
    "###### uses of Mulitprocess - it will enable the breaking of application into smaller threads that can run independently"
   ]
  },
  {
   "cell_type": "markdown",
   "id": "bf88c7c3-582b-43c7-94cb-2a4d3ab2153b",
   "metadata": {},
   "source": [
    "#### Q2. What are the differences between multiprocessing and multithreading?\n",
    "\n",
    "##### Multithreading refers to the ability of a processor to execute multiple threads concurrently where each threads runs a process\n",
    "\n",
    "##### Multiprocessing refers to ability of a system to run multiple processors concurrently where each processor can run one or more threads"
   ]
  },
  {
   "cell_type": "markdown",
   "id": "b23b8020-711a-4acc-84ab-e0eafc770386",
   "metadata": {},
   "source": [
    "#### Q3. Write a python code to create a process using the multiprocessing module."
   ]
  },
  {
   "cell_type": "code",
   "execution_count": 2,
   "id": "8e9bfc57-9130-46fd-a160-75ad2b7f245b",
   "metadata": {},
   "outputs": [
    {
     "name": "stdout",
     "output_type": "stream",
     "text": [
      "[9, 16, 25, 36, 49, 64, 81]\n"
     ]
    }
   ],
   "source": [
    "import multiprocessing\n",
    "def square(n):\n",
    "    return n**2\n",
    "if __name__ == '__main__':\n",
    "    with multiprocessing.Pool(processes = 5) as pool:\n",
    "        out = pool.map(square,[3,4,5,6,7,8,9])\n",
    "        print(out)\n"
   ]
  },
  {
   "cell_type": "markdown",
   "id": "54c73b44-baac-4afe-8089-e782333d30dd",
   "metadata": {},
   "source": [
    "#### Q4. What is a multiprocessing pool in python? Why is it used?\n",
    "\n",
    "##### Multiprocessing pool can be used for parallel execution of a function across multiple input values, distributing the input data across processes\n",
    "\n",
    "##### Pool class can be used to execute different types of ad hoc tasks, such as calling different target task functions."
   ]
  },
  {
   "cell_type": "markdown",
   "id": "cfca7cb7-0cc0-452f-9926-089ff91a4fa2",
   "metadata": {},
   "source": [
    "#### Q5. How can we create a pool of worker processes in python using the multiprocessing module?\n",
    "\n",
    "1. Create: Create the process pool by calling the constructor multiprocessing.Pool().\n",
    "2. Submit: Submit tasks to process pool\n",
    "3. Wait: Wait for tasks to complete (optional)\n",
    "4. Shutdown: Shutdown the process pool."
   ]
  },
  {
   "cell_type": "code",
   "execution_count": null,
   "id": "cffdc2d9-79a2-468c-b6c8-0ff075a2ccd0",
   "metadata": {},
   "outputs": [],
   "source": []
  }
 ],
 "metadata": {
  "kernelspec": {
   "display_name": "Python 3 (ipykernel)",
   "language": "python",
   "name": "python3"
  },
  "language_info": {
   "codemirror_mode": {
    "name": "ipython",
    "version": 3
   },
   "file_extension": ".py",
   "mimetype": "text/x-python",
   "name": "python",
   "nbconvert_exporter": "python",
   "pygments_lexer": "ipython3",
   "version": "3.10.8"
  }
 },
 "nbformat": 4,
 "nbformat_minor": 5
}
