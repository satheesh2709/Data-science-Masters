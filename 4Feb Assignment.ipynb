{
 "cells": [
  {
   "cell_type": "markdown",
   "id": "c968aeac-bd32-4ef8-bf3f-64c24f337411",
   "metadata": {},
   "source": [
    "### 1. Create a python program to sort the given list of tuples based on integer value using a lambda function.\n",
    "### [('Sachin Tendulkar', 34357), ('Ricky Ponting', 27483), ('Jack Kallis', 25534), ('Virat Kohli', 24936)]"
   ]
  },
  {
   "cell_type": "code",
   "execution_count": 1,
   "id": "4472f83a-a1d8-4019-bd77-6e46fe221c37",
   "metadata": {},
   "outputs": [],
   "source": [
    "players = [('Sachin Tendulkar', 34357), ('Ricky Ponting', 27483), ('Jack Kallis', 25534), ('Virat Kohli', 24936)]"
   ]
  },
  {
   "cell_type": "code",
   "execution_count": 4,
   "id": "cf54d2b5-2aac-4386-b046-4e85145c60e0",
   "metadata": {},
   "outputs": [
    {
     "name": "stdout",
     "output_type": "stream",
     "text": [
      "[('Virat Kohli', 24936), ('Jack Kallis', 25534), ('Ricky Ponting', 27483), ('Sachin Tendulkar', 34357)]\n"
     ]
    }
   ],
   "source": [
    "sorted_players = sorted(players, key = lambda x:x[1])\n",
    "print(sorted_players)"
   ]
  },
  {
   "cell_type": "markdown",
   "id": "70366edf-1e04-4b44-88c9-cfc11d2be59f",
   "metadata": {},
   "source": [
    "### Write a Python Program to find the squares of all the numbers in the given list of integers using lambda and map functions.\n",
    "### [1, 2, 3, 4, 5, 6, 7, 8, 9, 10]"
   ]
  },
  {
   "cell_type": "code",
   "execution_count": 5,
   "id": "11ff0ff2-d371-4a3b-85f6-cb4d2e46ca05",
   "metadata": {},
   "outputs": [],
   "source": [
    "my_list=[1, 2, 3, 4, 5, 6, 7, 8, 9, 10]\n"
   ]
  },
  {
   "cell_type": "code",
   "execution_count": 7,
   "id": "a52cdac4-e2b2-4054-b4a9-f7af0d74790f",
   "metadata": {},
   "outputs": [],
   "source": [
    "sqt_list = list(map(lambda x:x*x,my_list))"
   ]
  },
  {
   "cell_type": "code",
   "execution_count": 9,
   "id": "4dde586c-e7e7-47d6-8d56-9dc4bb66df97",
   "metadata": {},
   "outputs": [
    {
     "name": "stdout",
     "output_type": "stream",
     "text": [
      "[1, 4, 9, 16, 25, 36, 49, 64, 81, 100]\n"
     ]
    }
   ],
   "source": [
    "print(sqt_list)"
   ]
  },
  {
   "cell_type": "markdown",
   "id": "9ea608cb-4aa0-43b0-b1e3-a88e0afc4e6e",
   "metadata": {},
   "source": [
    "### 3. Write a python program to convert the given list of integers into a tuple of strings. Use map and lambda functions\n",
    "### Given String: [1, 2, 3, 4, 5, 6, 7, 8, 9, 10]\n",
    "### Expected output: ('1', '2', '3', '4', '5', '6', '7', '8', '9', '10')"
   ]
  },
  {
   "cell_type": "code",
   "execution_count": 10,
   "id": "34a06a93-dc9d-4a1f-badb-42ae5c9fd104",
   "metadata": {},
   "outputs": [],
   "source": [
    "num = [1, 2, 3, 4, 5, 6, 7, 8, 9, 10]"
   ]
  },
  {
   "cell_type": "code",
   "execution_count": 11,
   "id": "3fa307ca-fbce-4943-bbd7-b2b6671ceb22",
   "metadata": {},
   "outputs": [],
   "source": [
    "str = tuple(map(lambda x:str(x),num))"
   ]
  },
  {
   "cell_type": "code",
   "execution_count": 12,
   "id": "15406d2c-aac8-4a4d-aec3-f2583dcb4fec",
   "metadata": {},
   "outputs": [
    {
     "name": "stdout",
     "output_type": "stream",
     "text": [
      "('1', '2', '3', '4', '5', '6', '7', '8', '9', '10')\n"
     ]
    }
   ],
   "source": [
    "print(str)"
   ]
  },
  {
   "cell_type": "markdown",
   "id": "42a0f74e-37bc-498c-9511-90c7d765eabc",
   "metadata": {},
   "source": [
    "### 4. Write a python program using reduce function to compute the product of a list containing numbers from 1 to 25."
   ]
  },
  {
   "cell_type": "code",
   "execution_count": 13,
   "id": "e64d1e00-a530-4eb3-ab89-f78af3288d12",
   "metadata": {},
   "outputs": [],
   "source": [
    "from functools import reduce"
   ]
  },
  {
   "cell_type": "code",
   "execution_count": 18,
   "id": "eddb697b-a52c-4743-a62f-1c21c9331ec6",
   "metadata": {},
   "outputs": [],
   "source": [
    "nums = list(range(1,25))"
   ]
  },
  {
   "cell_type": "code",
   "execution_count": 19,
   "id": "3b0be169-9242-4419-8479-e822a0c4a830",
   "metadata": {},
   "outputs": [],
   "source": [
    "product= reduce(lambda x,y: x*y,nums)"
   ]
  },
  {
   "cell_type": "code",
   "execution_count": 20,
   "id": "b1e6896b-3b28-4c99-b677-6d8296b764c4",
   "metadata": {},
   "outputs": [
    {
     "name": "stdout",
     "output_type": "stream",
     "text": [
      "620448401733239439360000\n"
     ]
    }
   ],
   "source": [
    "print(product)"
   ]
  },
  {
   "cell_type": "markdown",
   "id": "4fc134d6-cb4f-4fd1-bba6-9db98aa31350",
   "metadata": {},
   "source": [
    "### 5. Write a python program to filter the numbers in a given list that are divisible by 2 and 3 using the filter function.\n",
    "### [2, 3, 6, 9, 27, 60, 90, 120, 55, 46]"
   ]
  },
  {
   "cell_type": "code",
   "execution_count": 22,
   "id": "805e802f-bcf1-483f-851d-2ebbe72678ee",
   "metadata": {},
   "outputs": [],
   "source": [
    "lists = [2, 3, 6, 9, 27, 60, 90, 120, 55, 46]"
   ]
  },
  {
   "cell_type": "code",
   "execution_count": 24,
   "id": "40db62c0-813f-4e5e-8c0b-8c874f8cc252",
   "metadata": {},
   "outputs": [],
   "source": [
    "result = list(filter(lambda x: x %2==0 and x%3==0,lists))"
   ]
  },
  {
   "cell_type": "code",
   "execution_count": 25,
   "id": "b46e3af5-a5c5-4d1e-aa0c-47dfa7955fb1",
   "metadata": {},
   "outputs": [
    {
     "name": "stdout",
     "output_type": "stream",
     "text": [
      "[6, 60, 90, 120]\n"
     ]
    }
   ],
   "source": [
    "print(result)"
   ]
  },
  {
   "cell_type": "markdown",
   "id": "318f89b0-260f-4611-a97d-d69e58747c8a",
   "metadata": {},
   "source": [
    "### 6. Write a python program to find palindromes in the given list of strings using lambda and filter function.\n",
    "### ['python', 'php', 'aba', 'radar', 'level']"
   ]
  },
  {
   "cell_type": "code",
   "execution_count": 28,
   "id": "09029cab-c0ef-473b-a8ab-628c2daea5a0",
   "metadata": {},
   "outputs": [],
   "source": [
    "words=['python', 'php', 'aba', 'radar', 'level']"
   ]
  },
  {
   "cell_type": "code",
   "execution_count": 29,
   "id": "6b2fe6be-7f30-49f4-a4fc-16aeb6b53c97",
   "metadata": {},
   "outputs": [],
   "source": [
    "results = list(filter(lambda x: x==x[::-1],words))"
   ]
  },
  {
   "cell_type": "code",
   "execution_count": 30,
   "id": "63df7c43-4750-4977-b07a-06088c0c1c9c",
   "metadata": {},
   "outputs": [
    {
     "name": "stdout",
     "output_type": "stream",
     "text": [
      "['php', 'aba', 'radar', 'level']\n"
     ]
    }
   ],
   "source": [
    "print(results)"
   ]
  },
  {
   "cell_type": "code",
   "execution_count": null,
   "id": "7956a482-ed76-45a6-bcea-673f37a9b1ec",
   "metadata": {},
   "outputs": [],
   "source": []
  }
 ],
 "metadata": {
  "kernelspec": {
   "display_name": "Python 3 (ipykernel)",
   "language": "python",
   "name": "python3"
  },
  "language_info": {
   "codemirror_mode": {
    "name": "ipython",
    "version": 3
   },
   "file_extension": ".py",
   "mimetype": "text/x-python",
   "name": "python",
   "nbconvert_exporter": "python",
   "pygments_lexer": "ipython3",
   "version": "3.10.8"
  }
 },
 "nbformat": 4,
 "nbformat_minor": 5
}
