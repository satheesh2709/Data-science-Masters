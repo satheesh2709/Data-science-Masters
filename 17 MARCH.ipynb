{
 "cells": [
  {
   "cell_type": "markdown",
   "id": "128152e6-f266-49d2-9598-30985eaed2b9",
   "metadata": {},
   "source": [
    "### Q1: What are missing values in a dataset? Why is it essential to handle missing values? Name some algorithms that are not affected by missing values.\n",
    "\n",
    "#### mIssing values occurs in dataset when some of the informations is not stored for a variable\n",
    "#### in order to avoid biased machine learning model\n",
    "#### k-NN and Random Forest algorithms can also support missing values"
   ]
  },
  {
   "cell_type": "markdown",
   "id": "0d0db8f0-daaf-4a33-9972-b3c5a8603eb5",
   "metadata": {},
   "source": [
    "### Q2: List down techniques used to handle missing data.  Give an example of each with python code."
   ]
  },
  {
   "cell_type": "code",
   "execution_count": 1,
   "id": "898fc81e-ab78-4116-b670-dc150db0a39d",
   "metadata": {},
   "outputs": [
    {
     "data": {
      "text/plain": [
       "(182, 15)"
      ]
     },
     "execution_count": 1,
     "metadata": {},
     "output_type": "execute_result"
    }
   ],
   "source": [
    "## Deletion\n",
    "\n",
    "import seaborn as sns\n",
    "df=sns.load_dataset('titanic')\n",
    "df.dropna().shape\n"
   ]
  },
  {
   "cell_type": "code",
   "execution_count": 3,
   "id": "96ed6d6f-167f-4ca5-a5bd-94ef8d5a3ef6",
   "metadata": {},
   "outputs": [
    {
     "data": {
      "text/html": [
       "<div>\n",
       "<style scoped>\n",
       "    .dataframe tbody tr th:only-of-type {\n",
       "        vertical-align: middle;\n",
       "    }\n",
       "\n",
       "    .dataframe tbody tr th {\n",
       "        vertical-align: top;\n",
       "    }\n",
       "\n",
       "    .dataframe thead th {\n",
       "        text-align: right;\n",
       "    }\n",
       "</style>\n",
       "<table border=\"1\" class=\"dataframe\">\n",
       "  <thead>\n",
       "    <tr style=\"text-align: right;\">\n",
       "      <th></th>\n",
       "      <th>Age_mean</th>\n",
       "      <th>age</th>\n",
       "    </tr>\n",
       "  </thead>\n",
       "  <tbody>\n",
       "    <tr>\n",
       "      <th>0</th>\n",
       "      <td>22.000000</td>\n",
       "      <td>22.0</td>\n",
       "    </tr>\n",
       "    <tr>\n",
       "      <th>1</th>\n",
       "      <td>38.000000</td>\n",
       "      <td>38.0</td>\n",
       "    </tr>\n",
       "    <tr>\n",
       "      <th>2</th>\n",
       "      <td>26.000000</td>\n",
       "      <td>26.0</td>\n",
       "    </tr>\n",
       "    <tr>\n",
       "      <th>3</th>\n",
       "      <td>35.000000</td>\n",
       "      <td>35.0</td>\n",
       "    </tr>\n",
       "    <tr>\n",
       "      <th>4</th>\n",
       "      <td>35.000000</td>\n",
       "      <td>35.0</td>\n",
       "    </tr>\n",
       "    <tr>\n",
       "      <th>...</th>\n",
       "      <td>...</td>\n",
       "      <td>...</td>\n",
       "    </tr>\n",
       "    <tr>\n",
       "      <th>886</th>\n",
       "      <td>27.000000</td>\n",
       "      <td>27.0</td>\n",
       "    </tr>\n",
       "    <tr>\n",
       "      <th>887</th>\n",
       "      <td>19.000000</td>\n",
       "      <td>19.0</td>\n",
       "    </tr>\n",
       "    <tr>\n",
       "      <th>888</th>\n",
       "      <td>29.699118</td>\n",
       "      <td>NaN</td>\n",
       "    </tr>\n",
       "    <tr>\n",
       "      <th>889</th>\n",
       "      <td>26.000000</td>\n",
       "      <td>26.0</td>\n",
       "    </tr>\n",
       "    <tr>\n",
       "      <th>890</th>\n",
       "      <td>32.000000</td>\n",
       "      <td>32.0</td>\n",
       "    </tr>\n",
       "  </tbody>\n",
       "</table>\n",
       "<p>891 rows × 2 columns</p>\n",
       "</div>"
      ],
      "text/plain": [
       "      Age_mean   age\n",
       "0    22.000000  22.0\n",
       "1    38.000000  38.0\n",
       "2    26.000000  26.0\n",
       "3    35.000000  35.0\n",
       "4    35.000000  35.0\n",
       "..         ...   ...\n",
       "886  27.000000  27.0\n",
       "887  19.000000  19.0\n",
       "888  29.699118   NaN\n",
       "889  26.000000  26.0\n",
       "890  32.000000  32.0\n",
       "\n",
       "[891 rows x 2 columns]"
      ]
     },
     "execution_count": 3,
     "metadata": {},
     "output_type": "execute_result"
    }
   ],
   "source": [
    "## imputation\n",
    "df['Age_mean']=df['age'].fillna(df['age'].mean())\n",
    "df[['Age_mean','age']]"
   ]
  },
  {
   "cell_type": "markdown",
   "id": "f9a92896-88dd-4d9b-b00d-8ebeb7097e2b",
   "metadata": {},
   "source": [
    "### Q3: Explain the imbalanced data. What will happen if imbalanced data is not handled?"
   ]
  },
  {
   "cell_type": "markdown",
   "id": "9a078647-4c57-420e-8f1e-f15f5be26c5f",
   "metadata": {},
   "source": [
    "#### Imbalanced data refers to a situation in which the distribution of classes in a classification problem is not equal, meaning that one class has significantly more examples than the other\n",
    "\n",
    "#### Not handling imbalanced data can lead to biased models that perform poorly in predicting the minority class"
   ]
  },
  {
   "cell_type": "markdown",
   "id": "c30885e7-6faa-4b64-870e-b3f687e41b18",
   "metadata": {},
   "source": [
    "### Q4: What are Up-sampling and Down-sampling? Explain with an example when up-sampling and downsampling are required."
   ]
  },
  {
   "cell_type": "markdown",
   "id": "37c71f84-e26e-4384-9c99-55a3bbd25fb8",
   "metadata": {},
   "source": [
    "#### Upsampling involves increasing the number of examples in the minority class to balance the datase\n",
    "\n",
    "#### Downsampling involves reducing the number of examples in the majority class to balance the dataset."
   ]
  },
  {
   "cell_type": "markdown",
   "id": "b822209d-6371-442e-b135-c74b4907d914",
   "metadata": {},
   "source": [
    "### Q5: What is data Augmentation? Explain SMOTE"
   ]
  },
  {
   "cell_type": "markdown",
   "id": "71db97b9-1fb6-4a95-a2ae-57fe54eadd11",
   "metadata": {},
   "source": [
    "#### Data augmentation is a technique used to increase the size and diversity of a dataset by creating new examples from the existing ones through various transformations. \n",
    "\n",
    "\n",
    "#### SMOTE (Synthetic Minority Over-sampling Technique) is a technique used in machine learning to address imbalanced datasets where the minority class has significantly fewer instances than the majority class. SMOTE involves generating synthetic instances of the minority class by interpolating between existing instances."
   ]
  },
  {
   "cell_type": "markdown",
   "id": "beb4caa2-7027-42e9-945a-51ee240b1302",
   "metadata": {},
   "source": [
    "### Q6: What are outliers in a dataset? Why is it essential to handle outliers?"
   ]
  },
  {
   "cell_type": "markdown",
   "id": "ac624075-45bc-4f00-9569-2d3f3301a176",
   "metadata": {},
   "source": [
    "#### Outliers are data points that are significantly different from the other data points in a dataset.\n",
    "\n",
    "#### Handling outliers is essential because they can lead to biased models, decreased model performance, and inaccurate predictions"
   ]
  },
  {
   "cell_type": "markdown",
   "id": "02cd476b-7cb4-406b-903e-5cc4d322e3be",
   "metadata": {},
   "source": [
    "### Q7: You are working on a project that requires analyzing customer data. However, you notice that some of the data is missing. What are some techniques you can use to handle the missing data in your analysis?"
   ]
  },
  {
   "cell_type": "markdown",
   "id": "bdd9d5b2-81b8-4da5-a656-f92f4d00c580",
   "metadata": {},
   "source": [
    "1. Deletion\n",
    "2. imputation - mean/mode"
   ]
  },
  {
   "cell_type": "markdown",
   "id": "0b730667-8e06-47ab-97bd-c036ef4bd4ad",
   "metadata": {},
   "source": [
    "### Q8: You are working with a large dataset and find that a small percentage of the data is missing. What aresome strategies you can use to determine if the missing data is missing at random or if there is a pattern to the missing data?\n",
    "\n",
    "1. Visual inspection:\n",
    "2. Summary statistics\n",
    "3. Missing data test\n",
    "4. Data imputation"
   ]
  },
  {
   "cell_type": "markdown",
   "id": "f19a75e7-ba32-4a5c-b1e0-5ba3a03949a9",
   "metadata": {},
   "source": [
    "### Q9: Suppose you are working on a medical diagnosis project and find that the majority of patients in the dataset do not have the condition of interest, while a small percentage do. What are some strategies you can use to evaluate the performance of your machine learning model on this imbalanced dataset?\n",
    "\n",
    "1. Confusion matrix\n",
    "2. Precision-recall curve\n",
    "3. Receiver Operating Characteristic\n",
    "4. Cost-sensitive learning\n",
    "5. Resampling technique"
   ]
  },
  {
   "cell_type": "markdown",
   "id": "5e099b7c-a557-4ba5-88a0-8e1ab9a00a97",
   "metadata": {},
   "source": [
    "### Q10: When attempting to estimate customer satisfaction for a project, you discover that the dataset is unbalanced, with the bulk of customers reporting being satisfied. What methods can you employ to balance the dataset and down-sample the majority class?\n",
    "\n",
    "1. Random under-sampling\n",
    "2. Cluster-based under-sampling\n",
    "3. Tomek links\n",
    "4. Combining over- and under-sampling\n"
   ]
  },
  {
   "cell_type": "markdown",
   "id": "863fea68-3a28-4d56-bcee-62aa61971012",
   "metadata": {},
   "source": [
    "### Q11: You discover that the dataset is unbalanced with a low percentage of occurrences while working on a project that requires you to estimate the occurrence of a rare event. What methods can you employ to balance the dataset and up-sample the minority class?\n",
    "\n",
    "1. Random over-sampling\n",
    "2. SMOTE\n",
    "3. ADASYN\n",
    "4. Combining over- and under-sampling"
   ]
  },
  {
   "cell_type": "code",
   "execution_count": null,
   "id": "a941c30b-d4d0-4eda-8423-1176f62ddd62",
   "metadata": {},
   "outputs": [],
   "source": []
  }
 ],
 "metadata": {
  "kernelspec": {
   "display_name": "Python 3 (ipykernel)",
   "language": "python",
   "name": "python3"
  },
  "language_info": {
   "codemirror_mode": {
    "name": "ipython",
    "version": 3
   },
   "file_extension": ".py",
   "mimetype": "text/x-python",
   "name": "python",
   "nbconvert_exporter": "python",
   "pygments_lexer": "ipython3",
   "version": "3.10.8"
  }
 },
 "nbformat": 4,
 "nbformat_minor": 5
}
