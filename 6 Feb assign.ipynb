{
 "cells": [
  {
   "cell_type": "markdown",
   "id": "2f6d4741-2a44-4627-abd2-386c1ac92db0",
   "metadata": {},
   "source": [
    "### Q1. Create a function which will take a list as an argument and return the product of all the numbers after creating a flat list.\n",
    "### Use the below-given list as an argument for your function.\n",
    "### list1 = [1,2,3,4, [44,55,66, True], False, (34,56,78,89,34), {1,2,3,3,2,1}, {1:34, \"key2\": [55, 67, 78, 89], 4: (45,22, 61, 34)}, [56, 'data science'], 'Machine Learning']"
   ]
  },
  {
   "cell_type": "code",
   "execution_count": 23,
   "id": "006d5628-f466-4299-ab94-b0f7352d3039",
   "metadata": {},
   "outputs": [],
   "source": [
    "def test1(a):\n",
    "    \n",
    "    n = []\n",
    "    for i in a:\n",
    "        if type(i) == list or type(i)==tuple or type(i) == set:\n",
    "            n.extend(i)        \n",
    "        else:\n",
    "            n.append(i)            \n",
    "    product = 1\n",
    "    for j in n:\n",
    "        if type(j) == int or type(j)==float:\n",
    "            product *=j\n",
    "    return product             "
   ]
  },
  {
   "cell_type": "code",
   "execution_count": 24,
   "id": "24a1b129-1324-4e78-a420-af4a201793a1",
   "metadata": {},
   "outputs": [
    {
     "name": "stdout",
     "output_type": "stream",
     "text": [
      "578815684656168960\n"
     ]
    }
   ],
   "source": [
    "list1 = [1,2,3,4, [44,55,66, True], False, (34,56,78,89,34), {1,2,3,3,2,1}, {1:34, \"key2\": [55, 67, 78, 89], 4: (45, 22, 61, 34)}, [56, 'data science'], 'Machine Learning']\n",
    "\n",
    "result = product_of_numbers(list1)\n",
    "print(result)"
   ]
  },
  {
   "cell_type": "markdown",
   "id": "3ea12a46-2df9-492e-8976-c07393067c85",
   "metadata": {},
   "source": [
    "### Q2. Write a python program for encrypting a message sent to you by your friend. The logic of encryption should be such that, for a the output should be z. For b, the output should be y. For c, the output should be x respectively. Also, the whitespace should be replaced with a dollar sign. Keep the punctuation marks unchanged.\n",
    "\n",
    "### Input Sentence: I want to become a Data Scientist."
   ]
  },
  {
   "cell_type": "code",
   "execution_count": 29,
   "id": "c3424211-8ad4-458b-8fc0-c7eb0f352ef7",
   "metadata": {},
   "outputs": [],
   "source": [
    "def encrypt_message(message):\n",
    "  \n",
    "    encryption = {'a': 'z', 'b': 'y', 'c': 'x', 'd': 'w', 'e': 'v', 'f': 'u', 'g': 't', 'h': 's', 'i': 'r', 'j': 'q', 'k': 'p', 'l': 'o', 'm': 'n', 'n': 'm', 'o': 'l', 'p': 'k', 'q': 'j', 'r': 'i', 's': 'h', 't': 'g', 'u': 'f', 'v': 'e', 'w': 'd', 'x': 'c', 'y': 'b', 'z': 'a'}\n",
    "\n",
    "    message = message.replace(' ', '$')\n",
    "    \n",
    "    encrypted_message = ''\n",
    "    for i in message.lower():\n",
    "        if i in encryption:\n",
    "            encrypted_message += encryption[i]\n",
    "        else:\n",
    "            encrypted_message += i\n",
    "    \n",
    "    return encrypted_message"
   ]
  },
  {
   "cell_type": "code",
   "execution_count": 30,
   "id": "fb5e4559-95d9-4768-af29-7ab2eb7e7c01",
   "metadata": {},
   "outputs": [
    {
     "name": "stdout",
     "output_type": "stream",
     "text": [
      "r$dzmg$gl$yvxlnv$z$wzgz$hxrvmgrhg.\n"
     ]
    }
   ],
   "source": [
    "input_sentence = 'I want to become a Data Scientist.'\n",
    "encrypted_message = encrypt_message(input_sentence)\n",
    "print(encrypted_message)\n"
   ]
  },
  {
   "cell_type": "code",
   "execution_count": null,
   "id": "3186b65d-0387-4bd6-86c3-2ebe5d0f4a86",
   "metadata": {},
   "outputs": [],
   "source": []
  }
 ],
 "metadata": {
  "kernelspec": {
   "display_name": "Python 3 (ipykernel)",
   "language": "python",
   "name": "python3"
  },
  "language_info": {
   "codemirror_mode": {
    "name": "ipython",
    "version": 3
   },
   "file_extension": ".py",
   "mimetype": "text/x-python",
   "name": "python",
   "nbconvert_exporter": "python",
   "pygments_lexer": "ipython3",
   "version": "3.10.8"
  }
 },
 "nbformat": 4,
 "nbformat_minor": 5
}
