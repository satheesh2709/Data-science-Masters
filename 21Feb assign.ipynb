{
 "cells": [
  {
   "cell_type": "markdown",
   "id": "11f6f0b8-3ca9-4c6a-ad09-8a2c44708f17",
   "metadata": {},
   "source": [
    "Q1. What is Web Scraping? Why is it Used? Give three areas where Web Scraping is used to get data.\n",
    "\n",
    "#### Web scraping is the process of collecting structured web data in an automated manner\n",
    "#### Web scraping is used in a variety of digital businesses that rely on data harvesting\n",
    "#### There are a variety of uses you can gain from web scraping, including: Monitoring e-commerce prices. Finding opportunities for investment. Analyzing social media web data."
   ]
  },
  {
   "cell_type": "markdown",
   "id": "2f8e51a9-e224-4b81-aa48-2cf0725e2d86",
   "metadata": {},
   "source": [
    "Q2. What are the different methods used for Web Scraping?\n",
    "\n",
    "1. HTML Parsing\n",
    "2. DOM Parsing\n",
    "3. Vertical Aggregation\n",
    "4. XPath\n",
    "5. Google Sheets"
   ]
  },
  {
   "cell_type": "markdown",
   "id": "e8212b3a-7544-4fc4-895a-09f772633381",
   "metadata": {},
   "source": [
    "Q3. What is Beautiful Soup? Why is it used?\n",
    "\n",
    "#### Beautiful Soup is a Python package for parsing HTML and XML documents\n",
    "\n",
    "#### Beautiful Soup provides simple methods for navigating, searching, and modifying a parse tree in HTML, XML files. It transforms a complex HTML document into a tree of Python objects\n"
   ]
  },
  {
   "cell_type": "markdown",
   "id": "d1624aed-8fb6-4da3-8047-f138f861331b",
   "metadata": {},
   "source": [
    "Q4. Why is flask used in this Web Scraping project?\n",
    "\n",
    "#### We'll use this to parse our collected data and display it as HTML in a new HTML file"
   ]
  },
  {
   "cell_type": "markdown",
   "id": "cfc4ed04-da48-4097-b4d9-44eba9371884",
   "metadata": {},
   "source": [
    "Q5. Write the names of AWS services used in this project. Also, explain the use of each service.\n",
    "\n",
    "#### Codepipeline and Elastic beaanstalk are the aws services used in this project\n",
    "\n",
    "#### Beanstalk gives the resources of cpy, ram and memory\n",
    "#### CodePipeline is a continuous delivery service you can use to model, visualize, and automate the steps required to release your software"
   ]
  },
  {
   "cell_type": "code",
   "execution_count": null,
   "id": "afda4099-557c-47a3-9c5f-31e72e0f3a61",
   "metadata": {},
   "outputs": [],
   "source": []
  }
 ],
 "metadata": {
  "kernelspec": {
   "display_name": "Python 3 (ipykernel)",
   "language": "python",
   "name": "python3"
  },
  "language_info": {
   "codemirror_mode": {
    "name": "ipython",
    "version": 3
   },
   "file_extension": ".py",
   "mimetype": "text/x-python",
   "name": "python",
   "nbconvert_exporter": "python",
   "pygments_lexer": "ipython3",
   "version": "3.10.8"
  }
 },
 "nbformat": 4,
 "nbformat_minor": 5
}
