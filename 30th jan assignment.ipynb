{
 "cells": [
  {
   "cell_type": "markdown",
   "id": "9a81c356-39b6-462b-ae4a-117983dd315f",
   "metadata": {},
   "source": [
    "## write a progarm to accept percantage fromthe user and display the grade according to the following criteria\n",
    "\n",
    "marks>90=A\n",
    "mars>80&<=90 = B\n",
    "marks>=60&<=80=C\n",
    "below 90=D\n"
   ]
  },
  {
   "cell_type": "code",
   "execution_count": 6,
   "id": "44bf1b6b-e29f-4fcc-b3a0-56c201b89594",
   "metadata": {},
   "outputs": [
    {
     "name": "stdin",
     "output_type": "stream",
     "text": [
      "Enter your marks: 55\n"
     ]
    },
    {
     "name": "stdout",
     "output_type": "stream",
     "text": [
      "Your grade is D\n"
     ]
    }
   ],
   "source": [
    "marks_scored = int(input(\"Enter your marks:\"))\n",
    "if marks_scored>90:\n",
    "    print(\"Your grade is A\")\n",
    "elif marks_scored>80 and marks_scored<=90:\n",
    "    print(\"Your grade is B\")\n",
    "elif marks_scored>60 and marks_scored<=80:\n",
    "    print(\"Your grade is C\")\n",
    "else:\n",
    "    print(\"Your grade is D\")"
   ]
  },
  {
   "cell_type": "markdown",
   "id": "2b81b5f9-dcdb-4d72-ab68-0bbfa3b4a015",
   "metadata": {},
   "source": [
    "### Write a program to accept the cost price of bike ad display the road tax to be paid according to the following criteria\n",
    "\n",
    "tax 15% > 100000\n",
    "10% > 500000 and <=100000\n",
    "5% <=50000"
   ]
  },
  {
   "cell_type": "code",
   "execution_count": 12,
   "id": "f3652f1a-a9a3-4395-a85f-fd3d7998950c",
   "metadata": {},
   "outputs": [
    {
     "name": "stdin",
     "output_type": "stream",
     "text": [
      "Enter price of the product: 40000\n"
     ]
    },
    {
     "name": "stdout",
     "output_type": "stream",
     "text": [
      "On road price of the bike:42000\n"
     ]
    }
   ],
   "source": [
    "product_price = int(input(\"Enter price of the product:\"))\n",
    "if product_price >100000:\n",
    "    print(\"On road price of the bike:{taxed}\".format(taxed = int(product_price+(product_price*0.15))))\n",
    "elif product_price>50000 and product_price<=100000:\n",
    "      print(\"On road price of the bike:{taxed}\".format(taxed = int(product_price+(product_price*0.10))))\n",
    "else:\n",
    "    print(\"On road price of the bike:{taxed}\".format(taxed = int(product_price+(product_price*0.05))))"
   ]
  },
  {
   "cell_type": "markdown",
   "id": "a33fb096-14ec-4c84-9010-0cf2a08c0d78",
   "metadata": {},
   "source": [
    "### Accpet any city from the user and display monumnets of the city\n",
    "\n",
    "delhi - red fort\n",
    "agra - taj mahal\n",
    "jaipur - jai mahal"
   ]
  },
  {
   "cell_type": "code",
   "execution_count": 17,
   "id": "cd6efd73-181a-4096-830a-1a09e6cb68bd",
   "metadata": {},
   "outputs": [
    {
     "name": "stdin",
     "output_type": "stream",
     "text": [
      "Enter name of the city: jaipur\n"
     ]
    },
    {
     "name": "stdout",
     "output_type": "stream",
     "text": [
      "Jaipur has Jai mahal\n"
     ]
    }
   ],
   "source": [
    "city = input(\"Enter name of the city:\")\n",
    "if city.upper()=='DELHI':\n",
    "    print(\"Delhi has Red fort\")\n",
    "elif city.upper()=='AGRA':\n",
    "    print(\"Agra has Taj mahal\")\n",
    "elif city.upper()=='JAIPUR':\n",
    "    print(\"Jaipur has Jai mahal\")\n",
    "else:\n",
    "    print(\"There are no monuments in the city mentioned\")\n",
    "    \n",
    "    "
   ]
  },
  {
   "cell_type": "markdown",
   "id": "76429519-011f-47a4-bd9f-241e9754b45c",
   "metadata": {},
   "source": [
    "### Check how many times a given number can be divided by 3 before it is less than or equal to 10"
   ]
  },
  {
   "cell_type": "code",
   "execution_count": 9,
   "id": "a1e69350-645a-42cd-ba4a-1a1e4b4bbe94",
   "metadata": {},
   "outputs": [
    {
     "name": "stdin",
     "output_type": "stream",
     "text": [
      "Enter the number: 100\n"
     ]
    },
    {
     "name": "stdout",
     "output_type": "stream",
     "text": [
      "3\n"
     ]
    }
   ],
   "source": [
    "num = int(input(\"Enter the number:\"))\n",
    "count=0\n",
    "while num>10:\n",
    "    num = num//3\n",
    "    count = count+1\n",
    "    \n",
    "print(count)"
   ]
  },
  {
   "cell_type": "markdown",
   "id": "ae64b598-fa65-48e3-8ac7-f533b566eb7a",
   "metadata": {},
   "source": [
    "### Why and when to use while loop in python give a detailed description with example\n",
    "\n",
    "Python while loop is used to run a block code until a certain condition is met. Here, A while loop evaluates the condition. \n",
    "If the condition evaluates to True , the code inside the while loop is executed"
   ]
  },
  {
   "cell_type": "code",
   "execution_count": 13,
   "id": "4a11e101-b9e9-4335-b080-03ac3e72ebe7",
   "metadata": {},
   "outputs": [
    {
     "name": "stdout",
     "output_type": "stream",
     "text": [
      "1000\n",
      "900\n",
      "800\n",
      "700\n",
      "600\n",
      "500\n",
      "400\n",
      "300\n",
      "200\n",
      "100\n",
      "balance is empty\n"
     ]
    }
   ],
   "source": [
    "amount = 1000\n",
    "while amount!=0:\n",
    "    print(amount)\n",
    "    amount = amount-100\n",
    "else:\n",
    "    print(\"balance is empty\")"
   ]
  },
  {
   "cell_type": "markdown",
   "id": "06c56761-d206-4f25-97b6-1a13e6afd9a7",
   "metadata": {},
   "source": [
    "### use nested while loop to print 3 differet pattern"
   ]
  },
  {
   "cell_type": "code",
   "execution_count": 21,
   "id": "beb625a3-b0a9-4800-b7f1-4d588802033e",
   "metadata": {},
   "outputs": [
    {
     "name": "stdout",
     "output_type": "stream",
     "text": [
      "*\n",
      "**\n",
      "***\n",
      "****\n",
      "*****\n",
      "******\n"
     ]
    }
   ],
   "source": [
    "i = 1\n",
    "while i <= 6:\n",
    "    j = 1\n",
    "    while j <= i:\n",
    "        print(\"*\", end=\"\")\n",
    "        j += 1\n",
    "    print()\n",
    "    i += 1"
   ]
  },
  {
   "cell_type": "code",
   "execution_count": 20,
   "id": "e749c021-84a1-427f-9d9e-df61182c8753",
   "metadata": {},
   "outputs": [
    {
     "name": "stdout",
     "output_type": "stream",
     "text": [
      "     *\n",
      "    **\n",
      "   ***\n",
      "  ****\n",
      " *****\n",
      "******\n"
     ]
    }
   ],
   "source": [
    "i = 1\n",
    "while i <= 6:\n",
    "    j = 1\n",
    "    while j <= (6 - i):\n",
    "        print(\" \", end=\"\")\n",
    "        j += 1\n",
    "    k = 1\n",
    "    while k <= i:\n",
    "        print(\"*\", end=\"\")\n",
    "        k += 1\n",
    "    print()\n",
    "    i += 1"
   ]
  },
  {
   "cell_type": "code",
   "execution_count": 19,
   "id": "9cf1b46d-1aab-4fe5-83ce-a83cba48a65a",
   "metadata": {},
   "outputs": [
    {
     "name": "stdout",
     "output_type": "stream",
     "text": [
      "     *\n",
      "    ***\n",
      "   *****\n",
      "  *******\n",
      " *********\n",
      "***********\n"
     ]
    }
   ],
   "source": [
    "i = 1\n",
    "while i <= 6:\n",
    "    j = 1\n",
    "    while j <= (6 - i):\n",
    "        print(\" \", end=\"\")\n",
    "        j += 1\n",
    "    k = 1\n",
    "    while k <= (2 * i - 1):\n",
    "        print(\"*\", end=\"\")\n",
    "        k += 1\n",
    "    print()\n",
    "    i += 1"
   ]
  },
  {
   "cell_type": "markdown",
   "id": "0a31e4d6-ab75-43d0-ab5d-474b1dfdbf29",
   "metadata": {},
   "source": [
    "### reverse a while loop to display numbers from 10to1"
   ]
  },
  {
   "cell_type": "code",
   "execution_count": 25,
   "id": "a00eac78-f03e-4c9c-9d23-1d1ceb5b02a1",
   "metadata": {},
   "outputs": [
    {
     "name": "stdout",
     "output_type": "stream",
     "text": [
      "10\n",
      "9\n",
      "8\n",
      "7\n",
      "6\n",
      "5\n",
      "4\n",
      "3\n",
      "2\n",
      "1\n"
     ]
    }
   ],
   "source": [
    "num = 10\n",
    "while num >= 1:\n",
    "    print(num)\n",
    "    num -= 1"
   ]
  },
  {
   "cell_type": "markdown",
   "id": "087231c5-73d3-4f54-8292-e6378945d126",
   "metadata": {},
   "source": [
    "## Day - 4 class assignment"
   ]
  },
  {
   "cell_type": "code",
   "execution_count": null,
   "id": "becf14f5-01a4-4f9a-8c44-f9aa3240e9fe",
   "metadata": {},
   "outputs": [],
   "source": [
    "## Using both code and list comprehesnion\n",
    "# Example 2: Create a list of only the prime numbers from a given list\n",
    "numbers = [1, 2, 3, 4, 5, 6, 7, 8, 9, 10]"
   ]
  },
  {
   "cell_type": "code",
   "execution_count": 27,
   "id": "f2636136-92a9-4570-ba4f-b03b651768f7",
   "metadata": {},
   "outputs": [
    {
     "name": "stdout",
     "output_type": "stream",
     "text": [
      "[2, 3, 5, 7]\n"
     ]
    }
   ],
   "source": [
    "prime_numbers = []\n",
    "\n",
    "for num in numbers:\n",
    "  \n",
    "    if num > 1:      \n",
    "        for i in range(2, num):\n",
    "            if (num % i) == 0:\n",
    "                break\n",
    "        else:\n",
    "            prime_numbers.append(num)\n",
    "\n",
    "print(prime_numbers)"
   ]
  },
  {
   "cell_type": "code",
   "execution_count": 28,
   "id": "939dbf50-ccc4-401f-a11d-551923b58a4b",
   "metadata": {},
   "outputs": [
    {
     "data": {
      "text/plain": [
       "[2, 3, 5, 7]"
      ]
     },
     "execution_count": 28,
     "metadata": {},
     "output_type": "execute_result"
    }
   ],
   "source": [
    "[num for num in numbers if num > 1 and all(num % i != 0 for i in range(2, num))]"
   ]
  },
  {
   "cell_type": "code",
   "execution_count": 30,
   "id": "ccf2b52e-1d27-4ea2-913d-d3291ff869b0",
   "metadata": {},
   "outputs": [],
   "source": [
    "# Example 3: Create a list of all the possible combinations of 2 elements from a list\n",
    "numbers = [1, 2, 3, 4, 5]"
   ]
  },
  {
   "cell_type": "code",
   "execution_count": 31,
   "id": "60ea7a90-beb5-47e2-bd61-94efc2c5df3e",
   "metadata": {},
   "outputs": [
    {
     "data": {
      "text/plain": [
       "[(1, 2),\n",
       " (1, 3),\n",
       " (1, 4),\n",
       " (1, 5),\n",
       " (2, 3),\n",
       " (2, 4),\n",
       " (2, 5),\n",
       " (3, 4),\n",
       " (3, 5),\n",
       " (4, 5)]"
      ]
     },
     "execution_count": 31,
     "metadata": {},
     "output_type": "execute_result"
    }
   ],
   "source": [
    "[(numbers[i], numbers[j]) for i in range(len(numbers)) for j in range(i+1, len(numbers))]"
   ]
  },
  {
   "cell_type": "code",
   "execution_count": null,
   "id": "15652a5f-6c88-43b5-ae92-3d835323530a",
   "metadata": {},
   "outputs": [],
   "source": []
  },
  {
   "cell_type": "code",
   "execution_count": null,
   "id": "c6ef3431-d873-4037-ac8c-50a2d370d181",
   "metadata": {},
   "outputs": [],
   "source": []
  },
  {
   "cell_type": "code",
   "execution_count": null,
   "id": "0aa92f9d-334c-4b39-a64f-3c6c48a75999",
   "metadata": {},
   "outputs": [],
   "source": []
  }
 ],
 "metadata": {
  "kernelspec": {
   "display_name": "Python 3 (ipykernel)",
   "language": "python",
   "name": "python3"
  },
  "language_info": {
   "codemirror_mode": {
    "name": "ipython",
    "version": 3
   },
   "file_extension": ".py",
   "mimetype": "text/x-python",
   "name": "python",
   "nbconvert_exporter": "python",
   "pygments_lexer": "ipython3",
   "version": "3.10.8"
  }
 },
 "nbformat": 4,
 "nbformat_minor": 5
}
