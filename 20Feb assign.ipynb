{
 "cells": [
  {
   "cell_type": "markdown",
   "id": "98f2cc39-af56-47c8-9de0-62a27cbc30b0",
   "metadata": {},
   "source": [
    "Q1. Explain GET and POST methods.\n",
    "\n",
    "###### GET - The most common method. A GET message is send, and the server returns data\n",
    "###### POST - Used to send HTML form data to the server. The data received by the POST method is not cached by the server"
   ]
  },
  {
   "cell_type": "markdown",
   "id": "6a673f74-92e1-4a70-ace8-3b5c28e2dfdd",
   "metadata": {},
   "source": [
    "Q2. Why is request used in Flask?\n",
    "\n",
    "##### Used to request form to get data when submitting a form with the POST method. Use request args to get data passed in the query string of the URL, like when submitting a form with the GET method"
   ]
  },
  {
   "cell_type": "markdown",
   "id": "f22a5a6e-d527-4787-9162-b1ef3836f3c6",
   "metadata": {},
   "source": [
    "Q3. Why is redirect() used in Flask?\n",
    "\n",
    "##### it returns a response object and redirects the user to another target location with specified status code"
   ]
  },
  {
   "cell_type": "markdown",
   "id": "dcbcc829-725d-4e99-94c1-998866ea1b28",
   "metadata": {},
   "source": [
    "Q4. What are templates in Flask? Why is the render_template() function used?\n",
    "\n",
    "##### Templates are files that contain static data as well as placeholders for dynamic data. A template is rendered with specific data to produce a final document.\n",
    "\n",
    "##### Render_template is used to generate output from a template file based on the Jinja2 engine that is found in the application's templates folder"
   ]
  },
  {
   "cell_type": "markdown",
   "id": "0a3f5ef1-de1c-4759-bd83-62326f3d46fb",
   "metadata": {},
   "source": [
    "Q5. Create a simple API. Use Postman to test it. Attach the screenshot of the output in the Jupyter Notebook."
   ]
  },
  {
   "cell_type": "code",
   "execution_count": null,
   "id": "8903b945-a21e-486e-b979-ce527a133d6d",
   "metadata": {},
   "outputs": [],
   "source": [
    "from flask import Flask,request, render_template,jsonify\n",
    "\n",
    "\n",
    "app = Flask(__name__)\n",
    "\n",
    "@app.route('/1')\n",
    "def home_page():\n",
    "    return render_template('index.html')\n",
    "\n",
    "@app.route('/postman_action',methods=['POST'])\n",
    "def math_ops():\n",
    "    if (request.method == 'POST'):\n",
    "        ops = request.json['operation'] \n",
    "        num1 = request.json['num1']\n",
    "        num2 = request.json['num2']\n",
    "        if ops =='add':\n",
    "            r = num1+num2\n",
    "            result = 'this is the sum of'+str(num1)+ 'and'+str(num2) +'is'+ str(r)\n",
    "\n",
    "        if ops =='subtract':\n",
    "            r = num1-num2\n",
    "            result = 'this is the sum of'+str(num1)+ 'and'+str(num2) +'is'+ str(r)  \n",
    "\n",
    "        if ops =='multiply':\n",
    "            r = num1*num2\n",
    "            result = 'this is the sum of'+str(num1)+ 'and'+str(num2) +'is'+ str(r)      \n",
    "        \n",
    "        if ops =='divide':\n",
    "            r = num1/num2\n",
    "            result = 'this is the sum of'+str(num1)+ 'and'+str(num2) +'is'+ str(r)  \n",
    "\n",
    "        return jsonify(result)   \n",
    "        \n",
    "          \n",
    "if __name__==\"__main__\":\n",
    "    app.run(host=\"0.0.0.0\")\n"
   ]
  }
 ],
 "metadata": {
  "kernelspec": {
   "display_name": "Python 3 (ipykernel)",
   "language": "python",
   "name": "python3"
  },
  "language_info": {
   "codemirror_mode": {
    "name": "ipython",
    "version": 3
   },
   "file_extension": ".py",
   "mimetype": "text/x-python",
   "name": "python",
   "nbconvert_exporter": "python",
   "pygments_lexer": "ipython3",
   "version": "3.10.8"
  }
 },
 "nbformat": 4,
 "nbformat_minor": 5
}
