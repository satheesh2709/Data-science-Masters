{
 "cells": [
  {
   "cell_type": "markdown",
   "id": "8c9a2ced-9f53-4396-9bb5-1a6baa533577",
   "metadata": {},
   "source": [
    "1. what is multithreading in python? why is it used? Name the module used to handle threads in python\n",
    "\n",
    "###### mulithreading refers to concurrently executing multiple threads by rapidly switching the control of the cpu between threads\n",
    "\n",
    "###### used to run two or more concurrent programs\n",
    "\n",
    "###### import threading is module for multlthreading"
   ]
  },
  {
   "cell_type": "markdown",
   "id": "f490e28b-d39d-46ed-8dfe-502e9068ecda",
   "metadata": {},
   "source": [
    "2. why threading module used? write the use of the following functions\n",
    "\n",
    "###### threading module is used for creating, controlling and managing threads in python\n",
    "\n",
    "##### activeCount - used to count the current active or running threads\n",
    "##### currentThread - used to treturn the current threads object\n",
    "##### enumerate - return a list of all thread objects current alive"
   ]
  },
  {
   "cell_type": "markdown",
   "id": "bec87c1c-e096-4eb5-8975-f06e6cd92393",
   "metadata": {},
   "source": [
    "3. Explain the following functions\n",
    "###### run - executes any target function belonging to a given thread object that is now active\n",
    "###### start - used to initiate the activity of a thread\n",
    "###### join - delays a program's flow of execution until the target thread has been completely read\n",
    "###### isAlive - chekcs whether that thread is alive or not"
   ]
  },
  {
   "cell_type": "markdown",
   "id": "d1bc3b58-6524-4eef-8e53-4e8b7e793596",
   "metadata": {},
   "source": [
    "4. write a python program to create two threads. Thread one must print the list of squares and thread two must print the list of cubes"
   ]
  },
  {
   "cell_type": "code",
   "execution_count": 1,
   "id": "dbf4e7ae-791f-4ce0-bf98-09469ff12f36",
   "metadata": {},
   "outputs": [],
   "source": [
    "def cube(x):\n",
    "    x = x*x*x\n",
    "    print('Cube is {}'.format(x))"
   ]
  },
  {
   "cell_type": "code",
   "execution_count": 3,
   "id": "3966bc70-04b8-4eff-a5c2-655d8f7c9b62",
   "metadata": {},
   "outputs": [],
   "source": [
    "def sqr(y):\n",
    "    y = y*y\n",
    "    print('Spr is {}'.format(y))"
   ]
  },
  {
   "cell_type": "code",
   "execution_count": 7,
   "id": "2f14f4e8-0dfe-4ad6-8908-3a85ca42a2cb",
   "metadata": {},
   "outputs": [],
   "source": [
    "import threading"
   ]
  },
  {
   "cell_type": "code",
   "execution_count": 10,
   "id": "033891c1-58c5-411b-a749-ab8049912836",
   "metadata": {},
   "outputs": [],
   "source": [
    "thred1 = threading.Thread(target = sqr, args = (10,))\n",
    "thred2 = threading.Thread(target = cube, args = (10,))          "
   ]
  },
  {
   "cell_type": "code",
   "execution_count": 11,
   "id": "ce46f626-044c-4646-bba9-9b75df545a8e",
   "metadata": {},
   "outputs": [
    {
     "name": "stdout",
     "output_type": "stream",
     "text": [
      "Spr is 100\n",
      "Cube is 1000\n"
     ]
    }
   ],
   "source": [
    "thred1.start()\n",
    "thred2.start()\n",
    "\n",
    "thred1.join()\n",
    "thred2.join()"
   ]
  },
  {
   "cell_type": "markdown",
   "id": "f1f403b3-f59c-4339-9c88-df58c0b900b6",
   "metadata": {},
   "source": [
    "5. State advantages and disadvantages of multithreading\n",
    "\n",
    "#### Advantage:\n",
    "1. Multithreading in Python streamlines the efficient utilization of resources as the threads share the same memory and data space. \n",
    "2. It also allows the concurrent appearance of multiple tasks and reduces the response time\n",
    "\n",
    "#### Disadvantage:\n",
    "1. With more threads, the code becomes difficult to debug and maintain.\n",
    "2. Thread creation puts a load on the system in terms of memory and CPU resources.\n",
    "3. We need to do exception handling inside the worker method as any unhandled exceptions can result in the program crashing."
   ]
  },
  {
   "cell_type": "markdown",
   "id": "3fa3c9d7-4c9e-4363-aa2c-cf9e9aabc5b6",
   "metadata": {},
   "source": [
    "6. Explain deadlocks and race conditions.\n",
    "\n",
    "###### Deadlocks - Deadlock exists when two threads seek one lock simultaneously. \n",
    "###### Race conditions - A race condition occurs when two threads use the same variable at a given time\n"
   ]
  },
  {
   "cell_type": "code",
   "execution_count": null,
   "id": "12664217-dad0-47e9-9718-800f27715d92",
   "metadata": {},
   "outputs": [],
   "source": []
  }
 ],
 "metadata": {
  "kernelspec": {
   "display_name": "Python 3 (ipykernel)",
   "language": "python",
   "name": "python3"
  },
  "language_info": {
   "codemirror_mode": {
    "name": "ipython",
    "version": 3
   },
   "file_extension": ".py",
   "mimetype": "text/x-python",
   "name": "python",
   "nbconvert_exporter": "python",
   "pygments_lexer": "ipython3",
   "version": "3.10.8"
  }
 },
 "nbformat": 4,
 "nbformat_minor": 5
}
