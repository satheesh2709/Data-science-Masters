{
 "cells": [
  {
   "cell_type": "markdown",
   "id": "e5c48059-a94c-4fed-896f-b61aabefcfe0",
   "metadata": {},
   "source": [
    "### Q1. What is data encoding? How is it useful in data science?\n",
    "\n",
    "#### Data encoding is the process of converting data from one form to another so that it can be transmitted, stored, or processed more efficiently or accurately. \n",
    "#### In data science, data encoding is often used to convert raw data into a format that can be easily analyzed by algorithms and models"
   ]
  },
  {
   "cell_type": "markdown",
   "id": "bf45fc4b-3550-4175-885c-a868ecdfb8b1",
   "metadata": {},
   "source": [
    "### Q2. What is nominal encoding? Provide an example of how you would use it in a real-world scenario.\n",
    "\n",
    "#### Nominal encoding is a type of categorical encoding where categories are assigned a unique numerical value, but the values have no inherent order or ranking. It is also known as label encoding\n",
    "\n",
    "####  to find favorite color in a survey and the response options are \"red\", \"blue\", and \"green"
   ]
  },
  {
   "cell_type": "markdown",
   "id": "fefb266b-46ab-4bd5-ab25-02ca29c870e6",
   "metadata": {},
   "source": [
    "### Q3. In what situations is nominal encoding preferred over one-hot encoding? Provide a practical example.\n",
    "\n",
    "#### Nominal encoding is preferred over one-hot encoding when the number of unique categories in a feature is very large or the number of observations in the dataset is very large."
   ]
  },
  {
   "cell_type": "markdown",
   "id": "b568e070-981f-4b38-9ef8-cd2e3c73448e",
   "metadata": {},
   "source": [
    "### Q4. Suppose you have a dataset containing categorical data with 5 unique values. Which encoding technique would you use to transform this data into a format suitable for machine learning algorithms? Explain why you made this choice.\n",
    "\n",
    "#### Nominal encoding used since the data is off 5 unique values. "
   ]
  },
  {
   "cell_type": "markdown",
   "id": "eb796bdd-e29a-4da7-8143-e1bea21836e8",
   "metadata": {},
   "source": [
    "### Q5. In a machine learning project, you have a dataset with 1000 rows and 5 columns. Two of the columns are categorical, and the remaining three columns are numerical. If you were to use nominal encoding to transform the categorical data, how many new columns would be created? Show your calculations.\n",
    "\n",
    "#### 2 new columns would be created"
   ]
  },
  {
   "cell_type": "markdown",
   "id": "284424ce-0f14-4f37-906b-5dc916c684bc",
   "metadata": {},
   "source": [
    "### Q6. You are working with a dataset containing information about different types of animals, including their species, habitat, and diet. Which encoding technique would you use to transform the categorical data into a format suitable for machine learning algorithms? Justify your answer.\n",
    "\n",
    "#### one-hot encoding"
   ]
  },
  {
   "cell_type": "markdown",
   "id": "1e606bc6-4e12-4a91-a6bb-a52ae720584d",
   "metadata": {},
   "source": [
    "### Q7.You are working on a project that involves predicting customer churn for a telecommunications company. You have a dataset with 5 features, including the customer's gender, age, contract type, monthly charges, and tenure. Which encoding technique(s) would you use to transform the categorical data into numerical data? Provide a step-by-step explanation of how you would implement the encoding\n",
    "\n",
    "Gender - This is a binary categorical feature, and hence we can use binary encoding for this feature\n",
    "\n",
    "Contract type - This is a nominal categorical feature, which means that the categories have no inherent order or ranking. Hence, we can use one-hot encoding for this feature"
   ]
  },
  {
   "cell_type": "code",
   "execution_count": null,
   "id": "a6c20dd7-6176-4058-9a11-700a71850442",
   "metadata": {},
   "outputs": [],
   "source": []
  }
 ],
 "metadata": {
  "kernelspec": {
   "display_name": "Python 3 (ipykernel)",
   "language": "python",
   "name": "python3"
  },
  "language_info": {
   "codemirror_mode": {
    "name": "ipython",
    "version": 3
   },
   "file_extension": ".py",
   "mimetype": "text/x-python",
   "name": "python",
   "nbconvert_exporter": "python",
   "pygments_lexer": "ipython3",
   "version": "3.10.8"
  }
 },
 "nbformat": 4,
 "nbformat_minor": 5
}
