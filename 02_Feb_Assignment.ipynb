{
 "cells": [
  {
   "cell_type": "markdown",
   "id": "a8644e14-e263-4e96-8630-85fe8d41cead",
   "metadata": {},
   "source": [
    "## Q1. What are the characteristics of the tuples? Is tuple immutable?\n",
    "\n",
    "### Tuples are indexed, ordered, immmutable and can contain duplicate items. yes tuple is immutable"
   ]
  },
  {
   "cell_type": "markdown",
   "id": "49579ed7-b047-49a3-891b-54f63fd9c110",
   "metadata": {},
   "source": [
    "## Q2. What are the two tuple methods in python? Give an example of each method. Give a reason why tuples have only two in-built methods as compared to Lists.\n",
    "\n",
    "### Count and index are the two tuple methods in python. since tuple is immutable no other functions can be perfomed on tuple data types"
   ]
  },
  {
   "cell_type": "markdown",
   "id": "81e08a6e-3999-42f1-bcc5-ead7f7f4e2f8",
   "metadata": {},
   "source": [
    "### Q3. Which collection datatypes in python do not allow duplicate items? Write a code using a set to remove duplicates from the given list\n",
    "\n",
    "### Set does not allow duplicate items"
   ]
  },
  {
   "cell_type": "code",
   "execution_count": 2,
   "id": "8543510a-1856-4702-bcca-961977a699cb",
   "metadata": {},
   "outputs": [],
   "source": [
    "List = [1, 1, 1, 2, 1, 3, 1, 4, 2, 1, 2, 2, 2, 3, 2, 4, 3, 1, 3, 2, 3, 3, 3, 4, 4, 1, 4, 2, 4, 3, 4, 4]"
   ]
  },
  {
   "cell_type": "code",
   "execution_count": 21,
   "id": "5435d425-3d15-4bd8-9fcd-20639460d8d5",
   "metadata": {},
   "outputs": [],
   "source": [
    "d1=set(List)"
   ]
  },
  {
   "cell_type": "code",
   "execution_count": 22,
   "id": "0d44b0c0-bb69-4c35-b487-499ee20ff335",
   "metadata": {},
   "outputs": [
    {
     "data": {
      "text/plain": [
       "{1, 2, 3, 4}"
      ]
     },
     "execution_count": 22,
     "metadata": {},
     "output_type": "execute_result"
    }
   ],
   "source": [
    "d1"
   ]
  },
  {
   "cell_type": "markdown",
   "id": "e4889976-9e06-4869-b9c1-0fcfe3bf4545",
   "metadata": {},
   "source": [
    "### Q4. Explain the difference between the union() and update() methods for a set. Give an example of each method.\n",
    "\n",
    "#### union() return a set that contains all the items from the original set and all the items from the specified set\n",
    "#### update() add all missing elements to the set on which it is called upon\n"
   ]
  },
  {
   "cell_type": "code",
   "execution_count": 23,
   "id": "fa67dc16-ca85-4880-8f06-612a640c1d79",
   "metadata": {},
   "outputs": [],
   "source": [
    "d2={1,2,3,4}\n",
    "d3={1,2,3,5}"
   ]
  },
  {
   "cell_type": "code",
   "execution_count": 24,
   "id": "cd794fc3-0b97-4a2f-92fd-3e13bca4784b",
   "metadata": {},
   "outputs": [],
   "source": [
    "d2.update(d3)"
   ]
  },
  {
   "cell_type": "code",
   "execution_count": 25,
   "id": "9d523f79-0510-4649-b9f9-3aabc2e56a47",
   "metadata": {},
   "outputs": [
    {
     "data": {
      "text/plain": [
       "{1, 2, 3, 4, 5}"
      ]
     },
     "execution_count": 25,
     "metadata": {},
     "output_type": "execute_result"
    }
   ],
   "source": [
    "d2"
   ]
  },
  {
   "cell_type": "code",
   "execution_count": 26,
   "id": "8b810bac-52f8-4f47-82ac-51049425bfad",
   "metadata": {},
   "outputs": [
    {
     "data": {
      "text/plain": [
       "{1, 2, 3, 5}"
      ]
     },
     "execution_count": 26,
     "metadata": {},
     "output_type": "execute_result"
    }
   ],
   "source": [
    "d3"
   ]
  },
  {
   "cell_type": "code",
   "execution_count": 27,
   "id": "63d9ef62-5981-4b00-991f-6a9a7f5b4242",
   "metadata": {},
   "outputs": [],
   "source": [
    "d4={4,5,6,7}\n",
    "d5={4,5,6,8}"
   ]
  },
  {
   "cell_type": "code",
   "execution_count": 28,
   "id": "153f547a-f433-427f-9d19-ba48f5f67c85",
   "metadata": {},
   "outputs": [],
   "source": [
    "d5=d4.union(d5)"
   ]
  },
  {
   "cell_type": "code",
   "execution_count": 29,
   "id": "a9c37a9c-95f2-48bf-84d5-5c8304da480e",
   "metadata": {},
   "outputs": [
    {
     "data": {
      "text/plain": [
       "{4, 5, 6, 7, 8}"
      ]
     },
     "execution_count": 29,
     "metadata": {},
     "output_type": "execute_result"
    }
   ],
   "source": [
    "d5"
   ]
  },
  {
   "cell_type": "markdown",
   "id": "07d3b64f-1ad1-41da-8a8c-bb46a72d7594",
   "metadata": {},
   "source": [
    "### Q5. What is a dictionary? Give an example. Also, state whether a dictionary is ordered or unordered.\n",
    "\n",
    "#### Dictionary are used to store data in key & value pairs. It is ordered, muttable and do not allow duplicates. \n",
    "#### As of python version 3.7 dictionary are ordered and in earlier versions its is unordered"
   ]
  },
  {
   "cell_type": "code",
   "execution_count": 30,
   "id": "193986d6-357e-402f-808b-dc63d2d2f5d1",
   "metadata": {},
   "outputs": [],
   "source": [
    "d6={\"name\":\"satheesh\",'mail_id':'satheesh@gmail.com',\"num\":123456}"
   ]
  },
  {
   "cell_type": "code",
   "execution_count": 31,
   "id": "9eea6801-a186-4cbe-9017-8ea9c10ef386",
   "metadata": {},
   "outputs": [
    {
     "data": {
      "text/plain": [
       "dict"
      ]
     },
     "execution_count": 31,
     "metadata": {},
     "output_type": "execute_result"
    }
   ],
   "source": [
    "type(d6)"
   ]
  },
  {
   "cell_type": "markdown",
   "id": "4f0105b9-d6cd-4b45-9322-f453fa03806d",
   "metadata": {},
   "source": [
    "### Q6. Can we create a nested dictionary? If so, please give an example by creating a simple one-level nested dictionary\n",
    "\n",
    "#### Yes a nested dictionary can be created\n"
   ]
  },
  {
   "cell_type": "code",
   "execution_count": 32,
   "id": "1681d865-cb73-48eb-a2eb-3c9dfc92bdba",
   "metadata": {},
   "outputs": [],
   "source": [
    "d7={'batch_name':{'Data science masters','web dev','JDS'},'mentor_name':{'krish_naik','sudhansu','hitesh','naveen'}}"
   ]
  },
  {
   "cell_type": "code",
   "execution_count": 33,
   "id": "e0bcb51d-c876-416b-abd3-dcc9dfaaa46e",
   "metadata": {},
   "outputs": [
    {
     "data": {
      "text/plain": [
       "{'batch_name': {'Data science masters', 'JDS', 'web dev'},\n",
       " 'mentor_name': {'hitesh', 'krish_naik', 'naveen', 'sudhansu'}}"
      ]
     },
     "execution_count": 33,
     "metadata": {},
     "output_type": "execute_result"
    }
   ],
   "source": [
    "d7"
   ]
  },
  {
   "cell_type": "markdown",
   "id": "cab9e8ca-1df2-4878-a2b6-fb39d52cff4e",
   "metadata": {},
   "source": [
    "### Q7. Using setdefault() method, create key named topics in the given dictionary and also add the value of the key as this list ['Python', 'Machine Learning’, 'Deep Learning']\n",
    "\n"
   ]
  },
  {
   "cell_type": "code",
   "execution_count": 36,
   "id": "f7e7f8c2-08d7-418e-b39a-0a879fa305db",
   "metadata": {},
   "outputs": [],
   "source": [
    "dict1={'language':'Python','course':'Data Science Masters'}"
   ]
  },
  {
   "cell_type": "code",
   "execution_count": 37,
   "id": "09b01d5a-f673-4eb9-a362-259f00a82ab7",
   "metadata": {},
   "outputs": [
    {
     "data": {
      "text/plain": [
       "['python', 'Machine Learning', 'deep learning']"
      ]
     },
     "execution_count": 37,
     "metadata": {},
     "output_type": "execute_result"
    }
   ],
   "source": [
    "dict1.setdefault('topics',['python','Machine Learning','deep learning'])"
   ]
  },
  {
   "cell_type": "code",
   "execution_count": 38,
   "id": "0dcb0953-8602-45b6-86e3-52da0ac82985",
   "metadata": {},
   "outputs": [
    {
     "data": {
      "text/plain": [
       "{'language': 'Python',\n",
       " 'course': 'Data Science Masters',\n",
       " 'topics': ['python', 'Machine Learning', 'deep learning']}"
      ]
     },
     "execution_count": 38,
     "metadata": {},
     "output_type": "execute_result"
    }
   ],
   "source": [
    "dict1"
   ]
  },
  {
   "cell_type": "markdown",
   "id": "f9909015-6a45-4b25-a4d2-ef8e1232edb6",
   "metadata": {},
   "source": [
    "### Q8. What are the three view objects in dictionaries? Use the three in-built methods in python to display these three view objects for the given dictionary.\n",
    "\n",
    "#### Keys, Values and Items are the three main view objects"
   ]
  },
  {
   "cell_type": "code",
   "execution_count": 39,
   "id": "a03f0f75-395c-4d5b-8af4-b9934d4de828",
   "metadata": {},
   "outputs": [],
   "source": [
    "dict2 = {'Sport': 'Cricket' , 'Teams': ['India', 'Australia', 'England', 'South Africa', 'Sri Lanka', 'New Zealand']}"
   ]
  },
  {
   "cell_type": "code",
   "execution_count": 40,
   "id": "1a8a0ce8-5ebc-493a-b050-9acd9c79c90f",
   "metadata": {},
   "outputs": [
    {
     "data": {
      "text/plain": [
       "dict_keys(['Sport', 'Teams'])"
      ]
     },
     "execution_count": 40,
     "metadata": {},
     "output_type": "execute_result"
    }
   ],
   "source": [
    "dict2.keys()"
   ]
  },
  {
   "cell_type": "code",
   "execution_count": 41,
   "id": "2e54ac99-18d0-482e-9db5-1abfaa59b7b0",
   "metadata": {},
   "outputs": [
    {
     "data": {
      "text/plain": [
       "dict_values(['Cricket', ['India', 'Australia', 'England', 'South Africa', 'Sri Lanka', 'New Zealand']])"
      ]
     },
     "execution_count": 41,
     "metadata": {},
     "output_type": "execute_result"
    }
   ],
   "source": [
    "dict2.values()"
   ]
  },
  {
   "cell_type": "code",
   "execution_count": 42,
   "id": "d3ba6292-51c7-4101-b130-2573e28de58c",
   "metadata": {},
   "outputs": [
    {
     "data": {
      "text/plain": [
       "dict_items([('Sport', 'Cricket'), ('Teams', ['India', 'Australia', 'England', 'South Africa', 'Sri Lanka', 'New Zealand'])])"
      ]
     },
     "execution_count": 42,
     "metadata": {},
     "output_type": "execute_result"
    }
   ],
   "source": [
    "dict2.items()"
   ]
  },
  {
   "cell_type": "code",
   "execution_count": null,
   "id": "423fd490-46bc-43e2-bc9f-8eda05dbfb20",
   "metadata": {},
   "outputs": [],
   "source": []
  }
 ],
 "metadata": {
  "kernelspec": {
   "display_name": "Python 3 (ipykernel)",
   "language": "python",
   "name": "python3"
  },
  "language_info": {
   "codemirror_mode": {
    "name": "ipython",
    "version": 3
   },
   "file_extension": ".py",
   "mimetype": "text/x-python",
   "name": "python",
   "nbconvert_exporter": "python",
   "pygments_lexer": "ipython3",
   "version": "3.10.8"
  }
 },
 "nbformat": 4,
 "nbformat_minor": 5
}
