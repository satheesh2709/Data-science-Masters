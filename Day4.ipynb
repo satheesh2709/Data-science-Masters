{
 "cells": [
  {
   "cell_type": "code",
   "execution_count": 8,
   "id": "b3f023ff-48f8-455b-985c-336398351888",
   "metadata": {},
   "outputs": [],
   "source": [
    "str1=' data science masters '"
   ]
  },
  {
   "cell_type": "code",
   "execution_count": 2,
   "id": "8304538d-9d2f-4be6-916e-9bbb28e00624",
   "metadata": {},
   "outputs": [
    {
     "data": {
      "text/plain": [
       "'Data Science Masters'"
      ]
     },
     "execution_count": 2,
     "metadata": {},
     "output_type": "execute_result"
    }
   ],
   "source": [
    "str1.title()"
   ]
  },
  {
   "cell_type": "code",
   "execution_count": 3,
   "id": "3bd8fd18-2df7-44ea-913a-25504975540a",
   "metadata": {},
   "outputs": [
    {
     "data": {
      "text/plain": [
       "'DATA SCIENCE MASTERS'"
      ]
     },
     "execution_count": 3,
     "metadata": {},
     "output_type": "execute_result"
    }
   ],
   "source": [
    "str1.swapcase()"
   ]
  },
  {
   "cell_type": "code",
   "execution_count": 5,
   "id": "3216a3f3-4fe6-4fcf-8617-1b8064735dc7",
   "metadata": {},
   "outputs": [
    {
     "data": {
      "text/plain": [
       "'sretsam ecneics atad'"
      ]
     },
     "execution_count": 5,
     "metadata": {},
     "output_type": "execute_result"
    }
   ],
   "source": [
    "''.join(reversed(str1))"
   ]
  },
  {
   "cell_type": "code",
   "execution_count": 6,
   "id": "4623dbae-1068-4a26-ac05-2d2bd32b351c",
   "metadata": {},
   "outputs": [],
   "source": [
    "## Removing character from the end of string"
   ]
  },
  {
   "cell_type": "code",
   "execution_count": 9,
   "id": "03fd6cad-98c6-467e-b518-5bcb6de63af2",
   "metadata": {},
   "outputs": [
    {
     "data": {
      "text/plain": [
       "'data science masters'"
      ]
     },
     "execution_count": 9,
     "metadata": {},
     "output_type": "execute_result"
    }
   ],
   "source": [
    "str1.strip(\" \")"
   ]
  },
  {
   "cell_type": "code",
   "execution_count": 10,
   "id": "e90a18e9-a4f0-481b-b9f6-4a5e62e66d0c",
   "metadata": {},
   "outputs": [
    {
     "data": {
      "text/plain": [
       "'data science masters '"
      ]
     },
     "execution_count": 10,
     "metadata": {},
     "output_type": "execute_result"
    }
   ],
   "source": [
    "str1.lstrip(\" \")"
   ]
  },
  {
   "cell_type": "code",
   "execution_count": 11,
   "id": "45408a2e-3b32-48df-b6ef-03c252539f94",
   "metadata": {},
   "outputs": [
    {
     "data": {
      "text/plain": [
       "' data science masters'"
      ]
     },
     "execution_count": 11,
     "metadata": {},
     "output_type": "execute_result"
    }
   ],
   "source": [
    "str1.rstrip(\" \")"
   ]
  },
  {
   "cell_type": "code",
   "execution_count": 12,
   "id": "5e8dba1c-3299-443e-9dd5-404bb5d55adf",
   "metadata": {},
   "outputs": [
    {
     "data": {
      "text/plain": [
       "['', 'data', 'science', 'masters', '']"
      ]
     },
     "execution_count": 12,
     "metadata": {},
     "output_type": "execute_result"
    }
   ],
   "source": [
    "str1.split(\" \")"
   ]
  },
  {
   "cell_type": "code",
   "execution_count": 13,
   "id": "571c381f-851c-430d-b30d-7bee40e608e2",
   "metadata": {},
   "outputs": [],
   "source": [
    "str1='Freeting to pwskills'"
   ]
  },
  {
   "cell_type": "code",
   "execution_count": 14,
   "id": "50f1db20-ea73-4748-9985-901568fff979",
   "metadata": {},
   "outputs": [
    {
     "data": {
      "text/plain": [
       "'Freeting from pwskills'"
      ]
     },
     "execution_count": 14,
     "metadata": {},
     "output_type": "execute_result"
    }
   ],
   "source": [
    "str1.replace('to','from')"
   ]
  },
  {
   "cell_type": "code",
   "execution_count": 15,
   "id": "cc425ef7-3c0f-4820-83da-7c3e3692ae5b",
   "metadata": {},
   "outputs": [
    {
     "data": {
      "text/plain": [
       "'hello   world'"
      ]
     },
     "execution_count": 15,
     "metadata": {},
     "output_type": "execute_result"
    }
   ],
   "source": [
    "'hello \\tworld'.expandtabs()"
   ]
  },
  {
   "cell_type": "code",
   "execution_count": 18,
   "id": "2d89a2d6-c473-4a4d-ac90-b58321d04406",
   "metadata": {},
   "outputs": [
    {
     "data": {
      "text/plain": [
       "'hello \\nworld'"
      ]
     },
     "execution_count": 18,
     "metadata": {},
     "output_type": "execute_result"
    }
   ],
   "source": [
    "'hello \\nworld'"
   ]
  },
  {
   "cell_type": "code",
   "execution_count": 19,
   "id": "508e406b-321c-40d8-9116-c895e3fb28db",
   "metadata": {},
   "outputs": [],
   "source": [
    "str1='Welcome to pwskills.Welcome to Dat cience Masters'"
   ]
  },
  {
   "cell_type": "code",
   "execution_count": 22,
   "id": "20f59c34-75e3-4e88-90c6-308c29efc4a1",
   "metadata": {},
   "outputs": [
    {
     "name": "stdout",
     "output_type": "stream",
     "text": [
      "Welcome to pwskills.Welcome to Data Science Masters\n"
     ]
    }
   ],
   "source": [
    "str2 = str1.replace('Dat','Data').replace('cience','Science')\n",
    "print(str2)"
   ]
  },
  {
   "cell_type": "code",
   "execution_count": 23,
   "id": "49f1ccda-63b4-4a1c-a75b-a0f915632e16",
   "metadata": {},
   "outputs": [
    {
     "data": {
      "text/plain": [
       "False"
      ]
     },
     "execution_count": 23,
     "metadata": {},
     "output_type": "execute_result"
    }
   ],
   "source": [
    "str1.islower()"
   ]
  },
  {
   "cell_type": "code",
   "execution_count": 24,
   "id": "b975d724-41a4-40e1-94e6-637fcf88a9c0",
   "metadata": {},
   "outputs": [
    {
     "data": {
      "text/plain": [
       "'Welcome to pwskills.Welcome to Dat cience Masters'"
      ]
     },
     "execution_count": 24,
     "metadata": {},
     "output_type": "execute_result"
    }
   ],
   "source": [
    "str1"
   ]
  },
  {
   "cell_type": "code",
   "execution_count": 27,
   "id": "b2a82e14-d6c3-445d-a1b5-7a32c435cf5a",
   "metadata": {},
   "outputs": [
    {
     "data": {
      "text/plain": [
       "False"
      ]
     },
     "execution_count": 27,
     "metadata": {},
     "output_type": "execute_result"
    }
   ],
   "source": [
    "str1.isspace()"
   ]
  },
  {
   "cell_type": "code",
   "execution_count": 28,
   "id": "fb5defd2-50d3-4420-80d4-a36eb152e384",
   "metadata": {},
   "outputs": [
    {
     "data": {
      "text/plain": [
       "True"
      ]
     },
     "execution_count": 28,
     "metadata": {},
     "output_type": "execute_result"
    }
   ],
   "source": [
    "str1.endswith('s')"
   ]
  },
  {
   "cell_type": "code",
   "execution_count": 29,
   "id": "4ca16a6b-aaef-4503-9346-a88ab31008af",
   "metadata": {},
   "outputs": [
    {
     "data": {
      "text/plain": [
       "True"
      ]
     },
     "execution_count": 29,
     "metadata": {},
     "output_type": "execute_result"
    }
   ],
   "source": [
    "str1.startswith('W')"
   ]
  },
  {
   "cell_type": "code",
   "execution_count": 32,
   "id": "b99e0ae1-2342-4426-ba5b-4ebe32b05ffa",
   "metadata": {},
   "outputs": [
    {
     "data": {
      "text/plain": [
       "False"
      ]
     },
     "execution_count": 32,
     "metadata": {},
     "output_type": "execute_result"
    }
   ],
   "source": [
    "str1.isalnum()"
   ]
  },
  {
   "cell_type": "code",
   "execution_count": 33,
   "id": "a41b5400-dd9b-4fab-b46e-7fc6f7c16502",
   "metadata": {},
   "outputs": [
    {
     "name": "stdout",
     "output_type": "stream",
     "text": [
      "49\n"
     ]
    }
   ],
   "source": [
    "count=0\n",
    "\n",
    "for i in str1:\n",
    "    count=count+1\n",
    "print(count)    "
   ]
  },
  {
   "cell_type": "code",
   "execution_count": 34,
   "id": "c37979fe-939e-4ef4-9f46-023f9fec302f",
   "metadata": {},
   "outputs": [
    {
     "data": {
      "text/plain": [
       "49"
      ]
     },
     "execution_count": 34,
     "metadata": {},
     "output_type": "execute_result"
    }
   ],
   "source": [
    "len(str1)"
   ]
  },
  {
   "cell_type": "code",
   "execution_count": 35,
   "id": "9bda83c0-564b-4012-801b-7208c765ce45",
   "metadata": {},
   "outputs": [
    {
     "name": "stdout",
     "output_type": "stream",
     "text": [
      "W\n",
      "e\n",
      "l\n",
      "c\n",
      "o\n",
      "m\n",
      "e\n",
      " \n",
      "t\n",
      "o\n",
      " \n",
      "p\n",
      "w\n",
      "s\n",
      "k\n",
      "i\n",
      "l\n",
      "l\n",
      "s\n",
      ".\n",
      "W\n",
      "e\n",
      "l\n",
      "c\n",
      "o\n",
      "m\n",
      "e\n",
      " \n",
      "t\n",
      "o\n",
      " \n",
      "D\n",
      "a\n",
      "t\n",
      " \n",
      "c\n",
      "i\n",
      "e\n",
      "n\n",
      "c\n",
      "e\n",
      " \n",
      "M\n",
      "a\n",
      "s\n",
      "t\n",
      "e\n",
      "r\n",
      "s\n"
     ]
    }
   ],
   "source": [
    "for i in str1:\n",
    "    print(i)"
   ]
  },
  {
   "cell_type": "code",
   "execution_count": 41,
   "id": "76abbd63-eb7a-456f-bc94-6899b459d8e2",
   "metadata": {},
   "outputs": [
    {
     "name": "stdout",
     "output_type": "stream",
     "text": [
      "0 W\n",
      "1 e\n",
      "2 l\n",
      "3 c\n",
      "4 o\n",
      "5 m\n",
      "6 e\n",
      "7  \n",
      "8 t\n",
      "9 o\n",
      "10  \n",
      "11 p\n",
      "12 w\n",
      "13 s\n",
      "14 k\n",
      "15 i\n",
      "16 l\n",
      "17 l\n",
      "18 s\n",
      "19 .\n",
      "20 W\n",
      "21 e\n",
      "22 l\n",
      "23 c\n",
      "24 o\n",
      "25 m\n",
      "26 e\n",
      "27  \n",
      "28 t\n",
      "29 o\n",
      "30  \n",
      "31 D\n",
      "32 a\n",
      "33 t\n",
      "34  \n",
      "35 c\n",
      "36 i\n",
      "37 e\n",
      "38 n\n",
      "39 c\n",
      "40 e\n",
      "41  \n",
      "42 M\n",
      "43 a\n",
      "44 s\n",
      "45 t\n",
      "46 e\n",
      "47 r\n",
      "48 s\n"
     ]
    }
   ],
   "source": [
    "for i in range(len(str1)):\n",
    "    print((i),str1[i])"
   ]
  },
  {
   "cell_type": "code",
   "execution_count": 42,
   "id": "c99bb873-c950-4a6c-a6aa-849182aa41cf",
   "metadata": {},
   "outputs": [],
   "source": [
    "str1='welcome'"
   ]
  },
  {
   "cell_type": "code",
   "execution_count": 43,
   "id": "06daf516-bf92-4faa-85f9-c582304f8c1a",
   "metadata": {},
   "outputs": [
    {
     "data": {
      "text/plain": [
       "'welcome'"
      ]
     },
     "execution_count": 43,
     "metadata": {},
     "output_type": "execute_result"
    }
   ],
   "source": [
    "str1"
   ]
  },
  {
   "cell_type": "code",
   "execution_count": 47,
   "id": "1a2d81ae-8ffb-41fb-b285-e0460823ef64",
   "metadata": {},
   "outputs": [
    {
     "name": "stdout",
     "output_type": "stream",
     "text": [
      "e\n",
      "m\n",
      "o\n",
      "c\n",
      "l\n",
      "e\n",
      "w\n"
     ]
    }
   ],
   "source": [
    "for i in range(len(str1)-1,-1,-1):\n",
    "    print(str1[i])"
   ]
  },
  {
   "cell_type": "code",
   "execution_count": 50,
   "id": "580cc981-07e1-4fa5-94e7-eed941d2aef4",
   "metadata": {},
   "outputs": [
    {
     "data": {
      "text/plain": [
       "(6, -1, -1)"
      ]
     },
     "execution_count": 50,
     "metadata": {},
     "output_type": "execute_result"
    }
   ],
   "source": [
    "len(str1)-1,-1,-1"
   ]
  },
  {
   "cell_type": "code",
   "execution_count": 52,
   "id": "f7b11d77-a845-4ded-9c86-0dc517f765e0",
   "metadata": {},
   "outputs": [
    {
     "name": "stdout",
     "output_type": "stream",
     "text": [
      "w e m o c l e "
     ]
    }
   ],
   "source": [
    "for i in range(len(str1)):\n",
    "    print(str1[-i],end=' ')"
   ]
  },
  {
   "cell_type": "code",
   "execution_count": 53,
   "id": "bb2b9f72-f0fa-414d-b166-de0ecf252cf3",
   "metadata": {},
   "outputs": [],
   "source": [
    "name = 'pwskills'\n",
    "vowels = 'AaEeIiOoUu'"
   ]
  },
  {
   "cell_type": "code",
   "execution_count": 56,
   "id": "b0f9e02b-d18c-4567-982f-ccdfd4fe21a8",
   "metadata": {},
   "outputs": [
    {
     "name": "stdout",
     "output_type": "stream",
     "text": [
      "p is not a vowel\n",
      "w is not a vowel\n",
      "s is not a vowel\n",
      "k is not a vowel\n",
      "i is a vowel\n",
      "l is not a vowel\n",
      "l is not a vowel\n",
      "s is not a vowel\n"
     ]
    }
   ],
   "source": [
    "for ch in name:\n",
    "    if ch in vowels:\n",
    "        print('{} is a vowel'.format(ch))\n",
    "    else:\n",
    "        print(\"{} is not a vowel\".format(ch))"
   ]
  },
  {
   "cell_type": "markdown",
   "id": "55f478fa-7e79-4f0c-81d4-9e37f9dcfc46",
   "metadata": {
    "tags": []
   },
   "source": [
    "## List"
   ]
  },
  {
   "cell_type": "code",
   "execution_count": 57,
   "id": "b9d04852-8aa7-4fd3-9634-430e070a8e65",
   "metadata": {},
   "outputs": [
    {
     "data": {
      "text/plain": [
       "'welcome'"
      ]
     },
     "execution_count": 57,
     "metadata": {},
     "output_type": "execute_result"
    }
   ],
   "source": [
    "str1"
   ]
  },
  {
   "cell_type": "code",
   "execution_count": 58,
   "id": "eb22aadf-67f8-4842-9374-c86ed8f276f6",
   "metadata": {},
   "outputs": [],
   "source": [
    "str1= 'Data sciece masters'"
   ]
  },
  {
   "cell_type": "code",
   "execution_count": 60,
   "id": "a001de00-b503-4a0d-8ee6-53e19fd448e5",
   "metadata": {},
   "outputs": [],
   "source": [
    "lst1 = list(str1)"
   ]
  },
  {
   "cell_type": "code",
   "execution_count": 61,
   "id": "8ef58391-c849-4729-9d09-e2a436380fb6",
   "metadata": {},
   "outputs": [
    {
     "data": {
      "text/plain": [
       "['D',\n",
       " 'a',\n",
       " 't',\n",
       " 'a',\n",
       " ' ',\n",
       " 's',\n",
       " 'c',\n",
       " 'i',\n",
       " 'e',\n",
       " 'c',\n",
       " 'e',\n",
       " ' ',\n",
       " 'm',\n",
       " 'a',\n",
       " 's',\n",
       " 't',\n",
       " 'e',\n",
       " 'r',\n",
       " 's']"
      ]
     },
     "execution_count": 61,
     "metadata": {},
     "output_type": "execute_result"
    }
   ],
   "source": [
    "lst1"
   ]
  },
  {
   "cell_type": "code",
   "execution_count": 62,
   "id": "cc019abf-43b3-4d1a-b638-13f2e4104c75",
   "metadata": {},
   "outputs": [],
   "source": [
    "lst1=['Data','Science','Masters']"
   ]
  },
  {
   "cell_type": "code",
   "execution_count": 63,
   "id": "e12ffe4e-806b-43a2-bf62-c7cbcc8d970c",
   "metadata": {},
   "outputs": [
    {
     "data": {
      "text/plain": [
       "['Data', 'Science', 'Masters']"
      ]
     },
     "execution_count": 63,
     "metadata": {},
     "output_type": "execute_result"
    }
   ],
   "source": [
    "lst1"
   ]
  },
  {
   "cell_type": "code",
   "execution_count": 64,
   "id": "9b7cb736-034a-4334-8dff-def7ebf1cd84",
   "metadata": {},
   "outputs": [
    {
     "data": {
      "text/plain": [
       "['Data', 'Science', 'Masters', 'new element', 3]"
      ]
     },
     "execution_count": 64,
     "metadata": {},
     "output_type": "execute_result"
    }
   ],
   "source": [
    "lst1+[\"new element\",3]"
   ]
  },
  {
   "cell_type": "code",
   "execution_count": 65,
   "id": "d0c21a2a-b195-49a3-8c1d-fbca82077688",
   "metadata": {},
   "outputs": [
    {
     "data": {
      "text/plain": [
       "['Data', 'Science', 'Masters', 'Data', 'Science', 'Masters']"
      ]
     },
     "execution_count": 65,
     "metadata": {},
     "output_type": "execute_result"
    }
   ],
   "source": [
    "lst1*2"
   ]
  },
  {
   "cell_type": "code",
   "execution_count": 66,
   "id": "2dec310d-6f8f-41bb-9a13-1f810928033a",
   "metadata": {},
   "outputs": [
    {
     "data": {
      "text/plain": [
       "['Data', 'Science', 'Masters']"
      ]
     },
     "execution_count": 66,
     "metadata": {},
     "output_type": "execute_result"
    }
   ],
   "source": [
    "lst1"
   ]
  },
  {
   "cell_type": "code",
   "execution_count": 72,
   "id": "f049dc81-4dd1-4e6c-b3c0-21968d59a400",
   "metadata": {},
   "outputs": [
    {
     "name": "stdout",
     "output_type": "stream",
     "text": [
      "Data\n",
      "Data\n"
     ]
    }
   ],
   "source": [
    "for i in lst1:\n",
    "    print(i)\n",
    "    if 'Science' in lst1:\n",
    "        print(i)\n",
    "        break\n"
   ]
  },
  {
   "cell_type": "code",
   "execution_count": 73,
   "id": "03ec9bb0-2b11-4b15-b5df-77caaf282705",
   "metadata": {},
   "outputs": [],
   "source": [
    "lst1=['zebra','monkey','donkey','lion']\n",
    "lst2=[5,6,2,9,5,8,5]"
   ]
  },
  {
   "cell_type": "code",
   "execution_count": 74,
   "id": "9d2cc43f-5ac5-49a0-a79a-def969323eec",
   "metadata": {},
   "outputs": [
    {
     "name": "stdout",
     "output_type": "stream",
     "text": [
      "zebra\n"
     ]
    }
   ],
   "source": [
    "print(max(lst1))"
   ]
  },
  {
   "cell_type": "code",
   "execution_count": 75,
   "id": "89ec84f5-8883-4ebe-bfd4-dc7734d91b26",
   "metadata": {},
   "outputs": [
    {
     "data": {
      "text/plain": [
       "9"
      ]
     },
     "execution_count": 75,
     "metadata": {},
     "output_type": "execute_result"
    }
   ],
   "source": [
    "max(lst2)"
   ]
  },
  {
   "cell_type": "code",
   "execution_count": 76,
   "id": "545d7252-6482-4a5d-9576-e49e411eb6e6",
   "metadata": {},
   "outputs": [
    {
     "data": {
      "text/plain": [
       "'donkey'"
      ]
     },
     "execution_count": 76,
     "metadata": {},
     "output_type": "execute_result"
    }
   ],
   "source": [
    "min (lst1)"
   ]
  },
  {
   "cell_type": "code",
   "execution_count": 77,
   "id": "9f63879e-35b0-498a-9f0e-86f8a58f307c",
   "metadata": {},
   "outputs": [],
   "source": [
    "## functions in list"
   ]
  },
  {
   "cell_type": "code",
   "execution_count": 78,
   "id": "377a51d8-63eb-42d4-90dc-5b731dafd256",
   "metadata": {},
   "outputs": [],
   "source": [
    "## append"
   ]
  },
  {
   "cell_type": "code",
   "execution_count": 79,
   "id": "65d4dc27-5c71-4878-8c6a-a7dc9b02ad2e",
   "metadata": {},
   "outputs": [],
   "source": [
    "lst1=[1,2,3,4,5,6]"
   ]
  },
  {
   "cell_type": "code",
   "execution_count": 80,
   "id": "5bbda42d-dcae-4138-8c93-df9e86712f7a",
   "metadata": {},
   "outputs": [],
   "source": [
    "lst1.append('pwskills')"
   ]
  },
  {
   "cell_type": "code",
   "execution_count": 82,
   "id": "f8169184-0e9d-45b7-9c7d-16081d8c7477",
   "metadata": {},
   "outputs": [
    {
     "data": {
      "text/plain": [
       "[1, 2, 3, 4, 5, 6, 'pwskills']"
      ]
     },
     "execution_count": 82,
     "metadata": {},
     "output_type": "execute_result"
    }
   ],
   "source": [
    "lst1"
   ]
  },
  {
   "cell_type": "code",
   "execution_count": 83,
   "id": "7a5c392d-0b6e-4c27-b430-e381fc64def3",
   "metadata": {},
   "outputs": [],
   "source": [
    "lst1=['zebra','monkey','donkey','lion']"
   ]
  },
  {
   "cell_type": "code",
   "execution_count": 84,
   "id": "bb35a3f3-2875-4806-9872-dd41a57a8b7e",
   "metadata": {},
   "outputs": [
    {
     "data": {
      "text/plain": [
       "'lion'"
      ]
     },
     "execution_count": 84,
     "metadata": {},
     "output_type": "execute_result"
    }
   ],
   "source": [
    "lst1.pop()"
   ]
  },
  {
   "cell_type": "code",
   "execution_count": 85,
   "id": "62478cd6-eabe-4a81-8312-7be551bca383",
   "metadata": {},
   "outputs": [
    {
     "data": {
      "text/plain": [
       "['zebra', 'monkey', 'donkey']"
      ]
     },
     "execution_count": 85,
     "metadata": {},
     "output_type": "execute_result"
    }
   ],
   "source": [
    "lst1"
   ]
  },
  {
   "cell_type": "code",
   "execution_count": 86,
   "id": "ff686876-4378-4189-b7fa-e9ce79b0497c",
   "metadata": {},
   "outputs": [],
   "source": [
    "new=['q','w','e','f','s','t','u']"
   ]
  },
  {
   "cell_type": "code",
   "execution_count": 87,
   "id": "470ade2b-9a10-40ff-a267-c48452f5e584",
   "metadata": {},
   "outputs": [
    {
     "data": {
      "text/plain": [
       "['u', 't', 's', 'f', 'e', 'w', 'q']"
      ]
     },
     "execution_count": 87,
     "metadata": {},
     "output_type": "execute_result"
    }
   ],
   "source": [
    "new[::-1]"
   ]
  },
  {
   "cell_type": "code",
   "execution_count": 88,
   "id": "2a9dbf1c-d066-495f-be7f-161b2ba4bb24",
   "metadata": {},
   "outputs": [],
   "source": [
    "new.reverse()"
   ]
  },
  {
   "cell_type": "code",
   "execution_count": 89,
   "id": "ea25b9a8-4d6a-4394-b4be-f41143abbccc",
   "metadata": {},
   "outputs": [
    {
     "data": {
      "text/plain": [
       "['u', 't', 's', 'f', 'e', 'w', 'q']"
      ]
     },
     "execution_count": 89,
     "metadata": {},
     "output_type": "execute_result"
    }
   ],
   "source": [
    "new"
   ]
  },
  {
   "cell_type": "code",
   "execution_count": 90,
   "id": "6f995dce-dec3-4901-ba33-a11cbbeb02c9",
   "metadata": {},
   "outputs": [],
   "source": [
    "new.sort()"
   ]
  },
  {
   "cell_type": "code",
   "execution_count": 91,
   "id": "695204b0-f235-4c5e-8fe1-56672daf2c2d",
   "metadata": {},
   "outputs": [
    {
     "data": {
      "text/plain": [
       "['e', 'f', 'q', 's', 't', 'u', 'w']"
      ]
     },
     "execution_count": 91,
     "metadata": {},
     "output_type": "execute_result"
    }
   ],
   "source": [
    "new"
   ]
  },
  {
   "cell_type": "code",
   "execution_count": 93,
   "id": "a34ef1ed-fbe9-4d55-964d-a3a349a52213",
   "metadata": {},
   "outputs": [],
   "source": [
    "## nested list\n",
    "\n",
    "lst1=[1,2,3]\n",
    "lst2=[4,5,6]\n",
    "lst3=[7,8,9]\n",
    "\n",
    "matrix=[lst1,lst2,lst3]"
   ]
  },
  {
   "cell_type": "code",
   "execution_count": 94,
   "id": "e873567c-2c04-4035-9297-edc59163cb22",
   "metadata": {},
   "outputs": [
    {
     "data": {
      "text/plain": [
       "[[1, 2, 3], [4, 5, 6], [7, 8, 9]]"
      ]
     },
     "execution_count": 94,
     "metadata": {},
     "output_type": "execute_result"
    }
   ],
   "source": [
    "matrix"
   ]
  },
  {
   "cell_type": "code",
   "execution_count": 97,
   "id": "b4a547bd-67e4-45b7-84bc-edc1cdca2e7c",
   "metadata": {},
   "outputs": [
    {
     "data": {
      "text/plain": [
       "[8, 9]"
      ]
     },
     "execution_count": 97,
     "metadata": {},
     "output_type": "execute_result"
    }
   ],
   "source": [
    "matrix[2][1:]"
   ]
  },
  {
   "cell_type": "code",
   "execution_count": 100,
   "id": "9b0f2224-5de0-4a38-9880-61e0e2b11258",
   "metadata": {},
   "outputs": [
    {
     "data": {
      "text/plain": [
       "(1, 4, 7)"
      ]
     },
     "execution_count": 100,
     "metadata": {},
     "output_type": "execute_result"
    }
   ],
   "source": [
    "matrix[0][0],matrix[1][0],matrix[2][0]"
   ]
  },
  {
   "cell_type": "code",
   "execution_count": 110,
   "id": "2d0e84bf-efe5-41de-9260-a81b81f41db3",
   "metadata": {},
   "outputs": [
    {
     "data": {
      "text/plain": [
       "[0,\n",
       " 'odd',\n",
       " 2,\n",
       " 'odd',\n",
       " 4,\n",
       " 'odd',\n",
       " 6,\n",
       " 'odd',\n",
       " 8,\n",
       " 'odd',\n",
       " 10,\n",
       " 'odd',\n",
       " 12,\n",
       " 'odd',\n",
       " 14,\n",
       " 'odd',\n",
       " 16,\n",
       " 'odd',\n",
       " 18,\n",
       " 'odd']"
      ]
     },
     "execution_count": 110,
     "metadata": {},
     "output_type": "execute_result"
    }
   ],
   "source": [
    "## list comprehension\n",
    "[ i if i%2==0 else 'odd' for i in range(0,20)]"
   ]
  },
  {
   "cell_type": "code",
   "execution_count": 103,
   "id": "2ba844b5-9e60-4176-9706-324485468ffa",
   "metadata": {},
   "outputs": [
    {
     "data": {
      "text/plain": [
       "[0, 1, 2, 3, 4, 5, 6, 7, 8, 9, 10, 11, 12, 13, 14, 15, 16, 17, 18, 19]"
      ]
     },
     "execution_count": 103,
     "metadata": {},
     "output_type": "execute_result"
    }
   ],
   "source": [
    "[i for i in range(20)]"
   ]
  },
  {
   "cell_type": "code",
   "execution_count": 107,
   "id": "494aa407-0b87-4948-96bb-601943b09130",
   "metadata": {},
   "outputs": [
    {
     "data": {
      "text/plain": [
       "[0,\n",
       " 'OOD',\n",
       " 2,\n",
       " 'OOD',\n",
       " 4,\n",
       " 'OOD',\n",
       " 6,\n",
       " 'OOD',\n",
       " 8,\n",
       " 'OOD',\n",
       " 10,\n",
       " 'OOD',\n",
       " 12,\n",
       " 'OOD',\n",
       " 14,\n",
       " 'OOD',\n",
       " 16,\n",
       " 'OOD',\n",
       " 18,\n",
       " 'OOD']"
      ]
     },
     "execution_count": 107,
     "metadata": {},
     "output_type": "execute_result"
    }
   ],
   "source": [
    "[i if i%2==0 else'OOD' for i in range(20)]"
   ]
  },
  {
   "cell_type": "code",
   "execution_count": 115,
   "id": "fc1a54ff-dad1-4551-bf71-04dce3ab2297",
   "metadata": {},
   "outputs": [
    {
     "ename": "SyntaxError",
     "evalue": "expected 'else' after 'if' expression (649817245.py, line 3)",
     "output_type": "error",
     "traceback": [
      "\u001b[0;36m  Cell \u001b[0;32mIn[115], line 3\u001b[0;36m\u001b[0m\n\u001b[0;31m    [i if i%2==0 print(sum(i%2==0)) else (sum(i!=0))  for i in lst1]\u001b[0m\n\u001b[0m     ^\u001b[0m\n\u001b[0;31mSyntaxError\u001b[0m\u001b[0;31m:\u001b[0m expected 'else' after 'if' expression\n"
     ]
    }
   ],
   "source": [
    "lst1=[1,2,3,4,5,6,7,8]\n",
    "\n",
    "[i if i%2==0 print(sum(i%2==0)) else (sum(i!=0))  for i in lst1]\n",
    "[for i in lst1]"
   ]
  },
  {
   "cell_type": "code",
   "execution_count": 123,
   "id": "ddd5eca9-097b-4435-a729-0f154a72adba",
   "metadata": {},
   "outputs": [
    {
     "data": {
      "text/plain": [
       "20"
      ]
     },
     "execution_count": 123,
     "metadata": {},
     "output_type": "execute_result"
    }
   ],
   "source": [
    "even_sum = sum([i for i in lst1 if i%2==0])\n",
    "\n",
    "odd_sum = sum([i for i in lst1 if i%2!=0])\n",
    "odd_sum\n",
    "even_sum"
   ]
  },
  {
   "cell_type": "code",
   "execution_count": 124,
   "id": "5fe20259-31a7-4f24-aac9-28209f3f9db0",
   "metadata": {},
   "outputs": [
    {
     "data": {
      "text/plain": [
       "16"
      ]
     },
     "execution_count": 124,
     "metadata": {},
     "output_type": "execute_result"
    }
   ],
   "source": [
    "odd_sum"
   ]
  },
  {
   "cell_type": "code",
   "execution_count": 126,
   "id": "ff51e44e-ded4-492d-ac15-da54a04f7224",
   "metadata": {},
   "outputs": [
    {
     "data": {
      "text/plain": [
       "[1, 4, 9, 16, 25, 36, 49, 64]"
      ]
     },
     "execution_count": 126,
     "metadata": {},
     "output_type": "execute_result"
    }
   ],
   "source": [
    "lst1=[1,2,3,4,5,6,7,8]\n",
    "[i**2 for i in lst1]"
   ]
  },
  {
   "cell_type": "code",
   "execution_count": 129,
   "id": "e1e449ec-b7a1-4500-ab54-b8538e701938",
   "metadata": {},
   "outputs": [
    {
     "data": {
      "text/plain": [
       "[1, 2, 3, 4]"
      ]
     },
     "execution_count": 129,
     "metadata": {},
     "output_type": "execute_result"
    }
   ],
   "source": [
    "lst=[-2,-1,0,1,2,3,4,]\n",
    "[i for i in lst if i>0]"
   ]
  },
  {
   "cell_type": "code",
   "execution_count": 130,
   "id": "b25a4efd-6a70-4fa6-983b-f9b711d05448",
   "metadata": {},
   "outputs": [],
   "source": [
    "words=['apple','banana','cherry','date']"
   ]
  },
  {
   "cell_type": "code",
   "execution_count": 131,
   "id": "7314b5a6-1e3f-42ab-b230-4b9ae1159dfd",
   "metadata": {},
   "outputs": [
    {
     "data": {
      "text/plain": [
       "['a', 'b', 'c', 'd']"
      ]
     },
     "execution_count": 131,
     "metadata": {},
     "output_type": "execute_result"
    }
   ],
   "source": [
    "[i[0] for i in words]"
   ]
  },
  {
   "cell_type": "code",
   "execution_count": null,
   "id": "3aaf3026-2960-4101-843f-805658372fbf",
   "metadata": {},
   "outputs": [],
   "source": [
    "(9/5)*temp+32"
   ]
  },
  {
   "cell_type": "code",
   "execution_count": 134,
   "id": "7a03088f-a182-4dd0-bdbe-0c7dced974c3",
   "metadata": {},
   "outputs": [
    {
     "data": {
      "text/plain": [
       "[32.0, 50.0, 68.0, 86.0, 104.0, 122.0]"
      ]
     },
     "execution_count": 134,
     "metadata": {},
     "output_type": "execute_result"
    }
   ],
   "source": [
    "temp=[0,10,20,30,40,50]\n",
    "[((9/5)*i+32) for i in temp]"
   ]
  },
  {
   "cell_type": "code",
   "execution_count": 141,
   "id": "5505f676-aeba-4381-a0ef-0f5f4b90f438",
   "metadata": {},
   "outputs": [
    {
     "data": {
      "text/plain": [
       "[1, 2, 3, 4, 5, 6, 7, 8, 9]"
      ]
     },
     "execution_count": 141,
     "metadata": {},
     "output_type": "execute_result"
    }
   ],
   "source": [
    "## flatten a list of lists into a single list\n",
    "lst=[[1,2,3],[4,5,6],[7,8,9]]\n",
    "\n",
    "[j for i in lst for j in i]"
   ]
  },
  {
   "cell_type": "code",
   "execution_count": null,
   "id": "d9822ce6-c34c-4c5a-9473-7f2ae8e83340",
   "metadata": {},
   "outputs": [],
   "source": []
  },
  {
   "cell_type": "code",
   "execution_count": null,
   "id": "8c6bd910-4e0e-4ba2-8c94-7d32b8c73b29",
   "metadata": {},
   "outputs": [],
   "source": []
  },
  {
   "cell_type": "code",
   "execution_count": null,
   "id": "7f811885-9ff6-40cd-8b04-17fe1cdac833",
   "metadata": {},
   "outputs": [],
   "source": []
  },
  {
   "cell_type": "code",
   "execution_count": null,
   "id": "9965dd25-69f4-49ea-8b59-a82e47c7ad7d",
   "metadata": {},
   "outputs": [],
   "source": []
  },
  {
   "cell_type": "code",
   "execution_count": null,
   "id": "49019ac5-8e4f-4878-a328-0748ce5f81bd",
   "metadata": {},
   "outputs": [],
   "source": []
  },
  {
   "cell_type": "code",
   "execution_count": null,
   "id": "0efc187e-210f-4466-a99a-ba16e33b3ab0",
   "metadata": {},
   "outputs": [],
   "source": []
  },
  {
   "cell_type": "code",
   "execution_count": null,
   "id": "938e2916-99b1-4dab-a702-177547279e99",
   "metadata": {},
   "outputs": [],
   "source": []
  },
  {
   "cell_type": "code",
   "execution_count": null,
   "id": "9b48778b-d096-48c3-a525-d041eabb599e",
   "metadata": {},
   "outputs": [],
   "source": []
  }
 ],
 "metadata": {
  "kernelspec": {
   "display_name": "Python 3 (ipykernel)",
   "language": "python",
   "name": "python3"
  },
  "language_info": {
   "codemirror_mode": {
    "name": "ipython",
    "version": 3
   },
   "file_extension": ".py",
   "mimetype": "text/x-python",
   "name": "python",
   "nbconvert_exporter": "python",
   "pygments_lexer": "ipython3",
   "version": "3.10.8"
  }
 },
 "nbformat": 4,
 "nbformat_minor": 5
}
