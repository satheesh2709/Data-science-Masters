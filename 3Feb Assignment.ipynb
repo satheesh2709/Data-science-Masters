{
 "cells": [
  {
   "cell_type": "markdown",
   "id": "a644d6a9-c0b5-4094-9a72-8a6a38f9a211",
   "metadata": {},
   "source": [
    "### 1. Which keyword is used to create a function? Create a function to return a list of odd numbers in the range of 1 to 25.\n",
    "\n",
    "### def is keyword to create a function"
   ]
  },
  {
   "cell_type": "code",
   "execution_count": 12,
   "id": "74ffef1e-555e-447a-ba8e-a6a544e57290",
   "metadata": {},
   "outputs": [],
   "source": [
    "def odd_numbers():\n",
    "    odd_num =[]    \n",
    "    for i in range(1,25):\n",
    "        if i%2!=0:\n",
    "            odd_num.append(i)\n",
    "    return(odd_num)"
   ]
  },
  {
   "cell_type": "code",
   "execution_count": 14,
   "id": "30da7500-b05d-4ddb-9b3d-28decf861d51",
   "metadata": {},
   "outputs": [
    {
     "data": {
      "text/plain": [
       "[1, 3, 5, 7, 9, 11, 13, 15, 17, 19, 21, 23]"
      ]
     },
     "execution_count": 14,
     "metadata": {},
     "output_type": "execute_result"
    }
   ],
   "source": [
    "odd_numbers()"
   ]
  },
  {
   "cell_type": "markdown",
   "id": "1c9b9cb7-6fc8-4b4b-a1d5-3a478a09ff24",
   "metadata": {},
   "source": [
    "### 2. Why *args and **kwargs is used in some functions? Create a function each for *args and **kwargs to demonstrate their use.\n",
    "\n",
    "#### args = aregs to used to pass a variable of non-keyowrd argument to a function. the arguments are passed as tuple as a function\n",
    "#### kwags = used to pass a variable of keyword argumnet to a function. the argumnets are passed as a dictionary to a functin"
   ]
  },
  {
   "cell_type": "code",
   "execution_count": 15,
   "id": "4635013c-f83f-481e-8a79-32ebdacc70ad",
   "metadata": {},
   "outputs": [],
   "source": [
    "def test1(*args):\n",
    "    l=[]\n",
    "    for i in args:\n",
    "        if type(i) == list:\n",
    "            l.append(i)\n",
    "    return l  "
   ]
  },
  {
   "cell_type": "code",
   "execution_count": 16,
   "id": "e13f48a8-9cb2-40dc-ba06-ca8f9ce85992",
   "metadata": {},
   "outputs": [
    {
     "data": {
      "text/plain": [
       "[[1, 2, 3, 4, 5]]"
      ]
     },
     "execution_count": 16,
     "metadata": {},
     "output_type": "execute_result"
    }
   ],
   "source": [
    "test1(1,2,3,[1,2,3,4,5],(4,5,6,7,8),'sat')"
   ]
  },
  {
   "cell_type": "code",
   "execution_count": 17,
   "id": "c92698e6-1b69-4113-bc04-221e4037783a",
   "metadata": {},
   "outputs": [],
   "source": [
    "def test2(**kwargs):\n",
    "    for i in kwargs.keys():\n",
    "        if type( kwargs[i]) == list:\n",
    "            return i, kwargs[i]"
   ]
  },
  {
   "cell_type": "code",
   "execution_count": 18,
   "id": "63d5a9fe-0622-47f9-abe6-fed30ec67a0a",
   "metadata": {},
   "outputs": [
    {
     "data": {
      "text/plain": [
       "('c', [1, 2, 3, 4])"
      ]
     },
     "execution_count": 18,
     "metadata": {},
     "output_type": "execute_result"
    }
   ],
   "source": [
    "test2(a = 34,b = 23, c = [1,2,3,4],d = ('sat','pwskills'))"
   ]
  },
  {
   "cell_type": "markdown",
   "id": "ec8363c4-d13c-41bc-a243-f9f353215376",
   "metadata": {},
   "source": [
    "### 3. What is an iterator in python? Name the method used to initialise the iterator object and the method used for iteration. Use these methods to print the first five elements of the given list [2, 4, 6, 8, 10, 12, 14, 16,18, 20].\n",
    "\n",
    "#### Iterator are used for iteraion over a sequence of values such as list, tuple or dictionary it is used to fetch the next value in a sequence"
   ]
  },
  {
   "cell_type": "code",
   "execution_count": 19,
   "id": "fca27142-38e2-44a6-9d6d-bb4ef3e9d0df",
   "metadata": {},
   "outputs": [],
   "source": [
    "my_list=[2,6,8,10,12,14,16,18,20]"
   ]
  },
  {
   "cell_type": "code",
   "execution_count": 21,
   "id": "f3890c9b-9ec8-42f0-a82b-e1d5c074b22a",
   "metadata": {},
   "outputs": [
    {
     "name": "stdout",
     "output_type": "stream",
     "text": [
      "2\n",
      "6\n",
      "8\n",
      "10\n",
      "12\n"
     ]
    }
   ],
   "source": [
    "my_iterator = iter(my_list)\n",
    "for i in range(5):\n",
    "    print(next(my_iterator))"
   ]
  },
  {
   "cell_type": "markdown",
   "id": "14a8fbfb-15a4-4517-97dd-8eabf26715b7",
   "metadata": {},
   "source": [
    "### 4. What is a generator function in python? Why yield keyword is used? Give an example of a generator function.\n",
    "\n",
    "#### Generator function is special type of function that generates a sequence of values using the uield keyword instead of return. when a generator function is called it returns an iterator object that can used to iterate over the sequence of values\n",
    "\n",
    "#### Yield similar to return statement used for returning values or objects in python, however the yield statement returns a generator object to the one who calles the functions which contains yield, instead of simply returning a value"
   ]
  },
  {
   "cell_type": "code",
   "execution_count": 22,
   "id": "e06fde07-e385-4d40-bcbd-113357c7fa87",
   "metadata": {},
   "outputs": [],
   "source": [
    "def test_fib (n):\n",
    "    a,b= 0,1\n",
    "    for i in range (n):\n",
    "        yield a\n",
    "        a,b=b,a+b"
   ]
  },
  {
   "cell_type": "code",
   "execution_count": 24,
   "id": "446519c7-b580-46ab-9f43-159b1a002b10",
   "metadata": {},
   "outputs": [
    {
     "name": "stdout",
     "output_type": "stream",
     "text": [
      "0\n",
      "1\n",
      "1\n",
      "2\n",
      "3\n",
      "5\n",
      "8\n",
      "13\n",
      "21\n",
      "34\n"
     ]
    }
   ],
   "source": [
    "for i in test_fib(10):\n",
    "    print(i)"
   ]
  },
  {
   "cell_type": "markdown",
   "id": "f3703025-0ad6-4c85-9df7-a87271825db5",
   "metadata": {},
   "source": [
    "### 5. Create a generator function for prime numbers less than 1000. Use the next() method to print the first 20 prime numbers."
   ]
  },
  {
   "cell_type": "code",
   "execution_count": 25,
   "id": "7e2ec2a4-8828-4029-952c-523159e926dc",
   "metadata": {},
   "outputs": [],
   "source": [
    "def prime_numbers():\n",
    "    primes = [2]\n",
    "    i = 3\n",
    "    while i < 1000:\n",
    "        is_prime = True\n",
    "        for prime in primes:\n",
    "            if i % prime == 0:\n",
    "                is_prime = False\n",
    "                break\n",
    "        if is_prime:\n",
    "            primes.append(i)\n",
    "            yield i\n",
    "        i += 2"
   ]
  },
  {
   "cell_type": "code",
   "execution_count": 26,
   "id": "d44a0e11-9c34-4982-85cd-78f074309bb9",
   "metadata": {},
   "outputs": [
    {
     "name": "stdout",
     "output_type": "stream",
     "text": [
      "3\n",
      "5\n",
      "7\n",
      "11\n",
      "13\n",
      "17\n",
      "19\n",
      "23\n",
      "29\n",
      "31\n",
      "37\n",
      "41\n",
      "43\n",
      "47\n",
      "53\n",
      "59\n",
      "61\n",
      "67\n",
      "71\n",
      "73\n"
     ]
    }
   ],
   "source": [
    "prime_gen = prime_numbers()\n",
    "for i in range(20):\n",
    "    print(next(prime_gen))"
   ]
  },
  {
   "cell_type": "code",
   "execution_count": null,
   "id": "4f47026f-61bd-4bfa-85be-560a5545ed1b",
   "metadata": {},
   "outputs": [],
   "source": []
  }
 ],
 "metadata": {
  "kernelspec": {
   "display_name": "Python 3 (ipykernel)",
   "language": "python",
   "name": "python3"
  },
  "language_info": {
   "codemirror_mode": {
    "name": "ipython",
    "version": 3
   },
   "file_extension": ".py",
   "mimetype": "text/x-python",
   "name": "python",
   "nbconvert_exporter": "python",
   "pygments_lexer": "ipython3",
   "version": "3.10.8"
  }
 },
 "nbformat": 4,
 "nbformat_minor": 5
}
