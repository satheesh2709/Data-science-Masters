{
 "cells": [
  {
   "cell_type": "markdown",
   "id": "0b05c995-10fe-42bc-86a1-2b623a8f400f",
   "metadata": {},
   "source": [
    "### Q1. What is an Exception in python? Write the difference between Exceptions nd syntax errors\n",
    "\n",
    "##### Exception is an error that occur during the execution of a program occurs because of syntax error, invalid operations, a file cannot be found or opened, network connection fails.\n",
    "\n",
    "##### Syntax error occurs when the python is unable to understand the code because of syntax mistake like missing of colon, or misplaced paranthesis\n",
    "\n",
    "##### Main difference is syntax error occurs during parsing of the code while exeception occur during execution of code and syntex error must be fixed before the program can run and exception can be handled by the program at runtime during exception handling techniques"
   ]
  },
  {
   "cell_type": "markdown",
   "id": "5e826a20-1761-4d9b-bd2b-328c9df5cf65",
   "metadata": {},
   "source": [
    "### Q2. What happens when an exception is not handled? Explain with an example\n",
    "\n",
    "##### If an exception is not caught the runtime system will abort the program and an exception message will print to the console."
   ]
  },
  {
   "cell_type": "code",
   "execution_count": 3,
   "id": "22a06eb8-49ec-4993-93cb-65a5d3a96b51",
   "metadata": {},
   "outputs": [
    {
     "ename": "ZeroDivisionError",
     "evalue": "division by zero",
     "output_type": "error",
     "traceback": [
      "\u001b[0;31m---------------------------------------------------------------------------\u001b[0m",
      "\u001b[0;31mZeroDivisionError\u001b[0m                         Traceback (most recent call last)",
      "Cell \u001b[0;32mIn[3], line 3\u001b[0m\n\u001b[1;32m      1\u001b[0m a \u001b[38;5;241m=\u001b[39m \u001b[38;5;241m10\u001b[39m\n\u001b[0;32m----> 3\u001b[0m \u001b[43ma\u001b[49m\u001b[38;5;241;43m/\u001b[39;49m\u001b[38;5;241;43m0\u001b[39;49m\n\u001b[1;32m      5\u001b[0m \u001b[38;5;66;03m## division by zero error\u001b[39;00m\n",
      "\u001b[0;31mZeroDivisionError\u001b[0m: division by zero"
     ]
    }
   ],
   "source": [
    "a = 10\n",
    "\n",
    "a/0\n",
    "\n",
    "## division by zero error"
   ]
  },
  {
   "cell_type": "code",
   "execution_count": 33,
   "id": "69ab4096-27f6-461d-b66a-290bfdc22558",
   "metadata": {},
   "outputs": [
    {
     "name": "stdout",
     "output_type": "stream",
     "text": [
      "number cannot be divided by zero: division by zero\n"
     ]
    }
   ],
   "source": [
    "try:\n",
    "    a = 10\n",
    "    a/0\n",
    "except ZeroDivisionError as e:\n",
    "    print('number cannot be divided by zero: {}'.format(e))"
   ]
  },
  {
   "cell_type": "markdown",
   "id": "3c698ec2-60d1-4e7e-bb0e-7dac66ffc3e7",
   "metadata": {},
   "source": [
    "### Q3. Which Python statements are used to catch and handle exceptions? Explain with an example\n",
    "\n",
    "##### Try - except block is used to catch and handle exception"
   ]
  },
  {
   "cell_type": "code",
   "execution_count": 22,
   "id": "2548430c-0bb1-4275-bbc7-153c072c2ad4",
   "metadata": {},
   "outputs": [],
   "source": [
    "def divide (a,b):\n",
    "    try:\n",
    "        result = a/b\n",
    "    except ZeroDivisionError as e:\n",
    "        print('numbers cannot be divided by zero: {} '.format(e))\n",
    "        result = None\n",
    "    return result\n"
   ]
  },
  {
   "cell_type": "code",
   "execution_count": 12,
   "id": "1d9fbc3d-7b00-429d-8fe8-7ab45ac887b6",
   "metadata": {},
   "outputs": [
    {
     "data": {
      "text/plain": [
       "5.0"
      ]
     },
     "execution_count": 12,
     "metadata": {},
     "output_type": "execute_result"
    }
   ],
   "source": [
    "divide(10,2)"
   ]
  },
  {
   "cell_type": "code",
   "execution_count": 23,
   "id": "02581cf5-e6fa-43de-94e5-2be3bcffb2ea",
   "metadata": {},
   "outputs": [
    {
     "name": "stdout",
     "output_type": "stream",
     "text": [
      "numbers cannot be divided by zero: division by zero \n"
     ]
    }
   ],
   "source": [
    "divide (10,0)"
   ]
  },
  {
   "cell_type": "markdown",
   "id": "70bf6693-8332-4d74-9f0c-ef06523256bc",
   "metadata": {},
   "source": [
    "### Q4. Explain with an example: try and else, finally and raise"
   ]
  },
  {
   "cell_type": "code",
   "execution_count": 28,
   "id": "5a6f717d-cac3-4264-9d55-59e436a4eaf2",
   "metadata": {},
   "outputs": [
    {
     "name": "stdout",
     "output_type": "stream",
     "text": [
      "this block will execute once try will execute itself without an exception\n",
      "i will execute always\n"
     ]
    }
   ],
   "source": [
    "try:\n",
    "    f = open('test12.txt','w')\n",
    "    f.write('this is my ms1g')\n",
    "    \n",
    "except Exception as e:\n",
    "    print('there is some issue with my code',e)\n",
    "else:\n",
    "    f.close()\n",
    "    print('this block will execute once try will execute itself without an exception')\n",
    "finally:\n",
    "    print('i will execute always')"
   ]
  },
  {
   "cell_type": "markdown",
   "id": "e414b90a-c5b5-4f3d-9af5-d455f757928d",
   "metadata": {},
   "source": [
    "### Q5. What are Custom Exceptions in python? Whay do we need Custom Exceptions? Explain with an example\n",
    "\n",
    "##### Customer exceptions are user defined exceptions that are created by deriving a new class from the built in exception class\n",
    "##### Need for Custom exception:\n",
    "1. to provide more detailed and informative error message for your users \n",
    "2. to make code more readable \n",
    "3. to handle error more easily\n",
    "4. to debug code"
   ]
  },
  {
   "cell_type": "markdown",
   "id": "69492bc5-9602-482c-a098-e9ddbb113958",
   "metadata": {},
   "source": [
    "### Q6. Create custom exception class. Use this class to handle an exception."
   ]
  },
  {
   "cell_type": "code",
   "execution_count": 29,
   "id": "31d1ab41-da3f-47b6-a881-3d72a9f88acd",
   "metadata": {},
   "outputs": [],
   "source": [
    "class validateage(Exception):\n",
    "    \n",
    "    def __init__(self,msg):\n",
    "        self.msg = msg"
   ]
  },
  {
   "cell_type": "code",
   "execution_count": 30,
   "id": "fcff06fa-6fb6-436f-a8e5-8b4b552e2fce",
   "metadata": {},
   "outputs": [],
   "source": [
    "def validate_age(age):\n",
    "    if age < 0:\n",
    "        raise validateage('age should not be less than 0')\n",
    "    elif age >200:\n",
    "        raise validateage('age is too high')\n",
    "        \n",
    "    else:\n",
    "        print ('age is valid')"
   ]
  },
  {
   "cell_type": "code",
   "execution_count": 31,
   "id": "81028225-2c44-43d6-8975-d4ac935c05d0",
   "metadata": {},
   "outputs": [
    {
     "name": "stdin",
     "output_type": "stream",
     "text": [
      "Enter your age: 50\n"
     ]
    },
    {
     "name": "stdout",
     "output_type": "stream",
     "text": [
      "age is valid\n"
     ]
    }
   ],
   "source": [
    "try:\n",
    "    age = int(input('Enter your age:'))\n",
    "    validate_age(age)\n",
    "except validateage as e:\n",
    "    print(e)"
   ]
  }
 ],
 "metadata": {
  "kernelspec": {
   "display_name": "Python 3 (ipykernel)",
   "language": "python",
   "name": "python3"
  },
  "language_info": {
   "codemirror_mode": {
    "name": "ipython",
    "version": 3
   },
   "file_extension": ".py",
   "mimetype": "text/x-python",
   "name": "python",
   "nbconvert_exporter": "python",
   "pygments_lexer": "ipython3",
   "version": "3.10.8"
  }
 },
 "nbformat": 4,
 "nbformat_minor": 5
}
