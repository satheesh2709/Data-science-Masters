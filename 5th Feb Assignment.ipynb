{
 "cells": [
  {
   "cell_type": "markdown",
   "id": "ec311849-300a-4c31-b764-6fb74b14fad6",
   "metadata": {},
   "source": [
    "### Explain Class and Object with respect to Object-Oriented Programming. Give a suitable example."
   ]
  },
  {
   "cell_type": "markdown",
   "id": "c9369517-fe0e-4a69-b165-e6b511f8e798",
   "metadata": {},
   "source": [
    "#### Class - blueprint or classification of real world entity example of class is car\n",
    "#### object - is an instance of a class example of object - brand of car, colour, specs"
   ]
  },
  {
   "cell_type": "code",
   "execution_count": 1,
   "id": "4419285a-8074-416f-9ae0-92428ce34756",
   "metadata": {},
   "outputs": [],
   "source": [
    "class car:\n",
    "## car is class    \n",
    "    def __init__(self,make,model,year,colour):\n",
    "        self.make = make\n",
    "        self.model = model\n",
    "        self.year = year\n",
    "        self.colour = colour\n",
    "        \n",
    "    def return_car_details (self):\n",
    "        return self.make,self.model,self.year,self.colour"
   ]
  },
  {
   "cell_type": "code",
   "execution_count": 5,
   "id": "ad3563f1-659c-4de5-9f21-46a4ae73ed41",
   "metadata": {},
   "outputs": [],
   "source": [
    "car1=car('toyota','eltios','2012','blue')\n",
    "\n",
    "car2=car('Honda','Civiv','2002','white')\n",
    "## above car1 and car 2 are the ohjects"
   ]
  },
  {
   "cell_type": "code",
   "execution_count": 3,
   "id": "591664eb-ca4d-4f77-9d32-a847710c6ba5",
   "metadata": {},
   "outputs": [
    {
     "data": {
      "text/plain": [
       "('toyota', 'eltios', '2012', 'blue')"
      ]
     },
     "execution_count": 3,
     "metadata": {},
     "output_type": "execute_result"
    }
   ],
   "source": [
    "car1.return_car_details()"
   ]
  },
  {
   "cell_type": "code",
   "execution_count": 4,
   "id": "3bdac5e9-df6d-4900-b0e4-5de516eceb04",
   "metadata": {},
   "outputs": [
    {
     "data": {
      "text/plain": [
       "('Honda', 'Civiv', '2002', 'white')"
      ]
     },
     "execution_count": 4,
     "metadata": {},
     "output_type": "execute_result"
    }
   ],
   "source": [
    "car2.return_car_details()"
   ]
  },
  {
   "cell_type": "markdown",
   "id": "650bc13d-bc6c-4fcc-bfcf-3ceaf772b690",
   "metadata": {},
   "source": [
    "### Name the four pillars of OOPs.\n",
    "1. Encapsulation\n",
    "2. Inheritance\n",
    "3. Polymorphism\n",
    "4. Abstraction"
   ]
  },
  {
   "cell_type": "markdown",
   "id": "49a6c869-234f-48b1-9c5e-6b2ecb99c2da",
   "metadata": {},
   "source": [
    "### Explain why the __init__() function is used. Give a suitable example.\n",
    "\n",
    "1. __init_() is a constructor which helps my class to pass a data"
   ]
  },
  {
   "cell_type": "code",
   "execution_count": 12,
   "id": "3d97d348-7f39-4fd4-84af-bf095aa4e123",
   "metadata": {},
   "outputs": [],
   "source": [
    "class Person:\n",
    "    def __init__(self, name, age, gender):\n",
    "        self.name = name\n",
    "        self.age = age\n",
    "        self.gender = gender\n",
    "        \n",
    "    def return_personal_details(self):    \n",
    "        return self.name,self.age,self.gender"
   ]
  },
  {
   "cell_type": "code",
   "execution_count": 13,
   "id": "59a8c297-2f05-4aa3-8800-2be8701c7025",
   "metadata": {},
   "outputs": [],
   "source": [
    "person1 = Person(\"John\", 25, \"Male\")\n",
    "## to assign input to the class init is used"
   ]
  },
  {
   "cell_type": "code",
   "execution_count": 14,
   "id": "9f99d1f0-bae1-413d-97de-8cae79b50a77",
   "metadata": {},
   "outputs": [
    {
     "data": {
      "text/plain": [
       "('John', 25, 'Male')"
      ]
     },
     "execution_count": 14,
     "metadata": {},
     "output_type": "execute_result"
    }
   ],
   "source": [
    "person1.return_personal_details()"
   ]
  },
  {
   "cell_type": "markdown",
   "id": "65a96f98-109b-4683-b1df-b57a8c181a37",
   "metadata": {},
   "source": [
    "### Why self is used in OOPs?\n",
    "\n",
    "When an instance method is defined as it passes automatically as the first parameter when the method is called"
   ]
  },
  {
   "cell_type": "markdown",
   "id": "bcb1fe9e-d107-4cab-9c1a-8de617eaccc8",
   "metadata": {},
   "source": [
    "### What is inheritance? Give an example for each type of inheritance.\n",
    "\n",
    "1. Single Inheritance\n",
    "2. Multiple inheritance\n",
    "3. Multilevel inheritance\n",
    "4. Hierarchial inheritance"
   ]
  },
  {
   "cell_type": "code",
   "execution_count": 24,
   "id": "d9073303-f23b-40b3-9d5b-8b9429e56e1b",
   "metadata": {},
   "outputs": [],
   "source": [
    "## single inheritance\n",
    "\n",
    "class Animal:\n",
    "    def make_sound(self):\n",
    "        print(\"Generic animal sound\")\n",
    "\n",
    "class Cat(Animal):\n",
    "    def make_sound(self):\n",
    "        print(\"Meow\")    "
   ]
  },
  {
   "cell_type": "code",
   "execution_count": 25,
   "id": "3ab63642-f1af-4ea2-b5bb-3d7db23021fd",
   "metadata": {},
   "outputs": [],
   "source": [
    "cat = Cat()"
   ]
  },
  {
   "cell_type": "code",
   "execution_count": 27,
   "id": "8e5e6857-4a32-4dec-98c1-6df92eee489a",
   "metadata": {},
   "outputs": [
    {
     "name": "stdout",
     "output_type": "stream",
     "text": [
      "Meow\n"
     ]
    }
   ],
   "source": [
    "cat.make_sound()"
   ]
  },
  {
   "cell_type": "code",
   "execution_count": 28,
   "id": "001456c9-b181-46f4-9d14-ce2130ddb12e",
   "metadata": {},
   "outputs": [],
   "source": [
    "## multiple inheritance\n",
    "class Animal:\n",
    "    def __init__(self, name):\n",
    "        self.name = name\n",
    "        \n",
    "class CanFly:\n",
    "    def fly(self):\n",
    "        print(f\"{self.name} is flying.\")\n",
    "        \n",
    "class CanSwim:\n",
    "    def swim(self):\n",
    "        print(f\"{self.name} is swimming.\")  \n",
    "        \n",
    "class Duck(Animal, CanFly, CanSwim):\n",
    "    def quack(self):\n",
    "        print(f\"{self.name} is quacking.\")        "
   ]
  },
  {
   "cell_type": "code",
   "execution_count": 29,
   "id": "474c10aa-c483-440e-a679-30c7373b904a",
   "metadata": {},
   "outputs": [],
   "source": [
    "duck = Duck(\"Donald\")"
   ]
  },
  {
   "cell_type": "code",
   "execution_count": 30,
   "id": "68837881-d5e0-422f-bff5-2912a9fa6b97",
   "metadata": {},
   "outputs": [
    {
     "name": "stdout",
     "output_type": "stream",
     "text": [
      "Donald is flying.\n",
      "Donald is swimming.\n",
      "Donald is quacking.\n"
     ]
    }
   ],
   "source": [
    "duck.fly()\n",
    "duck.swim()\n",
    "duck.quack()"
   ]
  },
  {
   "cell_type": "code",
   "execution_count": 47,
   "id": "41f4a759-8293-4e23-af9e-7fdab6899e57",
   "metadata": {},
   "outputs": [],
   "source": [
    "## Multilevel inheritance\n",
    "class Animal:\n",
    "    def __init__(self, name):\n",
    "        self.name = name\n",
    "    \n",
    "    def speak(self):\n",
    "        pass\n",
    "\n",
    "class Mammal(Animal):\n",
    "    pass\n",
    "\n",
    "class Dog(Mammal):\n",
    "    def speak(self):\n",
    "        return \"Woof\"\n"
   ]
  },
  {
   "cell_type": "code",
   "execution_count": 49,
   "id": "3ef7fc9d-e1dd-4bc6-a4fa-a274c301702f",
   "metadata": {},
   "outputs": [],
   "source": [
    "dog = Dog('tom')"
   ]
  },
  {
   "cell_type": "code",
   "execution_count": 52,
   "id": "9d6a7496-9025-4e65-a9eb-1f69f39b379d",
   "metadata": {},
   "outputs": [
    {
     "data": {
      "text/plain": [
       "'Woof'"
      ]
     },
     "execution_count": 52,
     "metadata": {},
     "output_type": "execute_result"
    }
   ],
   "source": [
    "dog.speak()"
   ]
  },
  {
   "cell_type": "code",
   "execution_count": 53,
   "id": "312558d0-a6fb-4d01-bbfc-36f7ef3aa402",
   "metadata": {},
   "outputs": [],
   "source": [
    "## Hierarchial inheritance\n",
    "\n",
    "class Animal:\n",
    "    def __init__(self, name):\n",
    "        self.name = name\n",
    "    \n",
    "    def speak(self):\n",
    "        pass\n",
    "\n",
    "class Cat(Animal):\n",
    "    def speak(self):\n",
    "        return \"Meow\"\n",
    "\n",
    "class Dog(Animal):\n",
    "    def speak(self):\n",
    "        return \"Woof\""
   ]
  },
  {
   "cell_type": "code",
   "execution_count": 55,
   "id": "86b89a8d-ac6b-4c7c-95a8-1dab21bd1bb2",
   "metadata": {},
   "outputs": [],
   "source": [
    "cat = Cat('tiger')\n",
    "dog = Dog('tommy')"
   ]
  },
  {
   "cell_type": "code",
   "execution_count": 58,
   "id": "e6f47541-a39a-4262-b62c-9509e95fe54c",
   "metadata": {},
   "outputs": [
    {
     "data": {
      "text/plain": [
       "'Woof'"
      ]
     },
     "execution_count": 58,
     "metadata": {},
     "output_type": "execute_result"
    }
   ],
   "source": [
    "dog.speak() "
   ]
  },
  {
   "cell_type": "code",
   "execution_count": 59,
   "id": "318ce6cb-f16e-4661-bae9-eb02858bc099",
   "metadata": {},
   "outputs": [
    {
     "data": {
      "text/plain": [
       "'Meow'"
      ]
     },
     "execution_count": 59,
     "metadata": {},
     "output_type": "execute_result"
    }
   ],
   "source": [
    "cat.speak()"
   ]
  },
  {
   "cell_type": "code",
   "execution_count": null,
   "id": "e0ff5b34-9ccf-4409-a79f-df4ebc2455b9",
   "metadata": {},
   "outputs": [],
   "source": []
  }
 ],
 "metadata": {
  "kernelspec": {
   "display_name": "Python 3 (ipykernel)",
   "language": "python",
   "name": "python3"
  },
  "language_info": {
   "codemirror_mode": {
    "name": "ipython",
    "version": 3
   },
   "file_extension": ".py",
   "mimetype": "text/x-python",
   "name": "python",
   "nbconvert_exporter": "python",
   "pygments_lexer": "ipython3",
   "version": "3.10.8"
  }
 },
 "nbformat": 4,
 "nbformat_minor": 5
}
