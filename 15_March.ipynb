{
 "cells": [
  {
   "cell_type": "markdown",
   "id": "68b1a1b3-1058-4ab7-b24c-0663c7183f2d",
   "metadata": {},
   "source": [
    "### 1. Explain the following with an example:\n",
    "1. Artificial Intelligence - smart application that can perform its own task without any human intervention ex: self driving cars\n",
    "2.  Machine Learning - provide stats to learn, analyse, visualize and develop predictive models from the data ex: amazon and netflix recommendation system\n",
    "3. Deep Learning - to mimic human brain deep learningis created ex: chat-gpt, object detection"
   ]
  },
  {
   "cell_type": "markdown",
   "id": "75575791-9e33-4232-9af5-ce79dabc4818",
   "metadata": {},
   "source": [
    "### Q2- What is supervised learning? List some examples of supervised learning.\n",
    "\n",
    "#### Supervised learning is a machine learning paradigm for problems where the available data consists of labeled examples, meaning that each data point contains features and an associated label\n",
    "\n",
    "#### Example: yes or no, male or female, true or false, etc. based questions"
   ]
  },
  {
   "cell_type": "markdown",
   "id": "24e9005f-0628-47e6-a7ad-93ebf744d1c1",
   "metadata": {},
   "source": [
    "### Q3- What is unsupervised learning? List some examples of unsupervised learning.\n",
    "\n",
    "#### Unsupervised learning refers to algorithms that learn patterns from unlabeled data\n",
    "\n",
    "#### a supermarket wants to increase its revenue"
   ]
  },
  {
   "cell_type": "markdown",
   "id": "7ae315c2-be0a-46be-9d40-52ea8ed41e8e",
   "metadata": {},
   "source": [
    "### Q4- What is the difference between AI, ML, DL, and DS?\n",
    "\n",
    "#### Artificial Intelligence (AI) enables machines to think by understanding, learning from the data, and taking decisions based on patterns hidden in the data or make inferences that would otherwise be very difficult for humans to make manually. T\n",
    "\n",
    "#### Machine Learning (ML) is a subset of AI; it provides us statistical tools/techniques like Supervised, Unsupervised, and Reinforcement learning to explore and analyze the data.\n",
    "\n",
    "#### Deep Learning (DL) is further a subset of ML, and the main idea behind it is to make machines learn by mimicking the human brain. Here, we create a multi neural network architecture with the help of different techniques like ANN, CNN, and RNN.\n",
    "\n",
    "#### Data Science (DS) is basically drawing insights from structured and unstructured data either by using ML or DL or without these techniques. We can even use different visualization tools, statistics, and probability to gain these insights."
   ]
  },
  {
   "cell_type": "markdown",
   "id": "8951e845-00ec-401e-a641-2b4f18caeaf7",
   "metadata": {},
   "source": [
    "### Q5- What are the main differences between supervised, unsupervised, and semi-supervised learning?\n",
    "\n",
    "#### The main difference between supervised and unsupervised learning: Labeled data\n",
    "\n",
    "#### supervised learning uses labeled input and output data, while an unsupervised learning algorithm does not.\n",
    "\n",
    "#### semi-supervised learning uses both supervised and unsupervised learning"
   ]
  },
  {
   "cell_type": "markdown",
   "id": "1acc6f14-e33c-450e-9291-69d402a2ca0f",
   "metadata": {},
   "source": [
    "### Q6- What is train, test and validation split? Explain the importance of each term.\n",
    "\n",
    "#### Training data is the set of the data on which the actual training takes place. \n",
    "#### Validation split helps to improve the model performance by fine-tuning the model after each epoch. \n",
    "#### The test set informs us about the final accuracy of the model after completing the training phase"
   ]
  },
  {
   "cell_type": "markdown",
   "id": "60fd8e14-bf23-4236-a5bb-24836e094c2a",
   "metadata": {},
   "source": [
    "### Q7- How can unsupervised learning be used in anomaly detection?\n",
    "\n",
    "#### Anomaly detection techniques of unsupervised nature assume that normal data points occur considerably more frequently than anomalous data points. This assumption is used to classify data points that occur less frequently as anomalies. Unsupervised techniques assign each data point a score instead of a label."
   ]
  },
  {
   "cell_type": "markdown",
   "id": "aa179174-acb4-40a2-bbdb-bd6d064be7c7",
   "metadata": {},
   "source": [
    "### Q8- List down some commonly used supervised learning algorithms and unsupervised learning algorithms.\n",
    "\n",
    "#### supervised - decision tree, logistic regression, linear regression, support vector machine\n",
    "#### unsupervised - k-means clustering, hierarchical clustering, and apriori algorithm"
   ]
  },
  {
   "cell_type": "code",
   "execution_count": null,
   "id": "e62b4633-54e0-419c-8123-797010f55e0c",
   "metadata": {},
   "outputs": [],
   "source": []
  }
 ],
 "metadata": {
  "kernelspec": {
   "display_name": "Python 3 (ipykernel)",
   "language": "python",
   "name": "python3"
  },
  "language_info": {
   "codemirror_mode": {
    "name": "ipython",
    "version": 3
   },
   "file_extension": ".py",
   "mimetype": "text/x-python",
   "name": "python",
   "nbconvert_exporter": "python",
   "pygments_lexer": "ipython3",
   "version": "3.10.8"
  }
 },
 "nbformat": 4,
 "nbformat_minor": 5
}
