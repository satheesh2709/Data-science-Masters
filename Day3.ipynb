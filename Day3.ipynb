{
 "cells": [
  {
   "cell_type": "markdown",
   "id": "1cec1940-ae4a-40d2-b401-5d86cb1de1fe",
   "metadata": {},
   "source": [
    "## Logical operators\n",
    "1. and\n",
    "2. or\n",
    "3. not"
   ]
  },
  {
   "cell_type": "code",
   "execution_count": 2,
   "id": "c206d998-f11a-4090-88e3-308022c04902",
   "metadata": {},
   "outputs": [
    {
     "data": {
      "text/plain": [
       "True"
      ]
     },
     "execution_count": 2,
     "metadata": {},
     "output_type": "execute_result"
    }
   ],
   "source": [
    "True and True"
   ]
  },
  {
   "cell_type": "code",
   "execution_count": 1,
   "id": "3ed219a3-1524-4fcb-bf97-45e2fbbb399c",
   "metadata": {},
   "outputs": [
    {
     "data": {
      "text/plain": [
       "True"
      ]
     },
     "execution_count": 1,
     "metadata": {},
     "output_type": "execute_result"
    }
   ],
   "source": [
    "True or False"
   ]
  },
  {
   "cell_type": "code",
   "execution_count": 3,
   "id": "9d2a6c63-69e3-4a48-9556-86f2c6f73d93",
   "metadata": {},
   "outputs": [
    {
     "data": {
      "text/plain": [
       "False"
      ]
     },
     "execution_count": 3,
     "metadata": {},
     "output_type": "execute_result"
    }
   ],
   "source": [
    "not True"
   ]
  },
  {
   "cell_type": "code",
   "execution_count": 4,
   "id": "dc206470-2b69-45df-ba75-37533ef8017a",
   "metadata": {},
   "outputs": [
    {
     "data": {
      "text/plain": [
       "True"
      ]
     },
     "execution_count": 4,
     "metadata": {},
     "output_type": "execute_result"
    }
   ],
   "source": [
    "not bool(0)"
   ]
  },
  {
   "cell_type": "code",
   "execution_count": 5,
   "id": "0f135203-53c1-471d-966a-07d8896ec9a7",
   "metadata": {},
   "outputs": [
    {
     "data": {
      "text/plain": [
       "0"
      ]
     },
     "execution_count": 5,
     "metadata": {},
     "output_type": "execute_result"
    }
   ],
   "source": [
    "int(bool(0))"
   ]
  },
  {
   "cell_type": "code",
   "execution_count": 6,
   "id": "0374275e-8f16-4117-a7a3-b26ce69fc506",
   "metadata": {},
   "outputs": [
    {
     "data": {
      "text/plain": [
       "True"
      ]
     },
     "execution_count": 6,
     "metadata": {},
     "output_type": "execute_result"
    }
   ],
   "source": [
    "not 0"
   ]
  },
  {
   "cell_type": "code",
   "execution_count": 7,
   "id": "533c6005-b08a-4078-a9d3-60cc51e9a84c",
   "metadata": {},
   "outputs": [
    {
     "data": {
      "text/plain": [
       "True"
      ]
     },
     "execution_count": 7,
     "metadata": {},
     "output_type": "execute_result"
    }
   ],
   "source": [
    "bool(1)"
   ]
  },
  {
   "cell_type": "code",
   "execution_count": 8,
   "id": "11ab2a72-ed51-4780-b547-f7fc498b76a0",
   "metadata": {},
   "outputs": [
    {
     "data": {
      "text/plain": [
       "False"
      ]
     },
     "execution_count": 8,
     "metadata": {},
     "output_type": "execute_result"
    }
   ],
   "source": [
    "bool(0)"
   ]
  },
  {
   "cell_type": "code",
   "execution_count": 9,
   "id": "b76c184c-1dd8-4fbe-8453-d5de81120990",
   "metadata": {},
   "outputs": [
    {
     "data": {
      "text/plain": [
       "1"
      ]
     },
     "execution_count": 9,
     "metadata": {},
     "output_type": "execute_result"
    }
   ],
   "source": [
    "int (bool(1))"
   ]
  },
  {
   "cell_type": "code",
   "execution_count": 10,
   "id": "212397d8-d42c-4167-98aa-4530d6c7cfaf",
   "metadata": {},
   "outputs": [
    {
     "data": {
      "text/plain": [
       "False"
      ]
     },
     "execution_count": 10,
     "metadata": {},
     "output_type": "execute_result"
    }
   ],
   "source": [
    "not int(bool(1))"
   ]
  },
  {
   "cell_type": "code",
   "execution_count": 11,
   "id": "4a7e0d08-8938-4e26-94b9-bc14d2871881",
   "metadata": {},
   "outputs": [
    {
     "data": {
      "text/plain": [
       "True"
      ]
     },
     "execution_count": 11,
     "metadata": {},
     "output_type": "execute_result"
    }
   ],
   "source": [
    "not 0"
   ]
  },
  {
   "cell_type": "code",
   "execution_count": 12,
   "id": "a0a5cc14-5ed5-4d65-a97d-8e1753d36409",
   "metadata": {},
   "outputs": [
    {
     "data": {
      "text/plain": [
       "1"
      ]
     },
     "execution_count": 12,
     "metadata": {},
     "output_type": "execute_result"
    }
   ],
   "source": [
    "int(not 0)"
   ]
  },
  {
   "cell_type": "code",
   "execution_count": 13,
   "id": "b3bcf92f-a3cc-4da8-b431-59d1f86ebbe3",
   "metadata": {},
   "outputs": [],
   "source": [
    "## not will give output in true or false"
   ]
  },
  {
   "cell_type": "code",
   "execution_count": 14,
   "id": "9cc40125-fc11-4976-9902-6af8d6d862af",
   "metadata": {},
   "outputs": [
    {
     "data": {
      "text/plain": [
       "False"
      ]
     },
     "execution_count": 14,
     "metadata": {},
     "output_type": "execute_result"
    }
   ],
   "source": [
    "not 2"
   ]
  },
  {
   "cell_type": "code",
   "execution_count": 17,
   "id": "4beb7658-eb4a-4274-827e-608bae80097f",
   "metadata": {},
   "outputs": [
    {
     "data": {
      "text/plain": [
       "True"
      ]
     },
     "execution_count": 17,
     "metadata": {},
     "output_type": "execute_result"
    }
   ],
   "source": [
    "bool (-1)"
   ]
  },
  {
   "cell_type": "code",
   "execution_count": null,
   "id": "1fcaf0b5-88de-494a-95b5-a5080a24c295",
   "metadata": {},
   "outputs": [],
   "source": [
    "0 false 1 true 0 true 1 false"
   ]
  },
  {
   "cell_type": "code",
   "execution_count": null,
   "id": "44758c84-c64a-4ea5-b92a-b07a4dbb18e1",
   "metadata": {},
   "outputs": [],
   "source": [
    "-5 true 5 true -5 true 5 true"
   ]
  },
  {
   "cell_type": "markdown",
   "id": "6dfeab11-02dc-4a67-b050-a1092f08c603",
   "metadata": {},
   "source": [
    "## Loginal And"
   ]
  },
  {
   "cell_type": "code",
   "execution_count": 2,
   "id": "7b1b26bd-cdb2-4af0-92ff-222b11a076d0",
   "metadata": {},
   "outputs": [
    {
     "data": {
      "text/plain": [
       "True"
      ]
     },
     "execution_count": 2,
     "metadata": {},
     "output_type": "execute_result"
    }
   ],
   "source": [
    "(not(False))"
   ]
  },
  {
   "cell_type": "code",
   "execution_count": 3,
   "id": "8ed9cb6c-1359-44b8-8071-4e2438149a30",
   "metadata": {},
   "outputs": [
    {
     "data": {
      "text/plain": [
       "True"
      ]
     },
     "execution_count": 3,
     "metadata": {},
     "output_type": "execute_result"
    }
   ],
   "source": [
    "not (False) * True"
   ]
  },
  {
   "cell_type": "code",
   "execution_count": 4,
   "id": "475962e3-ce81-4c8d-9007-88d353360d35",
   "metadata": {},
   "outputs": [
    {
     "data": {
      "text/plain": [
       "1"
      ]
     },
     "execution_count": 4,
     "metadata": {},
     "output_type": "execute_result"
    }
   ],
   "source": [
    "(not(False)) * True"
   ]
  },
  {
   "cell_type": "code",
   "execution_count": 1,
   "id": "5504b047-7858-4ec7-96ea-b21704a5ef93",
   "metadata": {},
   "outputs": [],
   "source": [
    "lst_a = [1,2,3,4]\n",
    "lst_b= [1,2,3,4]"
   ]
  },
  {
   "cell_type": "code",
   "execution_count": 2,
   "id": "b1ef5017-75b9-4d32-b63d-8ae8d506de67",
   "metadata": {},
   "outputs": [
    {
     "data": {
      "text/plain": [
       "139833937702976"
      ]
     },
     "execution_count": 2,
     "metadata": {},
     "output_type": "execute_result"
    }
   ],
   "source": [
    "id(lst_a)"
   ]
  },
  {
   "cell_type": "code",
   "execution_count": 3,
   "id": "a089c59b-626c-407c-bd75-887b4883622f",
   "metadata": {},
   "outputs": [
    {
     "data": {
      "text/plain": [
       "False"
      ]
     },
     "execution_count": 3,
     "metadata": {},
     "output_type": "execute_result"
    }
   ],
   "source": [
    "lst_a is lst_b"
   ]
  },
  {
   "cell_type": "code",
   "execution_count": 4,
   "id": "35851998-91aa-4fbd-8499-8bffe44b1151",
   "metadata": {},
   "outputs": [
    {
     "data": {
      "text/plain": [
       "True"
      ]
     },
     "execution_count": 4,
     "metadata": {},
     "output_type": "execute_result"
    }
   ],
   "source": [
    "lst_a==lst_b"
   ]
  },
  {
   "cell_type": "markdown",
   "id": "ed56a653-546c-46be-af3e-618434d79466",
   "metadata": {},
   "source": [
    "## data structures\n",
    "### string"
   ]
  },
  {
   "cell_type": "code",
   "execution_count": 8,
   "id": "9e150dab-e272-4bb2-b62b-9c632610f6b9",
   "metadata": {},
   "outputs": [],
   "source": [
    "str1 = \"Welcome to data science masters\""
   ]
  },
  {
   "cell_type": "code",
   "execution_count": 9,
   "id": "b877ff58-311e-4e73-babe-22c7d51445ba",
   "metadata": {},
   "outputs": [
    {
     "data": {
      "text/plain": [
       "str"
      ]
     },
     "execution_count": 9,
     "metadata": {},
     "output_type": "execute_result"
    }
   ],
   "source": [
    "type(str1)"
   ]
  },
  {
   "cell_type": "code",
   "execution_count": 11,
   "id": "dd0bd1a3-a3bc-43ad-aadc-c1a14d11ed28",
   "metadata": {},
   "outputs": [
    {
     "name": "stdout",
     "output_type": "stream",
     "text": [
      "m\n"
     ]
    }
   ],
   "source": [
    "print(str1[5])\n",
    "## string is immutable"
   ]
  },
  {
   "cell_type": "code",
   "execution_count": 12,
   "id": "56ab9ae8-e443-4775-9f35-da23093059cc",
   "metadata": {},
   "outputs": [
    {
     "data": {
      "text/plain": [
       "'m'"
      ]
     },
     "execution_count": 12,
     "metadata": {},
     "output_type": "execute_result"
    }
   ],
   "source": [
    "str1[5]"
   ]
  },
  {
   "cell_type": "code",
   "execution_count": 15,
   "id": "0153d45f-3d0d-441c-b7dc-08b5a3ca1d8f",
   "metadata": {},
   "outputs": [
    {
     "data": {
      "text/plain": [
       "'me to data science masters'"
      ]
     },
     "execution_count": 15,
     "metadata": {},
     "output_type": "execute_result"
    }
   ],
   "source": [
    "str1[5:]"
   ]
  },
  {
   "cell_type": "markdown",
   "id": "e755e5ed-225c-4a65-9268-b2178bae23ff",
   "metadata": {},
   "source": [
    "str1[5:11}"
   ]
  },
  {
   "cell_type": "code",
   "execution_count": 16,
   "id": "f9c1064e-53b6-4801-8330-de35e82a5513",
   "metadata": {},
   "outputs": [
    {
     "data": {
      "text/plain": [
       "'me to '"
      ]
     },
     "execution_count": 16,
     "metadata": {},
     "output_type": "execute_result"
    }
   ],
   "source": [
    "str1[5:11]"
   ]
  },
  {
   "cell_type": "code",
   "execution_count": 17,
   "id": "f4f98b94-26b1-4b37-8017-f42cec875acf",
   "metadata": {},
   "outputs": [
    {
     "data": {
      "text/plain": [
       "'Welcome to data science masters'"
      ]
     },
     "execution_count": 17,
     "metadata": {},
     "output_type": "execute_result"
    }
   ],
   "source": [
    "str1"
   ]
  },
  {
   "cell_type": "code",
   "execution_count": 19,
   "id": "65ca009d-f6d8-425f-ace4-cadfb7e392d8",
   "metadata": {},
   "outputs": [
    {
     "data": {
      "text/plain": [
       "'s'"
      ]
     },
     "execution_count": 19,
     "metadata": {},
     "output_type": "execute_result"
    }
   ],
   "source": [
    "str1[-1]"
   ]
  },
  {
   "cell_type": "code",
   "execution_count": 25,
   "id": "e72aacd8-ee01-4695-8155-5bb384aa7c84",
   "metadata": {},
   "outputs": [
    {
     "data": {
      "text/plain": [
       "'ers'"
      ]
     },
     "execution_count": 25,
     "metadata": {},
     "output_type": "execute_result"
    }
   ],
   "source": [
    "str1[-3:]"
   ]
  },
  {
   "cell_type": "code",
   "execution_count": 27,
   "id": "47dcbb8a-849d-47d5-8d09-48d18ccf350c",
   "metadata": {},
   "outputs": [
    {
     "data": {
      "text/plain": [
       "'mast'"
      ]
     },
     "execution_count": 27,
     "metadata": {},
     "output_type": "execute_result"
    }
   ],
   "source": [
    "str1[-7:-3]"
   ]
  },
  {
   "cell_type": "code",
   "execution_count": 28,
   "id": "aed4ae63-5a94-41c3-ba6a-5fbceb1cc82f",
   "metadata": {},
   "outputs": [
    {
     "data": {
      "text/plain": [
       "'Welcome to data science master'"
      ]
     },
     "execution_count": 28,
     "metadata": {},
     "output_type": "execute_result"
    }
   ],
   "source": [
    "str1[:-1]"
   ]
  },
  {
   "cell_type": "code",
   "execution_count": 29,
   "id": "d4e9cdd7-f70f-4f14-9f76-f8ce2d5396bb",
   "metadata": {},
   "outputs": [
    {
     "data": {
      "text/plain": [
       "'Welcome to data science masters'"
      ]
     },
     "execution_count": 29,
     "metadata": {},
     "output_type": "execute_result"
    }
   ],
   "source": [
    "str1[:]"
   ]
  },
  {
   "cell_type": "code",
   "execution_count": 30,
   "id": "0e8865ce-f38b-42b9-81ee-83f37c2d6779",
   "metadata": {},
   "outputs": [
    {
     "data": {
      "text/plain": [
       "'lcome'"
      ]
     },
     "execution_count": 30,
     "metadata": {},
     "output_type": "execute_result"
    }
   ],
   "source": [
    "str1[2:7]"
   ]
  },
  {
   "cell_type": "code",
   "execution_count": 34,
   "id": "218f293d-8d48-4558-8e43-338c1befffc0",
   "metadata": {},
   "outputs": [
    {
     "data": {
      "text/plain": [
       "'Wm  nas'"
      ]
     },
     "execution_count": 34,
     "metadata": {},
     "output_type": "execute_result"
    }
   ],
   "source": [
    "str1[::5]"
   ]
  },
  {
   "cell_type": "code",
   "execution_count": 35,
   "id": "3642f1b1-b91b-476e-99ae-1f840f8d2e90",
   "metadata": {},
   "outputs": [],
   "source": [
    "str1=\"Data Science Masters\""
   ]
  },
  {
   "cell_type": "code",
   "execution_count": 36,
   "id": "1d3027a2-668c-4f5b-98c4-2e193aee0d1c",
   "metadata": {},
   "outputs": [
    {
     "data": {
      "text/plain": [
       "'Science'"
      ]
     },
     "execution_count": 36,
     "metadata": {},
     "output_type": "execute_result"
    }
   ],
   "source": [
    "str1[5:12]"
   ]
  },
  {
   "cell_type": "code",
   "execution_count": 47,
   "id": "5ddba050-b105-47c1-aabb-e1c38834b18e",
   "metadata": {},
   "outputs": [
    {
     "data": {
      "text/plain": [
       "'ecneicS'"
      ]
     },
     "execution_count": 47,
     "metadata": {},
     "output_type": "execute_result"
    }
   ],
   "source": [
    "str1[-9:-16:-1]"
   ]
  },
  {
   "cell_type": "code",
   "execution_count": 48,
   "id": "bc7ad895-69e9-49d8-85e4-97d37ed82127",
   "metadata": {},
   "outputs": [
    {
     "data": {
      "text/plain": [
       "'ecneicS'"
      ]
     },
     "execution_count": 48,
     "metadata": {},
     "output_type": "execute_result"
    }
   ],
   "source": [
    "str1[11:4:-1]"
   ]
  },
  {
   "cell_type": "code",
   "execution_count": 49,
   "id": "83e9cfdf-0cfb-492d-8464-8204021ca3d3",
   "metadata": {},
   "outputs": [
    {
     "data": {
      "text/plain": [
       "9"
      ]
     },
     "execution_count": 49,
     "metadata": {},
     "output_type": "execute_result"
    }
   ],
   "source": [
    "str1.find('n')"
   ]
  },
  {
   "cell_type": "code",
   "execution_count": 51,
   "id": "64291706-e96f-445f-9507-19490d1c06c8",
   "metadata": {},
   "outputs": [
    {
     "data": {
      "text/plain": [
       "1"
      ]
     },
     "execution_count": 51,
     "metadata": {},
     "output_type": "execute_result"
    }
   ],
   "source": [
    "str1.find('a',1,10)"
   ]
  },
  {
   "cell_type": "code",
   "execution_count": 55,
   "id": "114f547e-71cc-40e7-9dd2-1284c615e197",
   "metadata": {},
   "outputs": [
    {
     "data": {
      "text/plain": [
       "2"
      ]
     },
     "execution_count": 55,
     "metadata": {},
     "output_type": "execute_result"
    }
   ],
   "source": [
    "str1.count(' ')"
   ]
  },
  {
   "cell_type": "code",
   "execution_count": 56,
   "id": "993f585a-bd38-4b3f-9a6b-86119d7717a2",
   "metadata": {},
   "outputs": [],
   "source": [
    "## string split function"
   ]
  },
  {
   "cell_type": "code",
   "execution_count": 58,
   "id": "559f6f92-8aa4-4947-8a5f-8921cc6214e0",
   "metadata": {},
   "outputs": [
    {
     "data": {
      "text/plain": [
       "['D', 't', ' Science M', 'sters']"
      ]
     },
     "execution_count": 58,
     "metadata": {},
     "output_type": "execute_result"
    }
   ],
   "source": [
    "str1.split('a')"
   ]
  },
  {
   "cell_type": "code",
   "execution_count": null,
   "id": "7e73a020-88e6-49e0-8005-3f634b5e12cf",
   "metadata": {},
   "outputs": [],
   "source": []
  },
  {
   "cell_type": "code",
   "execution_count": null,
   "id": "1190caa7-319d-41e8-8594-441805c90158",
   "metadata": {},
   "outputs": [],
   "source": []
  }
 ],
 "metadata": {
  "kernelspec": {
   "display_name": "Python 3 (ipykernel)",
   "language": "python",
   "name": "python3"
  },
  "language_info": {
   "codemirror_mode": {
    "name": "ipython",
    "version": 3
   },
   "file_extension": ".py",
   "mimetype": "text/x-python",
   "name": "python",
   "nbconvert_exporter": "python",
   "pygments_lexer": "ipython3",
   "version": "3.10.8"
  }
 },
 "nbformat": 4,
 "nbformat_minor": 5
}
