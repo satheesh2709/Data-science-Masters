{
 "cells": [
  {
   "cell_type": "markdown",
   "id": "37ab7ab0-1a16-444f-a664-5b487c1bb5f5",
   "metadata": {},
   "source": [
    "### Q1: What are the Probability Mass Function (PMF) and Probability Density Function (PDF)? Explain with an example\n",
    "\n",
    "#### A Probability Mass Function (PMF) is a function that gives the probability that a discrete random variable takes on a certain value. It is defined as the probability that the random variable X takes on the value x\n",
    "\n",
    "#### Probability Density Function (PDF) is a function that describes the relative likelihood of continuous random variables taking on a particular value. It is defined as the derivative of the cumulative distribution function"
   ]
  },
  {
   "cell_type": "markdown",
   "id": "07ded8cf-59c3-4809-84fe-bbd17ac54528",
   "metadata": {},
   "source": [
    "### Q2: What is Cumulative Density Function (CDF)? Explain with an example. Why CDF is used?\n",
    "\n",
    "#### A Cumulative Density Function (CDF) is a function that gives the probability that a random variable X is less than or equal to a certain value x\n",
    "\n",
    "#### The CDF is used to describe the probability distribution of a random variable, whether it is discrete or continuous. It provides a complete picture of the distribution of the variable, including information about the likelihood of the variable taking on specific values.\n",
    "\n",
    "#### The CDF tells us that the probability of getting 0 or 1 head in two coin tosses \n"
   ]
  },
  {
   "cell_type": "markdown",
   "id": "cb5f7cd0-78cc-448e-a104-4d67951ebd81",
   "metadata": {},
   "source": [
    "### Q3: What are some examples of situations where the normal distribution might be used as a model? Explain how the parameters of the normal distribution relate to the shape of the distribution\n",
    "\n",
    "1. Heights of adult males or females in a population.\n",
    "2. IQ scores of a population.\n",
    "3. Blood pressure levels of a population.\n",
    "4. Errors made by a machine when manufacturing a product.\n",
    "5. Test scores of students in a large class.\n",
    "\n"
   ]
  },
  {
   "cell_type": "markdown",
   "id": "da05cc91-e456-4f69-9aad-866629983f1a",
   "metadata": {},
   "source": [
    "### Q4: Explain the importance of Normal Distribution. Give a few real-life examples of Normal Distribution.\n",
    "\n",
    "1. It is a widely applicable model: The normal distribution can be used to model a variety of real-world phenomena, including measurements of physical and biological traits, test scores, and financial returns.\n",
    "\n",
    "2. It is well-understood and well-studied: The normal distribution has been extensively studied by statisticians and mathematicians, which means that its properties and characteristics are well-known and understood.\n",
    "\n",
    "3. It is easy to work with: The normal distribution has many convenient mathematical properties that make it easy to work with, including the central limit theorem, which states that the sum or average of many independent and identically distributed random variables tends to follow a normal distribution.\n",
    "\n",
    "#### examples:\n",
    "1. Heights of adult humans: The heights of adult humans tend to follow a normal distribution with a mean around 5'7\" (170 cm) for males and 5'3\" (160 cm) for females.\n",
    "\n",
    "2. IQ scores: IQ scores tend to follow a normal distribution with a mean of 100 and a standard deviation of 15.\n",
    "\n",
    "3. Blood pressure levels: Blood pressure levels in a population tend to follow a normal distribution with a mean of around 120/80 mmHg and a standard deviation of 10-15 mmHg."
   ]
  },
  {
   "cell_type": "markdown",
   "id": "f9b102ff-72e1-4d31-82c0-cf9b8c219297",
   "metadata": {},
   "source": [
    "### Q5: What is Bernaulli Distribution? Give an Example. What is the difference between Bernoulli Distribution and Binomial Distribution?\n",
    "\n",
    "#### The Bernoulli distribution is a discrete probability distribution that describes the outcome of a single binary experiment, such as a coin flip or a single trial of a success/failure experiment\n",
    "\n",
    "#### The main difference between the Bernoulli distribution and the binomial distribution is that the Bernoulli distribution describes the outcome of a single binary experiment, while the binomial distribution describes the outcome of a sequence of n independent and identically distributed binary experiments"
   ]
  },
  {
   "cell_type": "markdown",
   "id": "8b93c40c-7d96-4678-86ff-d7d41db855ca",
   "metadata": {},
   "source": [
    "### Q6. Consider a dataset with a mean of 50 and a standard deviation of 10. If we assume that the dataset is normally distributed, what is the probability that a randomly selected observation will be greater than 60? Use the appropriate formula and show your calculations.\n",
    "\n",
    "z = (60 - 50) / 10\n",
    "z = 1\n",
    "\n",
    "P(Z > 1) = 0.1587\n",
    "\n",
    "#### Therefore, the probability of selecting a value greater than 60 in this dataset is 15.87%."
   ]
  },
  {
   "cell_type": "markdown",
   "id": "9c66970c-1b95-47d4-9fae-6fe1f45653fd",
   "metadata": {},
   "source": [
    "### Q7: Explain uniform Distribution with an example.\n",
    "\n",
    "#### The uniform distribution is a continuous probability distribution that describes the likelihood of obtaining a value within a specific range, where each value in the range is equally likely to occur. This means that the probability density function (PDF) of the uniform distribution is constant within the range, and zero outside of it.\n"
   ]
  },
  {
   "cell_type": "markdown",
   "id": "907414b2-fa90-45b0-8487-b84de8ed701f",
   "metadata": {},
   "source": [
    "### Q8: What is the z score? State the importance of the z score\n",
    "\n",
    "#### The z-score, also known as the standard score, is a statistical measurement that represents the number of standard deviations a data point is away from the mean of a normal distribution. It is a dimensionless quantity that allows us to compare data points from different normal distributions on the same scale."
   ]
  },
  {
   "cell_type": "markdown",
   "id": "357f4b63-3d70-4078-b666-966817c7083b",
   "metadata": {},
   "source": [
    "### Q9: What is Central Limit Theorem? State the significance of the Central Limit Theorem.\n",
    "\n",
    "1. The Central Limit Theorem (CLT) is a fundamental concept in probability theory and statistics. \n",
    "2. It states that when independent random variables are added, their sum tends to follow a normal distribution, even if the individual variables themselves are not normally distributed. \n",
    "3. Specifically, the CLT states that the sum (or average) of a large number of independent random variables will tend towards a normal distribution, regardless of the distribution of the original variables."
   ]
  },
  {
   "cell_type": "markdown",
   "id": "1c0c6157-d12b-4941-afa6-11b1b48333f6",
   "metadata": {},
   "source": [
    "### Q10: State the assumptions of the Central Limit Theorem.\n",
    "\n",
    "1. Independence: The observations must be independent of each other. That is, the value of one observation should not influence the value of another.\n",
    "\n",
    "2. Sample Size: The sample size should be sufficiently large. While there is no hard and fast rule for how large the sample size should be, a general rule of thumb is that it should be at least 30. The larger the sample size, the more likely it is that the CLT will hold.\n",
    "\n",
    "3. Population Distribution: The population distribution should be either normal or approximately normal. However, even if the population distribution is not normal, the CLT can still hold true if the sample size is large enough.\n",
    "\n",
    "4. Finite Variance: The population variance should be finite. If the population variance is infinite, the CLT may not hold true."
   ]
  },
  {
   "cell_type": "code",
   "execution_count": null,
   "id": "e7806875-ef05-4a11-9eb4-237980fa337f",
   "metadata": {},
   "outputs": [],
   "source": []
  }
 ],
 "metadata": {
  "kernelspec": {
   "display_name": "Python 3 (ipykernel)",
   "language": "python",
   "name": "python3"
  },
  "language_info": {
   "codemirror_mode": {
    "name": "ipython",
    "version": 3
   },
   "file_extension": ".py",
   "mimetype": "text/x-python",
   "name": "python",
   "nbconvert_exporter": "python",
   "pygments_lexer": "ipython3",
   "version": "3.10.8"
  }
 },
 "nbformat": 4,
 "nbformat_minor": 5
}
