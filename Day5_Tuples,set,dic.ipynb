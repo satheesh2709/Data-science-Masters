{
 "cells": [
  {
   "cell_type": "markdown",
   "id": "cb1b2127-26bf-4baf-95ac-2a5ca0ef21a6",
   "metadata": {},
   "source": [
    "## Tuples\n",
    "able to store int complex number,boolean and string inside a tuple"
   ]
  },
  {
   "cell_type": "code",
   "execution_count": 1,
   "id": "ae7c6ad2-a268-4adb-a390-d34a458be04f",
   "metadata": {},
   "outputs": [],
   "source": [
    "t=()"
   ]
  },
  {
   "cell_type": "code",
   "execution_count": 2,
   "id": "c7ff316b-1504-43e6-9f7f-71851a42522e",
   "metadata": {},
   "outputs": [
    {
     "data": {
      "text/plain": [
       "tuple"
      ]
     },
     "execution_count": 2,
     "metadata": {},
     "output_type": "execute_result"
    }
   ],
   "source": [
    "type(t)"
   ]
  },
  {
   "cell_type": "code",
   "execution_count": 3,
   "id": "75ceadb1-996a-4e72-9ee8-c5a56b6c87f0",
   "metadata": {},
   "outputs": [],
   "source": [
    "## differene between tuple and list"
   ]
  },
  {
   "cell_type": "code",
   "execution_count": 5,
   "id": "6f951ebd-2d7a-4de7-9a6f-1d0e2146845f",
   "metadata": {},
   "outputs": [],
   "source": [
    "t1=(1,2,3,4,45,45.45,45+7j,\"Sat\",True)"
   ]
  },
  {
   "cell_type": "code",
   "execution_count": 6,
   "id": "22f5fc7f-2c3f-43c7-8534-c1c78b38d28c",
   "metadata": {},
   "outputs": [
    {
     "data": {
      "text/plain": [
       "(1, 2, 3, 4, 45, 45.45, (45+7j), 'Sat', True)"
      ]
     },
     "execution_count": 6,
     "metadata": {},
     "output_type": "execute_result"
    }
   ],
   "source": [
    "t1\n"
   ]
  },
  {
   "cell_type": "code",
   "execution_count": 7,
   "id": "ca5f32eb-451f-4420-9786-8cfbedf7130d",
   "metadata": {},
   "outputs": [
    {
     "data": {
      "text/plain": [
       "tuple"
      ]
     },
     "execution_count": 7,
     "metadata": {},
     "output_type": "execute_result"
    }
   ],
   "source": [
    "type(t1)"
   ]
  },
  {
   "cell_type": "code",
   "execution_count": 11,
   "id": "da2a7fbf-58a8-4e94-9915-c282820c6138",
   "metadata": {},
   "outputs": [
    {
     "data": {
      "text/plain": [
       "3"
      ]
     },
     "execution_count": 11,
     "metadata": {},
     "output_type": "execute_result"
    }
   ],
   "source": [
    "t1[2]\n",
    "## to extract the elements inside tuple"
   ]
  },
  {
   "cell_type": "code",
   "execution_count": 12,
   "id": "c50ccb24-2a22-4c5a-b29f-c7243a55292b",
   "metadata": {},
   "outputs": [
    {
     "data": {
      "text/plain": [
       "(True, 'Sat', (45+7j), 45.45, 45, 4, 3, 2, 1)"
      ]
     },
     "execution_count": 12,
     "metadata": {},
     "output_type": "execute_result"
    }
   ],
   "source": [
    "t1[::-1]"
   ]
  },
  {
   "cell_type": "code",
   "execution_count": 14,
   "id": "4ca5615f-e733-4aad-a05e-aa5e5e4d9f86",
   "metadata": {},
   "outputs": [
    {
     "data": {
      "text/plain": [
       "(1, 2, 3)"
      ]
     },
     "execution_count": 14,
     "metadata": {},
     "output_type": "execute_result"
    }
   ],
   "source": [
    "t1[0:3]"
   ]
  },
  {
   "cell_type": "code",
   "execution_count": 22,
   "id": "3a6fa26c-a574-44dc-b005-ece68e3f1c91",
   "metadata": {},
   "outputs": [
    {
     "data": {
      "text/plain": [
       "1"
      ]
     },
     "execution_count": 22,
     "metadata": {},
     "output_type": "execute_result"
    }
   ],
   "source": [
    "t1.count(4)"
   ]
  },
  {
   "cell_type": "code",
   "execution_count": 20,
   "id": "bebd05ab-0cc3-4da3-86be-ea4a3a2bb315",
   "metadata": {},
   "outputs": [
    {
     "data": {
      "text/plain": [
       "<function tuple.count(value, /)>"
      ]
     },
     "execution_count": 20,
     "metadata": {},
     "output_type": "execute_result"
    }
   ],
   "source": [
    "t2"
   ]
  },
  {
   "cell_type": "code",
   "execution_count": 23,
   "id": "a6b7fd84-7b25-4535-a474-b6eddbfc1454",
   "metadata": {},
   "outputs": [
    {
     "data": {
      "text/plain": [
       "3"
      ]
     },
     "execution_count": 23,
     "metadata": {},
     "output_type": "execute_result"
    }
   ],
   "source": [
    "t1.index(4)"
   ]
  },
  {
   "cell_type": "code",
   "execution_count": 24,
   "id": "7115bbf1-02e0-4206-bdab-c0d979e7fb60",
   "metadata": {},
   "outputs": [
    {
     "data": {
      "text/plain": [
       "(1, 2, 3, 4, 45, 45.45, (45+7j), 'Sat', True)"
      ]
     },
     "execution_count": 24,
     "metadata": {},
     "output_type": "execute_result"
    }
   ],
   "source": [
    "t1"
   ]
  },
  {
   "cell_type": "code",
   "execution_count": 25,
   "id": "7c2866d0-a464-4e59-b67b-9716350eace7",
   "metadata": {},
   "outputs": [
    {
     "data": {
      "text/plain": [
       "0"
      ]
     },
     "execution_count": 25,
     "metadata": {},
     "output_type": "execute_result"
    }
   ],
   "source": [
    "t1.index(True)"
   ]
  },
  {
   "cell_type": "code",
   "execution_count": 27,
   "id": "694f92c3-e947-4858-bff7-f8e5113e2df6",
   "metadata": {},
   "outputs": [
    {
     "data": {
      "text/plain": [
       "7"
      ]
     },
     "execution_count": 27,
     "metadata": {},
     "output_type": "execute_result"
    }
   ],
   "source": [
    "t1.index('Sat')"
   ]
  },
  {
   "cell_type": "code",
   "execution_count": 28,
   "id": "60107e0f-84e8-4643-8c63-a6bbc1b1667d",
   "metadata": {},
   "outputs": [
    {
     "data": {
      "text/plain": [
       "2"
      ]
     },
     "execution_count": 28,
     "metadata": {},
     "output_type": "execute_result"
    }
   ],
   "source": [
    "t1.count(True)"
   ]
  },
  {
   "cell_type": "markdown",
   "id": "4d66c7dd-bebb-4789-b128-05296e688bfb",
   "metadata": {},
   "source": [
    "## difference between tuples and list\n",
    "### 1. tuple is immutable and list is mutable\n",
    "### 2.  "
   ]
  },
  {
   "cell_type": "code",
   "execution_count": 29,
   "id": "35a3f04d-11f4-466e-bc5c-48dda88fea50",
   "metadata": {},
   "outputs": [],
   "source": [
    "l=[1,2,3,4]"
   ]
  },
  {
   "cell_type": "code",
   "execution_count": 30,
   "id": "32b7657d-6c7e-40f8-89d3-e804ff0a3994",
   "metadata": {},
   "outputs": [
    {
     "data": {
      "text/plain": [
       "list"
      ]
     },
     "execution_count": 30,
     "metadata": {},
     "output_type": "execute_result"
    }
   ],
   "source": [
    "type(l)"
   ]
  },
  {
   "cell_type": "code",
   "execution_count": 32,
   "id": "f3224937-2e76-4892-b429-d9dc51d704e2",
   "metadata": {},
   "outputs": [
    {
     "name": "stdout",
     "output_type": "stream",
     "text": [
      "1\n",
      "2\n",
      "3\n",
      "4\n",
      "45\n",
      "45.45\n",
      "(45+7j)\n",
      "Sat\n",
      "True\n"
     ]
    }
   ],
   "source": [
    "for i in t1:\n",
    "    print(i)\n",
    "    ## tuples can be iterated"
   ]
  },
  {
   "cell_type": "code",
   "execution_count": 33,
   "id": "89a11860-411e-405a-9be2-52589b131464",
   "metadata": {},
   "outputs": [
    {
     "name": "stdout",
     "output_type": "stream",
     "text": [
      "1 type[1]\n",
      "2 type[2]\n",
      "3 type[3]\n",
      "4 type[4]\n",
      "45 type[45]\n",
      "45.45 type[45.45]\n",
      "(45+7j) type[(45+7j)]\n",
      "Sat type['Sat']\n",
      "True type[True]\n"
     ]
    }
   ],
   "source": [
    "for i in t1:\n",
    "    print(i,type[i])"
   ]
  },
  {
   "cell_type": "code",
   "execution_count": 34,
   "id": "72112c11-e42e-403e-bf1e-dadf1bb85f31",
   "metadata": {},
   "outputs": [],
   "source": [
    "t2=(1,2,3,4,5)"
   ]
  },
  {
   "cell_type": "code",
   "execution_count": 36,
   "id": "498e5086-c1a5-42cf-84f7-f95912f87d9d",
   "metadata": {},
   "outputs": [
    {
     "data": {
      "text/plain": [
       "(1, 2, 3, 4, 5, 1, 2, 3, 4, 5, 1, 2, 3, 4, 5)"
      ]
     },
     "execution_count": 36,
     "metadata": {},
     "output_type": "execute_result"
    }
   ],
   "source": [
    "t2*3"
   ]
  },
  {
   "cell_type": "code",
   "execution_count": 37,
   "id": "876e1948-d932-4dad-9258-bc5ec713ff44",
   "metadata": {},
   "outputs": [
    {
     "data": {
      "text/plain": [
       "5"
      ]
     },
     "execution_count": 37,
     "metadata": {},
     "output_type": "execute_result"
    }
   ],
   "source": [
    "max(t2)"
   ]
  },
  {
   "cell_type": "code",
   "execution_count": 38,
   "id": "06d6c1e2-813c-4769-ba4f-a20f7f590534",
   "metadata": {},
   "outputs": [
    {
     "data": {
      "text/plain": [
       "1"
      ]
     },
     "execution_count": 38,
     "metadata": {},
     "output_type": "execute_result"
    }
   ],
   "source": [
    "min(t2)"
   ]
  },
  {
   "cell_type": "markdown",
   "id": "aea13acc-6dcf-4dd9-b1b1-a5282642c505",
   "metadata": {},
   "source": [
    "#### tuples are used in place where the data should not be changed by anyone at any point of time"
   ]
  },
  {
   "cell_type": "code",
   "execution_count": 39,
   "id": "d2bb7e64-882b-447c-8cc2-ddee5547b7c4",
   "metadata": {},
   "outputs": [],
   "source": [
    "## tuples inside tuples\n",
    "t1=(1,2,3,4)\n",
    "t2=(4,5,6,7,8)"
   ]
  },
  {
   "cell_type": "code",
   "execution_count": 40,
   "id": "564c3a18-238e-45bf-8a3e-632240483dfd",
   "metadata": {},
   "outputs": [],
   "source": [
    "t3=(t1,t2)"
   ]
  },
  {
   "cell_type": "code",
   "execution_count": 41,
   "id": "a3e13939-9f46-4396-8903-e478df98eaa3",
   "metadata": {},
   "outputs": [
    {
     "data": {
      "text/plain": [
       "((1, 2, 3, 4), (4, 5, 6, 7, 8))"
      ]
     },
     "execution_count": 41,
     "metadata": {},
     "output_type": "execute_result"
    }
   ],
   "source": [
    "t3"
   ]
  },
  {
   "cell_type": "code",
   "execution_count": 47,
   "id": "09421939-f80f-4ddd-93d8-33cb6327595d",
   "metadata": {},
   "outputs": [],
   "source": [
    "t4=((1,2,3,4),[4,5,6,7,7])"
   ]
  },
  {
   "cell_type": "code",
   "execution_count": 43,
   "id": "9900b885-48c3-44ca-812a-c6ad16ab3d53",
   "metadata": {},
   "outputs": [
    {
     "data": {
      "text/plain": [
       "((1, 2, 3, 4), [4, 5, 6, 7, 7])"
      ]
     },
     "execution_count": 43,
     "metadata": {},
     "output_type": "execute_result"
    }
   ],
   "source": [
    "t4"
   ]
  },
  {
   "cell_type": "code",
   "execution_count": 48,
   "id": "ff134934-85f3-482e-9ef3-e02f9efa4341",
   "metadata": {},
   "outputs": [],
   "source": [
    "del t4\n",
    "## a tuple can be deleted entirely but an index in a tuple cannot be deleted"
   ]
  },
  {
   "cell_type": "code",
   "execution_count": 45,
   "id": "7694098c-3aa6-442a-98b0-11237f11049f",
   "metadata": {},
   "outputs": [
    {
     "ename": "NameError",
     "evalue": "name 't4' is not defined",
     "output_type": "error",
     "traceback": [
      "\u001b[0;31m---------------------------------------------------------------------------\u001b[0m",
      "\u001b[0;31mNameError\u001b[0m                                 Traceback (most recent call last)",
      "Cell \u001b[0;32mIn[45], line 1\u001b[0m\n\u001b[0;32m----> 1\u001b[0m \u001b[43mt4\u001b[49m\n",
      "\u001b[0;31mNameError\u001b[0m: name 't4' is not defined"
     ]
    }
   ],
   "source": [
    "t4"
   ]
  },
  {
   "cell_type": "code",
   "execution_count": 50,
   "id": "b6988516-09a1-454e-a01d-116410987892",
   "metadata": {},
   "outputs": [
    {
     "data": {
      "text/plain": [
       "5"
      ]
     },
     "execution_count": 50,
     "metadata": {},
     "output_type": "execute_result"
    }
   ],
   "source": [
    "len(t2)"
   ]
  },
  {
   "cell_type": "code",
   "execution_count": 51,
   "id": "91223353-b68e-44d1-adfe-c66ded3be82b",
   "metadata": {},
   "outputs": [
    {
     "data": {
      "text/plain": [
       "(1, 2, 3, 4)"
      ]
     },
     "execution_count": 51,
     "metadata": {},
     "output_type": "execute_result"
    }
   ],
   "source": [
    "t1"
   ]
  },
  {
   "cell_type": "code",
   "execution_count": 52,
   "id": "771b00ae-19f0-4540-b2f8-10df191b0082",
   "metadata": {},
   "outputs": [
    {
     "data": {
      "text/plain": [
       "False"
      ]
     },
     "execution_count": 52,
     "metadata": {},
     "output_type": "execute_result"
    }
   ],
   "source": [
    "'sudh' in t1"
   ]
  },
  {
   "cell_type": "code",
   "execution_count": 53,
   "id": "550f7ef0-1dc5-4c8f-8fb4-3cada107810c",
   "metadata": {},
   "outputs": [
    {
     "data": {
      "text/plain": [
       "True"
      ]
     },
     "execution_count": 53,
     "metadata": {},
     "output_type": "execute_result"
    }
   ],
   "source": [
    "2 in t1"
   ]
  },
  {
   "cell_type": "markdown",
   "id": "d421d3ea-0da5-42b7-9215-2e051675cd2e",
   "metadata": {},
   "source": [
    "## SET"
   ]
  },
  {
   "cell_type": "code",
   "execution_count": 58,
   "id": "f2bec569-0329-48f1-99cd-0423ed41cd0f",
   "metadata": {},
   "outputs": [],
   "source": [
    "s={}\n",
    "## black variable as a dictionary is parantesis"
   ]
  },
  {
   "cell_type": "code",
   "execution_count": 55,
   "id": "cbcba5c9-b620-440f-806b-46566fb914fc",
   "metadata": {},
   "outputs": [
    {
     "data": {
      "text/plain": [
       "dict"
      ]
     },
     "execution_count": 55,
     "metadata": {},
     "output_type": "execute_result"
    }
   ],
   "source": [
    "type(s)"
   ]
  },
  {
   "cell_type": "code",
   "execution_count": 59,
   "id": "6c33fcb9-825d-422e-aa64-03e9fe927153",
   "metadata": {},
   "outputs": [],
   "source": [
    "s1={1,2,3,4,5}\n",
    "## if there are data insdie a parathesis python understood that as set"
   ]
  },
  {
   "cell_type": "code",
   "execution_count": 57,
   "id": "4384b9fe-c22f-4aa4-81ce-51f53ba375eb",
   "metadata": {},
   "outputs": [
    {
     "data": {
      "text/plain": [
       "set"
      ]
     },
     "execution_count": 57,
     "metadata": {},
     "output_type": "execute_result"
    }
   ],
   "source": [
    "type(s1)"
   ]
  },
  {
   "cell_type": "code",
   "execution_count": 60,
   "id": "d8bd418e-8328-4078-b925-a6f994f50fd6",
   "metadata": {},
   "outputs": [],
   "source": [
    "s2={1,1,1,2,2,2,2,3,3,3,3,45,45,6,6}"
   ]
  },
  {
   "cell_type": "code",
   "execution_count": 61,
   "id": "fddafc3e-e1ef-4d5f-88a2-29f1d85b5ba0",
   "metadata": {},
   "outputs": [
    {
     "data": {
      "text/plain": [
       "{1, 2, 3, 6, 45}"
      ]
     },
     "execution_count": 61,
     "metadata": {},
     "output_type": "execute_result"
    }
   ],
   "source": [
    "s2"
   ]
  },
  {
   "cell_type": "markdown",
   "id": "63cd1b1e-5395-4364-97df-7cf1c3539e68",
   "metadata": {},
   "source": [
    "## set removes all duplicates "
   ]
  },
  {
   "cell_type": "code",
   "execution_count": 64,
   "id": "278bc93f-a0b9-44ae-8a56-8c8069977a32",
   "metadata": {},
   "outputs": [],
   "source": [
    "## convert set into list\n",
    "s3=list(s2)"
   ]
  },
  {
   "cell_type": "code",
   "execution_count": 65,
   "id": "98dd7c39-390d-4b08-b303-7d64ec2f052d",
   "metadata": {},
   "outputs": [
    {
     "data": {
      "text/plain": [
       "[1, 2, 3, 6, 45]"
      ]
     },
     "execution_count": 65,
     "metadata": {},
     "output_type": "execute_result"
    }
   ],
   "source": [
    "s3"
   ]
  },
  {
   "cell_type": "code",
   "execution_count": 66,
   "id": "bc8fdd8e-713f-416e-bba8-95a8637ab67d",
   "metadata": {},
   "outputs": [
    {
     "data": {
      "text/plain": [
       "list"
      ]
     },
     "execution_count": 66,
     "metadata": {},
     "output_type": "execute_result"
    }
   ],
   "source": [
    "type(s3)"
   ]
  },
  {
   "cell_type": "code",
   "execution_count": 67,
   "id": "968d1b40-a7c2-4bbf-a1e9-4b69dc388fcb",
   "metadata": {},
   "outputs": [],
   "source": [
    "s4 = tuple(s3)"
   ]
  },
  {
   "cell_type": "code",
   "execution_count": 68,
   "id": "5bd0888e-16e1-41b3-add3-33e425246ed6",
   "metadata": {},
   "outputs": [
    {
     "data": {
      "text/plain": [
       "(1, 2, 3, 6, 45)"
      ]
     },
     "execution_count": 68,
     "metadata": {},
     "output_type": "execute_result"
    }
   ],
   "source": [
    "type(s4)\n",
    "s4"
   ]
  },
  {
   "cell_type": "code",
   "execution_count": 69,
   "id": "b97be0fe-208f-4e9d-b442-873b0152bfef",
   "metadata": {},
   "outputs": [
    {
     "data": {
      "text/plain": [
       "tuple"
      ]
     },
     "execution_count": 69,
     "metadata": {},
     "output_type": "execute_result"
    }
   ],
   "source": [
    "type(s4)"
   ]
  },
  {
   "cell_type": "code",
   "execution_count": 72,
   "id": "6a39f3f1-a88e-48c3-b086-24475f5fbdd1",
   "metadata": {},
   "outputs": [],
   "source": [
    "s5=set(s4)"
   ]
  },
  {
   "cell_type": "code",
   "execution_count": 73,
   "id": "2366c726-568f-4773-bc13-a56e2462ba5a",
   "metadata": {},
   "outputs": [
    {
     "data": {
      "text/plain": [
       "set"
      ]
     },
     "execution_count": 73,
     "metadata": {},
     "output_type": "execute_result"
    }
   ],
   "source": [
    "type(s5)"
   ]
  },
  {
   "cell_type": "code",
   "execution_count": 74,
   "id": "fb9ed464-ffe1-478d-a787-c190e3864a14",
   "metadata": {},
   "outputs": [
    {
     "data": {
      "text/plain": [
       "{1, 2, 3, 6, 45}"
      ]
     },
     "execution_count": 74,
     "metadata": {},
     "output_type": "execute_result"
    }
   ],
   "source": [
    "s5"
   ]
  },
  {
   "cell_type": "code",
   "execution_count": 75,
   "id": "50ceb5c0-910f-4096-84c9-c0f43044038d",
   "metadata": {},
   "outputs": [
    {
     "data": {
      "text/plain": [
       "(1, 2, 3, 6, 45)"
      ]
     },
     "execution_count": 75,
     "metadata": {},
     "output_type": "execute_result"
    }
   ],
   "source": [
    "s4"
   ]
  },
  {
   "cell_type": "code",
   "execution_count": 76,
   "id": "e0d114a2-557d-4b38-8421-047839d788d3",
   "metadata": {},
   "outputs": [
    {
     "data": {
      "text/plain": [
       "tuple"
      ]
     },
     "execution_count": 76,
     "metadata": {},
     "output_type": "execute_result"
    }
   ],
   "source": [
    "type(s4)"
   ]
  },
  {
   "cell_type": "code",
   "execution_count": 78,
   "id": "7515e316-8991-42bb-b642-96acab9d25e1",
   "metadata": {},
   "outputs": [
    {
     "ename": "TypeError",
     "evalue": "unhashable type: 'list'",
     "output_type": "error",
     "traceback": [
      "\u001b[0;31m---------------------------------------------------------------------------\u001b[0m",
      "\u001b[0;31mTypeError\u001b[0m                                 Traceback (most recent call last)",
      "Cell \u001b[0;32mIn[78], line 2\u001b[0m\n\u001b[1;32m      1\u001b[0m \u001b[38;5;66;03m## set will not allow list to be stored inside its data but allows tuples to be stored inside various other type of data\u001b[39;00m\n\u001b[0;32m----> 2\u001b[0m s6\u001b[38;5;241m=\u001b[39m{\u001b[38;5;241m1\u001b[39m,\u001b[38;5;241m23\u001b[39m,\u001b[38;5;241m4\u001b[39m,\u001b[38;5;241m5\u001b[39m,[\u001b[38;5;241m1\u001b[39m,\u001b[38;5;241m2\u001b[39m,\u001b[38;5;241m3\u001b[39m,\u001b[38;5;241m4\u001b[39m,\u001b[38;5;241m5\u001b[39m]}\n",
      "\u001b[0;31mTypeError\u001b[0m: unhashable type: 'list'"
     ]
    }
   ],
   "source": [
    "## set will not allow list to be stored inside its data but allows tuples to be stored inside various other type of data\n",
    "s6={1,23,4,5,[1,2,3,4,5]}"
   ]
  },
  {
   "cell_type": "code",
   "execution_count": 79,
   "id": "37ebe3fb-8ff9-4a14-9a8a-61939261d473",
   "metadata": {},
   "outputs": [],
   "source": [
    "s7={1,2,3,4,5,(1,2,3,4)}"
   ]
  },
  {
   "cell_type": "code",
   "execution_count": 80,
   "id": "6209e99a-e76b-4265-82fc-8128345a4d9d",
   "metadata": {},
   "outputs": [
    {
     "data": {
      "text/plain": [
       "{(1, 2, 3, 4), 1, 2, 3, 4, 5}"
      ]
     },
     "execution_count": 80,
     "metadata": {},
     "output_type": "execute_result"
    }
   ],
   "source": [
    "s7"
   ]
  },
  {
   "cell_type": "code",
   "execution_count": 81,
   "id": "977fe4b2-c077-483a-bb78-eed8efbebd56",
   "metadata": {},
   "outputs": [],
   "source": [
    "s8={'sat','Sat',1,2,3,4,5}"
   ]
  },
  {
   "cell_type": "code",
   "execution_count": 82,
   "id": "3e788eec-fdb8-4e30-a288-ba30f55cf936",
   "metadata": {},
   "outputs": [
    {
     "data": {
      "text/plain": [
       "{1, 2, 3, 4, 5, 'Sat', 'sat'}"
      ]
     },
     "execution_count": 82,
     "metadata": {},
     "output_type": "execute_result"
    }
   ],
   "source": [
    "s8"
   ]
  },
  {
   "cell_type": "code",
   "execution_count": 83,
   "id": "2383b42b-8249-46b3-bec8-8e4c56392677",
   "metadata": {},
   "outputs": [],
   "source": [
    "s9={'sat','sat',1,2,3,4,5}"
   ]
  },
  {
   "cell_type": "code",
   "execution_count": 84,
   "id": "28ee1d18-7b40-4622-be6a-174cfed60ace",
   "metadata": {},
   "outputs": [
    {
     "data": {
      "text/plain": [
       "{1, 2, 3, 4, 5, 'sat'}"
      ]
     },
     "execution_count": 84,
     "metadata": {},
     "output_type": "execute_result"
    }
   ],
   "source": [
    "s9"
   ]
  },
  {
   "cell_type": "code",
   "execution_count": 86,
   "id": "f6531dd6-a564-498a-aa2d-5e53574e53f8",
   "metadata": {},
   "outputs": [
    {
     "ename": "TypeError",
     "evalue": "'set' object is not subscriptable",
     "output_type": "error",
     "traceback": [
      "\u001b[0;31m---------------------------------------------------------------------------\u001b[0m",
      "\u001b[0;31mTypeError\u001b[0m                                 Traceback (most recent call last)",
      "Cell \u001b[0;32mIn[86], line 1\u001b[0m\n\u001b[0;32m----> 1\u001b[0m \u001b[43ms9\u001b[49m\u001b[43m[\u001b[49m\u001b[38;5;241;43m1\u001b[39;49m\u001b[43m]\u001b[49m\n\u001b[1;32m      2\u001b[0m \u001b[38;5;66;03m## set does not allow slicing because it creates a hashing save point\u001b[39;00m\n",
      "\u001b[0;31mTypeError\u001b[0m: 'set' object is not subscriptable"
     ]
    }
   ],
   "source": [
    "s9[1]\n",
    "## set does not allow slicing because it creates a hashing save point"
   ]
  },
  {
   "cell_type": "code",
   "execution_count": 87,
   "id": "1aadb504-08e0-4307-bbb4-d0357bb463f2",
   "metadata": {},
   "outputs": [
    {
     "name": "stdout",
     "output_type": "stream",
     "text": [
      "1\n",
      "2\n",
      "3\n",
      "4\n",
      "5\n",
      "sat\n"
     ]
    }
   ],
   "source": [
    "for i in s9:\n",
    "    print(i)"
   ]
  },
  {
   "cell_type": "code",
   "execution_count": 88,
   "id": "8744970c-ad9b-4f4a-873e-a02931dbc639",
   "metadata": {},
   "outputs": [],
   "source": [
    "s9.add(10)"
   ]
  },
  {
   "cell_type": "code",
   "execution_count": 89,
   "id": "0c0168c2-6870-4eed-8d73-314e4e197c1a",
   "metadata": {},
   "outputs": [
    {
     "data": {
      "text/plain": [
       "{1, 10, 2, 3, 4, 5, 'sat'}"
      ]
     },
     "execution_count": 89,
     "metadata": {},
     "output_type": "execute_result"
    }
   ],
   "source": [
    "s9"
   ]
  },
  {
   "cell_type": "code",
   "execution_count": 90,
   "id": "3c8c2e94-8119-4c7d-a821-00b7bbd0cce0",
   "metadata": {},
   "outputs": [
    {
     "data": {
      "text/plain": [
       "7"
      ]
     },
     "execution_count": 90,
     "metadata": {},
     "output_type": "execute_result"
    }
   ],
   "source": [
    "len(s9)"
   ]
  },
  {
   "cell_type": "code",
   "execution_count": 91,
   "id": "743d187d-b3fe-4039-b134-dda626ae36d2",
   "metadata": {},
   "outputs": [
    {
     "data": {
      "text/plain": [
       "1"
      ]
     },
     "execution_count": 91,
     "metadata": {},
     "output_type": "execute_result"
    }
   ],
   "source": [
    "s9.pop()"
   ]
  },
  {
   "cell_type": "code",
   "execution_count": 92,
   "id": "6af8db04-e685-4837-adea-0986987e7008",
   "metadata": {},
   "outputs": [
    {
     "ename": "NameError",
     "evalue": "name 'sat' is not defined",
     "output_type": "error",
     "traceback": [
      "\u001b[0;31m---------------------------------------------------------------------------\u001b[0m",
      "\u001b[0;31mNameError\u001b[0m                                 Traceback (most recent call last)",
      "Cell \u001b[0;32mIn[92], line 1\u001b[0m\n\u001b[0;32m----> 1\u001b[0m \u001b[43msat\u001b[49m\n",
      "\u001b[0;31mNameError\u001b[0m: name 'sat' is not defined"
     ]
    }
   ],
   "source": [
    "sat"
   ]
  },
  {
   "cell_type": "code",
   "execution_count": 93,
   "id": "56329de6-ed85-48d7-ab47-a2e1e5498eab",
   "metadata": {},
   "outputs": [
    {
     "data": {
      "text/plain": [
       "{10, 2, 3, 4, 5, 'sat'}"
      ]
     },
     "execution_count": 93,
     "metadata": {},
     "output_type": "execute_result"
    }
   ],
   "source": [
    "s9\n"
   ]
  },
  {
   "cell_type": "code",
   "execution_count": 94,
   "id": "af4467df-f527-4e2a-908d-5c33a6c37149",
   "metadata": {},
   "outputs": [],
   "source": [
    "## POPPING STARTS FROM LOWER HASING TO UPPER HASHING"
   ]
  },
  {
   "cell_type": "code",
   "execution_count": 95,
   "id": "f0340af5-3b2b-43a2-a1ed-a7509e773863",
   "metadata": {},
   "outputs": [],
   "source": [
    "s9.clear()"
   ]
  },
  {
   "cell_type": "code",
   "execution_count": 96,
   "id": "f49f7ab5-eac1-4fb8-b488-28cdff2f6f79",
   "metadata": {},
   "outputs": [
    {
     "data": {
      "text/plain": [
       "set()"
      ]
     },
     "execution_count": 96,
     "metadata": {},
     "output_type": "execute_result"
    }
   ],
   "source": [
    "s9"
   ]
  },
  {
   "cell_type": "code",
   "execution_count": 97,
   "id": "7df08cf6-a147-444e-8fc0-3dada12b5160",
   "metadata": {},
   "outputs": [],
   "source": [
    "s10={1,2,3,4}\n",
    "s11={1,2,3,5}"
   ]
  },
  {
   "cell_type": "code",
   "execution_count": 99,
   "id": "5ff7d706-eee0-4547-b3be-2df38df8ebb5",
   "metadata": {},
   "outputs": [
    {
     "data": {
      "text/plain": [
       "{4}"
      ]
     },
     "execution_count": 99,
     "metadata": {},
     "output_type": "execute_result"
    }
   ],
   "source": [
    "s10.difference(s11)"
   ]
  },
  {
   "cell_type": "code",
   "execution_count": 100,
   "id": "5ff95c52-4f35-436f-8fa0-5126639d600f",
   "metadata": {},
   "outputs": [
    {
     "data": {
      "text/plain": [
       "{5}"
      ]
     },
     "execution_count": 100,
     "metadata": {},
     "output_type": "execute_result"
    }
   ],
   "source": [
    "s11.difference(s10)"
   ]
  },
  {
   "cell_type": "markdown",
   "id": "43c81924-1830-443a-b7ee-ec6df15226ad",
   "metadata": {},
   "source": [
    "## Dictionary\n",
    "### data to be stored in a key and value format\n",
    "### key and value can be of any data type\n",
    "### spacial case vharater are not allowed as a key \n",
    "### list cannot be used as a key\n",
    "### tuples can be used a key\n",
    "### set cannot used as a key\n",
    "### dict cannot used as a key\n",
    "### values can be of multiple data\n",
    "### "
   ]
  },
  {
   "cell_type": "code",
   "execution_count": 101,
   "id": "bfc809b9-b2eb-4996-b626-5410e933acdd",
   "metadata": {},
   "outputs": [],
   "source": [
    "d={}"
   ]
  },
  {
   "cell_type": "code",
   "execution_count": 102,
   "id": "ccd5307b-57de-4f3a-b556-5000ea3731e8",
   "metadata": {},
   "outputs": [
    {
     "data": {
      "text/plain": [
       "dict"
      ]
     },
     "execution_count": 102,
     "metadata": {},
     "output_type": "execute_result"
    }
   ],
   "source": [
    "type(d)"
   ]
  },
  {
   "cell_type": "code",
   "execution_count": 103,
   "id": "9657f9e1-6c72-43e8-acac-2f39f7fb5726",
   "metadata": {},
   "outputs": [],
   "source": [
    "d1={\"name\":\"sudh\",'mail_id':'satheesh@gmail.com',\"num\":123456}"
   ]
  },
  {
   "cell_type": "code",
   "execution_count": 104,
   "id": "ed4abe7e-6ddb-4962-8bf6-570bfdc6b87f",
   "metadata": {},
   "outputs": [
    {
     "data": {
      "text/plain": [
       "dict"
      ]
     },
     "execution_count": 104,
     "metadata": {},
     "output_type": "execute_result"
    }
   ],
   "source": [
    "type(d1)"
   ]
  },
  {
   "cell_type": "code",
   "execution_count": 105,
   "id": "68d22889-c021-417d-868a-5e25cf582725",
   "metadata": {},
   "outputs": [
    {
     "data": {
      "text/plain": [
       "{'name': 'sudh', 'mail_id': 'satheesh@gmail.com', 'num': 123456}"
      ]
     },
     "execution_count": 105,
     "metadata": {},
     "output_type": "execute_result"
    }
   ],
   "source": [
    "d1"
   ]
  },
  {
   "cell_type": "code",
   "execution_count": 107,
   "id": "b5007ce5-29c8-44be-9237-c6ecc8cbc2fb",
   "metadata": {},
   "outputs": [],
   "source": [
    "d2={'name':'such','name':'sudhansu'}\n",
    "## second key and value is taken preference\n",
    "## key name should be unique\n",
    "# "
   ]
  },
  {
   "cell_type": "code",
   "execution_count": 108,
   "id": "e6c85b20-2656-4721-99f5-78f816c5e137",
   "metadata": {},
   "outputs": [
    {
     "data": {
      "text/plain": [
       "{'name': 'sudhansu'}"
      ]
     },
     "execution_count": 108,
     "metadata": {},
     "output_type": "execute_result"
    }
   ],
   "source": [
    "d2"
   ]
  },
  {
   "cell_type": "code",
   "execution_count": 109,
   "id": "e31551ce-d1ef-4556-872a-12b9785744e4",
   "metadata": {},
   "outputs": [],
   "source": [
    "d3={12345: \"adc\"}"
   ]
  },
  {
   "cell_type": "code",
   "execution_count": 110,
   "id": "e91568ea-0fec-4c81-b291-604354025cfd",
   "metadata": {},
   "outputs": [
    {
     "data": {
      "text/plain": [
       "{12345: 'adc'}"
      ]
     },
     "execution_count": 110,
     "metadata": {},
     "output_type": "execute_result"
    }
   ],
   "source": [
    "d3"
   ]
  },
  {
   "cell_type": "code",
   "execution_count": 111,
   "id": "b68ea83c-e640-4efc-87f1-3df7c7b36f0f",
   "metadata": {},
   "outputs": [],
   "source": [
    "d5={True:'abc'}"
   ]
  },
  {
   "cell_type": "code",
   "execution_count": 112,
   "id": "261435fe-60d5-49f3-8ac7-02e7de5d38d2",
   "metadata": {},
   "outputs": [
    {
     "ename": "SyntaxError",
     "evalue": "invalid syntax (1230349419.py, line 1)",
     "output_type": "error",
     "traceback": [
      "\u001b[0;36m  Cell \u001b[0;32mIn[112], line 1\u001b[0;36m\u001b[0m\n\u001b[0;31m    d6={@:'adc'}\u001b[0m\n\u001b[0m        ^\u001b[0m\n\u001b[0;31mSyntaxError\u001b[0m\u001b[0;31m:\u001b[0m invalid syntax\n"
     ]
    }
   ],
   "source": [
    "d6={@:'adc'}"
   ]
  },
  {
   "cell_type": "code",
   "execution_count": 113,
   "id": "8e02a070-cb5b-4b50-bd74-c00dd110c049",
   "metadata": {},
   "outputs": [
    {
     "ename": "TypeError",
     "evalue": "unhashable type: 'list'",
     "output_type": "error",
     "traceback": [
      "\u001b[0;31m---------------------------------------------------------------------------\u001b[0m",
      "\u001b[0;31mTypeError\u001b[0m                                 Traceback (most recent call last)",
      "Cell \u001b[0;32mIn[113], line 1\u001b[0m\n\u001b[0;32m----> 1\u001b[0m d7\u001b[38;5;241m=\u001b[39m{[\u001b[38;5;241m1\u001b[39m,\u001b[38;5;241m2\u001b[39m,\u001b[38;5;241m3\u001b[39m]:\u001b[38;5;124m'\u001b[39m\u001b[38;5;124mabc\u001b[39m\u001b[38;5;124m'\u001b[39m}\n",
      "\u001b[0;31mTypeError\u001b[0m: unhashable type: 'list'"
     ]
    }
   ],
   "source": [
    "d7={[1,2,3]:'abc'}"
   ]
  },
  {
   "cell_type": "code",
   "execution_count": 114,
   "id": "4cbb6d82-8942-4222-a84e-6ad3b0325db1",
   "metadata": {},
   "outputs": [],
   "source": [
    "d8={(1,2,3):'abc'}"
   ]
  },
  {
   "cell_type": "code",
   "execution_count": 115,
   "id": "42725042-c760-446e-b6a9-2e95961bb9d0",
   "metadata": {},
   "outputs": [
    {
     "ename": "TypeError",
     "evalue": "unhashable type: 'set'",
     "output_type": "error",
     "traceback": [
      "\u001b[0;31m---------------------------------------------------------------------------\u001b[0m",
      "\u001b[0;31mTypeError\u001b[0m                                 Traceback (most recent call last)",
      "Cell \u001b[0;32mIn[115], line 1\u001b[0m\n\u001b[0;32m----> 1\u001b[0m d9\u001b[38;5;241m=\u001b[39m{{\u001b[38;5;241m1\u001b[39m,\u001b[38;5;241m2\u001b[39m,\u001b[38;5;241m3\u001b[39m}:\u001b[38;5;124m'\u001b[39m\u001b[38;5;124mabc\u001b[39m\u001b[38;5;124m'\u001b[39m}\n",
      "\u001b[0;31mTypeError\u001b[0m: unhashable type: 'set'"
     ]
    }
   ],
   "source": [
    "d9={{1,2,3}:'abc'}"
   ]
  },
  {
   "cell_type": "code",
   "execution_count": 116,
   "id": "3bc6f401-bfda-43ed-9709-180551c1f75a",
   "metadata": {},
   "outputs": [
    {
     "ename": "TypeError",
     "evalue": "unhashable type: 'dict'",
     "output_type": "error",
     "traceback": [
      "\u001b[0;31m---------------------------------------------------------------------------\u001b[0m",
      "\u001b[0;31mTypeError\u001b[0m                                 Traceback (most recent call last)",
      "Cell \u001b[0;32mIn[116], line 1\u001b[0m\n\u001b[0;32m----> 1\u001b[0m d10\u001b[38;5;241m=\u001b[39m{{\u001b[38;5;124m'\u001b[39m\u001b[38;5;124mkey\u001b[39m\u001b[38;5;124m'\u001b[39m:\u001b[38;5;241m123\u001b[39m}:\u001b[38;5;124m'\u001b[39m\u001b[38;5;124mabc\u001b[39m\u001b[38;5;124m'\u001b[39m}\n",
      "\u001b[0;31mTypeError\u001b[0m: unhashable type: 'dict'"
     ]
    }
   ],
   "source": [
    "d10={{'key':123}:'abc'}"
   ]
  },
  {
   "cell_type": "code",
   "execution_count": 117,
   "id": "4a3dc6e7-5a13-4fd2-9e8f-45bb0c0fb7e0",
   "metadata": {},
   "outputs": [],
   "source": [
    "d11={'course':['data sciecen master','web dev','java with dsa and system desing']}"
   ]
  },
  {
   "cell_type": "code",
   "execution_count": 118,
   "id": "8d390512-6db6-4aaf-9c53-0953d89d3c26",
   "metadata": {},
   "outputs": [
    {
     "data": {
      "text/plain": [
       "{'course': ['data sciecen master',\n",
       "  'web dev',\n",
       "  'java with dsa and system desing']}"
      ]
     },
     "execution_count": 118,
     "metadata": {},
     "output_type": "execute_result"
    }
   ],
   "source": [
    "d11"
   ]
  },
  {
   "cell_type": "code",
   "execution_count": 119,
   "id": "a92e8e85-0856-4228-81e5-e1b05005dd35",
   "metadata": {},
   "outputs": [],
   "source": [
    "d12={'key':(1,2,3,4,5)}"
   ]
  },
  {
   "cell_type": "code",
   "execution_count": 120,
   "id": "77d29599-9e69-4928-839d-aa7828edadff",
   "metadata": {},
   "outputs": [
    {
     "data": {
      "text/plain": [
       "{'key': (1, 2, 3, 4, 5)}"
      ]
     },
     "execution_count": 120,
     "metadata": {},
     "output_type": "execute_result"
    }
   ],
   "source": [
    "d12"
   ]
  },
  {
   "cell_type": "code",
   "execution_count": 121,
   "id": "3aca3265-7c4b-4888-9731-91c2c821f0c6",
   "metadata": {},
   "outputs": [],
   "source": [
    "d13={\"key\":{1,2,3,4}}"
   ]
  },
  {
   "cell_type": "code",
   "execution_count": 122,
   "id": "2e21e87c-9cc3-445b-95f7-c4c74057c490",
   "metadata": {},
   "outputs": [
    {
     "data": {
      "text/plain": [
       "{'key': {1, 2, 3, 4}}"
      ]
     },
     "execution_count": 122,
     "metadata": {},
     "output_type": "execute_result"
    }
   ],
   "source": [
    "d13"
   ]
  },
  {
   "cell_type": "code",
   "execution_count": 125,
   "id": "e2ce039e-2080-44ce-90f3-6d51b3360a65",
   "metadata": {},
   "outputs": [],
   "source": [
    "d14={'key':{'name':'sat','class':'dsm'}}"
   ]
  },
  {
   "cell_type": "code",
   "execution_count": 126,
   "id": "b376e7e7-05a5-4a02-848c-92061d2472a4",
   "metadata": {},
   "outputs": [
    {
     "data": {
      "text/plain": [
       "{'key': {'name': 'sat', 'class': 'dsm'}}"
      ]
     },
     "execution_count": 126,
     "metadata": {},
     "output_type": "execute_result"
    }
   ],
   "source": [
    "d14"
   ]
  },
  {
   "cell_type": "code",
   "execution_count": 135,
   "id": "b1d5956d-1884-4259-944e-b9f89ef0c9f5",
   "metadata": {},
   "outputs": [],
   "source": [
    "d15={'batch_name':['Data science masters','web dev','JDS'],'START_DATE':(28,14,21),'mentor_name':{'krish_naik','sudhansu','hitesh','naveen'}}"
   ]
  },
  {
   "cell_type": "code",
   "execution_count": 129,
   "id": "f993589f-8fcb-4272-bcad-7901d919aba6",
   "metadata": {},
   "outputs": [
    {
     "data": {
      "text/plain": [
       "{'batch_name': ['Data science masters', 'web dev', 'JDS'],\n",
       " 'START_DATE': (28, 14, 21),\n",
       " 'mentor_name': {'hitesh', 'krish_naik', 'naveen', 'sudhansu'}}"
      ]
     },
     "execution_count": 129,
     "metadata": {},
     "output_type": "execute_result"
    }
   ],
   "source": [
    "d15"
   ]
  },
  {
   "cell_type": "code",
   "execution_count": 137,
   "id": "593867fe-1203-4f36-83ce-20b0e51ebb48",
   "metadata": {},
   "outputs": [],
   "source": [
    "d15['timing']=(8,8,8)"
   ]
  },
  {
   "cell_type": "code",
   "execution_count": 132,
   "id": "4df78b1e-008d-4a13-9489-4de43c31b04c",
   "metadata": {},
   "outputs": [
    {
     "data": {
      "text/plain": [
       "{'batch_name': ['Data science masters', 'web dev', 'JDS'],\n",
       " 'START_DATE': (28, 14, 21),\n",
       " 'mentor_name': {'hitesh', 'krish_naik', 'naveen', 'sudhansu'},\n",
       " 'timing': (8, 8, 8)}"
      ]
     },
     "execution_count": 132,
     "metadata": {},
     "output_type": "execute_result"
    }
   ],
   "source": [
    "d15\n"
   ]
  },
  {
   "cell_type": "code",
   "execution_count": 138,
   "id": "cbdec31c-5b81-41c5-a1c6-0a8c1cc38e2d",
   "metadata": {},
   "outputs": [
    {
     "data": {
      "text/plain": [
       "{'batch_name': ['Data science masters', 'web dev', 'JDS'],\n",
       " 'START_DATE': (28, 14, 21),\n",
       " 'mentor_name': {'hitesh', 'krish_naik', 'naveen', 'sudhansu'},\n",
       " 'timing': (8, 8, 8)}"
      ]
     },
     "execution_count": 138,
     "metadata": {},
     "output_type": "execute_result"
    }
   ],
   "source": [
    "d15"
   ]
  },
  {
   "cell_type": "code",
   "execution_count": 139,
   "id": "a6a02029-3927-454f-810d-62f0d379a2be",
   "metadata": {},
   "outputs": [
    {
     "data": {
      "text/plain": [
       "['Data science masters', 'web dev', 'JDS']"
      ]
     },
     "execution_count": 139,
     "metadata": {},
     "output_type": "execute_result"
    }
   ],
   "source": [
    "d15['batch_name']"
   ]
  },
  {
   "cell_type": "code",
   "execution_count": null,
   "id": "ce67598e-e249-4553-b1ac-74b4f728ec06",
   "metadata": {},
   "outputs": [],
   "source": []
  },
  {
   "cell_type": "code",
   "execution_count": 141,
   "id": "e9a30ae1-4a6f-49ec-b182-8f3133de5902",
   "metadata": {},
   "outputs": [
    {
     "data": {
      "text/plain": [
       "set"
      ]
     },
     "execution_count": 141,
     "metadata": {},
     "output_type": "execute_result"
    }
   ],
   "source": [
    "type(d15[\"mentor_name\"])"
   ]
  },
  {
   "cell_type": "code",
   "execution_count": 142,
   "id": "4ae5f93f-784b-4695-925c-b134676f58fb",
   "metadata": {},
   "outputs": [
    {
     "ename": "NameError",
     "evalue": "name 'd16' is not defined",
     "output_type": "error",
     "traceback": [
      "\u001b[0;31m---------------------------------------------------------------------------\u001b[0m",
      "\u001b[0;31mNameError\u001b[0m                                 Traceback (most recent call last)",
      "Cell \u001b[0;32mIn[142], line 1\u001b[0m\n\u001b[0;32m----> 1\u001b[0m \u001b[43md16\u001b[49m[\u001b[38;5;124m'\u001b[39m\u001b[38;5;124mkey\u001b[39m\u001b[38;5;124m'\u001b[39m]\n",
      "\u001b[0;31mNameError\u001b[0m: name 'd16' is not defined"
     ]
    }
   ],
   "source": [
    "d16['key']"
   ]
  },
  {
   "cell_type": "code",
   "execution_count": 144,
   "id": "c2b7ddb0-1a83-4bc0-973c-96d3a9ac5040",
   "metadata": {},
   "outputs": [],
   "source": [
    "d15['name']=\"sat\""
   ]
  },
  {
   "cell_type": "code",
   "execution_count": 145,
   "id": "55db1bd2-afe3-4e43-a685-44acfab11316",
   "metadata": {},
   "outputs": [
    {
     "data": {
      "text/plain": [
       "{'batch_name': ['Data science masters', 'web dev', 'JDS'],\n",
       " 'START_DATE': (28, 14, 21),\n",
       " 'mentor_name': {'hitesh', 'krish_naik', 'naveen', 'sudhansu'},\n",
       " 'timing': (8, 8, 8),\n",
       " 'name': 'sat'}"
      ]
     },
     "execution_count": 145,
     "metadata": {},
     "output_type": "execute_result"
    }
   ],
   "source": [
    "d15"
   ]
  },
  {
   "cell_type": "code",
   "execution_count": 146,
   "id": "75e987ff-1fab-469f-b434-ab98ac3cb874",
   "metadata": {},
   "outputs": [
    {
     "data": {
      "text/plain": [
       "{'name': 'sat', 'class': 'dsm'}"
      ]
     },
     "execution_count": 146,
     "metadata": {},
     "output_type": "execute_result"
    }
   ],
   "source": [
    "d14['key']"
   ]
  },
  {
   "cell_type": "code",
   "execution_count": 148,
   "id": "96cdd594-1877-4879-bcb5-c67f7d90bdb7",
   "metadata": {},
   "outputs": [
    {
     "data": {
      "text/plain": [
       "dict"
      ]
     },
     "execution_count": 148,
     "metadata": {},
     "output_type": "execute_result"
    }
   ],
   "source": [
    "type(d14['key'])"
   ]
  },
  {
   "cell_type": "code",
   "execution_count": 149,
   "id": "b178048b-60a3-4158-93b3-4a7057f94ad8",
   "metadata": {},
   "outputs": [
    {
     "data": {
      "text/plain": [
       "'dsm'"
      ]
     },
     "execution_count": 149,
     "metadata": {},
     "output_type": "execute_result"
    }
   ],
   "source": [
    "d14['key']['class']"
   ]
  },
  {
   "cell_type": "code",
   "execution_count": 150,
   "id": "6411fc7b-bead-4073-8f0f-6652b8753bab",
   "metadata": {},
   "outputs": [],
   "source": [
    "d14['key1']='abc'"
   ]
  },
  {
   "cell_type": "code",
   "execution_count": 151,
   "id": "f4889841-c0b4-4582-80de-7729696678bd",
   "metadata": {},
   "outputs": [
    {
     "data": {
      "text/plain": [
       "{'key': {'name': 'sat', 'class': 'dsm'}, 'key1': 'abc'}"
      ]
     },
     "execution_count": 151,
     "metadata": {},
     "output_type": "execute_result"
    }
   ],
   "source": [
    "d14\n"
   ]
  },
  {
   "cell_type": "code",
   "execution_count": 153,
   "id": "b7bb19d7-d15e-4def-b507-5e1bce00d2ad",
   "metadata": {},
   "outputs": [],
   "source": [
    "del d14['key1']"
   ]
  },
  {
   "cell_type": "code",
   "execution_count": 154,
   "id": "b6ceab03-8e40-4dd2-8ee8-4945c4d01fb6",
   "metadata": {},
   "outputs": [
    {
     "data": {
      "text/plain": [
       "{'key': {'name': 'sat', 'class': 'dsm'}}"
      ]
     },
     "execution_count": 154,
     "metadata": {},
     "output_type": "execute_result"
    }
   ],
   "source": [
    "d14"
   ]
  },
  {
   "cell_type": "code",
   "execution_count": 155,
   "id": "0d0d6308-5db2-4e4d-9576-c9fd1f9d4547",
   "metadata": {},
   "outputs": [
    {
     "data": {
      "text/plain": [
       "'sat'"
      ]
     },
     "execution_count": 155,
     "metadata": {},
     "output_type": "execute_result"
    }
   ],
   "source": [
    "d14['key']['name']"
   ]
  },
  {
   "cell_type": "code",
   "execution_count": 156,
   "id": "25627172-065a-42eb-ad8d-ab60e49fee8c",
   "metadata": {},
   "outputs": [],
   "source": [
    "d14.clear()"
   ]
  },
  {
   "cell_type": "code",
   "execution_count": 157,
   "id": "28770679-8f2f-467d-b210-2c022b51fb0f",
   "metadata": {},
   "outputs": [
    {
     "data": {
      "text/plain": [
       "{}"
      ]
     },
     "execution_count": 157,
     "metadata": {},
     "output_type": "execute_result"
    }
   ],
   "source": [
    "d14"
   ]
  },
  {
   "cell_type": "code",
   "execution_count": 158,
   "id": "b5ed0f78-855d-40de-83d1-0456ca017f87",
   "metadata": {},
   "outputs": [
    {
     "data": {
      "text/plain": [
       "<function dict.update>"
      ]
     },
     "execution_count": 158,
     "metadata": {},
     "output_type": "execute_result"
    }
   ],
   "source": [
    "d14.update"
   ]
  },
  {
   "cell_type": "code",
   "execution_count": 159,
   "id": "7c3d91c6-7e39-4190-91f3-54fb980faff0",
   "metadata": {},
   "outputs": [
    {
     "data": {
      "text/plain": [
       "5"
      ]
     },
     "execution_count": 159,
     "metadata": {},
     "output_type": "execute_result"
    }
   ],
   "source": [
    "len(d15)"
   ]
  },
  {
   "cell_type": "code",
   "execution_count": 160,
   "id": "9e1a81b4-dcbf-4987-a9f8-5286bae7355a",
   "metadata": {},
   "outputs": [
    {
     "data": {
      "text/plain": [
       "{'batch_name': ['Data science masters', 'web dev', 'JDS'],\n",
       " 'START_DATE': (28, 14, 21),\n",
       " 'mentor_name': {'hitesh', 'krish_naik', 'naveen', 'sudhansu'},\n",
       " 'timing': (8, 8, 8),\n",
       " 'name': 'sat'}"
      ]
     },
     "execution_count": 160,
     "metadata": {},
     "output_type": "execute_result"
    }
   ],
   "source": [
    "d15"
   ]
  },
  {
   "cell_type": "code",
   "execution_count": 161,
   "id": "b8b625a9-a198-430d-9683-6f1e0cd23c22",
   "metadata": {},
   "outputs": [
    {
     "ename": "NameError",
     "evalue": "name 'd16' is not defined",
     "output_type": "error",
     "traceback": [
      "\u001b[0;31m---------------------------------------------------------------------------\u001b[0m",
      "\u001b[0;31mNameError\u001b[0m                                 Traceback (most recent call last)",
      "Cell \u001b[0;32mIn[161], line 1\u001b[0m\n\u001b[0;32m----> 1\u001b[0m \u001b[43md16\u001b[49m\u001b[38;5;241m.\u001b[39mekys()\n",
      "\u001b[0;31mNameError\u001b[0m: name 'd16' is not defined"
     ]
    }
   ],
   "source": [
    "d16.ekys()"
   ]
  },
  {
   "cell_type": "code",
   "execution_count": 162,
   "id": "b025e966-ce64-4e49-956e-ed345c9d6299",
   "metadata": {},
   "outputs": [
    {
     "ename": "NameError",
     "evalue": "name 'd16' is not defined",
     "output_type": "error",
     "traceback": [
      "\u001b[0;31m---------------------------------------------------------------------------\u001b[0m",
      "\u001b[0;31mNameError\u001b[0m                                 Traceback (most recent call last)",
      "Cell \u001b[0;32mIn[162], line 1\u001b[0m\n\u001b[0;32m----> 1\u001b[0m \u001b[43md16\u001b[49m\u001b[38;5;241m.\u001b[39mkeys()\n",
      "\u001b[0;31mNameError\u001b[0m: name 'd16' is not defined"
     ]
    }
   ],
   "source": [
    "d16.keys()"
   ]
  },
  {
   "cell_type": "code",
   "execution_count": 163,
   "id": "00cf537b-52a1-42b5-a35e-d535adc84607",
   "metadata": {},
   "outputs": [
    {
     "data": {
      "text/plain": [
       "dict_keys(['batch_name', 'START_DATE', 'mentor_name', 'timing', 'name'])"
      ]
     },
     "execution_count": 163,
     "metadata": {},
     "output_type": "execute_result"
    }
   ],
   "source": [
    "d15.keys()"
   ]
  },
  {
   "cell_type": "code",
   "execution_count": 164,
   "id": "a9d174aa-d578-427e-a030-60c30209a457",
   "metadata": {},
   "outputs": [
    {
     "data": {
      "text/plain": [
       "dict_values([['Data science masters', 'web dev', 'JDS'], (28, 14, 21), {'hitesh', 'naveen', 'krish_naik', 'sudhansu'}, (8, 8, 8), 'sat'])"
      ]
     },
     "execution_count": 164,
     "metadata": {},
     "output_type": "execute_result"
    }
   ],
   "source": [
    "d15.values()"
   ]
  },
  {
   "cell_type": "code",
   "execution_count": 165,
   "id": "5cd54ab0-e7cd-484a-b37b-6b52e6e7013d",
   "metadata": {},
   "outputs": [
    {
     "data": {
      "text/plain": [
       "[['Data science masters', 'web dev', 'JDS'],\n",
       " (28, 14, 21),\n",
       " {'hitesh', 'krish_naik', 'naveen', 'sudhansu'},\n",
       " (8, 8, 8),\n",
       " 'sat']"
      ]
     },
     "execution_count": 165,
     "metadata": {},
     "output_type": "execute_result"
    }
   ],
   "source": [
    "list(d15.values())"
   ]
  },
  {
   "cell_type": "code",
   "execution_count": 166,
   "id": "1db515ee-dbe2-418c-af1a-c3fad569835d",
   "metadata": {},
   "outputs": [
    {
     "data": {
      "text/plain": [
       "dict_items([('batch_name', ['Data science masters', 'web dev', 'JDS']), ('START_DATE', (28, 14, 21)), ('mentor_name', {'hitesh', 'naveen', 'krish_naik', 'sudhansu'}), ('timing', (8, 8, 8)), ('name', 'sat')])"
      ]
     },
     "execution_count": 166,
     "metadata": {},
     "output_type": "execute_result"
    }
   ],
   "source": [
    "d15.items()"
   ]
  },
  {
   "cell_type": "code",
   "execution_count": 167,
   "id": "1f531ce5-d86e-4027-bb81-fef93b3af5c5",
   "metadata": {},
   "outputs": [],
   "source": [
    "d16=d15.copy()"
   ]
  },
  {
   "cell_type": "code",
   "execution_count": 168,
   "id": "3d4babd9-c6c0-4232-a0af-4a6f97327125",
   "metadata": {},
   "outputs": [
    {
     "data": {
      "text/plain": [
       "{'batch_name': ['Data science masters', 'web dev', 'JDS'],\n",
       " 'START_DATE': (28, 14, 21),\n",
       " 'mentor_name': {'hitesh', 'krish_naik', 'naveen', 'sudhansu'},\n",
       " 'timing': (8, 8, 8),\n",
       " 'name': 'sat'}"
      ]
     },
     "execution_count": 168,
     "metadata": {},
     "output_type": "execute_result"
    }
   ],
   "source": [
    "d16"
   ]
  },
  {
   "cell_type": "code",
   "execution_count": 169,
   "id": "c63d55b1-2293-4093-aefd-ddfd54d65532",
   "metadata": {},
   "outputs": [
    {
     "data": {
      "text/plain": [
       "{'batch_name': ['Data science masters', 'web dev', 'JDS'],\n",
       " 'START_DATE': (28, 14, 21),\n",
       " 'mentor_name': {'hitesh', 'krish_naik', 'naveen', 'sudhansu'},\n",
       " 'timing': (8, 8, 8),\n",
       " 'name': 'sat'}"
      ]
     },
     "execution_count": 169,
     "metadata": {},
     "output_type": "execute_result"
    }
   ],
   "source": [
    "d15"
   ]
  },
  {
   "cell_type": "code",
   "execution_count": 170,
   "id": "abd637ca-3e7f-49d7-9ce8-7124028ed924",
   "metadata": {},
   "outputs": [],
   "source": [
    "## making a cahnge in original data does not make any differnece in the copied version when a copy is made using copy "
   ]
  },
  {
   "cell_type": "code",
   "execution_count": 172,
   "id": "26f82053-7a21-463f-a234-6af3d02a05b9",
   "metadata": {},
   "outputs": [
    {
     "data": {
      "text/plain": [
       "'sat'"
      ]
     },
     "execution_count": 172,
     "metadata": {},
     "output_type": "execute_result"
    }
   ],
   "source": [
    "d15.pop('name')"
   ]
  },
  {
   "cell_type": "code",
   "execution_count": 173,
   "id": "e181336f-2c18-4ffe-8e40-a762d390f03f",
   "metadata": {},
   "outputs": [
    {
     "data": {
      "text/plain": [
       "{'batch_name': ['Data science masters', 'web dev', 'JDS'],\n",
       " 'START_DATE': (28, 14, 21),\n",
       " 'mentor_name': {'hitesh', 'krish_naik', 'naveen', 'sudhansu'},\n",
       " 'timing': (8, 8, 8)}"
      ]
     },
     "execution_count": 173,
     "metadata": {},
     "output_type": "execute_result"
    }
   ],
   "source": [
    "d15"
   ]
  },
  {
   "cell_type": "code",
   "execution_count": 174,
   "id": "e62302fb-5cf7-4bcd-9433-cd549feec874",
   "metadata": {},
   "outputs": [
    {
     "data": {
      "text/plain": [
       "{1: ('a', 'b', 'c'), 2: ('a', 'b', 'c'), 3: ('a', 'b', 'c')}"
      ]
     },
     "execution_count": 174,
     "metadata": {},
     "output_type": "execute_result"
    }
   ],
   "source": [
    "d.fromkeys((1,2,3),('a','b','c'))"
   ]
  },
  {
   "cell_type": "code",
   "execution_count": 175,
   "id": "4ab54fe3-633f-41cb-bb12-e4416bd9f637",
   "metadata": {},
   "outputs": [],
   "source": [
    "d19={'key1':'value','key2':'value2'}\n",
    "d20={'key3':'value3','key4':'value4'}"
   ]
  },
  {
   "cell_type": "code",
   "execution_count": 176,
   "id": "024c953e-9b99-442f-84e9-c583497fb34e",
   "metadata": {},
   "outputs": [
    {
     "data": {
      "text/plain": [
       "({'key1': 'value', 'key2': 'value2'}, {'key3': 'value3', 'key4': 'value4'})"
      ]
     },
     "execution_count": 176,
     "metadata": {},
     "output_type": "execute_result"
    }
   ],
   "source": [
    "(d19,d20)"
   ]
  },
  {
   "cell_type": "code",
   "execution_count": 177,
   "id": "bb671edb-24a7-4a90-8c78-1327e0ec2c4e",
   "metadata": {},
   "outputs": [],
   "source": [
    "d19.update(d20)"
   ]
  },
  {
   "cell_type": "code",
   "execution_count": 178,
   "id": "3d77a738-498a-4809-b851-dad8c2223252",
   "metadata": {},
   "outputs": [
    {
     "data": {
      "text/plain": [
       "{'key1': 'value', 'key2': 'value2', 'key3': 'value3', 'key4': 'value4'}"
      ]
     },
     "execution_count": 178,
     "metadata": {},
     "output_type": "execute_result"
    }
   ],
   "source": [
    "d19"
   ]
  },
  {
   "cell_type": "code",
   "execution_count": 179,
   "id": "0af9b5fe-b5f7-4572-89c2-1250e87105c3",
   "metadata": {},
   "outputs": [
    {
     "data": {
      "text/plain": [
       "{'key3': 'value3', 'key4': 'value4'}"
      ]
     },
     "execution_count": 179,
     "metadata": {},
     "output_type": "execute_result"
    }
   ],
   "source": [
    "d20"
   ]
  },
  {
   "cell_type": "code",
   "execution_count": 184,
   "id": "71f3f960-c064-42a3-b2dd-557274f2a668",
   "metadata": {},
   "outputs": [
    {
     "data": {
      "text/plain": [
       "'value3'"
      ]
     },
     "execution_count": 184,
     "metadata": {},
     "output_type": "execute_result"
    }
   ],
   "source": [
    "d20.get('key3')"
   ]
  },
  {
   "cell_type": "code",
   "execution_count": 185,
   "id": "55025a94-a08d-4390-8a6d-39c89fc06416",
   "metadata": {},
   "outputs": [],
   "source": [
    "d20.get('sudh')"
   ]
  },
  {
   "cell_type": "markdown",
   "id": "54c05c01-9e69-4e4b-a5ce-a0ac2e08172c",
   "metadata": {},
   "source": [
    "## Disctionary comprehnesions"
   ]
  },
  {
   "cell_type": "code",
   "execution_count": 187,
   "id": "63b92cae-b0f8-4141-91a0-fc77c7d2b7d8",
   "metadata": {},
   "outputs": [
    {
     "data": {
      "text/plain": [
       "{1: 1, 2: 4, 3: 9, 4: 16, 5: 25, 6: 36, 7: 49, 8: 64, 9: 81, 10: 100}"
      ]
     },
     "execution_count": 187,
     "metadata": {},
     "output_type": "execute_result"
    }
   ],
   "source": [
    "{i: i**2 for i in range(1,11)}"
   ]
  },
  {
   "cell_type": "code",
   "execution_count": 188,
   "id": "1ebaa8b1-d14d-4541-8087-a28f0dda5f88",
   "metadata": {},
   "outputs": [
    {
     "data": {
      "text/plain": [
       "{1: 11, 2: 12, 3: 13, 4: 14, 5: 15, 6: 16, 7: 17, 8: 18, 9: 19, 10: 20}"
      ]
     },
     "execution_count": 188,
     "metadata": {},
     "output_type": "execute_result"
    }
   ],
   "source": [
    "{i: i+10 for i in range(1,11)}"
   ]
  },
  {
   "cell_type": "code",
   "execution_count": 192,
   "id": "e9e4ead5-5db4-43ba-b91b-c5fdd1d95b13",
   "metadata": {},
   "outputs": [],
   "source": [
    "import math\n",
    "d22 = {i: math.log10(i)for i in range(1,11)}"
   ]
  },
  {
   "cell_type": "code",
   "execution_count": 190,
   "id": "71b9df0e-2019-4088-b198-5d934afda8b1",
   "metadata": {},
   "outputs": [
    {
     "data": {
      "text/plain": [
       "{'batch_name': ['Data science masters', 'web dev', 'JDS'],\n",
       " 'START_DATE': (28, 14, 21),\n",
       " 'mentor_name': {'hitesh', 'krish_naik', 'naveen', 'sudhansu'},\n",
       " 'timing': (8, 8, 8),\n",
       " 'name': 'sat'}"
      ]
     },
     "execution_count": 190,
     "metadata": {},
     "output_type": "execute_result"
    }
   ],
   "source": [
    "d16"
   ]
  },
  {
   "cell_type": "code",
   "execution_count": 191,
   "id": "bb83bea9-7d70-42f9-ac72-a56d4a1eb656",
   "metadata": {},
   "outputs": [
    {
     "data": {
      "text/plain": [
       "True"
      ]
     },
     "execution_count": 191,
     "metadata": {},
     "output_type": "execute_result"
    }
   ],
   "source": [
    "'batch_name' in d16"
   ]
  },
  {
   "cell_type": "code",
   "execution_count": 193,
   "id": "418fa797-2359-44c4-8c56-02ff6a904d89",
   "metadata": {},
   "outputs": [
    {
     "data": {
      "text/plain": [
       "{1: 0.0,\n",
       " 2: 0.3010299956639812,\n",
       " 3: 0.47712125471966244,\n",
       " 4: 0.6020599913279624,\n",
       " 5: 0.6989700043360189,\n",
       " 6: 0.7781512503836436,\n",
       " 7: 0.8450980400142568,\n",
       " 8: 0.9030899869919435,\n",
       " 9: 0.9542425094393249,\n",
       " 10: 1.0}"
      ]
     },
     "execution_count": 193,
     "metadata": {},
     "output_type": "execute_result"
    }
   ],
   "source": [
    "d22"
   ]
  },
  {
   "cell_type": "code",
   "execution_count": 201,
   "id": "775b8970-64a5-4842-9441-314b65fd44e0",
   "metadata": {},
   "outputs": [
    {
     "name": "stdout",
     "output_type": "stream",
     "text": [
      "2 : 0.3010299956639812\n",
      "4 : 0.6020599913279624\n",
      "6 : 0.7781512503836436\n",
      "8 : 0.9030899869919435\n",
      "10 : 1.0\n"
     ]
    }
   ],
   "source": [
    "for i in d22.keys():\n",
    "    if i%2==0:\n",
    "        print(i,':', d22[i])"
   ]
  },
  {
   "cell_type": "code",
   "execution_count": null,
   "id": "2cf6214e-7e46-4415-b154-30c8431fa611",
   "metadata": {},
   "outputs": [],
   "source": []
  }
 ],
 "metadata": {
  "kernelspec": {
   "display_name": "Python 3 (ipykernel)",
   "language": "python",
   "name": "python3"
  },
  "language_info": {
   "codemirror_mode": {
    "name": "ipython",
    "version": 3
   },
   "file_extension": ".py",
   "mimetype": "text/x-python",
   "name": "python",
   "nbconvert_exporter": "python",
   "pygments_lexer": "ipython3",
   "version": "3.10.8"
  }
 },
 "nbformat": 4,
 "nbformat_minor": 5
}
