{
 "cells": [
  {
   "cell_type": "code",
   "execution_count": 1,
   "id": "58256bf6-3e4f-4086-b575-c908c5419fc9",
   "metadata": {},
   "outputs": [],
   "source": [
    "a = 10"
   ]
  },
  {
   "cell_type": "code",
   "execution_count": 2,
   "id": "e4638e5f-f0e2-4322-8cb2-6a074bbe944e",
   "metadata": {},
   "outputs": [
    {
     "ename": "SyntaxError",
     "evalue": "Missing parentheses in call to 'print'. Did you mean print(...)? (2947294964.py, line 1)",
     "output_type": "error",
     "traceback": [
      "\u001b[0;36m  Cell \u001b[0;32mIn[2], line 1\u001b[0;36m\u001b[0m\n\u001b[0;31m    print a\u001b[0m\n\u001b[0m    ^\u001b[0m\n\u001b[0;31mSyntaxError\u001b[0m\u001b[0;31m:\u001b[0m Missing parentheses in call to 'print'. Did you mean print(...)?\n"
     ]
    }
   ],
   "source": [
    "print a"
   ]
  },
  {
   "cell_type": "code",
   "execution_count": 3,
   "id": "dd7a44dc-7999-416e-84f1-563b5fd006e1",
   "metadata": {},
   "outputs": [
    {
     "name": "stdout",
     "output_type": "stream",
     "text": [
      "10\n"
     ]
    }
   ],
   "source": [
    "print"
   ]
  },
  {
   "cell_type": "code",
   "execution_count": 4,
   "id": "3af98ac7-e141-4717-afc7-ac22e7366e28",
   "metadata": {},
   "outputs": [
    {
     "name": "stdout",
     "output_type": "stream",
     "text": [
      "Hello World\n"
     ]
    }
   ],
   "source": [
    "print(\"Hello World\")"
   ]
  },
  {
   "cell_type": "code",
   "execution_count": 5,
   "id": "269c6fa7-15b7-4897-976b-d702caf6d37c",
   "metadata": {},
   "outputs": [
    {
     "name": "stdout",
     "output_type": "stream",
     "text": [
      "123\n"
     ]
    }
   ],
   "source": [
    "print(123)"
   ]
  },
  {
   "cell_type": "code",
   "execution_count": 16,
   "id": "0c69ce35-e565-413f-85fd-0cbf6d96945e",
   "metadata": {},
   "outputs": [
    {
     "data": {
      "text/plain": [
       "int"
      ]
     },
     "execution_count": 16,
     "metadata": {},
     "output_type": "execute_result"
    }
   ],
   "source": [
    "age = int(32)\n",
    "type(age)"
   ]
  },
  {
   "cell_type": "code",
   "execution_count": 14,
   "id": "8d7fb5a5-6190-44f6-9e1b-8e719bb97548",
   "metadata": {},
   "outputs": [
    {
     "name": "stdout",
     "output_type": "stream",
     "text": [
      "My age is : 32\n"
     ]
    }
   ],
   "source": [
    "print(f\"My age is : {age}\")"
   ]
  },
  {
   "cell_type": "code",
   "execution_count": 17,
   "id": "0634f088-67e5-4f25-af75-275e7fa57eeb",
   "metadata": {
    "tags": []
   },
   "outputs": [
    {
     "name": "stdout",
     "output_type": "stream",
     "text": [
      "My name is Satheesh and age is 27\n"
     ]
    }
   ],
   "source": [
    "name = 'Satheesh'\n",
    "age = 27\n",
    "print(\"My name is {} and age is {}\".format(name,age))"
   ]
  },
  {
   "cell_type": "code",
   "execution_count": 18,
   "id": "db3ebd37-ed97-46ab-a39f-f909bfdcb000",
   "metadata": {},
   "outputs": [
    {
     "name": "stdout",
     "output_type": "stream",
     "text": [
      "My name is Satheesh and age is 27\n"
     ]
    }
   ],
   "source": [
    "print(\"My name is {firstname} and age is {firstage}\".format(firstname = name,firstage = age))"
   ]
  },
  {
   "cell_type": "code",
   "execution_count": 20,
   "id": "a7ee02f4-bb46-4bd8-8f82-1b6e1918b37b",
   "metadata": {},
   "outputs": [
    {
     "name": "stdout",
     "output_type": "stream",
     "text": [
      "My age is 32 and i have completed : my degree of BE with the name of Satheesh Kumar\n"
     ]
    }
   ],
   "source": [
    "name = \"Satheesh Kumar\"\n",
    "age = 32\n",
    "degree = \"BE\"\n",
    "print(\"My age is {} and i have completed : my degree of {} with the name of {}\".format(age,degree,name))"
   ]
  },
  {
   "cell_type": "markdown",
   "id": "17cac32a-7472-41b9-b3f7-b397a012dd0e",
   "metadata": {},
   "source": [
    "## Control Flow\n",
    "### Decision Making Statements\n",
    "\n",
    "* Is is kind of making decision during occurred situatio of pragram execution and action can be takenaccording to specified conditions.\n",
    "* Structure of decision making evaluate several expressions that provide True or False as a result.\n",
    "* It is todecide which type of action want to take and execute the statements based upon True and False\n",
    "\n",
    "**These are several topics of decisiion making which going to be discussed below:**\n",
    "\n",
    "1. **if**\n",
    "2. **if else**\n",
    "3. **if elif else**\n",
    "4. **Nested If**\n",
    "5. **Single Statement Suites**\n",
    "\n"
   ]
  },
  {
   "cell_type": "code",
   "execution_count": 21,
   "id": "dc8ace47-f965-4f04-9c65-10d0e4fea6d9",
   "metadata": {},
   "outputs": [
    {
     "name": "stdout",
     "output_type": "stream",
     "text": [
      "You're eligible to vote\n"
     ]
    }
   ],
   "source": [
    "## If statements:\n",
    "## ==, >=,<=\n",
    "age = 27\n",
    "if age >=18:\n",
    "    print(\"You're eligible to vote\")\n"
   ]
  },
  {
   "cell_type": "raw",
   "id": "c1120909-4846-4f82-9df7-7df65c2f6377",
   "metadata": {},
   "source": [
    "name = input(\"Enter the name: \")"
   ]
  },
  {
   "cell_type": "code",
   "execution_count": 24,
   "id": "0c24a506-3a70-4082-87d3-8b6ac7ef12fb",
   "metadata": {},
   "outputs": [
    {
     "name": "stdin",
     "output_type": "stream",
     "text": [
      "Enter your age: 27\n"
     ]
    }
   ],
   "source": [
    "age = int(input(\"Enter your age:\"))\n"
   ]
  },
  {
   "cell_type": "code",
   "execution_count": 25,
   "id": "246e10c0-5758-4c57-893f-de953b563fd7",
   "metadata": {},
   "outputs": [
    {
     "name": "stdout",
     "output_type": "stream",
     "text": [
      "You are eligible to vote\n"
     ]
    }
   ],
   "source": [
    "if age>=18:\n",
    "    print(\"You are eligible to vote\")"
   ]
  },
  {
   "cell_type": "code",
   "execution_count": null,
   "id": "2dab1aad-ee7f-467d-a1e6-1932bd5c57d3",
   "metadata": {},
   "outputs": [],
   "source": [
    "age = int(input(\"Enter your age: \"))\n",
    "if age >= 18 and age <=45:\n",
    "    print(\"you are an yound blood\")\n",
    "elif age <18:\n",
    "    print(\"You are too young\")\n",
    "else:\n",
    "    print(\"you are old\")"
   ]
  },
  {
   "cell_type": "code",
   "execution_count": null,
   "id": "c55c6f60-34d5-4c9a-a890-b95192a76590",
   "metadata": {},
   "outputs": [],
   "source": [
    "price = int(input(\"Enter product Price: \"))\n",
    "if price > 1000:\n",
    "    print(\"Your product price is: {discounted} \".format(discounted=price-(price*0.2)))\n",
    "else:\n",
    "    print(\"Your product price is: {discounted} \".format(discounted=price-(price*0.3)))"
   ]
  },
  {
   "cell_type": "code",
   "execution_count": 1,
   "id": "7a5409d7-b010-4095-82b4-03e5dc642e9b",
   "metadata": {},
   "outputs": [
    {
     "name": "stdin",
     "output_type": "stream",
     "text": [
      "Enter product Price:  999\n"
     ]
    },
    {
     "name": "stdout",
     "output_type": "stream",
     "text": [
      "Your product price is: 599.4 \n"
     ]
    }
   ],
   "source": [
    "price = int(input(\"Enter product Price: \"))\n",
    "if price > 3000:\n",
    "    print(\"Your product price is: {discounted} \".format(discounted=price-(price*0.2)))\n",
    "elif price>=2000 and price <=3000:\n",
    "    print(\"Your product price is: {discounted} \".format(discounted=price-(price*0.3)))\n",
    "else:\n",
    "    print(\"Your product price is: {discounted} \".format(discounted=price-(price*0.4)))"
   ]
  },
  {
   "cell_type": "code",
   "execution_count": 3,
   "id": "b225be13-0723-4017-831a-848c3e9a8b22",
   "metadata": {},
   "outputs": [
    {
     "name": "stdin",
     "output_type": "stream",
     "text": [
      "Enter product Price:  2999\n"
     ]
    },
    {
     "name": "stdout",
     "output_type": "stream",
     "text": [
      "Congratulations you get an additional gift\n",
      "Your product price is: 2099.3 \n"
     ]
    }
   ],
   "source": [
    "price = int(input(\"Enter product Price: \"))\n",
    "if price > 3000:\n",
    "    print(\"Your product price is: {discounted} \".format(discounted=price-(price*0.2)))\n",
    "elif price>=2000 and price <=3000:\n",
    "    if price == 2999:    ##NESTED IF STATEMENT\n",
    "        print(\"Congratulations you get an additional gift\")\n",
    "    print(\"Your product price is: {discounted} \".format(discounted=price-(price*0.3)))\n",
    "else:\n",
    "    print(\"Your product price is: {discounted} \".format(discounted=price-(price*0.4)))"
   ]
  },
  {
   "cell_type": "code",
   "execution_count": 4,
   "id": "8c923daa-c205-4062-a120-7143d06b7ccb",
   "metadata": {},
   "outputs": [
    {
     "name": "stdin",
     "output_type": "stream",
     "text": [
      "Enter the number 500\n"
     ]
    },
    {
     "name": "stdout",
     "output_type": "stream",
     "text": [
      "value is less than equal to 999\n"
     ]
    }
   ],
   "source": [
    "## Single statement suites\n",
    "\n",
    "val = int(input(\"Enter the number\"))\n",
    "if (val<=999): print(\"value is less than equal to 999\")"
   ]
  },
  {
   "cell_type": "code",
   "execution_count": null,
   "id": "3e3536cb-a742-4c2c-ba4e-d242ec893109",
   "metadata": {},
   "outputs": [],
   "source": []
  },
  {
   "cell_type": "code",
   "execution_count": null,
   "id": "fd42928a-20e9-42cf-b428-c895a4b4ab77",
   "metadata": {},
   "outputs": [],
   "source": []
  },
  {
   "cell_type": "code",
   "execution_count": null,
   "id": "769659e5-126b-4cc6-9910-700fe785c141",
   "metadata": {},
   "outputs": [],
   "source": []
  },
  {
   "cell_type": "code",
   "execution_count": null,
   "id": "5f9c5cea-c670-4bd3-94b2-13bc3918fe2d",
   "metadata": {},
   "outputs": [],
   "source": []
  },
  {
   "cell_type": "code",
   "execution_count": null,
   "id": "d7f05cd5-209c-4b51-b6a0-8aa521c8241f",
   "metadata": {},
   "outputs": [],
   "source": []
  },
  {
   "cell_type": "code",
   "execution_count": null,
   "id": "2df6adba-4ea2-4fcc-bd5e-b2e2deef3779",
   "metadata": {},
   "outputs": [],
   "source": []
  },
  {
   "cell_type": "code",
   "execution_count": null,
   "id": "d65a94d6-ef9c-42fb-9738-f375646ab744",
   "metadata": {},
   "outputs": [],
   "source": []
  },
  {
   "cell_type": "code",
   "execution_count": null,
   "id": "39f3b20e-8900-49e9-9dff-4103f4124b46",
   "metadata": {},
   "outputs": [],
   "source": []
  },
  {
   "cell_type": "code",
   "execution_count": null,
   "id": "f30827ad-40f3-4933-95b0-0ebcf2bb9b8c",
   "metadata": {},
   "outputs": [],
   "source": []
  },
  {
   "cell_type": "code",
   "execution_count": null,
   "id": "3c1ca853-8c61-427d-9fb8-a73bec12eb1d",
   "metadata": {},
   "outputs": [],
   "source": []
  },
  {
   "cell_type": "code",
   "execution_count": null,
   "id": "bed45da1-48cd-47d0-8d53-5feaabd1b7e6",
   "metadata": {},
   "outputs": [],
   "source": []
  },
  {
   "cell_type": "code",
   "execution_count": null,
   "id": "a9cf5eb0-f74c-47ff-97f4-fb39041ad8fe",
   "metadata": {},
   "outputs": [],
   "source": []
  }
 ],
 "metadata": {
  "kernelspec": {
   "display_name": "Python 3 (ipykernel)",
   "language": "python",
   "name": "python3"
  },
  "language_info": {
   "codemirror_mode": {
    "name": "ipython",
    "version": 3
   },
   "file_extension": ".py",
   "mimetype": "text/x-python",
   "name": "python",
   "nbconvert_exporter": "python",
   "pygments_lexer": "ipython3",
   "version": "3.10.8"
  }
 },
 "nbformat": 4,
 "nbformat_minor": 5
}
