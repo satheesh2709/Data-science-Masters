{
 "cells": [
  {
   "cell_type": "code",
   "execution_count": 1,
   "id": "fb5483b7-20bc-48c2-b40d-dc498113a1d7",
   "metadata": {},
   "outputs": [],
   "source": [
    "f = open('test.txt','w')"
   ]
  },
  {
   "cell_type": "code",
   "execution_count": 2,
   "id": "46d194f6-b5ae-472b-9206-6b068237f9f9",
   "metadata": {},
   "outputs": [
    {
     "data": {
      "text/plain": [
       "'/home/jovyan/work'"
      ]
     },
     "execution_count": 2,
     "metadata": {},
     "output_type": "execute_result"
    }
   ],
   "source": [
    "pwd"
   ]
  },
  {
   "cell_type": "code",
   "execution_count": 3,
   "id": "ea3fdfef-9a94-48be-9264-21106d792b43",
   "metadata": {},
   "outputs": [
    {
     "name": "stdout",
     "output_type": "stream",
     "text": [
      " 02_Feb_Assignment.ipynb      Day4.ipynb\n",
      "'30th jan assignment.ipynb'   Day5_Tuples,set,dic.ipynb\n",
      "'3Feb Assignment.ipynb'       Day6_Functions.ipynb\n",
      "'4Feb Assignment.ipynb'       Day7_Map,reduce,filter.ipynb\n",
      "'5th Feb Assignment.ipynb'    Files.ipynb\n",
      "'9 Feb assignment.ipynb'      LICENSE\n",
      " Date3.ipynb                 'OOPS concept.ipynb'\n",
      " Day1.ipynb                   README.md\n",
      " Day2.ipynb                   test.txt\n"
     ]
    }
   ],
   "source": [
    "ls\n"
   ]
  },
  {
   "cell_type": "code",
   "execution_count": 4,
   "id": "7648456b-ab08-41fa-80e0-9fc61f1e5530",
   "metadata": {},
   "outputs": [
    {
     "data": {
      "text/plain": [
       "44"
      ]
     },
     "execution_count": 4,
     "metadata": {},
     "output_type": "execute_result"
    }
   ],
   "source": [
    "f.write('this is my first write operation in the file')"
   ]
  },
  {
   "cell_type": "code",
   "execution_count": 5,
   "id": "832c8cd6-1552-48ca-bec0-1bf3b8bb8173",
   "metadata": {},
   "outputs": [],
   "source": [
    "f.close()"
   ]
  },
  {
   "cell_type": "code",
   "execution_count": 6,
   "id": "61934a09-d31d-4dfd-93d1-dd4490788f7c",
   "metadata": {},
   "outputs": [],
   "source": [
    "data = open(\"test.txt\",'r')"
   ]
  },
  {
   "cell_type": "code",
   "execution_count": 7,
   "id": "5a9d1920-9ec4-48e0-a047-4519830c2986",
   "metadata": {},
   "outputs": [
    {
     "data": {
      "text/plain": [
       "'this is my first write operation in the file'"
      ]
     },
     "execution_count": 7,
     "metadata": {},
     "output_type": "execute_result"
    }
   ],
   "source": [
    "data.read()"
   ]
  },
  {
   "cell_type": "code",
   "execution_count": 8,
   "id": "8119763c-269b-41fa-8cf9-6a7772fa8eab",
   "metadata": {},
   "outputs": [
    {
     "data": {
      "text/plain": [
       "''"
      ]
     },
     "execution_count": 8,
     "metadata": {},
     "output_type": "execute_result"
    }
   ],
   "source": [
    "data.read()"
   ]
  },
  {
   "cell_type": "code",
   "execution_count": 9,
   "id": "58e6ae73-57ec-4bfb-961c-88aa5e86a847",
   "metadata": {},
   "outputs": [
    {
     "data": {
      "text/plain": [
       "0"
      ]
     },
     "execution_count": 9,
     "metadata": {},
     "output_type": "execute_result"
    }
   ],
   "source": [
    "## reset cursor\n",
    "\n",
    "data.seek(0)"
   ]
  },
  {
   "cell_type": "code",
   "execution_count": 10,
   "id": "57db6578-60de-4510-80b1-156d154b82f8",
   "metadata": {},
   "outputs": [
    {
     "data": {
      "text/plain": [
       "'this is my first write operation in the file'"
      ]
     },
     "execution_count": 10,
     "metadata": {},
     "output_type": "execute_result"
    }
   ],
   "source": [
    "data.read()"
   ]
  },
  {
   "cell_type": "code",
   "execution_count": 11,
   "id": "b28a29f9-e827-40c1-8b9c-991f17bd8c14",
   "metadata": {},
   "outputs": [
    {
     "data": {
      "text/plain": [
       "5"
      ]
     },
     "execution_count": 11,
     "metadata": {},
     "output_type": "execute_result"
    }
   ],
   "source": [
    "data.seek(5)"
   ]
  },
  {
   "cell_type": "code",
   "execution_count": 12,
   "id": "1039e44e-1542-4646-9d31-ac7848a7aea1",
   "metadata": {},
   "outputs": [
    {
     "data": {
      "text/plain": [
       "'is my first write operation in the file'"
      ]
     },
     "execution_count": 12,
     "metadata": {},
     "output_type": "execute_result"
    }
   ],
   "source": [
    "data.read()"
   ]
  },
  {
   "cell_type": "code",
   "execution_count": 13,
   "id": "da9d928e-a575-41ed-8aea-b3dd82a5d434",
   "metadata": {},
   "outputs": [],
   "source": [
    "data1 = open('test.txt','r')"
   ]
  },
  {
   "cell_type": "code",
   "execution_count": 14,
   "id": "0f87333d-97a3-49ce-bdc9-114edec7e9a4",
   "metadata": {},
   "outputs": [
    {
     "name": "stdout",
     "output_type": "stream",
     "text": [
      "this is my first write operation in the file\n"
     ]
    }
   ],
   "source": [
    "for i in data1:\n",
    "    print (i)"
   ]
  },
  {
   "cell_type": "code",
   "execution_count": 15,
   "id": "e3ce08b3-3bb7-4811-b476-f686fb860386",
   "metadata": {},
   "outputs": [],
   "source": [
    "import os"
   ]
  },
  {
   "cell_type": "code",
   "execution_count": 16,
   "id": "b5f0f4fd-cd14-4513-8e4c-e90abd8a2f5f",
   "metadata": {},
   "outputs": [
    {
     "data": {
      "text/plain": [
       "44"
      ]
     },
     "execution_count": 16,
     "metadata": {},
     "output_type": "execute_result"
    }
   ],
   "source": [
    "os.path.getsize('test.txt')"
   ]
  },
  {
   "cell_type": "code",
   "execution_count": 17,
   "id": "c541be9b-33d6-402d-82a2-7deb49a9f252",
   "metadata": {},
   "outputs": [],
   "source": [
    "import shutil"
   ]
  },
  {
   "cell_type": "code",
   "execution_count": 18,
   "id": "d49a1fcc-1674-40ec-8eb8-66fd33d54365",
   "metadata": {},
   "outputs": [
    {
     "data": {
      "text/plain": [
       "'new_test.txt'"
      ]
     },
     "execution_count": 18,
     "metadata": {},
     "output_type": "execute_result"
    }
   ],
   "source": [
    "shutil.copy('test.txt','new_test.txt')"
   ]
  },
  {
   "cell_type": "code",
   "execution_count": 19,
   "id": "71a56e6e-f25f-437e-9dd9-ad90813bf686",
   "metadata": {},
   "outputs": [],
   "source": [
    "os.remove('new_test.txt')"
   ]
  },
  {
   "cell_type": "code",
   "execution_count": 20,
   "id": "c550133b-fcec-4f54-b3a3-febdea20f176",
   "metadata": {},
   "outputs": [
    {
     "name": "stdout",
     "output_type": "stream",
     "text": [
      "this is my first write operation in the file\n"
     ]
    }
   ],
   "source": [
    "with open('test.txt','r') as f:\n",
    "    print(f.read())"
   ]
  },
  {
   "cell_type": "code",
   "execution_count": 21,
   "id": "0b1db7d7-f2ec-42c1-87e2-e5b33c71bd8b",
   "metadata": {},
   "outputs": [],
   "source": [
    "os.rename('test.txt','test1.txt')"
   ]
  },
  {
   "cell_type": "code",
   "execution_count": 23,
   "id": "51be4424-92ff-4a70-80e1-27349cb177a2",
   "metadata": {},
   "outputs": [],
   "source": [
    "data = {\n",
    "    'name' : 'sudh',\n",
    "    'mail_id' : 'sdh@gmail.com',\n",
    "    'phone_number' : 95654478,\n",
    "    'subject' : ['data science','big data','data analytics']\n",
    "}"
   ]
  },
  {
   "cell_type": "code",
   "execution_count": 24,
   "id": "6078640c-f3c4-43f3-afa0-3285de4b238e",
   "metadata": {},
   "outputs": [],
   "source": [
    "import json "
   ]
  },
  {
   "cell_type": "code",
   "execution_count": 25,
   "id": "64abbb42-5d07-41a9-b7df-c35be014529e",
   "metadata": {},
   "outputs": [],
   "source": [
    "with open ('test1.json','w') as f:\n",
    "    json.dump(data,f)"
   ]
  },
  {
   "cell_type": "code",
   "execution_count": 28,
   "id": "06fa74e1-ce06-4e84-8e99-866b06b0f04a",
   "metadata": {},
   "outputs": [],
   "source": [
    "with open ('test1.json','r') as f:\n",
    "    data1 = json.load(f)"
   ]
  },
  {
   "cell_type": "code",
   "execution_count": 29,
   "id": "c76832d3-58be-44a7-9418-14972bbdd123",
   "metadata": {},
   "outputs": [
    {
     "data": {
      "text/plain": [
       "{'name': 'sudh',\n",
       " 'mail_id': 'sdh@gmail.com',\n",
       " 'phone_number': 95654478,\n",
       " 'subject': ['data science', 'big data', 'data analytics']}"
      ]
     },
     "execution_count": 29,
     "metadata": {},
     "output_type": "execute_result"
    }
   ],
   "source": [
    "data1"
   ]
  },
  {
   "cell_type": "code",
   "execution_count": 31,
   "id": "1bc54142-164a-4124-a3d7-c61063899cc6",
   "metadata": {},
   "outputs": [
    {
     "data": {
      "text/plain": [
       "'big data'"
      ]
     },
     "execution_count": 31,
     "metadata": {},
     "output_type": "execute_result"
    }
   ],
   "source": [
    "data1['subject'][1]"
   ]
  },
  {
   "cell_type": "code",
   "execution_count": 32,
   "id": "fb6615d0-0424-48fb-98e3-13216887243c",
   "metadata": {},
   "outputs": [],
   "source": [
    "data = [['name','email_id','number'],\n",
    "       ['sudh','sath@gmail',123456],\n",
    "        ['krish','krish@gmail',5648779]     \n",
    "       ]"
   ]
  },
  {
   "cell_type": "code",
   "execution_count": 33,
   "id": "c2ae9c19-fd3d-477c-bee8-a137c9223330",
   "metadata": {},
   "outputs": [],
   "source": [
    "import csv"
   ]
  },
  {
   "cell_type": "code",
   "execution_count": 37,
   "id": "c04195e5-fd45-44b1-afa5-6b1ef39ec1d7",
   "metadata": {},
   "outputs": [],
   "source": [
    "with open('test3.txt','w') as f:\n",
    "    w = csv.writer(f)\n",
    "    for i in data:\n",
    "        w.writerow(i)"
   ]
  },
  {
   "cell_type": "code",
   "execution_count": 38,
   "id": "5aa64a2b-9a13-43b1-be3f-b64145216e0a",
   "metadata": {},
   "outputs": [
    {
     "name": "stdout",
     "output_type": "stream",
     "text": [
      "['name', 'email_id', 'number']\n",
      "['sudh', 'sath@gmail', '123456']\n",
      "['krish', 'krish@gmail', '5648779']\n"
     ]
    }
   ],
   "source": [
    "with open('test3.txt','r') as f:\n",
    "    read = csv.reader(f)\n",
    "    for i in read:\n",
    "        print(i)"
   ]
  },
  {
   "cell_type": "code",
   "execution_count": 39,
   "id": "830296b9-9a18-482a-bf2f-d0542a0a70cd",
   "metadata": {},
   "outputs": [],
   "source": [
    "with open ('test4.bin','wb') as f: ## wb - write binary\n",
    "    f.write(b'\\x01\\x02\\x03')"
   ]
  },
  {
   "cell_type": "code",
   "execution_count": 41,
   "id": "365b7324-df6f-43ec-93c6-0c35aaf6eae3",
   "metadata": {},
   "outputs": [
    {
     "name": "stdout",
     "output_type": "stream",
     "text": [
      "b'\\x01\\x02\\x03'\n"
     ]
    }
   ],
   "source": [
    "with open ('test4.bin','rb') as f:\n",
    "    print(f.read())"
   ]
  },
  {
   "cell_type": "markdown",
   "id": "227c4f29-a6c9-49dc-81bd-85cbe66b4cce",
   "metadata": {},
   "source": [
    "### buffer read write and other file method"
   ]
  },
  {
   "cell_type": "code",
   "execution_count": 43,
   "id": "d4a2be87-5149-4224-baaf-449c9231add9",
   "metadata": {},
   "outputs": [],
   "source": [
    "import io"
   ]
  },
  {
   "cell_type": "code",
   "execution_count": 49,
   "id": "643eec8e-1e3d-420b-b1d8-4f126f72c05d",
   "metadata": {},
   "outputs": [],
   "source": [
    "with open ('test5.txt','wb') as f:\n",
    "    file = io.BufferedWriter(f)\n",
    "    file.write(b'Data Science Masters course is highly curated and uniquely designed according to the latest industry standards. This program instills students the skills essential to knowledge discovery efforts to identify standard, novel, and truly differentiated solutions and decision-making, including skills in managing, querying, analyzing, visualizing, and extracting meaning from extremely large data sets. This trending program provides students with the statistical, mathematical and computational skills needed to meet the large-scale data science challenges of todays professional world. You will learn all the stack required to work in data science industry including cloud infrastructure and real-time industry projectse\\n')\n",
    "    file.write(b'this is my second line that i am tring to write')\n",
    "    file.flush()"
   ]
  },
  {
   "cell_type": "code",
   "execution_count": 61,
   "id": "66364a14-cc7d-45d7-befb-80d3f49f9f92",
   "metadata": {},
   "outputs": [
    {
     "name": "stdout",
     "output_type": "stream",
     "text": [
      "b'Data Science Masters course is highly curated and uniquely designed according to the latest industry'\n"
     ]
    }
   ],
   "source": [
    "with open ('test5.txt','rb') as f:\n",
    "    file = io.(f)\n",
    "    data = file.read(100)\n",
    "    print(data)"
   ]
  },
  {
   "cell_type": "markdown",
   "id": "97f7f1d0-d56d-4467-be74-ce5746775105",
   "metadata": {},
   "source": [
    "## Logging & Debugging"
   ]
  },
  {
   "cell_type": "code",
   "execution_count": 62,
   "id": "28d45a3a-9804-4830-baba-2d3fdd55ba0d",
   "metadata": {},
   "outputs": [
    {
     "name": "stdout",
     "output_type": "stream",
     "text": [
      "this is my print statement\n"
     ]
    }
   ],
   "source": [
    "print('this is my print statement')"
   ]
  },
  {
   "cell_type": "code",
   "execution_count": 1,
   "id": "2a74de93-08c4-4d91-a5a6-4bbf379ca745",
   "metadata": {},
   "outputs": [],
   "source": [
    "import logging"
   ]
  },
  {
   "cell_type": "code",
   "execution_count": 64,
   "id": "56f9a135-d658-461a-9b6c-f9a5285d8fc6",
   "metadata": {},
   "outputs": [],
   "source": [
    "logging.basicConfig(filename = 'test7.log',level = logging.INFO)"
   ]
  },
  {
   "cell_type": "code",
   "execution_count": 65,
   "id": "64671948-4c6b-4b8a-8a57-6cdd6fe1de03",
   "metadata": {},
   "outputs": [],
   "source": [
    "logging.info('this is my line of execution')"
   ]
  },
  {
   "cell_type": "code",
   "execution_count": 66,
   "id": "8d286098-0654-4711-a5fe-c4713ee128ca",
   "metadata": {},
   "outputs": [],
   "source": [
    "logging.error('this my error')"
   ]
  },
  {
   "cell_type": "code",
   "execution_count": 67,
   "id": "e01348fa-801c-49b6-a339-17f3480470e5",
   "metadata": {},
   "outputs": [],
   "source": [
    "logging.critical(' this is critical')"
   ]
  },
  {
   "cell_type": "markdown",
   "id": "aa875f85-83d5-4320-bfce-b54323d31859",
   "metadata": {},
   "source": [
    "1. NOSET\n",
    "2. DEBUG\n",
    "3. INFO\n",
    "4. WARNING\n",
    "5. ERROR\n",
    "6. CRITICAL\n"
   ]
  },
  {
   "cell_type": "code",
   "execution_count": 68,
   "id": "9386369f-a87e-4954-9843-a74bdc6382c2",
   "metadata": {},
   "outputs": [],
   "source": [
    "logging.warning('this is my warning')"
   ]
  },
  {
   "cell_type": "code",
   "execution_count": 69,
   "id": "b90803f4-28d5-474a-bb39-b41262cc2d46",
   "metadata": {},
   "outputs": [],
   "source": [
    "logging.debug('this is my info related to debug')"
   ]
  },
  {
   "cell_type": "code",
   "execution_count": 70,
   "id": "ebde4b0e-c223-4d66-8163-79ef3d49d350",
   "metadata": {},
   "outputs": [
    {
     "ename": "AttributeError",
     "evalue": "module 'logging' has no attribute 'noset'",
     "output_type": "error",
     "traceback": [
      "\u001b[0;31m---------------------------------------------------------------------------\u001b[0m",
      "\u001b[0;31mAttributeError\u001b[0m                            Traceback (most recent call last)",
      "Cell \u001b[0;32mIn[70], line 1\u001b[0m\n\u001b[0;32m----> 1\u001b[0m \u001b[43mlogging\u001b[49m\u001b[38;5;241;43m.\u001b[39;49m\u001b[43mnoset\u001b[49m(\u001b[38;5;124m'\u001b[39m\u001b[38;5;124mthis is my noset\u001b[39m\u001b[38;5;124m'\u001b[39m)\n",
      "\u001b[0;31mAttributeError\u001b[0m: module 'logging' has no attribute 'noset'"
     ]
    }
   ],
   "source": [
    "logging.noset('this is my noset')"
   ]
  },
  {
   "cell_type": "code",
   "execution_count": 2,
   "id": "d756a0f3-2746-4c6d-adac-88baa0c40834",
   "metadata": {},
   "outputs": [],
   "source": [
    "logging.basicConfig(filename = 'test8.log',level = logging.DEBUG, format = '%(asctime)s %(message)s')"
   ]
  },
  {
   "cell_type": "code",
   "execution_count": 3,
   "id": "c57873c1-81cf-4c82-9ad4-08da0f3cdd25",
   "metadata": {},
   "outputs": [],
   "source": [
    "logging.info(\"this is my info log\")"
   ]
  },
  {
   "cell_type": "code",
   "execution_count": 4,
   "id": "da1d46e0-2945-46e0-9eb8-5706e5434eb5",
   "metadata": {},
   "outputs": [],
   "source": [
    "logging.debug(\"this is my debug log\")"
   ]
  },
  {
   "cell_type": "code",
   "execution_count": 5,
   "id": "7ec465c3-6160-4fec-b52d-b4e0537aab15",
   "metadata": {},
   "outputs": [],
   "source": [
    "logging.warning('this is my warning')"
   ]
  },
  {
   "cell_type": "code",
   "execution_count": 6,
   "id": "7c101214-88f7-4b01-b488-c09294266ffe",
   "metadata": {},
   "outputs": [],
   "source": [
    "logging.shutdown()"
   ]
  },
  {
   "cell_type": "code",
   "execution_count": 3,
   "id": "efa99cac-77e5-455f-b4b5-18f5d5976535",
   "metadata": {},
   "outputs": [],
   "source": [
    "logging.basicConfig(filename = 'test9.log',level = logging.DEBUG, format = '%(asctime)s %(name)s %(levelname)s %(message)s')"
   ]
  },
  {
   "cell_type": "code",
   "execution_count": 4,
   "id": "ceda8a5c-fb40-453f-80ad-3f2c50dcf8a0",
   "metadata": {},
   "outputs": [],
   "source": [
    "logging.info('thi is my info log')"
   ]
  },
  {
   "cell_type": "code",
   "execution_count": 5,
   "id": "5b1fdb6f-2836-406c-9d83-4291b20c0084",
   "metadata": {},
   "outputs": [],
   "source": [
    "l = [1,2,3,4,[5,6,7],'sudh','kumar']"
   ]
  },
  {
   "cell_type": "code",
   "execution_count": 9,
   "id": "5cceb414-00b5-4006-815e-e1f2797df115",
   "metadata": {},
   "outputs": [],
   "source": [
    "l1_int = []\n",
    "l2_str = []\n",
    "\n",
    "for i in l:\n",
    "    logging.info('this is the start of my first for loop{}'.format(l))\n",
    "    logging.info('this is the value of i am logging {}'.format(i))\n",
    "    if type(i) ==list:\n",
    "        for j in i:\n",
    "            if type(j) == int:\n",
    "                l1_int.append(j)\n",
    "    elif type(i) == int:\n",
    "        l1_int.append(i)\n",
    "    else:\n",
    "        if type(i) == str:\n",
    "            l2_str.append(i)"
   ]
  },
  {
   "cell_type": "code",
   "execution_count": 7,
   "id": "f4b606ab-51a0-43a6-af43-32bfa50222f0",
   "metadata": {},
   "outputs": [
    {
     "data": {
      "text/plain": [
       "[1, 2, 3, 4, 5, 6, 7]"
      ]
     },
     "execution_count": 7,
     "metadata": {},
     "output_type": "execute_result"
    }
   ],
   "source": [
    "l1_int"
   ]
  },
  {
   "cell_type": "code",
   "execution_count": 8,
   "id": "5b66a10d-c91f-4181-9125-8aa1ddd6fed3",
   "metadata": {},
   "outputs": [
    {
     "data": {
      "text/plain": [
       "['sudh', 'kumar']"
      ]
     },
     "execution_count": 8,
     "metadata": {},
     "output_type": "execute_result"
    }
   ],
   "source": [
    "l2_str"
   ]
  },
  {
   "cell_type": "markdown",
   "id": "1d111542-d3b4-4b93-b1a7-b6b2a031151b",
   "metadata": {},
   "source": [
    "## modules and packages"
   ]
  },
  {
   "cell_type": "code",
   "execution_count": null,
   "id": "8034e3c5-5dda-4f8b-a136-de8ba5de1664",
   "metadata": {},
   "outputs": [],
   "source": []
  }
 ],
 "metadata": {
  "kernelspec": {
   "display_name": "Python 3 (ipykernel)",
   "language": "python",
   "name": "python3"
  },
  "language_info": {
   "codemirror_mode": {
    "name": "ipython",
    "version": 3
   },
   "file_extension": ".py",
   "mimetype": "text/x-python",
   "name": "python",
   "nbconvert_exporter": "python",
   "pygments_lexer": "ipython3",
   "version": "3.10.8"
  }
 },
 "nbformat": 4,
 "nbformat_minor": 5
}
