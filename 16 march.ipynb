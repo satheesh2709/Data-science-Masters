{
 "cells": [
  {
   "cell_type": "markdown",
   "id": "aa458a5b-680f-40e0-bbdd-e71097f855b9",
   "metadata": {},
   "source": [
    "### Q1: Define overfitting and underfitting in machine learning. What are the consequences of each, and how can they be mitigated?\n",
    "\n",
    "#### Overfitting - when training model accuracy is high but testing accuracy is low - low bias and high variance\n",
    "#### Underfitting - when training moderl accuracy is low and testing accuracy is low or high - high bias and high variance"
   ]
  },
  {
   "cell_type": "markdown",
   "id": "7ba7752d-2253-4a0c-921d-1c6e812d0dd9",
   "metadata": {},
   "source": [
    "### Q2: How can we reduce overfitting? Explain in brief\n",
    "\n",
    "1. Early stopping\n",
    "2. Pruning\n",
    "3. regularization\n",
    "4. ensembling\n",
    "5. data augmentation"
   ]
  },
  {
   "cell_type": "markdown",
   "id": "1f38cb1f-b52f-467b-a58b-3bee3764f4ee",
   "metadata": {},
   "source": [
    "### Q3: Explain underfitting. List scenarios where underfitting can occur in ML\n",
    "\n",
    "#### nderfitting is another type of error that occurs when the model cannot determine a meaningful relationship between the input and output data. You get underfit models if they have not trained for the appropriate length of time on a large number of data points."
   ]
  },
  {
   "cell_type": "markdown",
   "id": "10c84829-ad48-41dd-ae11-2900a9d8f862",
   "metadata": {},
   "source": [
    "### Q4: Explain the bias-variance tradeoff in machine learning. What is the relationship between bias and variance, and how do they affect model performance?\n",
    "\n",
    "#### the property of a model that the variance of the parameter estimated across samples can be reduced by increasing the bias in the estimated parameters\n",
    "\n",
    "#### Bias and variance are inversely connected. It is impossible to have an ML model with a low bias and a low variance"
   ]
  },
  {
   "cell_type": "markdown",
   "id": "7dcaff9d-3895-4536-a580-ccab7074c2a3",
   "metadata": {},
   "source": [
    "### Q5: Discuss some common methods for detecting overfitting and underfitting in machine learning models. How can you determine whether your model is overfitting or underfitting?\n",
    "\n",
    "#### We can determine whether a predictive model is underfitting or overfitting the training data by looking at the prediction error on the training data and the evaluation data\n"
   ]
  },
  {
   "cell_type": "markdown",
   "id": "c1e18d40-ef65-4354-8903-6124057baa6c",
   "metadata": {},
   "source": [
    "### Q6: Compare and contrast bias and variance in machine learning. What are some examples of high bias and high variance models, and how do they differ in terms of their performance?\n",
    "\n"
   ]
  },
  {
   "cell_type": "markdown",
   "id": "d5091097-c22c-4055-936c-6e0aba73cd40",
   "metadata": {},
   "source": [
    "### Q7: What is regularization in machine learning, and how can it be used to prevent overfitting? Describe some common regularization techniques and how they work.\n",
    "\n",
    "#### Regularization is a technique that adds information to a model to prevent the occurrence of overfitting.\n",
    "#### It is a type of regression that minimizes the coefficient estimates to zero to reduce the capacity (size) of a model\n",
    "#### modifying the loss function, sampling method, or the training approach itself"
   ]
  },
  {
   "cell_type": "code",
   "execution_count": null,
   "id": "b5c61d23-6938-4f82-9f78-2e08884717fb",
   "metadata": {},
   "outputs": [],
   "source": []
  }
 ],
 "metadata": {
  "kernelspec": {
   "display_name": "Python 3 (ipykernel)",
   "language": "python",
   "name": "python3"
  },
  "language_info": {
   "codemirror_mode": {
    "name": "ipython",
    "version": 3
   },
   "file_extension": ".py",
   "mimetype": "text/x-python",
   "name": "python",
   "nbconvert_exporter": "python",
   "pygments_lexer": "ipython3",
   "version": "3.10.8"
  }
 },
 "nbformat": 4,
 "nbformat_minor": 5
}
