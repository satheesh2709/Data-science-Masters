{
 "cells": [
  {
   "cell_type": "markdown",
   "id": "58c867de-ace5-40bb-8acc-84ddd83d5ded",
   "metadata": {},
   "source": [
    "### Q1. Explain the difference between simple linear regression and multiple linear regression. Provide an example of each."
   ]
  },
  {
   "cell_type": "markdown",
   "id": "92963b21-74de-4f8c-9457-ce4789e3fcf4",
   "metadata": {},
   "source": [
    "#### simple linear regression - Has one input and one output variable ex:to predict weight if we knew an individual's height\n",
    "#### Multiple linear regression - has two or more input variable and one output variable ex: predicting a price of an estate based on no of room, location and land size\n",
    "\n"
   ]
  },
  {
   "cell_type": "markdown",
   "id": "1d2534e0-e6c0-42bb-84d8-9ebd6977d295",
   "metadata": {},
   "source": [
    "### Q2. Discuss the assumptions of linear regression. How can you check whether these assumptions hold in a given dataset?"
   ]
  },
  {
   "cell_type": "markdown",
   "id": "3454bf51-e9de-450e-88cb-959042143e0f",
   "metadata": {},
   "source": [
    "#### There is a linear relationship between the predictors (x) and the outcome (y)\n",
    "#### Predictors (x) are independent and observed with negligible error\n",
    "#### Residual Errors have a mean value of zero\n",
    "#### Residual Errors have constant variance\n",
    "#### Residual Errors are independent from each other and predictors (x)"
   ]
  },
  {
   "cell_type": "markdown",
   "id": "e5521066-d583-40de-b02e-e5a14de39765",
   "metadata": {},
   "source": [
    "### Q3. How do you interpret the slope and intercept in a linear regression model? Provide an example using a real-world scenario."
   ]
  },
  {
   "cell_type": "markdown",
   "id": "34b6ec2f-20e6-4797-b7a6-ddb61bd16d24",
   "metadata": {},
   "source": [
    "#### First calculate the slope-intercept formula: y = mx + b"
   ]
  },
  {
   "cell_type": "markdown",
   "id": "1e65ef94-ac95-4e06-afa6-3d9d29b2ad20",
   "metadata": {},
   "source": [
    "### Q4. Explain the concept of gradient descent. How is it used in machine learning?"
   ]
  },
  {
   "cell_type": "markdown",
   "id": "e63198e4-d15c-4c8d-a9f4-a86bc1b00a8f",
   "metadata": {},
   "source": [
    "Gradient descent is an optimization algorithm which is commonly-used to train machine learning models and neural networks.  Training data helps these models learn over time, and the cost function within gradient descent specifically acts as a barometer, gauging its accuracy with each iteration of parameter updates. Until the function is close to or equal to zero, the model will continue to adjust its parameters to yield the smallest possible error. Once machine learning models are optimized for accuracy, they can be powerful tools for artificial intelligence (AI) and computer science applications."
   ]
  },
  {
   "cell_type": "markdown",
   "id": "45354f8c-5bcc-44a7-87fd-bd7debbcb60d",
   "metadata": {},
   "source": [
    "#### Q5. Describe the multiple linear regression model. How does it differ from simple linear regression?"
   ]
  },
  {
   "cell_type": "markdown",
   "id": "bc8031e6-cdad-4f68-aac1-b8a0db6694db",
   "metadata": {},
   "source": [
    "#### Multiple regression is a broader class of regressions that encompasses linear and nonlinear regressions with multiple explanatory variables. Whereas linear regress only has one independent variable impacting the slope of the relationship, multiple regression incorporates multiple independent variables"
   ]
  },
  {
   "cell_type": "markdown",
   "id": "4553a8cb-c8c8-49b9-9d6d-202f416f9178",
   "metadata": {},
   "source": [
    "### Q6. Explain the concept of multicollinearity in multiple linear regression. How can you detect and address this issue?"
   ]
  },
  {
   "cell_type": "markdown",
   "id": "d41cbe28-0f96-46a4-befd-9fa657aa78a4",
   "metadata": {},
   "source": [
    "#### Multicollinearity happens when independent variables in the regression model are highly correlated to each other. It makes it hard to interpret of model and also creates an overfitting problem. \n",
    "\n",
    "####  calculate the variance inflation factor (VIF) for each independent variable"
   ]
  },
  {
   "cell_type": "markdown",
   "id": "c8326d6a-ccec-43e5-905d-6f31d1954786",
   "metadata": {},
   "source": [
    "#### Q7. Describe the polynomial regression model. How is it different from linear regression?"
   ]
  },
  {
   "cell_type": "markdown",
   "id": "03cdf7aa-e9dd-43d8-9bc0-ecc841e13125",
   "metadata": {},
   "source": [
    "#### polynomial regression model is a machine learning model that can capture non-linear relationships between variables by fitting a non-linear regression line, which may not be possible with simple linear regression."
   ]
  },
  {
   "cell_type": "markdown",
   "id": "469df16a-8579-4c23-b9d1-79040448fc38",
   "metadata": {},
   "source": [
    "### Q8. What are the advantages and disadvantages of polynomial regression compared to linear regression? In what situations would you prefer to use polynomial regression? "
   ]
  },
  {
   "cell_type": "markdown",
   "id": "0923ed2b-78da-4ac8-a574-cfa2ed98acfc",
   "metadata": {},
   "source": [
    "#### Avantages\n",
    "\n",
    "Polynomial provides the best approximation of the relationship between the dependent and independent variable.\n",
    "A Broad range of function can be fit under it.\n",
    "Polynomial basically fits a wide range of curvature.\n",
    "\n",
    "#### Disadvantage\n",
    "\n",
    "The presence of one or two outliers in the data can seriously affect the results of the nonlinear analysis.\n",
    "These are too sensitive to the outliers.\n",
    "In addition, there are unfortunately fewer model validation tools for the detection of outliers in nonlinear regression than there are for linear regression"
   ]
  },
  {
   "cell_type": "code",
   "execution_count": null,
   "id": "ac4b3d28-e605-4210-aa17-0a75a94e5b4f",
   "metadata": {},
   "outputs": [],
   "source": []
  }
 ],
 "metadata": {
  "kernelspec": {
   "display_name": "Python 3 (ipykernel)",
   "language": "python",
   "name": "python3"
  },
  "language_info": {
   "codemirror_mode": {
    "name": "ipython",
    "version": 3
   },
   "file_extension": ".py",
   "mimetype": "text/x-python",
   "name": "python",
   "nbconvert_exporter": "python",
   "pygments_lexer": "ipython3",
   "version": "3.10.8"
  }
 },
 "nbformat": 4,
 "nbformat_minor": 5
}
