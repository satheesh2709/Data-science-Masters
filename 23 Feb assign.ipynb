{
 "cells": [
  {
   "cell_type": "markdown",
   "id": "012fe423-03b6-4e24-a464-9d0e2b06e97d",
   "metadata": {},
   "source": [
    "Q1. Create a Pandas Series that contains the following data: 4, 8, 15, 16, 23, and 42. Then, print the series."
   ]
  },
  {
   "cell_type": "code",
   "execution_count": 2,
   "id": "273a645b-006f-47fe-b5d3-8f5161708a1a",
   "metadata": {},
   "outputs": [],
   "source": [
    "import pandas as pd"
   ]
  },
  {
   "cell_type": "code",
   "execution_count": 5,
   "id": "df576573-b70d-4dea-810a-4c29c805bf75",
   "metadata": {},
   "outputs": [
    {
     "name": "stdout",
     "output_type": "stream",
     "text": [
      "0     4\n",
      "1     8\n",
      "2    16\n",
      "3    23\n",
      "4    42\n",
      "dtype: int64\n"
     ]
    }
   ],
   "source": [
    "data = (4,8,16,23,42)\n",
    "ser = pd.Series(data)\n",
    "print(ser)"
   ]
  },
  {
   "cell_type": "markdown",
   "id": "d5908bb7-f878-4d42-8def-abad58e3c854",
   "metadata": {},
   "source": [
    "Q2. Create a variable of list type containing 10 elements in it, and apply pandas.Series function on the variable print it."
   ]
  },
  {
   "cell_type": "code",
   "execution_count": 8,
   "id": "b4bfde3b-2ac0-4c06-b07d-dc0fb6a19922",
   "metadata": {},
   "outputs": [
    {
     "name": "stdout",
     "output_type": "stream",
     "text": [
      "0                   pwskills\n",
      "1                       sudh\n",
      "2                      kumar\n",
      "3                   satheesh\n",
      "4                      krish\n",
      "5                       naik\n",
      "6                          1\n",
      "7                          2\n",
      "8                          3\n",
      "9                collegewala\n",
      "10    this is getting boring\n",
      "dtype: object\n"
     ]
    }
   ],
   "source": [
    "data1 = ('pwskills','sudh','kumar','satheesh','krish','naik',1,2,3,'collegewala','this is getting boring')\n",
    "ser1 = pd.Series(data1)\n",
    "print(ser1)"
   ]
  },
  {
   "cell_type": "markdown",
   "id": "835a77d1-ae5a-4f22-949d-3f073bdda1e0",
   "metadata": {},
   "source": [
    "Q3. Create a Pandas DataFrame that contains the following data:Then, print the DataFrame."
   ]
  },
  {
   "cell_type": "code",
   "execution_count": 11,
   "id": "7eff41b2-2e6b-4dcc-8644-807d6d5c4637",
   "metadata": {},
   "outputs": [],
   "source": [
    "data3 = {'Name':('Alice','Bob','Clarie'),\n",
    "        'Age' : (25,30,27),\n",
    "         'Gender':('Female','Male','Female')        \n",
    "        }"
   ]
  },
  {
   "cell_type": "code",
   "execution_count": 12,
   "id": "fb037056-de67-4b9d-9a3b-7b7e598d098b",
   "metadata": {},
   "outputs": [
    {
     "data": {
      "text/plain": [
       "{'Name': ('Alice', 'Bob', 'Clarie'),\n",
       " 'Age': (25, 30, 27),\n",
       " 'Gender': ('Female', 'Male', 'Female')}"
      ]
     },
     "execution_count": 12,
     "metadata": {},
     "output_type": "execute_result"
    }
   ],
   "source": [
    "data3"
   ]
  },
  {
   "cell_type": "code",
   "execution_count": 14,
   "id": "42e43697-8454-48d3-8725-014a4cceb376",
   "metadata": {},
   "outputs": [],
   "source": [
    "df = pd.DataFrame(data3)"
   ]
  },
  {
   "cell_type": "code",
   "execution_count": 17,
   "id": "e46cbede-8241-4e24-8d8d-0b17457dcf45",
   "metadata": {},
   "outputs": [
    {
     "name": "stdout",
     "output_type": "stream",
     "text": [
      "     Name  Age  Gender\n",
      "0   Alice   25  Female\n",
      "1     Bob   30    Male\n",
      "2  Clarie   27  Female\n"
     ]
    }
   ],
   "source": [
    "print(df)"
   ]
  },
  {
   "cell_type": "markdown",
   "id": "af4c2edf-30ab-4c2b-b059-123a57548d57",
   "metadata": {},
   "source": [
    "Q4. What is ‘DataFrame’ in pandas and how is it different from pandas.series? Explain with an example.\n",
    "\n",
    "#### dataframe is tabular structure of data with multiple row and columns which is similar to SQL table\n",
    "#### series is one dimensional labelled array which is similar to a column in table"
   ]
  },
  {
   "cell_type": "code",
   "execution_count": 18,
   "id": "a8fabe37-0a3b-41bf-8b98-1cf1a39cce70",
   "metadata": {},
   "outputs": [],
   "source": [
    "data3 = {'Name':('Alice','Bob','Clarie'),\n",
    "        'Age' : (25,30,27),\n",
    "         'Gender':('Female','Male','Female')        \n",
    "        }\n",
    "\n",
    "df = pd.DataFrame(data3)"
   ]
  },
  {
   "cell_type": "code",
   "execution_count": 20,
   "id": "6b7c8d79-dfd4-46ad-8fab-2f64b68101d6",
   "metadata": {},
   "outputs": [
    {
     "name": "stdout",
     "output_type": "stream",
     "text": [
      "     Name  Age  Gender\n",
      "0   Alice   25  Female\n",
      "1     Bob   30    Male\n",
      "2  Clarie   27  Female\n"
     ]
    }
   ],
   "source": [
    "print(df)\n",
    "# this is the dataframe"
   ]
  },
  {
   "cell_type": "code",
   "execution_count": 25,
   "id": "4d8f6a4e-ff9a-4d25-a68c-a4722db0005c",
   "metadata": {},
   "outputs": [
    {
     "data": {
      "text/plain": [
       "0     Alice\n",
       "1       Bob\n",
       "2    Clarie\n",
       "Name: Name, dtype: object"
      ]
     },
     "execution_count": 25,
     "metadata": {},
     "output_type": "execute_result"
    }
   ],
   "source": [
    "df.columns\n",
    "df['Name']\n",
    "# this is the series of the column"
   ]
  },
  {
   "cell_type": "markdown",
   "id": "c2703854-4edf-4e78-9c98-40118d594b9c",
   "metadata": {},
   "source": [
    "Q5. What are some common functions you can use to manipulate data in a Pandas DataFrame? Can you give an example of when you might use one of these functions?\n",
    "\n",
    "1. head - to display the first 5 rows of table\n",
    "2. tail - to display last 5 rows of table\n",
    "3. describe - to describe a table\n",
    "4. unique - to find the unique values of a particular column\n",
    "5. Columns - to find the column name in a  table"
   ]
  },
  {
   "cell_type": "markdown",
   "id": "8fe2e469-d15a-43fe-8f83-02826de50fe5",
   "metadata": {},
   "source": [
    "Q6. Which of the following is mutable in nature Series, DataFrame, Panel?\n",
    "\n",
    "#### Series and Data frame can be mutable in pandas"
   ]
  },
  {
   "cell_type": "markdown",
   "id": "211ee0ae-3356-477f-897c-df258b8ac4f0",
   "metadata": {},
   "source": [
    "Q7. Create a DataFrame using multiple Series. Explain with an example."
   ]
  },
  {
   "cell_type": "code",
   "execution_count": 27,
   "id": "4bbc7724-bccd-42e5-b3e3-1fbb6030f773",
   "metadata": {},
   "outputs": [
    {
     "name": "stdout",
     "output_type": "stream",
     "text": [
      "   Series1 Series2  Series3\n",
      "0        1       a     10.5\n",
      "1        2       b     20.2\n",
      "2        3       c     30.1\n",
      "3        4       d     40.3\n",
      "4        5       e     50.0\n"
     ]
    }
   ],
   "source": [
    "\n",
    "data4 = {\n",
    "    'Series1': pd.Series([1, 2, 3, 4, 5]),\n",
    "    'Series2': pd.Series(['a', 'b', 'c', 'd', 'e']),\n",
    "    'Series3': pd.Series([10.5, 20.2, 30.1, 40.3, 50.0])\n",
    "}\n",
    "\n",
    "df1 = pd.DataFrame(data4)\n",
    "\n",
    "print(df1)"
   ]
  },
  {
   "cell_type": "code",
   "execution_count": null,
   "id": "a79670b4-165e-42a6-885f-8544e4445f86",
   "metadata": {},
   "outputs": [],
   "source": []
  }
 ],
 "metadata": {
  "kernelspec": {
   "display_name": "Python 3 (ipykernel)",
   "language": "python",
   "name": "python3"
  },
  "language_info": {
   "codemirror_mode": {
    "name": "ipython",
    "version": 3
   },
   "file_extension": ".py",
   "mimetype": "text/x-python",
   "name": "python",
   "nbconvert_exporter": "python",
   "pygments_lexer": "ipython3",
   "version": "3.10.8"
  }
 },
 "nbformat": 4,
 "nbformat_minor": 5
}
