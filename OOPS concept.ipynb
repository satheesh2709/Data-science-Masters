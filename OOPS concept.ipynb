{
 "cells": [
  {
   "cell_type": "markdown",
   "id": "69751bcd-3d03-40b5-b102-0bfd7829e9aa",
   "metadata": {},
   "source": [
    "### OOPs - object oriented Programming system"
   ]
  },
  {
   "cell_type": "code",
   "execution_count": 2,
   "id": "2331eb9c-2bd0-42b2-95ed-69d7ebb76e60",
   "metadata": {},
   "outputs": [],
   "source": [
    "a=1"
   ]
  },
  {
   "cell_type": "code",
   "execution_count": 3,
   "id": "b9bc40a6-5cb2-481b-b7f1-e885c0609665",
   "metadata": {},
   "outputs": [
    {
     "name": "stdout",
     "output_type": "stream",
     "text": [
      "<class 'int'>\n"
     ]
    }
   ],
   "source": [
    "print(type(a))"
   ]
  },
  {
   "cell_type": "code",
   "execution_count": 4,
   "id": "56131942-475d-4f5c-999a-b583cb7a6a44",
   "metadata": {},
   "outputs": [
    {
     "name": "stdout",
     "output_type": "stream",
     "text": [
      "<class 'str'>\n"
     ]
    }
   ],
   "source": [
    "print(type('puskills'))"
   ]
  },
  {
   "cell_type": "raw",
   "id": "73b00366-f0bd-4936-8ccb-0b0ce91f1437",
   "metadata": {},
   "source": [
    "class is blueprint or classification of real world object"
   ]
  },
  {
   "cell_type": "raw",
   "id": "269fd32b-b76b-426f-bba4-8e3b56517e21",
   "metadata": {},
   "source": [
    "class - classification of real world entity or blueprin\n",
    "maintain code\n",
    "clean code\n",
    "segregation of code\n",
    "enhance coding concept\n",
    "cleaning of code\n",
    "object - "
   ]
  },
  {
   "cell_type": "code",
   "execution_count": 5,
   "id": "e10b5058-daee-4131-bbcd-f5ddbf32c770",
   "metadata": {},
   "outputs": [],
   "source": [
    "class test:\n",
    "    pass\n"
   ]
  },
  {
   "cell_type": "code",
   "execution_count": 6,
   "id": "8ea3559b-ecba-430a-96c4-7a1e6cedc768",
   "metadata": {},
   "outputs": [],
   "source": [
    "a=test()\n",
    "## a is the object in the real work entity"
   ]
  },
  {
   "cell_type": "code",
   "execution_count": 7,
   "id": "aef75503-c0de-4b29-9798-d9ce51caf1e6",
   "metadata": {},
   "outputs": [
    {
     "data": {
      "text/plain": [
       "__main__.test"
      ]
     },
     "execution_count": 7,
     "metadata": {},
     "output_type": "execute_result"
    }
   ],
   "source": [
    "type(a)"
   ]
  },
  {
   "cell_type": "code",
   "execution_count": 8,
   "id": "3d88d32f-4ea3-496a-8580-4fc8711743bc",
   "metadata": {},
   "outputs": [
    {
     "name": "stdout",
     "output_type": "stream",
     "text": [
      "<class '__main__.test'>\n"
     ]
    }
   ],
   "source": [
    "print(type(a))\n"
   ]
  },
  {
   "cell_type": "code",
   "execution_count": 10,
   "id": "d4200926-78f3-44c9-81b4-0906d1d3a927",
   "metadata": {},
   "outputs": [],
   "source": [
    "class pwskills:\n",
    "    \n",
    "    def welcome_msg(self):\n",
    "        print('welcome to pskills')"
   ]
  },
  {
   "cell_type": "code",
   "execution_count": 8,
   "id": "f7a01bef-2299-498b-8066-348fd65e0669",
   "metadata": {},
   "outputs": [],
   "source": [
    "rohan = pwskills()"
   ]
  },
  {
   "cell_type": "code",
   "execution_count": 9,
   "id": "2fb4237f-08df-4d34-bfd0-1cfaa9a901d8",
   "metadata": {},
   "outputs": [
    {
     "name": "stdout",
     "output_type": "stream",
     "text": [
      "welcome to pskills\n"
     ]
    }
   ],
   "source": [
    "rohan.welcome_msg()"
   ]
  },
  {
   "cell_type": "code",
   "execution_count": 11,
   "id": "389c45d6-e8c5-4e1c-a0cd-c86bdd4f4449",
   "metadata": {},
   "outputs": [],
   "source": [
    "sohan = pwskills()"
   ]
  },
  {
   "cell_type": "code",
   "execution_count": 12,
   "id": "d9799486-dedb-4069-898f-2e87db1eadef",
   "metadata": {},
   "outputs": [
    {
     "name": "stdout",
     "output_type": "stream",
     "text": [
      "welcome to pskills\n"
     ]
    }
   ],
   "source": [
    "sohan.welcome_msg()"
   ]
  },
  {
   "cell_type": "raw",
   "id": "2f090732-ad30-4dda-8436-c50bd0cfeb92",
   "metadata": {},
   "source": [
    "Constructor - helps my class to take a data"
   ]
  },
  {
   "cell_type": "code",
   "execution_count": 18,
   "id": "05d49ec4-6f42-462d-996c-3d2c0bf12c07",
   "metadata": {},
   "outputs": [],
   "source": [
    "class pwskills1:\n",
    "    \n",
    "    def __init__(self, phone_number,email_id,student_id):\n",
    "        self.phone_number = phone_number\n",
    "        self.email_id = email_id\n",
    "        self.student_id = student_id\n",
    "        \n",
    "    def return_student_details(self):\n",
    "        return self.phone_number, self.email_id, self.student_id\n",
    "        "
   ]
  },
  {
   "cell_type": "code",
   "execution_count": 19,
   "id": "8c9977fc-1df8-4a35-ad7d-51c813be69f8",
   "metadata": {},
   "outputs": [],
   "source": [
    "rohan = pwskills1(9897325,'rohan@gmail.com',101)"
   ]
  },
  {
   "cell_type": "code",
   "execution_count": 21,
   "id": "27b237b8-7ec0-4bd4-bcf8-224657c4f6b0",
   "metadata": {},
   "outputs": [
    {
     "data": {
      "text/plain": [
       "(9897325, 'rohan@gmail.com', 101)"
      ]
     },
     "execution_count": 21,
     "metadata": {},
     "output_type": "execute_result"
    }
   ],
   "source": [
    "rohan.return_student_details()"
   ]
  },
  {
   "cell_type": "code",
   "execution_count": 22,
   "id": "36235d22-7e87-4ece-9c77-c2e2887ec35c",
   "metadata": {},
   "outputs": [
    {
     "data": {
      "text/plain": [
       "9897325"
      ]
     },
     "execution_count": 22,
     "metadata": {},
     "output_type": "execute_result"
    }
   ],
   "source": [
    "rohan.phone_number"
   ]
  },
  {
   "cell_type": "markdown",
   "id": "28425c1b-cece-4702-bd2d-178ee8dfa54e",
   "metadata": {},
   "source": [
    "### Polymorphism\n",
    "#### different circumstance in different environment but property remains the same\n",
    "#### multiple state or characteristic\n"
   ]
  },
  {
   "cell_type": "code",
   "execution_count": 23,
   "id": "5cca33d0-196f-4318-acdf-038f6a32c92a",
   "metadata": {},
   "outputs": [],
   "source": [
    "def test(a,b):\n",
    "    return a+b"
   ]
  },
  {
   "cell_type": "code",
   "execution_count": 24,
   "id": "97dcd7bb-e779-4c7f-9e96-47868d634a88",
   "metadata": {},
   "outputs": [
    {
     "data": {
      "text/plain": [
       "9"
      ]
     },
     "execution_count": 24,
     "metadata": {},
     "output_type": "execute_result"
    }
   ],
   "source": [
    "test(5,4)"
   ]
  },
  {
   "cell_type": "code",
   "execution_count": 26,
   "id": "f3f47c76-091c-45ea-916a-896d2391ee2a",
   "metadata": {},
   "outputs": [
    {
     "data": {
      "text/plain": [
       "'sudh kumar'"
      ]
     },
     "execution_count": 26,
     "metadata": {},
     "output_type": "execute_result"
    }
   ],
   "source": [
    "test('sudh ','kumar')"
   ]
  },
  {
   "cell_type": "code",
   "execution_count": 27,
   "id": "21bcb377-bd03-4ac0-8881-1eb16d5877b0",
   "metadata": {},
   "outputs": [
    {
     "data": {
      "text/plain": [
       "[1, 2, 3, 4, 5, 6, 7, 8, 9, 10, 11]"
      ]
     },
     "execution_count": 27,
     "metadata": {},
     "output_type": "execute_result"
    }
   ],
   "source": [
    "test([1,2,3,4,5,6],[7,8,9,10,11])"
   ]
  },
  {
   "cell_type": "code",
   "execution_count": 28,
   "id": "16ef1830-325d-4152-97a3-04e23b0468f8",
   "metadata": {},
   "outputs": [],
   "source": [
    "class data_science:\n",
    "    \n",
    "    def syllables(self):\n",
    "        print(\"this is my method for data science\")"
   ]
  },
  {
   "cell_type": "code",
   "execution_count": 30,
   "id": "2ff0c9b9-05f3-48f5-8927-38ec952704d9",
   "metadata": {},
   "outputs": [],
   "source": [
    "class web_dev:\n",
    "    def syllables(self):\n",
    "        print(\"this is my method for web dev\")"
   ]
  },
  {
   "cell_type": "code",
   "execution_count": 31,
   "id": "62a65159-c707-4b84-af89-60f87ad086b3",
   "metadata": {},
   "outputs": [],
   "source": [
    "def class_parser(class_obj):\n",
    "    for i in class_obj:\n",
    "        i.syllables()"
   ]
  },
  {
   "cell_type": "code",
   "execution_count": 32,
   "id": "f6a5a62d-bf0a-4e75-84eb-605e0dd52214",
   "metadata": {},
   "outputs": [],
   "source": [
    "obj_data_science = data_science()"
   ]
  },
  {
   "cell_type": "code",
   "execution_count": 33,
   "id": "9824d0b6-e594-4434-a756-5e0b77bfa3f9",
   "metadata": {},
   "outputs": [],
   "source": [
    "obj_web_dev = web_dev()"
   ]
  },
  {
   "cell_type": "code",
   "execution_count": 34,
   "id": "e2a8a29d-7dc3-4bb6-bb9c-250be8a455ec",
   "metadata": {},
   "outputs": [],
   "source": [
    "class_obj = [obj_data_science,obj_web_dev]"
   ]
  },
  {
   "cell_type": "code",
   "execution_count": 35,
   "id": "696027dc-a6a2-4658-b7ac-608ae84b3f8a",
   "metadata": {},
   "outputs": [
    {
     "name": "stdout",
     "output_type": "stream",
     "text": [
      "this is my method for data science\n",
      "this is my method for web dev\n"
     ]
    }
   ],
   "source": [
    "class_parser(class_obj)"
   ]
  },
  {
   "cell_type": "markdown",
   "id": "20c8c565-ee80-4415-86d0-a2f0f5b49780",
   "metadata": {},
   "source": [
    "### Encapsulation\n",
    "\n",
    "##### to avoid modification of data by user / to restrict to direct access/modification of a variable by tthe user\n"
   ]
  },
  {
   "cell_type": "code",
   "execution_count": 36,
   "id": "7ac410a4-fee5-4c0b-a685-7045ffc326e1",
   "metadata": {},
   "outputs": [],
   "source": [
    "class test:\n",
    "    \n",
    "    def __init__(self,a,b):\n",
    "        self.a = a\n",
    "        self.b = b"
   ]
  },
  {
   "cell_type": "code",
   "execution_count": 37,
   "id": "fef28cd2-36ac-4a47-a916-2faa24c5c68f",
   "metadata": {},
   "outputs": [],
   "source": [
    "t = test(45,56)"
   ]
  },
  {
   "cell_type": "code",
   "execution_count": 38,
   "id": "d85f4605-7377-4db1-a8b4-362fe35cfbdb",
   "metadata": {},
   "outputs": [
    {
     "data": {
      "text/plain": [
       "45"
      ]
     },
     "execution_count": 38,
     "metadata": {},
     "output_type": "execute_result"
    }
   ],
   "source": [
    "t.a"
   ]
  },
  {
   "cell_type": "code",
   "execution_count": 39,
   "id": "ac00db98-bf4a-4ca4-aa8a-ff3a2e21c40b",
   "metadata": {},
   "outputs": [
    {
     "data": {
      "text/plain": [
       "56"
      ]
     },
     "execution_count": 39,
     "metadata": {},
     "output_type": "execute_result"
    }
   ],
   "source": [
    "t.b"
   ]
  },
  {
   "cell_type": "code",
   "execution_count": 40,
   "id": "31e65c21-6346-4eb3-9dd6-4e73a376ae23",
   "metadata": {},
   "outputs": [],
   "source": [
    "t.a = 101"
   ]
  },
  {
   "cell_type": "code",
   "execution_count": 41,
   "id": "81ca74f9-68c2-46f2-98ee-c63eac263f38",
   "metadata": {},
   "outputs": [
    {
     "data": {
      "text/plain": [
       "101"
      ]
     },
     "execution_count": 41,
     "metadata": {},
     "output_type": "execute_result"
    }
   ],
   "source": [
    "t.a"
   ]
  },
  {
   "cell_type": "code",
   "execution_count": 66,
   "id": "bfa4dd80-7e8e-478c-9bda-6fb3d4963344",
   "metadata": {},
   "outputs": [],
   "source": [
    "class car:\n",
    "    \n",
    "    def __init__(self,year,make,model,speed):\n",
    "        self.__year = year\n",
    "        self.__make = make\n",
    "        self.__model = model\n",
    "        self.__speed = 0\n",
    "        \n",
    "    def set_speed(self,speed):\n",
    "        self.__speed = 0 if speed <0 else speed \n",
    "        \n",
    "    def get_speed(self):\n",
    "        return self.__speed\n",
    "        "
   ]
  },
  {
   "cell_type": "code",
   "execution_count": 67,
   "id": "4a3c0eb9-2e27-4c6b-8073-adfc3815563d",
   "metadata": {},
   "outputs": [],
   "source": [
    "obj_car = car(2021,'toyota','innova',12)"
   ]
  },
  {
   "cell_type": "code",
   "execution_count": 68,
   "id": "6705f3e5-26f9-41f2-ab01-b4a735ded218",
   "metadata": {},
   "outputs": [
    {
     "data": {
      "text/plain": [
       "2021"
      ]
     },
     "execution_count": 68,
     "metadata": {},
     "output_type": "execute_result"
    }
   ],
   "source": [
    "obj_car._car__year"
   ]
  },
  {
   "cell_type": "code",
   "execution_count": 54,
   "id": "fd48b754-7885-4896-b235-b264fe18b23b",
   "metadata": {},
   "outputs": [],
   "source": [
    "obj_car.set_speed(-235)"
   ]
  },
  {
   "cell_type": "code",
   "execution_count": 70,
   "id": "84f06a84-91f6-479d-9735-f72aa3ad77a1",
   "metadata": {},
   "outputs": [],
   "source": [
    "obj_car.set_speed(235)"
   ]
  },
  {
   "cell_type": "code",
   "execution_count": 61,
   "id": "6bf32fa8-cf0a-4842-ab25-0cead1e824a2",
   "metadata": {},
   "outputs": [
    {
     "data": {
      "text/plain": [
       "235"
      ]
     },
     "execution_count": 61,
     "metadata": {},
     "output_type": "execute_result"
    }
   ],
   "source": [
    "obj_car._car__speed"
   ]
  },
  {
   "cell_type": "code",
   "execution_count": 71,
   "id": "87b508f5-0e20-4d75-b611-e186f9bfc514",
   "metadata": {},
   "outputs": [
    {
     "data": {
      "text/plain": [
       "235"
      ]
     },
     "execution_count": 71,
     "metadata": {},
     "output_type": "execute_result"
    }
   ],
   "source": [
    "obj_car.get_speed()"
   ]
  },
  {
   "cell_type": "code",
   "execution_count": 88,
   "id": "013b4238-14bf-49a4-a875-01a9cf646a68",
   "metadata": {},
   "outputs": [],
   "source": [
    "class bank_account:\n",
    "    \n",
    "    def __init__(self,balance):\n",
    "        self.__balance = balance\n",
    "        \n",
    "    def deposit(self,amount):\n",
    "        self.__balance = self.__balance + amount\n",
    "        \n",
    "    def withdraw(self,amount):\n",
    "        if self.__balance >= amount:\n",
    "            self.__balance = self.__balance - amount\n",
    "            \n",
    "            return True\n",
    "        \n",
    "        else:\n",
    "            return False\n",
    "        \n",
    "    def get_balance(self):\n",
    "        return self.__balance"
   ]
  },
  {
   "cell_type": "code",
   "execution_count": 89,
   "id": "8c1a64cb-0147-4bb7-b4d0-4224cf35c69c",
   "metadata": {},
   "outputs": [],
   "source": [
    "obj_bank = bank_account(1000)"
   ]
  },
  {
   "cell_type": "code",
   "execution_count": 90,
   "id": "25df715e-0c8a-4e2c-9409-271b33917f41",
   "metadata": {},
   "outputs": [
    {
     "data": {
      "text/plain": [
       "1000"
      ]
     },
     "execution_count": 90,
     "metadata": {},
     "output_type": "execute_result"
    }
   ],
   "source": [
    "obj_bank.get_balance()"
   ]
  },
  {
   "cell_type": "code",
   "execution_count": 91,
   "id": "80037b0b-0a64-45aa-ad70-a677efd4ec44",
   "metadata": {},
   "outputs": [],
   "source": [
    "obj_bank.deposit(6000)"
   ]
  },
  {
   "cell_type": "code",
   "execution_count": 92,
   "id": "1b630fa5-74b4-48cf-9da8-73aab8f84cc2",
   "metadata": {},
   "outputs": [
    {
     "data": {
      "text/plain": [
       "7000"
      ]
     },
     "execution_count": 92,
     "metadata": {},
     "output_type": "execute_result"
    }
   ],
   "source": [
    "obj_bank.get_balance()"
   ]
  },
  {
   "cell_type": "code",
   "execution_count": 93,
   "id": "f04897a0-201b-4e6e-8514-fb20108f3f24",
   "metadata": {},
   "outputs": [
    {
     "data": {
      "text/plain": [
       "False"
      ]
     },
     "execution_count": 93,
     "metadata": {},
     "output_type": "execute_result"
    }
   ],
   "source": [
    "obj_bank.withdraw(10000)"
   ]
  },
  {
   "cell_type": "code",
   "execution_count": 94,
   "id": "bc68f970-c844-44ba-8fd2-1f3e997f54f4",
   "metadata": {},
   "outputs": [
    {
     "data": {
      "text/plain": [
       "True"
      ]
     },
     "execution_count": 94,
     "metadata": {},
     "output_type": "execute_result"
    }
   ],
   "source": [
    "obj_bank.withdraw(5000)"
   ]
  },
  {
   "cell_type": "code",
   "execution_count": 95,
   "id": "aae2acdd-bf85-4ea0-a73e-5f0998d9c18c",
   "metadata": {},
   "outputs": [
    {
     "data": {
      "text/plain": [
       "2000"
      ]
     },
     "execution_count": 95,
     "metadata": {},
     "output_type": "execute_result"
    }
   ],
   "source": [
    "obj_bank.get_balance()"
   ]
  },
  {
   "cell_type": "markdown",
   "id": "33b10e9c-01d9-4015-bb1f-526d971a9f70",
   "metadata": {},
   "source": [
    "### Inheritance\n",
    "\n",
    "1. Muilti level Inheritance\n",
    "2. Multiple inheritance"
   ]
  },
  {
   "cell_type": "code",
   "execution_count": 96,
   "id": "84517327-65c9-4f8a-95d7-c11433613c17",
   "metadata": {},
   "outputs": [],
   "source": [
    "class parent:\n",
    "    \n",
    "    def test_parent(self):\n",
    "        print('this is my parent class')"
   ]
  },
  {
   "cell_type": "code",
   "execution_count": 98,
   "id": "a6a89a69-0281-43c4-90e5-e53d3e69f443",
   "metadata": {},
   "outputs": [],
   "source": [
    "class child(parent):\n",
    "    pass"
   ]
  },
  {
   "cell_type": "code",
   "execution_count": 99,
   "id": "08f2f7ee-4446-46af-a6c7-08158c285d88",
   "metadata": {},
   "outputs": [],
   "source": [
    "child_obj = child()"
   ]
  },
  {
   "cell_type": "code",
   "execution_count": 101,
   "id": "1b51fcdd-c352-46fd-ab5a-39e6d9543440",
   "metadata": {},
   "outputs": [
    {
     "name": "stdout",
     "output_type": "stream",
     "text": [
      "this is my parent class\n"
     ]
    }
   ],
   "source": [
    "child_obj.test_parent()"
   ]
  },
  {
   "cell_type": "code",
   "execution_count": 102,
   "id": "b755ec76-1f8a-4364-917e-341ecfc72079",
   "metadata": {},
   "outputs": [],
   "source": [
    "## multilevel inheritance\n",
    "\n",
    "class class1:\n",
    "    \n",
    "    def test_class1(self):\n",
    "        print('this is my class1')"
   ]
  },
  {
   "cell_type": "code",
   "execution_count": 103,
   "id": "d7d07455-7dc0-4f16-b3eb-02da0e1ba774",
   "metadata": {},
   "outputs": [],
   "source": [
    "class class2(class1):\n",
    "    def test_class2(self):\n",
    "        print(\"this is my class2\")"
   ]
  },
  {
   "cell_type": "code",
   "execution_count": 104,
   "id": "3070fd06-f9c0-45f0-b73f-71a7ce821cb6",
   "metadata": {},
   "outputs": [],
   "source": [
    "class class3(class2):\n",
    "    \n",
    "    def test_class3(self):\n",
    "        print('this is my class 3')"
   ]
  },
  {
   "cell_type": "code",
   "execution_count": 108,
   "id": "c60f6b81-2370-495d-a975-16e3fb4bafd2",
   "metadata": {},
   "outputs": [],
   "source": [
    "class_obj3 = class3()"
   ]
  },
  {
   "cell_type": "code",
   "execution_count": 109,
   "id": "291e9c4c-4ea5-4b39-b3c2-4a008b46b806",
   "metadata": {},
   "outputs": [
    {
     "name": "stdout",
     "output_type": "stream",
     "text": [
      "this is my class1\n"
     ]
    }
   ],
   "source": [
    "class_obj3.test_class1()"
   ]
  },
  {
   "cell_type": "code",
   "execution_count": 110,
   "id": "0e092aa5-c981-4704-abd1-f4c9010809f4",
   "metadata": {},
   "outputs": [
    {
     "name": "stdout",
     "output_type": "stream",
     "text": [
      "this is my class2\n"
     ]
    }
   ],
   "source": [
    "class_obj3.test_class2()"
   ]
  },
  {
   "cell_type": "code",
   "execution_count": 111,
   "id": "efd0cae3-e177-428d-a945-184a20fbc3fc",
   "metadata": {},
   "outputs": [
    {
     "name": "stdout",
     "output_type": "stream",
     "text": [
      "this is my class 3\n"
     ]
    }
   ],
   "source": [
    "class_obj3.test_class3()"
   ]
  },
  {
   "cell_type": "code",
   "execution_count": 117,
   "id": "0d282aa5-4194-4227-8c1a-549dfbdf1db6",
   "metadata": {},
   "outputs": [],
   "source": [
    "class class1:\n",
    "    \n",
    "    def test_class1(self):\n",
    "        print('this is my class11')\n",
    "        "
   ]
  },
  {
   "cell_type": "code",
   "execution_count": 118,
   "id": "3a0c659d-c390-4bbe-9ee5-2b2c4b929e2e",
   "metadata": {},
   "outputs": [],
   "source": [
    "class class2:\n",
    "    \n",
    "    def test_class2(self):\n",
    "        print('this is my class22')"
   ]
  },
  {
   "cell_type": "code",
   "execution_count": 119,
   "id": "4a1d150e-8bde-4854-bdcc-df948c7c3ae3",
   "metadata": {},
   "outputs": [],
   "source": [
    "class class3(class1,class2):\n",
    "    pass"
   ]
  },
  {
   "cell_type": "code",
   "execution_count": 120,
   "id": "cf07ecc3-9e5a-46ed-9a25-84d48b13adaf",
   "metadata": {},
   "outputs": [],
   "source": [
    "obj_class3 = class3()"
   ]
  },
  {
   "cell_type": "code",
   "execution_count": 121,
   "id": "2262e8ff-069e-4e00-a4a6-c3fbccceb212",
   "metadata": {},
   "outputs": [
    {
     "name": "stdout",
     "output_type": "stream",
     "text": [
      "this is my class11\n"
     ]
    }
   ],
   "source": [
    "obj_class3.test_class1()"
   ]
  },
  {
   "cell_type": "code",
   "execution_count": 122,
   "id": "23f68614-1efd-4825-ae02-6fee3dba941c",
   "metadata": {},
   "outputs": [
    {
     "name": "stdout",
     "output_type": "stream",
     "text": [
      "this is my class22\n"
     ]
    }
   ],
   "source": [
    "obj_class3.test_class2()"
   ]
  },
  {
   "cell_type": "markdown",
   "id": "03e43af8-74b1-405c-abd2-8efc701320df",
   "metadata": {},
   "source": [
    "### Abstraction - abstract class\n",
    "1. outline, skeleton, blue print"
   ]
  },
  {
   "cell_type": "code",
   "execution_count": 126,
   "id": "e79763cd-676c-4e60-88e8-396fad0c3dc9",
   "metadata": {},
   "outputs": [],
   "source": [
    "import abc\n",
    "\n",
    "class pwskills:\n",
    "    \n",
    "    @abc.abstractmethod\n",
    "    def students_details(self):\n",
    "        pass\n",
    "    \n",
    "    @abc.abstractmethod\n",
    "    def students_assign(self):\n",
    "        pass\n",
    "    \n",
    "    @abc.abstractmethod\n",
    "    def students_marks(self):\n",
    "        pass"
   ]
  },
  {
   "cell_type": "code",
   "execution_count": 127,
   "id": "88803d05-276a-48e9-9ea1-a3abf03a2933",
   "metadata": {},
   "outputs": [],
   "source": [
    "class data_science(pwskills):\n",
    "    \n",
    "    def students_details(self):\n",
    "        return 'it will try to return a details of data science'\n",
    "    \n",
    "    def student_assignment(self):\n",
    "        return 'it will return a details of strudent assignment'"
   ]
  },
  {
   "cell_type": "code",
   "execution_count": 129,
   "id": "1962e1d4-f4ed-4834-a7b4-c74d1a2841e4",
   "metadata": {},
   "outputs": [],
   "source": [
    "class web_dev(pwskills):\n",
    "    def student_details(self):\n",
    "        return ' this will return a details of web dev'\n",
    "    \n",
    "    def student_mark(self):\n",
    "        return 'this will return a mark of web dev'"
   ]
  },
  {
   "cell_type": "code",
   "execution_count": 130,
   "id": "6b057879-fd97-48e6-ad27-454a74e6ca25",
   "metadata": {},
   "outputs": [
    {
     "data": {
      "text/plain": [
       "'it will try to return a details of data science'"
      ]
     },
     "execution_count": 130,
     "metadata": {},
     "output_type": "execute_result"
    }
   ],
   "source": [
    "ds = data_science()\n",
    "ds.students_details()"
   ]
  },
  {
   "cell_type": "code",
   "execution_count": 131,
   "id": "d4782ff7-c040-480d-9bfd-adcd0656454f",
   "metadata": {},
   "outputs": [
    {
     "data": {
      "text/plain": [
       "'this will return a mark of web dev'"
      ]
     },
     "execution_count": 131,
     "metadata": {},
     "output_type": "execute_result"
    }
   ],
   "source": [
    "wb = web_dev()\n",
    "wb.student_mark()"
   ]
  },
  {
   "cell_type": "markdown",
   "id": "1a7bba99-790d-48a5-9880-90816f982244",
   "metadata": {},
   "source": [
    "### Decorator\n",
    "1. "
   ]
  },
  {
   "cell_type": "code",
   "execution_count": 3,
   "id": "67b98ed8-3a35-422d-b534-760e7a9728f2",
   "metadata": {},
   "outputs": [],
   "source": [
    "def test():\n",
    "    print('this is the start')\n",
    "    print(4+5)\n",
    "    print('end')"
   ]
  },
  {
   "cell_type": "code",
   "execution_count": 4,
   "id": "1fc91e06-c12e-4ada-937a-916199c531c1",
   "metadata": {},
   "outputs": [
    {
     "name": "stdout",
     "output_type": "stream",
     "text": [
      "this is the start\n",
      "9\n",
      "end\n"
     ]
    }
   ],
   "source": [
    "test()"
   ]
  },
  {
   "cell_type": "code",
   "execution_count": 5,
   "id": "84ce8315-1613-47db-b0f4-2638827ebed2",
   "metadata": {},
   "outputs": [],
   "source": [
    "def deco(func):\n",
    "    def inner_deco():\n",
    "        print('start')\n",
    "        func()\n",
    "        print('start')\n",
    "    return inner_deco    "
   ]
  },
  {
   "cell_type": "code",
   "execution_count": 7,
   "id": "537c2ed3-2fb5-4c19-a953-0bce0ee84e5b",
   "metadata": {},
   "outputs": [],
   "source": [
    "@deco\n",
    "def test1():\n",
    "    print(4+5)"
   ]
  },
  {
   "cell_type": "code",
   "execution_count": 8,
   "id": "29a3a6a7-5b0d-4963-b6b9-c448147d28a8",
   "metadata": {},
   "outputs": [
    {
     "name": "stdout",
     "output_type": "stream",
     "text": [
      "start\n",
      "9\n",
      "start\n"
     ]
    }
   ],
   "source": [
    "test1()"
   ]
  },
  {
   "cell_type": "code",
   "execution_count": 12,
   "id": "2bcfc0b0-88d4-44ed-90b9-2d2f160c06b9",
   "metadata": {},
   "outputs": [],
   "source": [
    "import time\n",
    "\n",
    "def timer_test(func):\n",
    "    def timer_test_inner():\n",
    "        start = time.time()\n",
    "        func()\n",
    "        end = time.time()\n",
    "        print(end-start)\n",
    "    return timer_test_inner    "
   ]
  },
  {
   "cell_type": "code",
   "execution_count": 13,
   "id": "cef4f2c8-b8ff-4dee-8712-edb8cd2156cc",
   "metadata": {},
   "outputs": [],
   "source": [
    "@timer_test\n",
    "\n",
    "def test2():\n",
    "    print(45+67)"
   ]
  },
  {
   "cell_type": "code",
   "execution_count": 14,
   "id": "420f85ac-2746-450d-b022-7529987d50c2",
   "metadata": {},
   "outputs": [
    {
     "name": "stdout",
     "output_type": "stream",
     "text": [
      "112\n",
      "4.458427429199219e-05\n"
     ]
    }
   ],
   "source": [
    "test2()"
   ]
  },
  {
   "cell_type": "code",
   "execution_count": 15,
   "id": "941d4fb1-0f05-4339-9ce6-979463d12109",
   "metadata": {},
   "outputs": [],
   "source": [
    "@timer_test\n",
    "def test3():\n",
    "    for i in range(100000000):\n",
    "        pass"
   ]
  },
  {
   "cell_type": "code",
   "execution_count": 16,
   "id": "40f5f43c-f6ec-45fa-a45e-cd2229d0c8de",
   "metadata": {},
   "outputs": [
    {
     "name": "stdout",
     "output_type": "stream",
     "text": [
      "2.5208232402801514\n"
     ]
    }
   ],
   "source": [
    "test3()"
   ]
  },
  {
   "cell_type": "markdown",
   "id": "c5b2281c-da3e-4991-adac-a53ccfa9e5d6",
   "metadata": {},
   "source": [
    "### Class method\n",
    "\n",
    "1. passing data other than init way"
   ]
  },
  {
   "cell_type": "code",
   "execution_count": 18,
   "id": "49f0540c-6553-43d9-aed4-5a4d0ab0eb94",
   "metadata": {},
   "outputs": [],
   "source": [
    "class pwskills:\n",
    "    def __init__(self,name,email):\n",
    "        \n",
    "        self.name = name\n",
    "        self.email = email\n",
    "        \n",
    "    def student_details(self):\n",
    "        print(self.name,self.email)"
   ]
  },
  {
   "cell_type": "code",
   "execution_count": 19,
   "id": "4bed7304-169d-4587-82cd-e7fe3f17584b",
   "metadata": {},
   "outputs": [],
   "source": [
    "pw = pwskills('sudh','sudh@gmail')"
   ]
  },
  {
   "cell_type": "code",
   "execution_count": 21,
   "id": "5e822a1c-93d8-422f-99c6-653c348aafba",
   "metadata": {},
   "outputs": [
    {
     "data": {
      "text/plain": [
       "'sudh'"
      ]
     },
     "execution_count": 21,
     "metadata": {},
     "output_type": "execute_result"
    }
   ],
   "source": [
    "pw.name"
   ]
  },
  {
   "cell_type": "code",
   "execution_count": 22,
   "id": "83bda803-abf5-4bdc-9cc1-a0a811280f35",
   "metadata": {},
   "outputs": [
    {
     "name": "stdout",
     "output_type": "stream",
     "text": [
      "sudh sudh@gmail\n"
     ]
    }
   ],
   "source": [
    "pw.student_details()"
   ]
  },
  {
   "cell_type": "code",
   "execution_count": 24,
   "id": "2fec7aee-3ad1-4f9e-999a-7f725bf970ec",
   "metadata": {},
   "outputs": [],
   "source": [
    "class pwskills1:\n",
    "    def __init__(self,name,email):\n",
    "        \n",
    "        self.name = name\n",
    "        self.email = email\n",
    "        \n",
    "    @classmethod    \n",
    "    def details(cls, name, email): \n",
    "        return cls(name,email)\n",
    "        \n",
    "    def student_details(self):\n",
    "        print(self.name,self.email)"
   ]
  },
  {
   "cell_type": "code",
   "execution_count": 26,
   "id": "b475829c-ac0e-43eb-8d1d-61f60e602350",
   "metadata": {},
   "outputs": [],
   "source": [
    "ps1=pwskills1.details('mohan','mohan@gmail')"
   ]
  },
  {
   "cell_type": "code",
   "execution_count": 27,
   "id": "7444ddf8-34b1-4203-a77d-fc160bf0120d",
   "metadata": {},
   "outputs": [
    {
     "data": {
      "text/plain": [
       "'mohan'"
      ]
     },
     "execution_count": 27,
     "metadata": {},
     "output_type": "execute_result"
    }
   ],
   "source": [
    "ps1.name"
   ]
  },
  {
   "cell_type": "code",
   "execution_count": 28,
   "id": "b1c88cf3-fdcc-4d74-8a82-cd10b713e556",
   "metadata": {},
   "outputs": [
    {
     "data": {
      "text/plain": [
       "'mohan@gmail'"
      ]
     },
     "execution_count": 28,
     "metadata": {},
     "output_type": "execute_result"
    }
   ],
   "source": [
    "ps1.email"
   ]
  },
  {
   "cell_type": "code",
   "execution_count": 29,
   "id": "91b1cb38-8801-45e0-91c8-b39165a3de76",
   "metadata": {},
   "outputs": [
    {
     "name": "stdout",
     "output_type": "stream",
     "text": [
      "mohan mohan@gmail\n"
     ]
    }
   ],
   "source": [
    "ps1.student_details()"
   ]
  },
  {
   "cell_type": "code",
   "execution_count": 37,
   "id": "8f97acbe-ffe1-49d0-a029-d4e22fd73f8b",
   "metadata": {},
   "outputs": [],
   "source": [
    "class pwskills2:\n",
    "    \n",
    "    mobile_number = 91989799592\n",
    "    \n",
    "    def __init__(self,name,email):\n",
    "        \n",
    "        self.name = name\n",
    "        self.email = email\n",
    "        \n",
    "    @classmethod\n",
    "    def change_number(cls,mobile):\n",
    "        pwskills2.mobile_number=mobile\n",
    "        \n",
    "    @classmethod    \n",
    "    def details(cls, name, email): \n",
    "        return cls(name,email)\n",
    "        \n",
    "    def student_details(self):\n",
    "        print(self.name,self.email,pwskills2.mobile_number)"
   ]
  },
  {
   "cell_type": "code",
   "execution_count": 31,
   "id": "03c7fe06-5584-42f3-82a8-e514b7e7e78f",
   "metadata": {},
   "outputs": [
    {
     "data": {
      "text/plain": [
       "91989799592"
      ]
     },
     "execution_count": 31,
     "metadata": {},
     "output_type": "execute_result"
    }
   ],
   "source": [
    "pwskills2.mobile_number"
   ]
  },
  {
   "cell_type": "code",
   "execution_count": 33,
   "id": "af0d53f7-8142-4425-bd9d-e974128eaf07",
   "metadata": {},
   "outputs": [],
   "source": [
    "pw2=pwskills2.details('sohan','sohan@gmail')"
   ]
  },
  {
   "cell_type": "code",
   "execution_count": 34,
   "id": "21b5f28d-5677-4fb9-bad7-a8f25ca75e72",
   "metadata": {},
   "outputs": [
    {
     "name": "stdout",
     "output_type": "stream",
     "text": [
      "sohan sohan@gmail 91989799592\n"
     ]
    }
   ],
   "source": [
    "pw2.student_details()"
   ]
  },
  {
   "cell_type": "code",
   "execution_count": 35,
   "id": "db0f2c2d-4a41-406e-bc7d-3e75ec99bded",
   "metadata": {},
   "outputs": [],
   "source": [
    "pw2_obj = pwskills2('satheesh','satheesh@gmail.com')"
   ]
  },
  {
   "cell_type": "code",
   "execution_count": 36,
   "id": "e20639ce-49fd-4def-9a65-9d3752ad5397",
   "metadata": {},
   "outputs": [
    {
     "name": "stdout",
     "output_type": "stream",
     "text": [
      "satheesh satheesh@gmail.com 91989799592\n"
     ]
    }
   ],
   "source": [
    "pw2_obj.student_details()"
   ]
  },
  {
   "cell_type": "code",
   "execution_count": 38,
   "id": "7f42c18a-0ff1-48a7-8789-b778c5f15e14",
   "metadata": {},
   "outputs": [
    {
     "data": {
      "text/plain": [
       "91989799592"
      ]
     },
     "execution_count": 38,
     "metadata": {},
     "output_type": "execute_result"
    }
   ],
   "source": [
    "pwskills2.mobile_number"
   ]
  },
  {
   "cell_type": "code",
   "execution_count": 39,
   "id": "a1378aa3-2616-42dc-ad9d-a983407b19b0",
   "metadata": {},
   "outputs": [],
   "source": [
    "pwskills2.change_number(929598)"
   ]
  },
  {
   "cell_type": "code",
   "execution_count": 40,
   "id": "a40c3b3e-926c-40f0-aa6c-69f0141a25d6",
   "metadata": {},
   "outputs": [
    {
     "data": {
      "text/plain": [
       "929598"
      ]
     },
     "execution_count": 40,
     "metadata": {},
     "output_type": "execute_result"
    }
   ],
   "source": [
    "pwskills2.mobile_number"
   ]
  },
  {
   "cell_type": "code",
   "execution_count": 41,
   "id": "03409550-63d3-4470-9e84-c1eeaa67bd9e",
   "metadata": {},
   "outputs": [],
   "source": [
    "pw2_obj = pwskills2('sohiil','sohil@')"
   ]
  },
  {
   "cell_type": "code",
   "execution_count": 43,
   "id": "24efce34-9dba-4255-8745-14389613c178",
   "metadata": {},
   "outputs": [
    {
     "data": {
      "text/plain": [
       "<__main__.pwskills2 at 0x7fc8e753d6c0>"
      ]
     },
     "execution_count": 43,
     "metadata": {},
     "output_type": "execute_result"
    }
   ],
   "source": [
    "pw2_obj.details('sudh','sudh@')"
   ]
  },
  {
   "cell_type": "code",
   "execution_count": 44,
   "id": "37795674-0732-43ef-b438-69885645a36a",
   "metadata": {},
   "outputs": [
    {
     "data": {
      "text/plain": [
       "'sohiil'"
      ]
     },
     "execution_count": 44,
     "metadata": {},
     "output_type": "execute_result"
    }
   ],
   "source": [
    "pw2_obj.name"
   ]
  },
  {
   "cell_type": "code",
   "execution_count": 45,
   "id": "3ae35b01-7ca4-4723-9078-d7671ea59eb0",
   "metadata": {},
   "outputs": [],
   "source": [
    "pw2_obj.change_number(1234567)"
   ]
  },
  {
   "cell_type": "code",
   "execution_count": 47,
   "id": "053a4050-cbdf-46ad-a1ac-f9346ddbc067",
   "metadata": {},
   "outputs": [
    {
     "data": {
      "text/plain": [
       "1234567"
      ]
     },
     "execution_count": 47,
     "metadata": {},
     "output_type": "execute_result"
    }
   ],
   "source": [
    "pw2_obj.mobile_number"
   ]
  },
  {
   "cell_type": "code",
   "execution_count": 48,
   "id": "019b3337-46b0-4ca7-8575-8cfe4f5eee33",
   "metadata": {},
   "outputs": [],
   "source": [
    "class pwskills3:\n",
    "    \n",
    "    mobile_number = 91989799592\n",
    "    \n",
    "    def __init__(self,name,email):\n",
    "        \n",
    "        self.name = name\n",
    "        self.email = email\n",
    "        \n",
    "    @classmethod\n",
    "    def change_number(cls,mobile):\n",
    "        pwskills2.mobile_number=mobile\n",
    "        \n",
    "    @classmethod    \n",
    "    def details(cls, name, email): \n",
    "        return cls(name,email)\n",
    "        \n",
    "    def student_details(self):\n",
    "        print(self.name,self.email,pwskills2.mobile_number)"
   ]
  },
  {
   "cell_type": "code",
   "execution_count": 49,
   "id": "887cdec0-5f6f-4dfd-a31b-17238cb07a20",
   "metadata": {},
   "outputs": [],
   "source": [
    "def course_details(cls,course_name):\n",
    "    print('course_details',course_name)"
   ]
  },
  {
   "cell_type": "code",
   "execution_count": 50,
   "id": "f8c37111-b04d-4104-aca9-f7b2e60fc6c9",
   "metadata": {},
   "outputs": [],
   "source": [
    "pwskills3.course_details = classmethod(course_details)"
   ]
  },
  {
   "cell_type": "code",
   "execution_count": 52,
   "id": "b53bbd73-8c81-4767-a0d0-e2e4fafebbbd",
   "metadata": {},
   "outputs": [
    {
     "name": "stdout",
     "output_type": "stream",
     "text": [
      "course_details data science masters\n"
     ]
    }
   ],
   "source": [
    "pwskills3.course_details('data science masters')"
   ]
  },
  {
   "cell_type": "code",
   "execution_count": 53,
   "id": "ecf6dfd8-358c-439b-8c9b-79f9107165da",
   "metadata": {},
   "outputs": [],
   "source": [
    "pw3 = pwskills3('jaya','jaya@gmail')"
   ]
  },
  {
   "cell_type": "code",
   "execution_count": 54,
   "id": "747d3c8e-7fb2-4d1e-ace9-dbee0849b957",
   "metadata": {},
   "outputs": [
    {
     "name": "stdout",
     "output_type": "stream",
     "text": [
      "course_details web_dev\n"
     ]
    }
   ],
   "source": [
    "pw3.course_details('web_dev')"
   ]
  },
  {
   "cell_type": "code",
   "execution_count": 55,
   "id": "639c4faf-32ba-453a-b5b7-114e671b7e3d",
   "metadata": {},
   "outputs": [],
   "source": [
    "class pwskills4:\n",
    "    \n",
    "    mobile_number = 91989799592\n",
    "    \n",
    "    def __init__(self,name,email):\n",
    "        \n",
    "        self.name = name\n",
    "        self.email = email\n",
    "        \n",
    "    @classmethod\n",
    "    def change_number(cls,mobile):\n",
    "        pwskills2.mobile_number=mobile\n",
    "        \n",
    "    @classmethod    \n",
    "    def details(cls, name, email): \n",
    "        return cls(name,email)\n",
    "        \n",
    "    def student_details(self):\n",
    "        print(self.name,self.email,pwskills2.mobile_number)"
   ]
  },
  {
   "cell_type": "code",
   "execution_count": 56,
   "id": "485100e2-0f2b-4ff0-9cc7-1b944142c483",
   "metadata": {},
   "outputs": [],
   "source": [
    "## delete\n",
    "\n",
    "del pwskills4.change_number"
   ]
  },
  {
   "cell_type": "code",
   "execution_count": 57,
   "id": "20e3fce0-51c3-4615-8cfe-f3917cf43b89",
   "metadata": {},
   "outputs": [],
   "source": [
    "delattr(pwskills4,'details')"
   ]
  },
  {
   "cell_type": "code",
   "execution_count": 58,
   "id": "975ebc22-d23b-405f-bd9f-dd825b6a5d73",
   "metadata": {},
   "outputs": [
    {
     "data": {
      "text/plain": [
       "91989799592"
      ]
     },
     "execution_count": 58,
     "metadata": {},
     "output_type": "execute_result"
    }
   ],
   "source": [
    "pwskills4.mobile_number"
   ]
  },
  {
   "cell_type": "code",
   "execution_count": 59,
   "id": "8649cb99-1758-4e13-974e-f64a2fb7ab0b",
   "metadata": {},
   "outputs": [],
   "source": [
    "delattr(pwskills4,'mobile_number')"
   ]
  },
  {
   "cell_type": "markdown",
   "id": "c1e918a5-0562-4f28-baa9-574618e4f28a",
   "metadata": {},
   "source": [
    "### Static Method"
   ]
  },
  {
   "cell_type": "code",
   "execution_count": 60,
   "id": "e7aea35a-973e-45ea-8495-30e443b735d3",
   "metadata": {},
   "outputs": [],
   "source": [
    "class pwskills:\n",
    "    \n",
    "    def student_details(self,name,mail_id,number):\n",
    "        print(name,mail_id,number)"
   ]
  },
  {
   "cell_type": "code",
   "execution_count": 61,
   "id": "e996fd07-ddb9-420b-a0c5-4b3c1b4ace55",
   "metadata": {},
   "outputs": [],
   "source": [
    "pw = pwskills()"
   ]
  },
  {
   "cell_type": "code",
   "execution_count": 62,
   "id": "db9277d0-a373-4896-b765-9f586ad751ef",
   "metadata": {},
   "outputs": [
    {
     "name": "stdout",
     "output_type": "stream",
     "text": [
      "sudh sath@gmail 123456\n"
     ]
    }
   ],
   "source": [
    "pw.student_details('sudh','sath@gmail',123456)"
   ]
  },
  {
   "cell_type": "code",
   "execution_count": 66,
   "id": "266ce951-4e3d-4564-839d-f99ceaf736d4",
   "metadata": {},
   "outputs": [],
   "source": [
    "class pwskills1:\n",
    "    \n",
    "    def student_details(self,name,mail_id,number):\n",
    "        print(name,mail_id,number)\n",
    "        \n",
    "    @staticmethod\n",
    "    def mentor_class(list_mentor):\n",
    "        print(list_mentor)\n",
    "## no self for static method  \n",
    "\n",
    "    def mentor(self,mentor_list):\n",
    "        print(mentor_list)"
   ]
  },
  {
   "cell_type": "code",
   "execution_count": 65,
   "id": "953a4d8d-a821-4c0c-a1aa-b79601d23341",
   "metadata": {},
   "outputs": [
    {
     "name": "stdout",
     "output_type": "stream",
     "text": [
      "['sudh', 'kris']\n"
     ]
    }
   ],
   "source": [
    "pwskills1.mentor_class(['sudh','kris'])"
   ]
  },
  {
   "cell_type": "code",
   "execution_count": 69,
   "id": "22a0c2b1-47cf-434e-8f5e-2a16d866d2df",
   "metadata": {},
   "outputs": [],
   "source": [
    "pw1 = pwskills1()"
   ]
  },
  {
   "cell_type": "code",
   "execution_count": 70,
   "id": "74c6d713-6816-41bd-9e25-8ec86466638c",
   "metadata": {},
   "outputs": [
    {
     "name": "stdout",
     "output_type": "stream",
     "text": [
      "['sudh', 'krish']\n"
     ]
    }
   ],
   "source": [
    "pw1.mentor(['sudh','krish'])"
   ]
  },
  {
   "cell_type": "markdown",
   "id": "bd47df9b-01db-4d7d-936c-b76a403f5cb8",
   "metadata": {},
   "source": [
    "### Special / magic / dunder method\n",
    "\n"
   ]
  },
  {
   "cell_type": "code",
   "execution_count": 1,
   "id": "9f64de23-c96e-43af-9c6f-ed9ad5d51c6b",
   "metadata": {},
   "outputs": [
    {
     "data": {
      "text/plain": [
       "['__abs__',\n",
       " '__add__',\n",
       " '__and__',\n",
       " '__bool__',\n",
       " '__ceil__',\n",
       " '__class__',\n",
       " '__delattr__',\n",
       " '__dir__',\n",
       " '__divmod__',\n",
       " '__doc__',\n",
       " '__eq__',\n",
       " '__float__',\n",
       " '__floor__',\n",
       " '__floordiv__',\n",
       " '__format__',\n",
       " '__ge__',\n",
       " '__getattribute__',\n",
       " '__getnewargs__',\n",
       " '__gt__',\n",
       " '__hash__',\n",
       " '__index__',\n",
       " '__init__',\n",
       " '__init_subclass__',\n",
       " '__int__',\n",
       " '__invert__',\n",
       " '__le__',\n",
       " '__lshift__',\n",
       " '__lt__',\n",
       " '__mod__',\n",
       " '__mul__',\n",
       " '__ne__',\n",
       " '__neg__',\n",
       " '__new__',\n",
       " '__or__',\n",
       " '__pos__',\n",
       " '__pow__',\n",
       " '__radd__',\n",
       " '__rand__',\n",
       " '__rdivmod__',\n",
       " '__reduce__',\n",
       " '__reduce_ex__',\n",
       " '__repr__',\n",
       " '__rfloordiv__',\n",
       " '__rlshift__',\n",
       " '__rmod__',\n",
       " '__rmul__',\n",
       " '__ror__',\n",
       " '__round__',\n",
       " '__rpow__',\n",
       " '__rrshift__',\n",
       " '__rshift__',\n",
       " '__rsub__',\n",
       " '__rtruediv__',\n",
       " '__rxor__',\n",
       " '__setattr__',\n",
       " '__sizeof__',\n",
       " '__str__',\n",
       " '__sub__',\n",
       " '__subclasshook__',\n",
       " '__truediv__',\n",
       " '__trunc__',\n",
       " '__xor__',\n",
       " 'as_integer_ratio',\n",
       " 'bit_count',\n",
       " 'bit_length',\n",
       " 'conjugate',\n",
       " 'denominator',\n",
       " 'from_bytes',\n",
       " 'imag',\n",
       " 'numerator',\n",
       " 'real',\n",
       " 'to_bytes']"
      ]
     },
     "execution_count": 1,
     "metadata": {},
     "output_type": "execute_result"
    }
   ],
   "source": [
    "dir (int)"
   ]
  },
  {
   "cell_type": "code",
   "execution_count": 2,
   "id": "4b6ac194-e0de-4735-93a4-c8cececad9c6",
   "metadata": {},
   "outputs": [],
   "source": [
    "a = 10"
   ]
  },
  {
   "cell_type": "code",
   "execution_count": 3,
   "id": "6c07d70e-80de-49d9-89a0-8df958506221",
   "metadata": {},
   "outputs": [
    {
     "data": {
      "text/plain": [
       "16"
      ]
     },
     "execution_count": 3,
     "metadata": {},
     "output_type": "execute_result"
    }
   ],
   "source": [
    "a+6"
   ]
  },
  {
   "cell_type": "code",
   "execution_count": 4,
   "id": "fb9326f0-f7e9-4d5d-b92f-44b6329e69f4",
   "metadata": {},
   "outputs": [
    {
     "data": {
      "text/plain": [
       "16"
      ]
     },
     "execution_count": 4,
     "metadata": {},
     "output_type": "execute_result"
    }
   ],
   "source": [
    "a.__add__(6)"
   ]
  },
  {
   "cell_type": "code",
   "execution_count": 6,
   "id": "f7c6b6d8-f0ef-4cc3-a614-0aa317899821",
   "metadata": {},
   "outputs": [],
   "source": [
    "class pwskills:\n",
    "    \n",
    "    def __init__(self):\n",
    "        print('this is my init')"
   ]
  },
  {
   "cell_type": "code",
   "execution_count": 7,
   "id": "d4e5599d-3adb-476a-bfc1-5b57d310eafb",
   "metadata": {},
   "outputs": [
    {
     "name": "stdout",
     "output_type": "stream",
     "text": [
      "this is my init\n"
     ]
    }
   ],
   "source": [
    "pw = pwskills()"
   ]
  },
  {
   "cell_type": "code",
   "execution_count": 12,
   "id": "6d588d53-293c-4ab1-838f-1bdb85eaffc5",
   "metadata": {},
   "outputs": [],
   "source": [
    "class pwskills1:\n",
    "    \n",
    "    \n",
    "    def __new__(cls):\n",
    "        print('this is my new')\n",
    "    \n",
    "    def __init__(self):\n",
    "        print('this is my init')"
   ]
  },
  {
   "cell_type": "code",
   "execution_count": 13,
   "id": "02fa1d6f-124d-4365-980c-c53c7a9284b1",
   "metadata": {},
   "outputs": [
    {
     "name": "stdout",
     "output_type": "stream",
     "text": [
      "this is my new\n"
     ]
    }
   ],
   "source": [
    "pw1 = pwskills1()"
   ]
  },
  {
   "cell_type": "code",
   "execution_count": 19,
   "id": "1e131a5d-aeb3-4ab6-9002-90ee705ad069",
   "metadata": {},
   "outputs": [],
   "source": [
    "class pwskills2:\n",
    "    \n",
    "    def __init__(self):\n",
    "        self.mobile_number = 12345678\n",
    "        \n",
    "    def __str__(self):\n",
    "        return'this is a magic method which will print something for object'"
   ]
  },
  {
   "cell_type": "code",
   "execution_count": 20,
   "id": "76e1b282-6972-4850-9723-dfa02ce0beeb",
   "metadata": {},
   "outputs": [],
   "source": [
    "pw2 = pwskills2()"
   ]
  },
  {
   "cell_type": "code",
   "execution_count": 17,
   "id": "eb7dbf5d-c3fa-4dde-98cc-ef24357462ff",
   "metadata": {},
   "outputs": [
    {
     "data": {
      "text/plain": [
       "<__main__.pwskills2 at 0x7f8f0c428250>"
      ]
     },
     "execution_count": 17,
     "metadata": {},
     "output_type": "execute_result"
    }
   ],
   "source": [
    "pw2"
   ]
  },
  {
   "cell_type": "code",
   "execution_count": 21,
   "id": "892f24ab-6f94-4bf2-b6cb-13b2ceb28f51",
   "metadata": {},
   "outputs": [
    {
     "name": "stdout",
     "output_type": "stream",
     "text": [
      "this is a magic method which will print something for object\n"
     ]
    }
   ],
   "source": [
    "print(pw2)"
   ]
  },
  {
   "cell_type": "markdown",
   "id": "9df687af-f2bd-44ae-90d5-e8b2bcfc0d7a",
   "metadata": {},
   "source": [
    "## property decorators - getters, setter and deletes"
   ]
  },
  {
   "cell_type": "code",
   "execution_count": 41,
   "id": "f7f9f60f-1dcd-412b-9e0b-75cc758b171d",
   "metadata": {},
   "outputs": [],
   "source": [
    "class pwskills:\n",
    "    \n",
    "    def __init__(self,course_price,course_name):\n",
    "        self.__course_price = course_price\n",
    "        self.course_name = course_name\n",
    "        \n",
    "    @property\n",
    "    def course_price_acces(self):\n",
    "        return self.__course_price\n",
    "    \n",
    "    @course_price_acces.setter\n",
    "    def course_price_set(self,price):\n",
    "        if price <= 3500:\n",
    "            pass\n",
    "        else:\n",
    "            self.__course_price = price\n",
    "            \n",
    "    @course_price_acces.deleter\n",
    "    def course_price_del(self):\n",
    "        del self.__course_price"
   ]
  },
  {
   "cell_type": "code",
   "execution_count": 42,
   "id": "a67262b5-401b-44a5-9052-240ff7d5e0f4",
   "metadata": {},
   "outputs": [],
   "source": [
    "pw=pwskills(3500,'Data science name')"
   ]
  },
  {
   "cell_type": "code",
   "execution_count": 26,
   "id": "0949cfed-acfa-43a6-88c1-7ec8ab977e7e",
   "metadata": {},
   "outputs": [
    {
     "data": {
      "text/plain": [
       "'Data science name'"
      ]
     },
     "execution_count": 26,
     "metadata": {},
     "output_type": "execute_result"
    }
   ],
   "source": [
    "pw.course_name"
   ]
  },
  {
   "cell_type": "code",
   "execution_count": 27,
   "id": "0d48e3e8-1029-47af-8c8c-5ab7d247cfa1",
   "metadata": {},
   "outputs": [
    {
     "data": {
      "text/plain": [
       "3500"
      ]
     },
     "execution_count": 27,
     "metadata": {},
     "output_type": "execute_result"
    }
   ],
   "source": [
    "pw._pwskills__course_price"
   ]
  },
  {
   "cell_type": "code",
   "execution_count": 36,
   "id": "794dc49e-6481-4b45-8277-a94eb9e93d07",
   "metadata": {},
   "outputs": [
    {
     "data": {
      "text/plain": [
       "3500"
      ]
     },
     "execution_count": 36,
     "metadata": {},
     "output_type": "execute_result"
    }
   ],
   "source": [
    "pw.course_price_acces"
   ]
  },
  {
   "cell_type": "code",
   "execution_count": 35,
   "id": "98f4bf3f-5a29-40f3-9f67-939866fefba3",
   "metadata": {},
   "outputs": [],
   "source": [
    "pw.course_price_set = 2500"
   ]
  },
  {
   "cell_type": "code",
   "execution_count": 37,
   "id": "e4e53e21-0dc7-424c-bb81-bb4179c0ef43",
   "metadata": {},
   "outputs": [],
   "source": [
    "pw.course_price_set = 4500"
   ]
  },
  {
   "cell_type": "code",
   "execution_count": 38,
   "id": "a47cb194-a5ce-472a-8800-aac6a3a825bb",
   "metadata": {},
   "outputs": [
    {
     "data": {
      "text/plain": [
       "4500"
      ]
     },
     "execution_count": 38,
     "metadata": {},
     "output_type": "execute_result"
    }
   ],
   "source": [
    "pw.course_price_acces"
   ]
  },
  {
   "cell_type": "code",
   "execution_count": null,
   "id": "a6e71544-5fc8-4216-9060-9faa9b0fd773",
   "metadata": {},
   "outputs": [],
   "source": []
  }
 ],
 "metadata": {
  "kernelspec": {
   "display_name": "Python 3 (ipykernel)",
   "language": "python",
   "name": "python3"
  },
  "language_info": {
   "codemirror_mode": {
    "name": "ipython",
    "version": 3
   },
   "file_extension": ".py",
   "mimetype": "text/x-python",
   "name": "python",
   "nbconvert_exporter": "python",
   "pygments_lexer": "ipython3",
   "version": "3.10.8"
  }
 },
 "nbformat": 4,
 "nbformat_minor": 5
}
