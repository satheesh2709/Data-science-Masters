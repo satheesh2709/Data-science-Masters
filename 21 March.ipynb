{
 "cells": [
  {
   "cell_type": "markdown",
   "id": "2a425a7a-25d7-4348-a05b-aaa9a4d8b7f7",
   "metadata": {},
   "source": [
    "### Q1. What is the difference between Ordinal Encoding and Label Encoding? Provide an example of when you might choose one over the other.\n",
    "\n",
    "#### The main difference between them is that Ordinal Encoding assigns a numerical value to each category based on its order or rank, whereas Label Encoding assigns a numerical value to each category without considering any order or rank\n",
    "\n"
   ]
  },
  {
   "cell_type": "markdown",
   "id": "ee2f8930-d536-491c-b17c-7c3b19c276ea",
   "metadata": {},
   "source": [
    "### Q2. Explain how Target Guided Ordinal Encoding works and provide an example of when you might use it in a machine learning project.\n",
    "\n",
    "#### Based on the relationship between the categorical variable and the target variable in a supervised machine learning problem it can be used\n",
    "\n"
   ]
  },
  {
   "cell_type": "markdown",
   "id": "5e813bc3-6826-4b9a-a67d-5ea3c3419fee",
   "metadata": {},
   "source": [
    "### Q3. Define covariance and explain why it is important in statistical analysis. How is covariance calculated?\n",
    "\n",
    "#### Covariance is a measure of how two variables are related to each other. Specifically, it measures the degree to which the values of one variable change when the values of the other variable change"
   ]
  },
  {
   "cell_type": "markdown",
   "id": "a2ebf86d-15fb-4633-924a-7e1e79879580",
   "metadata": {},
   "source": [
    "### Q4. For a dataset with the following categorical variables: Color (red, green, blue), Size (small, medium, large), and Material (wood, metal, plastic), perform label encoding using Python's scikit-learn library. Show your code and explain the output."
   ]
  },
  {
   "cell_type": "code",
   "execution_count": 3,
   "id": "1a4cbda9-85d6-448a-8c61-ee33537887aa",
   "metadata": {},
   "outputs": [],
   "source": [
    "from sklearn.preprocessing import LabelEncoder\n",
    "import pandas as pd\n",
    "\n",
    "# create a sample dataset\n",
    "df = pd.DataFrame({\n",
    "    'color': ['red', 'green', 'blue', 'blue', 'red', 'green'],\n",
    "    'size': ['medium', 'small', 'large', 'medium', 'small', 'large'],\n",
    "    'material': ['wood', 'metal', 'plastic', 'plastic', 'wood', 'metal']\n",
    "})"
   ]
  },
  {
   "cell_type": "code",
   "execution_count": 16,
   "id": "419eadeb-6c15-40c5-a684-9c0f928ab658",
   "metadata": {},
   "outputs": [],
   "source": [
    "label_encoder = LabelEncoder()"
   ]
  },
  {
   "cell_type": "code",
   "execution_count": 18,
   "id": "e87f586c-f444-45c4-a650-632dc3be9f61",
   "metadata": {},
   "outputs": [],
   "source": [
    "df['Color_encoded'] = label_encoder.fit_transform(df['color'])\n",
    "df['Size_encoded'] = label_encoder.fit_transform(df['size'])\n",
    "df['Material_encoded'] = label_encoder.fit_transform(df['material'])"
   ]
  },
  {
   "cell_type": "code",
   "execution_count": 20,
   "id": "0079c1d6-a074-418d-890d-c230540a1b2e",
   "metadata": {},
   "outputs": [
    {
     "name": "stdout",
     "output_type": "stream",
     "text": [
      "   color    size material  Color_encoded  Size_encoded  Material_encoded\n",
      "0    red  medium     wood              2             1                 2\n",
      "1  green   small    metal              1             2                 0\n",
      "2   blue   large  plastic              0             0                 1\n",
      "3   blue  medium  plastic              0             1                 1\n",
      "4    red   small     wood              2             2                 2\n",
      "5  green   large    metal              1             0                 0\n"
     ]
    }
   ],
   "source": [
    "print(df)"
   ]
  },
  {
   "cell_type": "markdown",
   "id": "355a402b-6579-400a-a8f8-ec549adf917a",
   "metadata": {},
   "source": [
    "### Q5. Calculate the covariance matrix for the following variables in a dataset: Age, Income, and Education level. Interpret the results."
   ]
  },
  {
   "cell_type": "markdown",
   "id": "61e704c5-c292-40df-aa55-cc4c314877d8",
   "metadata": {},
   "source": [
    "no data provided"
   ]
  },
  {
   "cell_type": "markdown",
   "id": "fd478838-4101-42b6-b19b-3f3c6a5f91c8",
   "metadata": {},
   "source": [
    "### Q6. You are working on a machine learning project with a dataset containing several categorical variables, including \"Gender\" (Male/Female), \"Education Level\" (High School/Bachelor's/Master's/PhD), and \"Employment Status\" (Unemployed/Part-Time/Full-Time). Which encoding method would you use for each variable, and why?"
   ]
  },
  {
   "cell_type": "markdown",
   "id": "9c6b5d6d-610d-40b3-b8a0-ab522fe9f127",
   "metadata": {},
   "source": [
    "#### Gender: Binary Encoding\n",
    "#### Education Level: Ordinal Encoding\n",
    "#### Employment Status: One-Hot Encoding"
   ]
  }
 ],
 "metadata": {
  "kernelspec": {
   "display_name": "Python 3 (ipykernel)",
   "language": "python",
   "name": "python3"
  },
  "language_info": {
   "codemirror_mode": {
    "name": "ipython",
    "version": 3
   },
   "file_extension": ".py",
   "mimetype": "text/x-python",
   "name": "python",
   "nbconvert_exporter": "python",
   "pygments_lexer": "ipython3",
   "version": "3.10.8"
  }
 },
 "nbformat": 4,
 "nbformat_minor": 5
}
