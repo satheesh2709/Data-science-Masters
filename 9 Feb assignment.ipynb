{
 "cells": [
  {
   "cell_type": "markdown",
   "id": "d4955d28-19a8-4815-94ed-4a3066bb4854",
   "metadata": {},
   "source": [
    "### Q1, Create a vehicle class with an init method having instance variables as name_of_vehicle, max_speed and average_of_vehicle."
   ]
  },
  {
   "cell_type": "code",
   "execution_count": 3,
   "id": "df4ca7fa-f856-4527-8345-7c1f030e9907",
   "metadata": {},
   "outputs": [],
   "source": [
    "class vehicle:\n",
    "    \n",
    "    def __init__(self,name,max_speed,avg_vehicle):\n",
    "        \n",
    "        self.name = name\n",
    "        self.max_speed = max_speed\n",
    "        self.avg_vehicle = avg_vehicle"
   ]
  },
  {
   "cell_type": "markdown",
   "id": "f2fb8b82-6b90-46c9-976c-2292e91f7b12",
   "metadata": {},
   "source": [
    "### Q2. Create a child class car from the vehicle class created in Que 1, which will inherit the vehicle class. Create a method named seating_capacity which takes capacity as an argument and returns the name of the vehicle and its seating capacity."
   ]
  },
  {
   "cell_type": "code",
   "execution_count": 16,
   "id": "a96fa264-cfeb-4857-8f1b-ecbe71aec99a",
   "metadata": {},
   "outputs": [],
   "source": [
    "class car(vehicle):\n",
    "    \n",
    "    def seating_capacity(self,seating):\n",
    "        return f\"{self.name} has a capacity of {seating} people\"\n",
    "        "
   ]
  },
  {
   "cell_type": "code",
   "execution_count": 17,
   "id": "9b9f8d22-a0ab-4f2c-90e7-fd9e46849ea6",
   "metadata": {},
   "outputs": [],
   "source": [
    "car_details = car('toyota',280,12)"
   ]
  },
  {
   "cell_type": "code",
   "execution_count": 18,
   "id": "6440a8f4-b47c-4d40-946e-524f03d02f34",
   "metadata": {},
   "outputs": [
    {
     "name": "stdout",
     "output_type": "stream",
     "text": [
      "toyota has a capacity of 5 people\n"
     ]
    }
   ],
   "source": [
    "print(car_details.seating_capacity(5))"
   ]
  },
  {
   "cell_type": "markdown",
   "id": "cfd41747-c4c3-4e55-939d-ea808c220d99",
   "metadata": {},
   "source": [
    "### Q3. What is multiple inheritance? Write a python code to demonstrate multiple inheritance. \n",
    "\n",
    "##### Multiple inheritance is a class where it can inherit properties and method from more than one parent class"
   ]
  },
  {
   "cell_type": "code",
   "execution_count": 19,
   "id": "a2508506-5743-4c0f-8194-fc41fece3e9c",
   "metadata": {},
   "outputs": [],
   "source": [
    "class class1:\n",
    "    \n",
    "    def test_class1(self):\n",
    "        print('this is my class11')\n",
    "        \n",
    "class class2:\n",
    "    \n",
    "    def test_class2(self):\n",
    "        print('this is my class22')\n",
    "        \n",
    "class class3(class1,class2):\n",
    "    pass        "
   ]
  },
  {
   "cell_type": "code",
   "execution_count": 20,
   "id": "747a77a1-0e15-443e-a2f4-1fb6b1b55afd",
   "metadata": {},
   "outputs": [],
   "source": [
    "obj_class3 = class3()"
   ]
  },
  {
   "cell_type": "code",
   "execution_count": 22,
   "id": "985c6362-ae12-41a9-95ba-228df0e056e0",
   "metadata": {},
   "outputs": [
    {
     "name": "stdout",
     "output_type": "stream",
     "text": [
      "this is my class11\n"
     ]
    }
   ],
   "source": [
    "obj_class3.test_class1()"
   ]
  },
  {
   "cell_type": "code",
   "execution_count": 23,
   "id": "0b3194f0-f079-4d52-9ea2-8504a62b8ada",
   "metadata": {},
   "outputs": [
    {
     "name": "stdout",
     "output_type": "stream",
     "text": [
      "this is my class22\n"
     ]
    }
   ],
   "source": [
    "obj_class3.test_class2()"
   ]
  },
  {
   "cell_type": "markdown",
   "id": "a652e5fd-a08a-413b-a983-c68439ff1a1b",
   "metadata": {},
   "source": [
    "### Q4. What are getter and setter in python? Create a class and create a getter and a setter method in this\n",
    "class.\n",
    "\n",
    "##### getter and setter are method used to access and modify the private attributes set in Encapsulation class"
   ]
  },
  {
   "cell_type": "code",
   "execution_count": 24,
   "id": "6c9fb7d5-10ee-4b87-8efb-efdc260f1c3c",
   "metadata": {},
   "outputs": [],
   "source": [
    "class Person:\n",
    "    def __init__(self, name):\n",
    "        self.__name = name\n",
    "\n",
    "    def get_name(self):\n",
    "        return self.__name\n",
    "\n",
    "    def set_name(self, name):\n",
    "        self.__name = name\n"
   ]
  },
  {
   "cell_type": "markdown",
   "id": "c1c766b5-0ad3-44bf-b438-7f64f6285f15",
   "metadata": {},
   "source": [
    "### Q5.What is method overriding in python? Write a python code to demonstrate method overriding.\n",
    "\n",
    "##### method overriding is concept where subclass provides its own implementation of a method that is already defined in its superclass"
   ]
  },
  {
   "cell_type": "code",
   "execution_count": 25,
   "id": "abd07ac9-b5b8-405b-8151-47c66944f993",
   "metadata": {},
   "outputs": [],
   "source": [
    "class Animal:\n",
    "    def make_sound(self):\n",
    "        print(\"Generic animal sound\")\n",
    "\n",
    "class Cat(Animal):\n",
    "    def make_sound(self):\n",
    "        print(\"Meow\")\n",
    "\n",
    "class Dog(Animal):\n",
    "    def make_sound(self):\n",
    "        print(\"Woof\")"
   ]
  },
  {
   "cell_type": "code",
   "execution_count": 26,
   "id": "856f19f9-4f10-4be9-98e5-c07234f8d352",
   "metadata": {},
   "outputs": [],
   "source": [
    "cat = Cat()"
   ]
  },
  {
   "cell_type": "code",
   "execution_count": 27,
   "id": "1663629d-6cc0-4750-ae70-69887e95b48b",
   "metadata": {},
   "outputs": [],
   "source": [
    "dog = Dog()"
   ]
  },
  {
   "cell_type": "code",
   "execution_count": 28,
   "id": "c0b13d80-71ba-4321-8016-ecd3a5b242d2",
   "metadata": {},
   "outputs": [
    {
     "name": "stdout",
     "output_type": "stream",
     "text": [
      "Meow\n"
     ]
    }
   ],
   "source": [
    "cat.make_sound()"
   ]
  },
  {
   "cell_type": "code",
   "execution_count": 29,
   "id": "c1d0bbf6-a279-40f4-b5c1-d52ba673b8e8",
   "metadata": {},
   "outputs": [
    {
     "name": "stdout",
     "output_type": "stream",
     "text": [
      "Woof\n"
     ]
    }
   ],
   "source": [
    "dog.make_sound() "
   ]
  }
 ],
 "metadata": {
  "kernelspec": {
   "display_name": "Python 3 (ipykernel)",
   "language": "python",
   "name": "python3"
  },
  "language_info": {
   "codemirror_mode": {
    "name": "ipython",
    "version": 3
   },
   "file_extension": ".py",
   "mimetype": "text/x-python",
   "name": "python",
   "nbconvert_exporter": "python",
   "pygments_lexer": "ipython3",
   "version": "3.10.8"
  }
 },
 "nbformat": 4,
 "nbformat_minor": 5
}
