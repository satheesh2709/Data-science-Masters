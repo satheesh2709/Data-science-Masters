{
 "cells": [
  {
   "cell_type": "markdown",
   "id": "119e1e26-182d-418a-a605-46257680792c",
   "metadata": {},
   "source": [
    "Q1. What is an API? Give an example, where an API is used in real life.\n",
    "\n",
    "##### An API is a communication interface that allows two separate software components to share data\n",
    "\n",
    "##### Google map is a popular mobile app where it pulls customized location data, send directions and analyse all type of location data"
   ]
  },
  {
   "cell_type": "markdown",
   "id": "e9fd181b-34d6-49a9-8097-19bcb04409d9",
   "metadata": {},
   "source": [
    "Q2. Give advantages and disadvantages of using API.\n",
    "\n",
    "##### Advantage:\n",
    "1. Increased Visibility and Traffic\n",
    "2. Seamless Integration\n",
    "3. Increased Efficiency\n",
    "4. Easier maintenance\n",
    "\n",
    "##### Disadvantage:\n",
    "1. Increase complexity\n",
    "2. Limited Functionality\n",
    "3. Dependency on third party services\n",
    "4. Security and privacy risks\n"
   ]
  },
  {
   "cell_type": "markdown",
   "id": "4abda243-0988-467c-a04a-41d72ec46964",
   "metadata": {},
   "source": [
    "Q3. What is a Web API? Differentiate between API and Web API\n",
    "\n",
    "##### Web API is an API which can be accessed over the web using the HTTP protocol. It is a framework that helps you to create and develop HTTP based RESTFUL services\n",
    "\n",
    "##### APIs are application interfaces, meaning that one application is able to interact with another application in a standardized way where as Web API are a type of API, which must be accessed through a network connection "
   ]
  },
  {
   "cell_type": "markdown",
   "id": "f833da3e-0af0-4dd7-8c9a-d831ce340d0f",
   "metadata": {},
   "source": [
    "Q4. Explain REST and SOAP Architecture. Mention shortcomings of SOAP."
   ]
  },
  {
   "cell_type": "markdown",
   "id": "9ea64643-1db3-470a-89c5-68bbabf0054e",
   "metadata": {},
   "source": [
    "##### SOAP - SIMPLE OBJECT ACCESS PROTOCOL - The main idea behind designing SOAP was to ensure that programs built on different platforms and programming languages could exchange data in an easy manner.\n",
    "\n",
    "##### REST - REPRESENTATIONAL STATE TRANSFER - is an application programming interface that conforms to the constraints of REST architectural style and allows for interaction with RESTful web services\n",
    "\n",
    "#### Shortcomings of SOAP\n",
    "\n",
    "1. SOAP can only transfer messages as xml files\n",
    "2. it is slow and consumes more bandiwdth and resources\n",
    "3. It cannot be scalable or flexible and its complex compare to REST api\n",
    "\n"
   ]
  },
  {
   "cell_type": "markdown",
   "id": "984415d8-5b10-491a-bab4-1b7b6126c4e0",
   "metadata": {},
   "source": [
    "Q5. Differentiate between REST and SOAP.\n",
    "\n",
    "#### SOAP\n",
    "\n",
    "1. Transports data in standard XML format.\n",
    "2. Because it is XML based and relies on SOAP, it works with WSDL\n",
    "3. Works over HTTP, HTTPS, SMTP, XMPP\n",
    "4. Highly structured/typed\n",
    "\n",
    "#### REST\n",
    "\n",
    "1. Generally transports data in JSON. It is based on URI. Because REST follows stateless model, REST does not enforces message format as XML or JSON etc.\n",
    "2. It works with GET, POST, PUT, DELETE\n",
    "3. Works over HTTP and HTTPS\n",
    "4. Less structured -> less bulky data"
   ]
  },
  {
   "cell_type": "code",
   "execution_count": null,
   "id": "d5e0dda9-6be2-44f0-a506-660a32e1093e",
   "metadata": {},
   "outputs": [],
   "source": []
  }
 ],
 "metadata": {
  "kernelspec": {
   "display_name": "Python 3 (ipykernel)",
   "language": "python",
   "name": "python3"
  },
  "language_info": {
   "codemirror_mode": {
    "name": "ipython",
    "version": 3
   },
   "file_extension": ".py",
   "mimetype": "text/x-python",
   "name": "python",
   "nbconvert_exporter": "python",
   "pygments_lexer": "ipython3",
   "version": "3.10.8"
  }
 },
 "nbformat": 4,
 "nbformat_minor": 5
}
