{
 "cells": [
  {
   "cell_type": "markdown",
   "id": "487159a3-6e1e-4ac5-a866-9caa3c42d98f",
   "metadata": {},
   "source": [
    "#### Q1. What is Statistics?\n",
    "\n",
    "##### Statistics in the science of collecting organizing and analysing the data"
   ]
  },
  {
   "cell_type": "markdown",
   "id": "14425add-8079-4980-9a36-9206895e5b56",
   "metadata": {},
   "source": [
    "#### Q2. Define the different types of statistics and give an example of when each type might be used.\n",
    "\n",
    "##### Descriptive Stats - consists of organizing and summarising the data eg. measuring the height of student in the class and finding the average height, common height\n",
    "##### Inferential Stats - consists of using data you have measure to form conclusions. ex. height of student in the classroom comparing with the college"
   ]
  },
  {
   "cell_type": "markdown",
   "id": "3859eb18-62ba-4114-9e3f-4ef971daf6f0",
   "metadata": {},
   "source": [
    "#### Q3. What are the different types of data and how do they differ from each other? Provide an example of each type of data.\n",
    "\n",
    "##### Quantitative data - those are numerical data - ex: weight, height(continuous data), number of members in a family(discreet data)\n",
    "\n",
    "##### Qualitative data - these are categorical data ex: gender, colour(nominal data), ranking (ordinal data)"
   ]
  },
  {
   "cell_type": "markdown",
   "id": "7b7117e5-0957-4421-b997-c0d5d04f4693",
   "metadata": {
    "tags": []
   },
   "source": [
    "#### Q4. Categorise the following datasets with respect to quantitative and qualitative data types:\n",
    "##### (i) Grading in exam: A+, A, B+, B, C+, C, D, E - ordinal data type\n",
    "##### (ii) Colour of mangoes: yellow, green, orange, red - nominal data type\n",
    "##### (iii) Height data of a class: [178.9, 179, 179.5, 176, 177.2, 178.3, 175.8,...] - continuous data type\n",
    "##### (iv) Number of mangoes exported by a farm: [500, 600, 478, 672, ...] - discreet data type"
   ]
  },
  {
   "cell_type": "markdown",
   "id": "32c34712-30ed-455e-ba8f-8db8f8f65846",
   "metadata": {},
   "source": [
    "#### Q5. Explain the concept of levels of measurement and give an example of a variable for each level.\n",
    "\n",
    "##### Level of measurement is a classification that describes the nature of information within the values assigned to variables\n",
    "\n",
    "##### There are 4 types of measurement - Ordinal scale data, Nominal scale data, Interval scale data, Ratio scale data\n",
    "\n",
    "##### Nominal scale data - ex: gender, colour, labels\n",
    "##### Ordinal scale data - ex: qualification\n",
    "##### Interval scale data - ex: difference in temperature\n",
    "##### Ratio scale data - ex: difference in marks"
   ]
  },
  {
   "cell_type": "markdown",
   "id": "c99b7e9e-1d56-43d1-8e86-ee92d0247b95",
   "metadata": {},
   "source": [
    "#### Q6. Why is it important to understand the level of measurement when analyzing data? Provide an example to illustrate your answer.\n",
    "\n",
    "##### It determines the type of statistical analysis that can be conducted and therefore type of conclusion that can be drawn from the research\n"
   ]
  },
  {
   "cell_type": "markdown",
   "id": "55e5b7cb-8fd0-4850-ac0d-12b19bc187bf",
   "metadata": {},
   "source": [
    "#### Q7. How nominal data type is different from ordinal data type.\n",
    "\n",
    "##### In nominal data - order is not important\n",
    "##### In ordinal data - order is important"
   ]
  },
  {
   "cell_type": "markdown",
   "id": "bd62849d-95c0-4aa3-8133-6779272896cc",
   "metadata": {},
   "source": [
    "#### Q8. Which type of plot can be used to display data in terms of range? \n",
    "\n",
    "##### Histogram"
   ]
  },
  {
   "cell_type": "markdown",
   "id": "2f3bdeaf-0c06-4267-b560-e6eb0cdac066",
   "metadata": {},
   "source": [
    "#### Q9. Describe the difference between descriptive and inferential statistics. Give an example of each type of statistics and explain how they are used.\n",
    "\n",
    "##### Descriptive Stats - used for organizing and summarising the data eg. measuring the height of student in the class and finding the average height, common height\n",
    "\n",
    "##### Inferential Stats - data collected is used to measure and to form conclusions. ex. height of student in the classroom comparing with the college"
   ]
  },
  {
   "cell_type": "markdown",
   "id": "114c0e26-71ba-4d19-b129-392674aa5424",
   "metadata": {},
   "source": [
    "#### Q10. What are some common measures of central tendency and variability used in statistics? Explain how each measure can be used to describe a dataset.\n",
    "\n",
    "##### common measures of central tendency and variability - mean, median, mode\n",
    "\n",
    "##### mean - ex: to find the avg height in a group of people\n",
    "##### median - to find the mid height of the group of people\n",
    "##### mode - to find the height that is most often occuring the in the group of people"
   ]
  },
  {
   "cell_type": "code",
   "execution_count": null,
   "id": "4e0e48bd-af50-42a6-bb42-9a6c357c1cf5",
   "metadata": {},
   "outputs": [],
   "source": []
  }
 ],
 "metadata": {
  "kernelspec": {
   "display_name": "Python 3 (ipykernel)",
   "language": "python",
   "name": "python3"
  },
  "language_info": {
   "codemirror_mode": {
    "name": "ipython",
    "version": 3
   },
   "file_extension": ".py",
   "mimetype": "text/x-python",
   "name": "python",
   "nbconvert_exporter": "python",
   "pygments_lexer": "ipython3",
   "version": "3.10.8"
  }
 },
 "nbformat": 4,
 "nbformat_minor": 5
}
