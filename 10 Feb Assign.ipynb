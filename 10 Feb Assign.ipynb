{
 "cells": [
  {
   "cell_type": "markdown",
   "id": "487e51ce-6d46-4618-8b13-3666e5628e2f",
   "metadata": {},
   "source": [
    "### Q1. Which function is used to open a file? What are the different modes of opening a file? Explain each mode of file opening.\n",
    "\n",
    "##### 'open' is used to open a file in python\n",
    "##### There are 7 modes of opening a file\n",
    "1. r: Read mode\n",
    "2. w: Write mode\n",
    "3. a: Append\n",
    "4. x: Exclusive creation mode\n",
    "5. b: Binary mode\n",
    "6. t: Text mode\n",
    "7. +: Read/write mode"
   ]
  },
  {
   "cell_type": "code",
   "execution_count": 2,
   "id": "9f12bf61-fe41-42f9-937f-f30ad3921c0f",
   "metadata": {},
   "outputs": [],
   "source": [
    "f = open('test.txt','r')"
   ]
  },
  {
   "cell_type": "code",
   "execution_count": 3,
   "id": "02c3d844-8f1d-410f-bae8-dc7902eb4ccf",
   "metadata": {},
   "outputs": [
    {
     "name": "stdout",
     "output_type": "stream",
     "text": [
      "\n"
     ]
    }
   ],
   "source": [
    "with open('test.txt','r') as f:\n",
    "    print(f.read())"
   ]
  },
  {
   "cell_type": "markdown",
   "id": "daefe047-d77a-43f7-8df3-5c0ef310de67",
   "metadata": {},
   "source": [
    "### Q2. Why close() function is used? Why is it important to close a file?\n",
    "\n",
    "1. close() function is used to close a file that has been opened using the open() function \n",
    "2. It is important to close a file because it releases the system resources that were being used by the file\n",
    "3. Closing a file also ensures that any data that has been written to the file is saved\n",
    "4. "
   ]
  },
  {
   "cell_type": "markdown",
   "id": "b8986133-ad06-4d1a-96ef-727f2e8379cf",
   "metadata": {},
   "source": [
    "### Q3. Write a python program to create a text file. Write ‘I want to become a Data Scientist’ in that file. Then close the file. Open this file and read the content of the file."
   ]
  },
  {
   "cell_type": "code",
   "execution_count": 4,
   "id": "3e6ef3cb-e4ef-4ca1-bb64-3cd212b4fa14",
   "metadata": {},
   "outputs": [],
   "source": [
    "file = open('test.txt','w')"
   ]
  },
  {
   "cell_type": "code",
   "execution_count": 5,
   "id": "3b5812a5-4b9c-46b3-93f7-8c3b0f32a975",
   "metadata": {},
   "outputs": [
    {
     "data": {
      "text/plain": [
       "33"
      ]
     },
     "execution_count": 5,
     "metadata": {},
     "output_type": "execute_result"
    }
   ],
   "source": [
    "file.write('I want to become a Data Scientist')"
   ]
  },
  {
   "cell_type": "code",
   "execution_count": 8,
   "id": "f19e05ec-0402-4d25-b542-5d6e3fa611d0",
   "metadata": {},
   "outputs": [],
   "source": [
    "file.close()"
   ]
  },
  {
   "cell_type": "code",
   "execution_count": 16,
   "id": "dc9bd748-7f5e-4194-8247-188341261932",
   "metadata": {},
   "outputs": [],
   "source": [
    "data = open('test.txt','r')"
   ]
  },
  {
   "cell_type": "code",
   "execution_count": 17,
   "id": "4dc85ef5-de0c-40b0-b099-2724bd771dfb",
   "metadata": {},
   "outputs": [
    {
     "data": {
      "text/plain": [
       "'I want to become a Data Scientist'"
      ]
     },
     "execution_count": 17,
     "metadata": {},
     "output_type": "execute_result"
    }
   ],
   "source": [
    "data.read()"
   ]
  },
  {
   "cell_type": "markdown",
   "id": "50671569-3cb5-4117-9458-e3a7edd84ee5",
   "metadata": {},
   "source": [
    "### Q4. Explain the following with python code: read(), readline() and readlines().\n",
    "\n",
    "1. read() - reads the entire content of the file and return it as a string if a parameter is not specified it will read the entire file and if a parameter is passed it will read that many character from the file\n",
    "\n",
    "2. readline() - reads one line line of the file at a time and retunrs it as string. if called again it will read the next line and so on if reached end of line it shows empty string\n",
    "\n",
    "3. readlines() - reads all the lines of file and returns them as a list of string where each string represents line in the file"
   ]
  },
  {
   "cell_type": "markdown",
   "id": "f1f4b7de-4e42-4301-b0a0-638db8324d2b",
   "metadata": {},
   "source": [
    "### Q5. Explain why with statement is used with open(). What is the advantage of using with statement and open() together?\n",
    "\n",
    "#### with statement ensures the file is automatically closed when the block inside the with statement is exited\n",
    "\n",
    "#### Advamtage of using with and open togher:\n",
    "1. it simplifies the management of the file resources. you dont need to worry about closing the file manually\n",
    "2. it is more concise than manually opening and closing the file. this make the code easier to read and understnad\n",
    "3. it helps to prevent resource leaks. In manual method if closing is fogot to be implemented it can cause problems for program."
   ]
  },
  {
   "cell_type": "markdown",
   "id": "b78c2c4a-cbe9-472f-b16e-d3737b3f57c7",
   "metadata": {},
   "source": [
    "### Q6. Explain the write() and writelines() functions. Give a suitable example.\n",
    "1. write() - used to write a single string to a file, it returns the number of characters written to the file\n",
    "2. writelines() - used to write a list of strings to a line, it returns nothing, each string in the list is write to the file as separate line"
   ]
  },
  {
   "cell_type": "code",
   "execution_count": 18,
   "id": "33c7d9c2-0086-47e3-aecf-b6005ca9961a",
   "metadata": {},
   "outputs": [],
   "source": [
    "file = open(\"data.txt\", \"w\")\n",
    "file.write(\"I want to become a Data Scientist\")\n",
    "file.close()"
   ]
  },
  {
   "cell_type": "code",
   "execution_count": 21,
   "id": "a049021b-b45f-4b8b-8cbf-d0f62cd13fcf",
   "metadata": {},
   "outputs": [],
   "source": [
    "data = open(\"data.txt\", \"r\")"
   ]
  },
  {
   "cell_type": "code",
   "execution_count": 22,
   "id": "3b4c975e-8550-4031-b837-8eca942f0e78",
   "metadata": {},
   "outputs": [
    {
     "data": {
      "text/plain": [
       "'I want to become a Data Scientist'"
      ]
     },
     "execution_count": 22,
     "metadata": {},
     "output_type": "execute_result"
    }
   ],
   "source": [
    "data.read()"
   ]
  },
  {
   "cell_type": "code",
   "execution_count": 34,
   "id": "279249e9-cff7-49d0-8cdb-116c262ea560",
   "metadata": {},
   "outputs": [],
   "source": [
    "lines = [\"I want to become a Data Scientist\", \" I am learning Python\", \" I enjoy working with data\"]"
   ]
  },
  {
   "cell_type": "code",
   "execution_count": 35,
   "id": "5ece1e75-7986-40d9-b66b-eb688caa7c83",
   "metadata": {},
   "outputs": [],
   "source": [
    "file = open(\"data1.txt\", \"w\")"
   ]
  },
  {
   "cell_type": "code",
   "execution_count": 36,
   "id": "55fe271b-7df9-4df1-8796-378a122c6eeb",
   "metadata": {},
   "outputs": [],
   "source": [
    "file.writelines(lines)"
   ]
  },
  {
   "cell_type": "code",
   "execution_count": 37,
   "id": "bf45c180-e68c-4818-8342-6ab939509edc",
   "metadata": {},
   "outputs": [],
   "source": [
    "file.close()"
   ]
  },
  {
   "cell_type": "code",
   "execution_count": 38,
   "id": "980f1043-6707-4589-b080-c9a94353e70d",
   "metadata": {},
   "outputs": [],
   "source": [
    "data = open(\"data1.txt\", \"r\")"
   ]
  },
  {
   "cell_type": "code",
   "execution_count": 39,
   "id": "2799c75e-1636-49c9-8be7-3aa996ed812c",
   "metadata": {},
   "outputs": [
    {
     "data": {
      "text/plain": [
       "'I want to become a Data Scientist I am learning Python I enjoy working with data'"
      ]
     },
     "execution_count": 39,
     "metadata": {},
     "output_type": "execute_result"
    }
   ],
   "source": [
    "data.read()"
   ]
  },
  {
   "cell_type": "code",
   "execution_count": null,
   "id": "471024df-c470-4f88-806e-dec076500424",
   "metadata": {},
   "outputs": [],
   "source": []
  }
 ],
 "metadata": {
  "kernelspec": {
   "display_name": "Python 3 (ipykernel)",
   "language": "python",
   "name": "python3"
  },
  "language_info": {
   "codemirror_mode": {
    "name": "ipython",
    "version": 3
   },
   "file_extension": ".py",
   "mimetype": "text/x-python",
   "name": "python",
   "nbconvert_exporter": "python",
   "pygments_lexer": "ipython3",
   "version": "3.10.8"
  }
 },
 "nbformat": 4,
 "nbformat_minor": 5
}
