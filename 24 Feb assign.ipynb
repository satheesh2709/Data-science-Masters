{
 "cells": [
  {
   "cell_type": "markdown",
   "id": "beee05d7-7ace-4754-b114-d6501a5a2a5a",
   "metadata": {},
   "source": [
    "Q1. List any five functions of the pandas library with execution."
   ]
  },
  {
   "cell_type": "code",
   "execution_count": null,
   "id": "c5edd7c4-6859-4ca9-bcdc-e358121b1109",
   "metadata": {},
   "outputs": [],
   "source": [
    "import pandas as pd\n",
    "# 1 read.csv\n",
    "df = pd.read_csv('services.csv')\n",
    "#2 columns\n",
    "df.columns\n",
    "#3 head\n",
    "df.head()\n",
    "#4 tail\n",
    "df.tail()\n",
    "# types\n",
    "df.dtypes()"
   ]
  },
  {
   "cell_type": "markdown",
   "id": "4a3cf867-84a1-4651-99b4-ce93247f6ff9",
   "metadata": {},
   "source": [
    "Q2. Given a Pandas DataFrame df with columns 'A', 'B', and 'C', write a Python function to re-index the\n",
    "DataFrame with a new index that starts from 1 and increments by 2 for each row."
   ]
  },
  {
   "cell_type": "code",
   "execution_count": 22,
   "id": "61d17174-a5d3-43eb-a2b3-9af0302549f0",
   "metadata": {},
   "outputs": [],
   "source": [
    "import pandas as pd\n",
    "d = {'a':[2,3,4,5],\n",
    "     'b':[4,5,6,7],\n",
    "     'c':[2,3,4,5]\n",
    "}"
   ]
  },
  {
   "cell_type": "code",
   "execution_count": 23,
   "id": "9f7ba3e3-1d2f-429d-b82a-c8721e69c851",
   "metadata": {},
   "outputs": [],
   "source": [
    "df1 = pd.DataFrame(d,index=['A','B','C','D'])"
   ]
  },
  {
   "cell_type": "code",
   "execution_count": 24,
   "id": "81024890-2fd5-4c6c-8e40-633898e45b78",
   "metadata": {},
   "outputs": [
    {
     "data": {
      "text/html": [
       "<div>\n",
       "<style scoped>\n",
       "    .dataframe tbody tr th:only-of-type {\n",
       "        vertical-align: middle;\n",
       "    }\n",
       "\n",
       "    .dataframe tbody tr th {\n",
       "        vertical-align: top;\n",
       "    }\n",
       "\n",
       "    .dataframe thead th {\n",
       "        text-align: right;\n",
       "    }\n",
       "</style>\n",
       "<table border=\"1\" class=\"dataframe\">\n",
       "  <thead>\n",
       "    <tr style=\"text-align: right;\">\n",
       "      <th></th>\n",
       "      <th>a</th>\n",
       "      <th>b</th>\n",
       "      <th>c</th>\n",
       "    </tr>\n",
       "  </thead>\n",
       "  <tbody>\n",
       "    <tr>\n",
       "      <th>A</th>\n",
       "      <td>2</td>\n",
       "      <td>4</td>\n",
       "      <td>2</td>\n",
       "    </tr>\n",
       "    <tr>\n",
       "      <th>B</th>\n",
       "      <td>3</td>\n",
       "      <td>5</td>\n",
       "      <td>3</td>\n",
       "    </tr>\n",
       "    <tr>\n",
       "      <th>C</th>\n",
       "      <td>4</td>\n",
       "      <td>6</td>\n",
       "      <td>4</td>\n",
       "    </tr>\n",
       "    <tr>\n",
       "      <th>D</th>\n",
       "      <td>5</td>\n",
       "      <td>7</td>\n",
       "      <td>5</td>\n",
       "    </tr>\n",
       "  </tbody>\n",
       "</table>\n",
       "</div>"
      ],
      "text/plain": [
       "   a  b  c\n",
       "A  2  4  2\n",
       "B  3  5  3\n",
       "C  4  6  4\n",
       "D  5  7  5"
      ]
     },
     "execution_count": 24,
     "metadata": {},
     "output_type": "execute_result"
    }
   ],
   "source": [
    "df1"
   ]
  },
  {
   "cell_type": "code",
   "execution_count": 25,
   "id": "6dd40de0-1461-4418-b63b-171d59ba5855",
   "metadata": {},
   "outputs": [
    {
     "data": {
      "text/html": [
       "<div>\n",
       "<style scoped>\n",
       "    .dataframe tbody tr th:only-of-type {\n",
       "        vertical-align: middle;\n",
       "    }\n",
       "\n",
       "    .dataframe tbody tr th {\n",
       "        vertical-align: top;\n",
       "    }\n",
       "\n",
       "    .dataframe thead th {\n",
       "        text-align: right;\n",
       "    }\n",
       "</style>\n",
       "<table border=\"1\" class=\"dataframe\">\n",
       "  <thead>\n",
       "    <tr style=\"text-align: right;\">\n",
       "      <th></th>\n",
       "      <th>a</th>\n",
       "      <th>b</th>\n",
       "      <th>c</th>\n",
       "    </tr>\n",
       "  </thead>\n",
       "  <tbody>\n",
       "    <tr>\n",
       "      <th>1</th>\n",
       "      <td>NaN</td>\n",
       "      <td>NaN</td>\n",
       "      <td>NaN</td>\n",
       "    </tr>\n",
       "    <tr>\n",
       "      <th>2</th>\n",
       "      <td>NaN</td>\n",
       "      <td>NaN</td>\n",
       "      <td>NaN</td>\n",
       "    </tr>\n",
       "    <tr>\n",
       "      <th>3</th>\n",
       "      <td>NaN</td>\n",
       "      <td>NaN</td>\n",
       "      <td>NaN</td>\n",
       "    </tr>\n",
       "    <tr>\n",
       "      <th>4</th>\n",
       "      <td>NaN</td>\n",
       "      <td>NaN</td>\n",
       "      <td>NaN</td>\n",
       "    </tr>\n",
       "  </tbody>\n",
       "</table>\n",
       "</div>"
      ],
      "text/plain": [
       "    a   b   c\n",
       "1 NaN NaN NaN\n",
       "2 NaN NaN NaN\n",
       "3 NaN NaN NaN\n",
       "4 NaN NaN NaN"
      ]
     },
     "execution_count": 25,
     "metadata": {},
     "output_type": "execute_result"
    }
   ],
   "source": [
    "df1.reindex([1,2,3,4])"
   ]
  },
  {
   "cell_type": "markdown",
   "id": "89803859-9964-46cf-ab73-734acd220162",
   "metadata": {},
   "source": [
    "Q3. You have a Pandas DataFrame df with a column named 'Values'. Write a Python function that\n",
    "iterates over the DataFrame and calculates the sum of the first three values in the 'Values' column. The\n",
    "function should print the sum to the console.\n",
    "\n",
    "For example, if the 'Values' column of df contains the values [10, 20, 30, 40, 50], your function should\n",
    "calculate and print the sum of the first three values, which is 60."
   ]
  },
  {
   "cell_type": "code",
   "execution_count": 42,
   "id": "35aac03d-4215-4ad3-bff3-454c4eaae245",
   "metadata": {},
   "outputs": [],
   "source": [
    "def test(df3):\n",
    "    total = 0\n",
    "    for i in df3['values'].iloc[0:3]:\n",
    "        total = total+i\n",
    "    print(total)    \n",
    "    \n",
    "df3 = pd.DataFrame({'values':[10,20,30,40,50]})    "
   ]
  },
  {
   "cell_type": "code",
   "execution_count": 43,
   "id": "5789dfbb-c902-4480-ab7b-74e672153354",
   "metadata": {},
   "outputs": [
    {
     "name": "stdout",
     "output_type": "stream",
     "text": [
      "60\n"
     ]
    }
   ],
   "source": [
    "test(df3)"
   ]
  },
  {
   "cell_type": "markdown",
   "id": "c8adf7fe-cfdf-415b-a3f4-56e050f6f582",
   "metadata": {},
   "source": [
    "Q4. Given a Pandas DataFrame df with a column 'Text', write a Python function to create a new column\n",
    "'Word_Count' that contains the number of words in each row of the 'Text' column."
   ]
  },
  {
   "cell_type": "code",
   "execution_count": null,
   "id": "2f51b1be-22e2-4b90-a8cb-bfcc214f5877",
   "metadata": {},
   "outputs": [],
   "source": [
    "df[Word_count]=df[Test].apply(lambda x : len(x.split()))"
   ]
  },
  {
   "cell_type": "markdown",
   "id": "440cddd0-b076-4bf0-9d46-704b48148c5b",
   "metadata": {},
   "source": [
    "Q5. How are DataFrame.size() and DataFrame.shape() different?\n",
    "\n",
    "#### size return the number of elements in the dataframe\n",
    "#### shape return the the number of columns and and rows in a dataframe"
   ]
  },
  {
   "cell_type": "markdown",
   "id": "7b765c27-6005-4568-aa66-d5255ff97a0c",
   "metadata": {},
   "source": [
    "Q6. Which function of pandas do we use to read an excel file?\n",
    "\n",
    "##### pd.read_excel() is used to read the excel file"
   ]
  },
  {
   "cell_type": "markdown",
   "id": "40e7c32a-308b-49c0-a530-63f40e8f92df",
   "metadata": {},
   "source": [
    "Q7. You have a Pandas DataFrame df that contains a column named 'Email' that contains email\n",
    "addresses in the format 'username@domain.com'. Write a Python function that creates a new column\n",
    "'Username' in df that contains only the username part of each email address.\n",
    "\n",
    "The username is the part of the email address that appears before the '@' symbol. For example, if the\n",
    "email address is 'john.doe@example.com', the 'Username' column should contain 'john.doe'. Your\n",
    "function should extract the username from each email address and store it in the new 'Username'\n",
    "column."
   ]
  },
  {
   "cell_type": "code",
   "execution_count": 53,
   "id": "e0d8bd1d-1303-4c70-bc18-c00663e0b3b2",
   "metadata": {},
   "outputs": [],
   "source": [
    "def extract_name(df):\n",
    "    df['username'] = df['email'].apply(lambda email: email.split('@')[0])\n",
    "    return df"
   ]
  },
  {
   "cell_type": "code",
   "execution_count": 54,
   "id": "701b97ce-6630-4481-b0e0-240d423422ba",
   "metadata": {},
   "outputs": [],
   "source": [
    "df = pd.DataFrame({'email':['satheesh@gmail.com','sudh@gmail.com','krish@gmail.com']})"
   ]
  },
  {
   "cell_type": "code",
   "execution_count": 55,
   "id": "a50bcf30-a436-4bd1-9cbe-feabbdd105d2",
   "metadata": {},
   "outputs": [],
   "source": [
    "df = extract_name(df)"
   ]
  },
  {
   "cell_type": "code",
   "execution_count": 56,
   "id": "926a487a-4591-4c14-a30b-e0bb4651db8f",
   "metadata": {},
   "outputs": [
    {
     "name": "stdout",
     "output_type": "stream",
     "text": [
      "                email  username\n",
      "0  satheesh@gmail.com  satheesh\n",
      "1      sudh@gmail.com      sudh\n",
      "2     krish@gmail.com     krish\n"
     ]
    }
   ],
   "source": [
    "print(df)"
   ]
  },
  {
   "cell_type": "markdown",
   "id": "7c019394-dc82-46af-9fc5-19642caddee6",
   "metadata": {},
   "source": [
    "Q8. You have a Pandas DataFrame df with columns 'A', 'B', and 'C'. Write a Python function that selects\n",
    "all rows where the value in column 'A' is greater than 5 and the value in column 'B' is less than 10. The\n",
    "function should return a new DataFrame that contains only the selected rows.\n",
    "For example, if df contains the following values:"
   ]
  },
  {
   "cell_type": "code",
   "execution_count": 95,
   "id": "4ecce5a9-54bd-415e-b9be-932ef463a081",
   "metadata": {},
   "outputs": [],
   "source": [
    "def select_rows(df1):\n",
    "    return df1.loc[(df1['A']>5) & (df1['B']<10)]"
   ]
  },
  {
   "cell_type": "code",
   "execution_count": 96,
   "id": "73e8f791-bc65-42e0-8c99-17d9a70b4dde",
   "metadata": {},
   "outputs": [],
   "source": [
    "data = {'A':[3,8,6,2,9],\n",
    "       'B':[5,2,9,3,1],\n",
    "        'C':[1,7,4,5,2]}\n",
    "df1 = pd.DataFrame(data)\n"
   ]
  },
  {
   "cell_type": "code",
   "execution_count": 97,
   "id": "9156caa3-11b5-43cf-836b-e7d4039f5e1b",
   "metadata": {},
   "outputs": [
    {
     "name": "stdout",
     "output_type": "stream",
     "text": [
      "   A  B  C\n",
      "1  8  2  7\n",
      "2  6  9  4\n",
      "4  9  1  2\n"
     ]
    }
   ],
   "source": [
    "selected_rows = select_rows(df1)\n",
    "print(selected_rows)"
   ]
  },
  {
   "cell_type": "markdown",
   "id": "0a677a87-5599-4b87-ae15-40395386c5ae",
   "metadata": {},
   "source": [
    "Q9. Given a Pandas DataFrame df with a column 'Values', write a Python function to calculate the mean,\n",
    "median, and standard deviation of the values in the 'Values' column."
   ]
  },
  {
   "cell_type": "code",
   "execution_count": 98,
   "id": "04c80b4c-e069-4028-ac82-e0e961bea583",
   "metadata": {},
   "outputs": [],
   "source": [
    "df4 = pd.DataFrame({'values':[1,2,3,4,5,6,7,8,9]})"
   ]
  },
  {
   "cell_type": "code",
   "execution_count": 103,
   "id": "fd29012e-97f7-4d2f-a827-a702370cba14",
   "metadata": {},
   "outputs": [
    {
     "data": {
      "text/plain": [
       "values    5.0\n",
       "dtype: float64"
      ]
     },
     "execution_count": 103,
     "metadata": {},
     "output_type": "execute_result"
    }
   ],
   "source": [
    "df4.mean()"
   ]
  },
  {
   "cell_type": "code",
   "execution_count": 102,
   "id": "2982c058-ea08-406f-90dd-a396bf596f04",
   "metadata": {},
   "outputs": [
    {
     "data": {
      "text/plain": [
       "values    5.0\n",
       "dtype: float64"
      ]
     },
     "execution_count": 102,
     "metadata": {},
     "output_type": "execute_result"
    }
   ],
   "source": [
    "df4.median()"
   ]
  },
  {
   "cell_type": "code",
   "execution_count": 104,
   "id": "054bc80f-36fa-4f18-9326-0faef3f20905",
   "metadata": {},
   "outputs": [
    {
     "data": {
      "text/plain": [
       "values    2.738613\n",
       "dtype: float64"
      ]
     },
     "execution_count": 104,
     "metadata": {},
     "output_type": "execute_result"
    }
   ],
   "source": [
    "df4.std()"
   ]
  },
  {
   "cell_type": "markdown",
   "id": "3fd396c4-0615-4689-9af8-941e2cd800d8",
   "metadata": {},
   "source": [
    "Q10. Given a Pandas DataFrame df with a column 'Sales' and a column 'Date', write a Python function to\n",
    "create a new column 'MovingAverage' that contains the moving average of the sales for the past 7 days\n",
    "for each row in the DataFrame. The moving average should be calculated using a window of size 7 and\n",
    "should include the current day."
   ]
  },
  {
   "cell_type": "code",
   "execution_count": 105,
   "id": "d51b075e-1197-4a2b-ab4f-596322413a67",
   "metadata": {},
   "outputs": [],
   "source": [
    "def sales(df):\n",
    "    df['sales'].rolling(window=7).mean()"
   ]
  },
  {
   "cell_type": "markdown",
   "id": "37fb06c6-daca-4baf-bfe9-59123ef4847e",
   "metadata": {},
   "source": [
    "Q11. You have a Pandas DataFrame df with a column 'Date'. Write a Python function that creates a new\n",
    "column 'Weekday' in the DataFrame. The 'Weekday' column should contain the weekday name (e.g.\n",
    "Monday, Tuesday) corresponding to each date in the 'Date' column.\n",
    "For example, if df contains the following values:"
   ]
  },
  {
   "cell_type": "code",
   "execution_count": 121,
   "id": "56b96b2a-93c1-4f46-a099-73b19dfcbb71",
   "metadata": {},
   "outputs": [],
   "source": [
    "def weekday_column(df):\n",
    "    \n",
    "    df['Date'] = pd.to_datetime(df['Date'])\n",
    "    df['weekday'] = df['Date'].dt.strftime('%A')\n",
    "    return df"
   ]
  },
  {
   "cell_type": "code",
   "execution_count": 122,
   "id": "320ac48f-b038-44f8-8237-79806b03a1b1",
   "metadata": {},
   "outputs": [],
   "source": [
    "date = pd.DataFrame({'Date':['2023-01-01','2023-01-02','2023-01-03','2023-01-04','2023-01-05','2023-01-06']})"
   ]
  },
  {
   "cell_type": "code",
   "execution_count": 124,
   "id": "a61a2013-3d2c-470e-9c58-97ead21c0558",
   "metadata": {},
   "outputs": [
    {
     "name": "stdout",
     "output_type": "stream",
     "text": [
      "        Date    weekday\n",
      "0 2023-01-01     Sunday\n",
      "1 2023-01-02     Monday\n",
      "2 2023-01-03    Tuesday\n",
      "3 2023-01-04  Wednesday\n",
      "4 2023-01-05   Thursday\n",
      "5 2023-01-06     Friday\n"
     ]
    }
   ],
   "source": [
    "df = weekday_column(date)\n",
    "print(df)"
   ]
  },
  {
   "cell_type": "markdown",
   "id": "559fd1eb-8dca-4026-b6f4-e8713ce17559",
   "metadata": {},
   "source": [
    "Q12. Given a Pandas DataFrame df with a column 'Date' that contains timestamps, write a Python\n",
    "function to select all rows where the date is between '2023-01-01' and '2023-01-31'."
   ]
  },
  {
   "cell_type": "code",
   "execution_count": 125,
   "id": "34751a5b-ecb8-4133-80e1-d33eee189fbb",
   "metadata": {},
   "outputs": [],
   "source": [
    "import pandas as pd\n",
    "\n",
    "def january_data(df):\n",
    "\n",
    "    df['Date'] = pd.to_datetime(df['Date'])\n",
    "\n",
    "    mask = (df['Date'] >= '2023-01-01') & (df['Date'] <= '2023-01-31')\n",
    "\n",
    "    january = df.loc[mask]\n",
    "\n",
    "    return january\n"
   ]
  },
  {
   "cell_type": "code",
   "execution_count": 126,
   "id": "cdd1c4fa-c156-430c-b669-c218f0b3dec6",
   "metadata": {},
   "outputs": [
    {
     "name": "stdout",
     "output_type": "stream",
     "text": [
      "        Date\n",
      "1 2023-01-01\n",
      "2 2023-01-15\n",
      "3 2023-01-31\n"
     ]
    }
   ],
   "source": [
    "df = pd.DataFrame({'Date': ['2022-12-30', '2023-01-01', '2023-01-15', '2023-01-31', '2023-02-10']})\n",
    "january = january_data(df)\n",
    "print(january)\n"
   ]
  },
  {
   "cell_type": "markdown",
   "id": "9b8c9069-5e1c-426b-a5bf-55d16e5b44ff",
   "metadata": {},
   "source": [
    "Q13. To use the basic functions of pandas, what is the first and foremost necessary library that needs to\n",
    "be imported?\n",
    "\n",
    "#### Pandas library"
   ]
  },
  {
   "cell_type": "code",
   "execution_count": null,
   "id": "ef96a07d-24ca-418b-8a6f-7afcbe26a42d",
   "metadata": {},
   "outputs": [],
   "source": []
  }
 ],
 "metadata": {
  "kernelspec": {
   "display_name": "Python 3 (ipykernel)",
   "language": "python",
   "name": "python3"
  },
  "language_info": {
   "codemirror_mode": {
    "name": "ipython",
    "version": 3
   },
   "file_extension": ".py",
   "mimetype": "text/x-python",
   "name": "python",
   "nbconvert_exporter": "python",
   "pygments_lexer": "ipython3",
   "version": "3.10.8"
  }
 },
 "nbformat": 4,
 "nbformat_minor": 5
}
