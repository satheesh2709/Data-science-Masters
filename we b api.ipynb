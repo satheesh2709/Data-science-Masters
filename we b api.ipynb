{
 "cells": [
  {
   "cell_type": "markdown",
   "id": "26a72283-72e4-4be4-bb06-268e93785920",
   "metadata": {},
   "source": [
    "Web api\n",
    "\n",
    "diff between api and web api\n",
    "\n",
    "establish communication between two homogenous or heterogeneous system\n",
    "\n",
    "api - tcp smtp and http protocol\n",
    "web api - created using http protocol\n",
    "\n"
   ]
  },
  {
   "cell_type": "markdown",
   "id": "c846ea87-6393-48d4-8919-38ed482c0c79",
   "metadata": {},
   "source": [
    "Rest and soap architecture\n",
    "\n",
    "representation state transfer - REST - HTTP PROTOCOL - PUT,GET,POST,DELETE  \n",
    "\n",
    "REST IS KNOWN FOR SIMPLICITY, SCALABILITY, FLEXIBILITY\n",
    "REST IS LESS SECURE COMPARED TO SOAP\n"
   ]
  },
  {
   "cell_type": "markdown",
   "id": "7a375b99-8b70-4952-866e-cbbedada1d27",
   "metadata": {},
   "source": [
    "SIMPLE OBJECT ACCESS PROTOCAL - SOAP - TCP/SMTP\n",
    "\n",
    "TRANSFER ALL MESSAGE THROUGH XML(EXTENDED MARKET LANGUAGE) - WSDL\n",
    "\n",
    "WEB SERVICE DISCRIMATION LANGUAGE\n"
   ]
  },
  {
   "cell_type": "markdown",
   "id": "df5968fd-5f95-4b91-8fe9-52f9e9e1ff45",
   "metadata": {},
   "source": [
    "RESTFUL SERVICES\n",
    "\n",
    "RESTFUL SERVICES  also knows as restul apis are web services that follow the rest architecural style. rest stands for representational state transfer which is a setof principles for buildin web services that use http as the commnication protocal\n",
    "\n",
    "restful services are based on the following principles\n",
    "\n",
    "client server architecture - the client and server are separated allowing them to evolve indpendently\n",
    "\n",
    "stateless - each request sent to the server contains all the information needed to complete the erequest . the server does not maintain any client context between requests.\n",
    "\n",
    "cacheable - responses from the server can be cached to improve performance\n",
    "\n",
    "uniform interface - restful services use a uniform interface consisting of resources, heep verbs and hypermedia links\n",
    "\n",
    "layered system. restful services can be composed of muliple layers, allowing for scalability flexibility and security"
   ]
  }
 ],
 "metadata": {
  "kernelspec": {
   "display_name": "Python 3 (ipykernel)",
   "language": "python",
   "name": "python3"
  },
  "language_info": {
   "codemirror_mode": {
    "name": "ipython",
    "version": 3
   },
   "file_extension": ".py",
   "mimetype": "text/x-python",
   "name": "python",
   "nbconvert_exporter": "python",
   "pygments_lexer": "ipython3",
   "version": "3.10.8"
  }
 },
 "nbformat": 4,
 "nbformat_minor": 5
}
