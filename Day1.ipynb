{
 "cells": [
  {
   "cell_type": "code",
   "execution_count": 1,
   "id": "9268c1c3-9e3e-45a5-bbc3-f76a177cd60d",
   "metadata": {},
   "outputs": [
    {
     "data": {
      "text/plain": [
       "2"
      ]
     },
     "execution_count": 1,
     "metadata": {},
     "output_type": "execute_result"
    }
   ],
   "source": [
    "1+1"
   ]
  },
  {
   "cell_type": "markdown",
   "id": "384697a9-10a5-420a-a9bd-b43853882c79",
   "metadata": {},
   "source": [
    "# Hello guys\n",
    "## Hello guys\n",
    "### Hello guys\n",
    "#### Hello guys\n",
    "a = 20"
   ]
  },
  {
   "cell_type": "code",
   "execution_count": 4,
   "id": "80b38388-f8b7-4c8e-8cc2-df0814d5dddc",
   "metadata": {},
   "outputs": [],
   "source": [
    "\"\"\"\n",
    "Example for multi line commands\n",
    "Hello this is a exam ple of multi line comments\n",
    "\"\"\"\n",
    "\n",
    "a = 201"
   ]
  },
  {
   "cell_type": "code",
   "execution_count": 5,
   "id": "dbd5546d-3161-4e30-b83a-aec85faa03a1",
   "metadata": {},
   "outputs": [
    {
     "data": {
      "text/plain": [
       "201"
      ]
     },
     "execution_count": 5,
     "metadata": {},
     "output_type": "execute_result"
    }
   ],
   "source": [
    "\n",
    "a"
   ]
  },
  {
   "cell_type": "markdown",
   "id": "c25713cc-c4d5-48a2-b9de-209152915466",
   "metadata": {
    "tags": []
   },
   "source": [
    "### Numbers"
   ]
  },
  {
   "cell_type": "code",
   "execution_count": 6,
   "id": "f6229cdd-8003-42a6-81f2-27f1fa882bff",
   "metadata": {},
   "outputs": [
    {
     "data": {
      "text/plain": [
       "4"
      ]
     },
     "execution_count": 6,
     "metadata": {},
     "output_type": "execute_result"
    }
   ],
   "source": [
    "1+3"
   ]
  },
  {
   "cell_type": "code",
   "execution_count": 7,
   "id": "31dcc952-aa38-4546-a081-a561596e6abd",
   "metadata": {},
   "outputs": [
    {
     "name": "stdout",
     "output_type": "stream",
     "text": [
      "5\n"
     ]
    }
   ],
   "source": [
    "print(1+4)"
   ]
  },
  {
   "cell_type": "code",
   "execution_count": 8,
   "id": "f74a92b9-d677-46a1-9548-cbbe1e3b7ff1",
   "metadata": {},
   "outputs": [
    {
     "data": {
      "text/plain": [
       "5"
      ]
     },
     "execution_count": 8,
     "metadata": {},
     "output_type": "execute_result"
    }
   ],
   "source": [
    "a =5\n",
    "a"
   ]
  },
  {
   "cell_type": "code",
   "execution_count": 9,
   "id": "b50f42d2-894c-4f43-a5da-e9cc0667b57b",
   "metadata": {},
   "outputs": [
    {
     "name": "stdout",
     "output_type": "stream",
     "text": [
      "5\n"
     ]
    }
   ],
   "source": [
    "print(a)"
   ]
  },
  {
   "cell_type": "markdown",
   "id": "4a3e5f10-760c-4317-8c13-34cdb3f088cc",
   "metadata": {},
   "source": [
    "### Print statement"
   ]
  },
  {
   "cell_type": "code",
   "execution_count": 10,
   "id": "9be53e34-5a00-4166-8751-066c6f524a1c",
   "metadata": {},
   "outputs": [
    {
     "name": "stdout",
     "output_type": "stream",
     "text": [
      "Hellow World!\n"
     ]
    }
   ],
   "source": [
    "print(\"Hellow World!\")"
   ]
  },
  {
   "cell_type": "code",
   "execution_count": 12,
   "id": "461895f7-ba0e-45c3-b403-d36f9d97f655",
   "metadata": {},
   "outputs": [
    {
     "name": "stdout",
     "output_type": "stream",
     "text": [
      "Hellow World! my name is satheesh i work in skyvision solutions as precast details \n",
      "I'm thinking of changing my career to data science\n"
     ]
    }
   ],
   "source": [
    "print(\"Hellow World! my name is satheesh i work in skyvision solutions as precast details \\nI'm thinking of changing my career to data science\")"
   ]
  },
  {
   "cell_type": "markdown",
   "id": "7123c959-b365-4d8f-b3e6-f19e1858183f",
   "metadata": {},
   "source": [
    "### VAriable assignment"
   ]
  },
  {
   "cell_type": "code",
   "execution_count": 13,
   "id": "759d8fb1-5558-4dd0-979a-caa6c0bc93a4",
   "metadata": {},
   "outputs": [],
   "source": [
    "name = 'Satheesh'\n",
    "company = 'skyvision'\n"
   ]
  },
  {
   "cell_type": "code",
   "execution_count": 17,
   "id": "d99b8143-360a-455d-bd23-bdc7282340ca",
   "metadata": {},
   "outputs": [
    {
     "name": "stdout",
     "output_type": "stream",
     "text": [
      "Satheesh & skyvision\n"
     ]
    }
   ],
   "source": [
    "print (name,\"&\",company)"
   ]
  },
  {
   "cell_type": "code",
   "execution_count": 18,
   "id": "14aa4f84-91bb-420d-930b-0e482799a4b9",
   "metadata": {},
   "outputs": [
    {
     "data": {
      "text/plain": [
       "str"
      ]
     },
     "execution_count": 18,
     "metadata": {},
     "output_type": "execute_result"
    }
   ],
   "source": [
    "type(\"a\")  "
   ]
  },
  {
   "cell_type": "code",
   "execution_count": 20,
   "id": "8e7f802f-064d-4698-b36e-2bcdbc18b85c",
   "metadata": {},
   "outputs": [
    {
     "data": {
      "text/plain": [
       "str"
      ]
     },
     "execution_count": 20,
     "metadata": {},
     "output_type": "execute_result"
    }
   ],
   "source": [
    "type('true')"
   ]
  },
  {
   "cell_type": "code",
   "execution_count": 22,
   "id": "4cb4ed45-d20c-4972-8e51-a17023fcaacb",
   "metadata": {},
   "outputs": [
    {
     "data": {
      "text/plain": [
       "str"
      ]
     },
     "execution_count": 22,
     "metadata": {},
     "output_type": "execute_result"
    }
   ],
   "source": [
    "type(name)"
   ]
  },
  {
   "cell_type": "code",
   "execution_count": 23,
   "id": "568bb967-4ab7-46a8-9412-f0cd6db771e8",
   "metadata": {},
   "outputs": [
    {
     "data": {
      "text/plain": [
       "int"
      ]
     },
     "execution_count": 23,
     "metadata": {},
     "output_type": "execute_result"
    }
   ],
   "source": [
    "type(1)"
   ]
  },
  {
   "cell_type": "code",
   "execution_count": 24,
   "id": "6a7caf41-92ad-485d-87a1-3daa0df0a28e",
   "metadata": {},
   "outputs": [],
   "source": [
    "decimal_num = 2.5"
   ]
  },
  {
   "cell_type": "code",
   "execution_count": 25,
   "id": "b3a1068f-e28c-434a-80a2-46a043ee21dd",
   "metadata": {},
   "outputs": [
    {
     "data": {
      "text/plain": [
       "float"
      ]
     },
     "execution_count": 25,
     "metadata": {},
     "output_type": "execute_result"
    }
   ],
   "source": [
    "type(decimal_num)"
   ]
  },
  {
   "cell_type": "markdown",
   "id": "5f2a5d0b-306f-49b7-b280-dfa1a999b22f",
   "metadata": {},
   "source": [
    "## bad way to write a variable\n",
    "### dont start the variable name with a number\n",
    "***\n",
    "1a\n",
    "3answer\n",
    "***"
   ]
  },
  {
   "cell_type": "code",
   "execution_count": 30,
   "id": "24495c37-269e-4180-bdeb-1a66afc26d1b",
   "metadata": {},
   "outputs": [
    {
     "name": "stdout",
     "output_type": "stream",
     "text": [
      "ineuron\n",
      "PWSKILLS\n"
     ]
    }
   ],
   "source": [
    "## variable are case sensitive\n",
    "company = 'ineuron'\n",
    "Company = \"PWSKILLS\"\n",
    "print(company)\n",
    "print(Company)"
   ]
  },
  {
   "cell_type": "markdown",
   "id": "270d6c40-e7a7-4d45-96a9-11ae7af71d38",
   "metadata": {},
   "source": [
    "## reversed keywords\n",
    "'''\n",
    "int,float,len,complex,bool,str,return,yield\n",
    "'''"
   ]
  },
  {
   "cell_type": "markdown",
   "id": "144513e7-d4e1-4f99-ba71-c481e4e18ae1",
   "metadata": {},
   "source": [
    "## Boolean\n",
    "\n",
    "### True\n",
    "### False"
   ]
  },
  {
   "cell_type": "code",
   "execution_count": 32,
   "id": "117445ea-3ef2-4f4c-806e-8132b4338267",
   "metadata": {},
   "outputs": [
    {
     "data": {
      "text/plain": [
       "False"
      ]
     },
     "execution_count": 32,
     "metadata": {},
     "output_type": "execute_result"
    }
   ],
   "source": [
    "True and False"
   ]
  },
  {
   "cell_type": "code",
   "execution_count": 33,
   "id": "698e20b3-7183-4097-9dbf-82b5758cf127",
   "metadata": {},
   "outputs": [
    {
     "data": {
      "text/plain": [
       "True"
      ]
     },
     "execution_count": 33,
     "metadata": {},
     "output_type": "execute_result"
    }
   ],
   "source": [
    "True or False"
   ]
  },
  {
   "cell_type": "code",
   "execution_count": 34,
   "id": "00f669c3-47f7-4c44-9d20-6054f46d5540",
   "metadata": {},
   "outputs": [
    {
     "data": {
      "text/plain": [
       "True"
      ]
     },
     "execution_count": 34,
     "metadata": {},
     "output_type": "execute_result"
    }
   ],
   "source": [
    "True and True"
   ]
  },
  {
   "cell_type": "code",
   "execution_count": 35,
   "id": "caae47dd-99cb-410d-a592-45b7f036204b",
   "metadata": {},
   "outputs": [
    {
     "data": {
      "text/plain": [
       "False"
      ]
     },
     "execution_count": 35,
     "metadata": {},
     "output_type": "execute_result"
    }
   ],
   "source": [
    "not True"
   ]
  },
  {
   "cell_type": "code",
   "execution_count": 37,
   "id": "b6dbdc83-0889-41e1-be1f-9ad957e554a3",
   "metadata": {},
   "outputs": [
    {
     "data": {
      "text/plain": [
       "bool"
      ]
     },
     "execution_count": 37,
     "metadata": {},
     "output_type": "execute_result"
    }
   ],
   "source": [
    "type(not False)\n"
   ]
  },
  {
   "cell_type": "markdown",
   "id": "34bd4e37-6b77-4d8f-87c7-1485d2d8fa25",
   "metadata": {},
   "source": [
    "## Typecasting"
   ]
  },
  {
   "cell_type": "code",
   "execution_count": 38,
   "id": "2adbabcf-0d72-4ef1-bce6-ab62573332ad",
   "metadata": {},
   "outputs": [
    {
     "data": {
      "text/plain": [
       "False"
      ]
     },
     "execution_count": 38,
     "metadata": {},
     "output_type": "execute_result"
    }
   ],
   "source": [
    "bool(0)"
   ]
  },
  {
   "cell_type": "code",
   "execution_count": 39,
   "id": "e79c6624-7cd8-46cb-be8f-131ff0618342",
   "metadata": {},
   "outputs": [
    {
     "data": {
      "text/plain": [
       "True"
      ]
     },
     "execution_count": 39,
     "metadata": {},
     "output_type": "execute_result"
    }
   ],
   "source": [
    "bool(1)\n"
   ]
  },
  {
   "cell_type": "code",
   "execution_count": 40,
   "id": "623c0748-00b6-4602-ab6d-3d8f8094cdc8",
   "metadata": {},
   "outputs": [
    {
     "data": {
      "text/plain": [
       "True"
      ]
     },
     "execution_count": 40,
     "metadata": {},
     "output_type": "execute_result"
    }
   ],
   "source": [
    "bool(-1)"
   ]
  },
  {
   "cell_type": "code",
   "execution_count": 43,
   "id": "c5dee819-3943-4bcf-8679-7df79be8fc24",
   "metadata": {},
   "outputs": [
    {
     "name": "stdout",
     "output_type": "stream",
     "text": [
      "Hello\n"
     ]
    }
   ],
   "source": [
    "a=1 \n",
    "if bool(a)==True:\n",
    "    print('Hello')"
   ]
  },
  {
   "cell_type": "code",
   "execution_count": 45,
   "id": "61249349-3af6-435c-9383-ed1748d34391",
   "metadata": {},
   "outputs": [
    {
     "data": {
      "text/plain": [
       "str"
      ]
     },
     "execution_count": 45,
     "metadata": {},
     "output_type": "execute_result"
    }
   ],
   "source": [
    "type(str(23))"
   ]
  },
  {
   "cell_type": "markdown",
   "id": "71c5261b-51f3-402e-9b6c-2ab336b7f087",
   "metadata": {},
   "source": [
    "## Dynamic typing"
   ]
  },
  {
   "cell_type": "code",
   "execution_count": 46,
   "id": "7ff2781b-2a94-481d-bdfc-009680a8ba5f",
   "metadata": {},
   "outputs": [],
   "source": [
    "a = 12\n",
    "## compiler on runtime understand the type of input given to it"
   ]
  },
  {
   "cell_type": "markdown",
   "id": "0f94b16d-5f65-4e62-8e39-a3aeff191425",
   "metadata": {},
   "source": [
    "## Concatention between differnt types"
   ]
  },
  {
   "cell_type": "code",
   "execution_count": 48,
   "id": "7c32e607-7d9c-4e01-aca8-27ee6cd7b683",
   "metadata": {},
   "outputs": [
    {
     "data": {
      "text/plain": [
       "'11'"
      ]
     },
     "execution_count": 48,
     "metadata": {},
     "output_type": "execute_result"
    }
   ],
   "source": [
    "'1'+'1'"
   ]
  },
  {
   "cell_type": "code",
   "execution_count": 49,
   "id": "a641bac3-317d-44bd-a3ce-bcc1423c6b41",
   "metadata": {},
   "outputs": [
    {
     "data": {
      "text/plain": [
       "2"
      ]
     },
     "execution_count": 49,
     "metadata": {},
     "output_type": "execute_result"
    }
   ],
   "source": [
    "int('1')+int('1')"
   ]
  },
  {
   "cell_type": "code",
   "execution_count": 51,
   "id": "41b19840-7333-493c-925e-d85d4108ae4c",
   "metadata": {},
   "outputs": [
    {
     "ename": "TypeError",
     "evalue": "unsupported operand type(s) for +: 'int' and 'str'",
     "output_type": "error",
     "traceback": [
      "\u001b[0;31m---------------------------------------------------------------------------\u001b[0m",
      "\u001b[0;31mTypeError\u001b[0m                                 Traceback (most recent call last)",
      "Cell \u001b[0;32mIn[51], line 1\u001b[0m\n\u001b[0;32m----> 1\u001b[0m \u001b[38;5;28;43mint\u001b[39;49m\u001b[43m(\u001b[49m\u001b[38;5;124;43m'\u001b[39;49m\u001b[38;5;124;43m1\u001b[39;49m\u001b[38;5;124;43m'\u001b[39;49m\u001b[43m)\u001b[49m\u001b[38;5;241;43m+\u001b[39;49m\u001b[38;5;124;43m'\u001b[39;49m\u001b[38;5;124;43m1\u001b[39;49m\u001b[38;5;124;43m'\u001b[39;49m\n",
      "\u001b[0;31mTypeError\u001b[0m: unsupported operand type(s) for +: 'int' and 'str'"
     ]
    }
   ],
   "source": [
    "int('1')+'1'\n",
    "## throws error since the data types are different"
   ]
  },
  {
   "cell_type": "code",
   "execution_count": 53,
   "id": "4d254e9e-f7bc-404d-a9f5-c32868fed9de",
   "metadata": {},
   "outputs": [
    {
     "data": {
      "text/plain": [
       "'1111111111111111111111111111111111111111111111111111111111111111111111111111111111111111111111111111'"
      ]
     },
     "execution_count": 53,
     "metadata": {},
     "output_type": "execute_result"
    }
   ],
   "source": [
    "\"1\" * 100"
   ]
  },
  {
   "cell_type": "code",
   "execution_count": null,
   "id": "388baac0-bb26-4a1e-b979-2111466d90c9",
   "metadata": {},
   "outputs": [],
   "source": []
  },
  {
   "cell_type": "code",
   "execution_count": null,
   "id": "d4779be6-c3d4-4dfc-b8a5-bd6baea94b9e",
   "metadata": {},
   "outputs": [],
   "source": []
  },
  {
   "cell_type": "code",
   "execution_count": null,
   "id": "e101fd51-34c7-414b-8eac-8147701dec4e",
   "metadata": {},
   "outputs": [],
   "source": []
  },
  {
   "cell_type": "code",
   "execution_count": null,
   "id": "79230cfb-8a4f-4c7b-80e5-70f2e7543a13",
   "metadata": {},
   "outputs": [],
   "source": []
  },
  {
   "cell_type": "code",
   "execution_count": null,
   "id": "88cf0c91-4396-46a0-981f-294e66938579",
   "metadata": {},
   "outputs": [],
   "source": []
  },
  {
   "cell_type": "code",
   "execution_count": null,
   "id": "068f5cbc-e3f0-4520-9cda-a4f41cae642f",
   "metadata": {},
   "outputs": [],
   "source": []
  },
  {
   "cell_type": "code",
   "execution_count": null,
   "id": "8a8c6bb2-0989-482e-8991-41ab3bd8c2b9",
   "metadata": {},
   "outputs": [],
   "source": []
  },
  {
   "cell_type": "code",
   "execution_count": null,
   "id": "c6481f0a-eba8-47ef-94a2-8fccd7ed1f39",
   "metadata": {},
   "outputs": [],
   "source": []
  },
  {
   "cell_type": "code",
   "execution_count": null,
   "id": "2c881dec-c0ea-4d01-b880-1424ca9cb377",
   "metadata": {},
   "outputs": [],
   "source": []
  },
  {
   "cell_type": "code",
   "execution_count": null,
   "id": "723fc930-313d-4afe-bf59-70ba1c0cd1aa",
   "metadata": {},
   "outputs": [],
   "source": []
  },
  {
   "cell_type": "code",
   "execution_count": null,
   "id": "d54e3694-8cc8-4b2f-af2e-122eb700e659",
   "metadata": {},
   "outputs": [],
   "source": []
  },
  {
   "cell_type": "code",
   "execution_count": null,
   "id": "4e4263a7-525f-460c-9678-feafd9fa3f79",
   "metadata": {},
   "outputs": [],
   "source": []
  },
  {
   "cell_type": "code",
   "execution_count": null,
   "id": "ea75bbe5-ffbc-4aa1-822f-5876a24557a7",
   "metadata": {},
   "outputs": [],
   "source": []
  },
  {
   "cell_type": "code",
   "execution_count": null,
   "id": "1addfff4-3538-467b-a22d-54f361ea286f",
   "metadata": {},
   "outputs": [],
   "source": []
  },
  {
   "cell_type": "code",
   "execution_count": null,
   "id": "7741f1a1-e570-4186-8971-5c092ef00e0f",
   "metadata": {},
   "outputs": [],
   "source": []
  },
  {
   "cell_type": "code",
   "execution_count": null,
   "id": "2f1f85ff-f568-4422-9aee-ffe0d35e693d",
   "metadata": {},
   "outputs": [],
   "source": []
  },
  {
   "cell_type": "code",
   "execution_count": null,
   "id": "84fc9411-4a52-4402-9039-1a555e920ea8",
   "metadata": {},
   "outputs": [],
   "source": []
  },
  {
   "cell_type": "code",
   "execution_count": null,
   "id": "361a0718-f837-4b9e-9e0f-4e1e0743249b",
   "metadata": {},
   "outputs": [],
   "source": []
  },
  {
   "cell_type": "code",
   "execution_count": null,
   "id": "ee74fd39-db0d-456e-93f2-10b22656e617",
   "metadata": {},
   "outputs": [],
   "source": []
  },
  {
   "cell_type": "code",
   "execution_count": null,
   "id": "73295d47-0985-4a94-9789-480863c9ada7",
   "metadata": {},
   "outputs": [],
   "source": []
  },
  {
   "cell_type": "code",
   "execution_count": null,
   "id": "eee16751-3185-406a-8c45-637b1b2559b6",
   "metadata": {},
   "outputs": [],
   "source": []
  },
  {
   "cell_type": "code",
   "execution_count": null,
   "id": "e470536b-8707-44ea-aca5-79804378276f",
   "metadata": {},
   "outputs": [],
   "source": []
  },
  {
   "cell_type": "code",
   "execution_count": null,
   "id": "b1bbd9ef-84ff-44ba-8094-ea32a19161dc",
   "metadata": {},
   "outputs": [],
   "source": []
  },
  {
   "cell_type": "code",
   "execution_count": null,
   "id": "ddaedf17-db2e-460c-91c1-245925800581",
   "metadata": {},
   "outputs": [],
   "source": []
  },
  {
   "cell_type": "code",
   "execution_count": null,
   "id": "78853ab3-8295-427f-93e7-1438e0c9e601",
   "metadata": {},
   "outputs": [],
   "source": []
  },
  {
   "cell_type": "code",
   "execution_count": null,
   "id": "46ed2cbd-e6c0-4a13-9594-b79350de04a7",
   "metadata": {},
   "outputs": [],
   "source": []
  },
  {
   "cell_type": "code",
   "execution_count": null,
   "id": "8684aa64-b8d5-4cb9-9d06-62dc0ae73fea",
   "metadata": {},
   "outputs": [],
   "source": []
  },
  {
   "cell_type": "code",
   "execution_count": null,
   "id": "23b7758c-07db-43a2-ac72-1d1ac537edf1",
   "metadata": {},
   "outputs": [],
   "source": []
  },
  {
   "cell_type": "code",
   "execution_count": null,
   "id": "dd212181-da72-434c-bc89-ebd4e09bcfcf",
   "metadata": {},
   "outputs": [],
   "source": []
  },
  {
   "cell_type": "code",
   "execution_count": null,
   "id": "b59d8382-032f-4c62-b7ef-92dffe7fbc28",
   "metadata": {},
   "outputs": [],
   "source": []
  },
  {
   "cell_type": "code",
   "execution_count": null,
   "id": "cd8de2f3-0b9b-4918-a4bd-585a91dbfd2e",
   "metadata": {},
   "outputs": [],
   "source": []
  }
 ],
 "metadata": {
  "kernelspec": {
   "display_name": "Python 3 (ipykernel)",
   "language": "python",
   "name": "python3"
  },
  "language_info": {
   "codemirror_mode": {
    "name": "ipython",
    "version": 3
   },
   "file_extension": ".py",
   "mimetype": "text/x-python",
   "name": "python",
   "nbconvert_exporter": "python",
   "pygments_lexer": "ipython3",
   "version": "3.10.8"
  }
 },
 "nbformat": 4,
 "nbformat_minor": 5
}
