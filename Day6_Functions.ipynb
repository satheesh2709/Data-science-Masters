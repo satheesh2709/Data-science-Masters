{
 "cells": [
  {
   "cell_type": "markdown",
   "id": "aa83b195-7477-4a68-a018-2c0537f9b80d",
   "metadata": {},
   "source": [
    "## Functions\n",
    "### create our own unique functions created by using a keyword def"
   ]
  },
  {
   "cell_type": "code",
   "execution_count": 1,
   "id": "cdbe490e-bd52-4911-ade7-0b3ac003c4bf",
   "metadata": {},
   "outputs": [
    {
     "name": "stdout",
     "output_type": "stream",
     "text": [
      "This is my prog\n"
     ]
    }
   ],
   "source": [
    "print(\"This is my prog\")"
   ]
  },
  {
   "cell_type": "code",
   "execution_count": 2,
   "id": "250eeff8-0955-4fc5-a11b-e0e53a990d95",
   "metadata": {},
   "outputs": [],
   "source": [
    "l=[1,2,3,4,5]"
   ]
  },
  {
   "cell_type": "code",
   "execution_count": 3,
   "id": "9099cbb3-f7ea-4ba3-9b6f-1205a5cec45a",
   "metadata": {},
   "outputs": [
    {
     "data": {
      "text/plain": [
       "5"
      ]
     },
     "execution_count": 3,
     "metadata": {},
     "output_type": "execute_result"
    }
   ],
   "source": [
    "len(l)"
   ]
  },
  {
   "cell_type": "code",
   "execution_count": 4,
   "id": "3e72301a-9e0a-474a-b05f-2e82ab9a2fd8",
   "metadata": {},
   "outputs": [],
   "source": [
    "def test():\n",
    "    pass\n"
   ]
  },
  {
   "cell_type": "code",
   "execution_count": 5,
   "id": "419a8296-ef42-4ef3-8d2c-b261e8e6e78f",
   "metadata": {},
   "outputs": [],
   "source": [
    "def test1():\n",
    "    print(\"this is my first func\")\n",
    "    \n"
   ]
  },
  {
   "cell_type": "code",
   "execution_count": 7,
   "id": "e65a4411-7b49-41aa-b695-b70c64991657",
   "metadata": {},
   "outputs": [
    {
     "name": "stdout",
     "output_type": "stream",
     "text": [
      "this is my first func\n"
     ]
    }
   ],
   "source": [
    "test1()"
   ]
  },
  {
   "cell_type": "markdown",
   "id": "08896ee0-452a-4f26-935e-5d747672d860",
   "metadata": {},
   "source": [
    "## advantage\n",
    "## increase usability and modurality"
   ]
  },
  {
   "cell_type": "code",
   "execution_count": 12,
   "id": "151c4757-9695-4283-8e91-4e2ff5327187",
   "metadata": {},
   "outputs": [
    {
     "name": "stdout",
     "output_type": "stream",
     "text": [
      "this is my first func\n"
     ]
    },
    {
     "ename": "TypeError",
     "evalue": "unsupported operand type(s) for +: 'NoneType' and 'str'",
     "output_type": "error",
     "traceback": [
      "\u001b[0;31m---------------------------------------------------------------------------\u001b[0m",
      "\u001b[0;31mTypeError\u001b[0m                                 Traceback (most recent call last)",
      "Cell \u001b[0;32mIn[12], line 1\u001b[0m\n\u001b[0;32m----> 1\u001b[0m \u001b[43mtest1\u001b[49m\u001b[43m(\u001b[49m\u001b[43m)\u001b[49m\u001b[38;5;241;43m+\u001b[39;49m\u001b[38;5;124;43m'\u001b[39;49m\u001b[38;5;124;43msat\u001b[39;49m\u001b[38;5;124;43m'\u001b[39;49m\n",
      "\u001b[0;31mTypeError\u001b[0m: unsupported operand type(s) for +: 'NoneType' and 'str'"
     ]
    }
   ],
   "source": [
    "test1()+'sat'"
   ]
  },
  {
   "cell_type": "code",
   "execution_count": 13,
   "id": "b2d85eda-ee01-4227-ac41-c888b7a22f49",
   "metadata": {},
   "outputs": [],
   "source": [
    "def test2():\n",
    "    return \"This is my fun with return\""
   ]
  },
  {
   "cell_type": "code",
   "execution_count": 14,
   "id": "2828ca86-2fbe-4948-adbe-7af1b2083254",
   "metadata": {},
   "outputs": [
    {
     "data": {
      "text/plain": [
       "'This is my fun with return'"
      ]
     },
     "execution_count": 14,
     "metadata": {},
     "output_type": "execute_result"
    }
   ],
   "source": [
    "test2()"
   ]
  },
  {
   "cell_type": "code",
   "execution_count": 18,
   "id": "01a13750-5dcd-4df9-8112-c97303d361b3",
   "metadata": {},
   "outputs": [
    {
     "data": {
      "text/plain": [
       "'This is my fun with return sat'"
      ]
     },
     "execution_count": 18,
     "metadata": {},
     "output_type": "execute_result"
    }
   ],
   "source": [
    "test2()+ ' sat'"
   ]
  },
  {
   "cell_type": "code",
   "execution_count": 19,
   "id": "2e63abdd-1880-4423-b966-1394712656f1",
   "metadata": {},
   "outputs": [],
   "source": [
    "## permutation combination"
   ]
  },
  {
   "cell_type": "code",
   "execution_count": 22,
   "id": "7ba994ad-e6e7-44c2-868c-15b232bc4bd8",
   "metadata": {},
   "outputs": [],
   "source": [
    "def test3():\n",
    "    return 1,4,'pwskills',34.45"
   ]
  },
  {
   "cell_type": "code",
   "execution_count": 23,
   "id": "fbcd8f47-77c4-4234-a198-6b8cda12e588",
   "metadata": {},
   "outputs": [
    {
     "data": {
      "text/plain": [
       "(1, 4, 'pwskills', 34.45)"
      ]
     },
     "execution_count": 23,
     "metadata": {},
     "output_type": "execute_result"
    }
   ],
   "source": [
    "test3()"
   ]
  },
  {
   "cell_type": "code",
   "execution_count": 24,
   "id": "d6cec494-1b80-45bf-92d4-c21fbc310ede",
   "metadata": {},
   "outputs": [],
   "source": [
    "a=1,2,3,4,5"
   ]
  },
  {
   "cell_type": "code",
   "execution_count": 25,
   "id": "fcd12c41-65bb-472f-992b-e03234e4da9e",
   "metadata": {},
   "outputs": [
    {
     "data": {
      "text/plain": [
       "(1, 2, 3, 4, 5)"
      ]
     },
     "execution_count": 25,
     "metadata": {},
     "output_type": "execute_result"
    }
   ],
   "source": [
    "a\n"
   ]
  },
  {
   "cell_type": "code",
   "execution_count": 26,
   "id": "74891ee9-c986-4be9-9b33-2eea7ba9ceaa",
   "metadata": {},
   "outputs": [],
   "source": [
    "a,b,c,d=1,25,3,4"
   ]
  },
  {
   "cell_type": "code",
   "execution_count": 29,
   "id": "1943eda6-be33-45d3-97fd-d7305a785bea",
   "metadata": {},
   "outputs": [
    {
     "name": "stdout",
     "output_type": "stream",
     "text": [
      "1\n",
      "25\n"
     ]
    }
   ],
   "source": [
    "print(a)\n",
    "print(b)\n"
   ]
  },
  {
   "cell_type": "code",
   "execution_count": 30,
   "id": "2678953d-0a90-4cae-88b9-8e15c493991b",
   "metadata": {},
   "outputs": [
    {
     "data": {
      "text/plain": [
       "'pwskills'"
      ]
     },
     "execution_count": 30,
     "metadata": {},
     "output_type": "execute_result"
    }
   ],
   "source": [
    "test3()[2]"
   ]
  },
  {
   "cell_type": "code",
   "execution_count": 31,
   "id": "44692c52-031a-402b-bf84-2c8d54033c10",
   "metadata": {},
   "outputs": [
    {
     "data": {
      "text/plain": [
       "(1, 4, 'pwskills', 34.45)"
      ]
     },
     "execution_count": 31,
     "metadata": {},
     "output_type": "execute_result"
    }
   ],
   "source": [
    "test3()"
   ]
  },
  {
   "cell_type": "code",
   "execution_count": 32,
   "id": "bd830034-918b-43d0-a2b3-4e99471598ca",
   "metadata": {},
   "outputs": [],
   "source": [
    "a,b,c,d=test3()"
   ]
  },
  {
   "cell_type": "code",
   "execution_count": 33,
   "id": "7c2ef86a-c2a0-488a-a19d-f8058006654c",
   "metadata": {},
   "outputs": [
    {
     "data": {
      "text/plain": [
       "1"
      ]
     },
     "execution_count": 33,
     "metadata": {},
     "output_type": "execute_result"
    }
   ],
   "source": [
    "a"
   ]
  },
  {
   "cell_type": "code",
   "execution_count": 34,
   "id": "aeba3104-021b-462e-84b7-312fd979d3d7",
   "metadata": {},
   "outputs": [
    {
     "data": {
      "text/plain": [
       "'pwskills'"
      ]
     },
     "execution_count": 34,
     "metadata": {},
     "output_type": "execute_result"
    }
   ],
   "source": [
    "c"
   ]
  },
  {
   "cell_type": "code",
   "execution_count": 35,
   "id": "3ebdc6f9-de07-442f-8e15-8ecf60647f97",
   "metadata": {},
   "outputs": [],
   "source": [
    "def test4():\n",
    "    a=3*4+5\n",
    "    return a"
   ]
  },
  {
   "cell_type": "code",
   "execution_count": 36,
   "id": "8fc38179-2218-46cc-94f0-83b8f634ba3d",
   "metadata": {},
   "outputs": [
    {
     "data": {
      "text/plain": [
       "17"
      ]
     },
     "execution_count": 36,
     "metadata": {},
     "output_type": "execute_result"
    }
   ],
   "source": [
    "test4()"
   ]
  },
  {
   "cell_type": "code",
   "execution_count": 37,
   "id": "ffc5ad04-c467-4074-90a5-c180585a19a1",
   "metadata": {},
   "outputs": [
    {
     "data": {
      "text/plain": [
       "int"
      ]
     },
     "execution_count": 37,
     "metadata": {},
     "output_type": "execute_result"
    }
   ],
   "source": [
    "type(test4())"
   ]
  },
  {
   "cell_type": "code",
   "execution_count": 42,
   "id": "e11f5c43-ce27-423e-92e9-0ff0c53755d2",
   "metadata": {},
   "outputs": [],
   "source": [
    "def test5(a,b):\n",
    "    c=a+b\n",
    "    return c"
   ]
  },
  {
   "cell_type": "code",
   "execution_count": 39,
   "id": "7bec7d23-dfda-451e-9c59-64c15113c0b7",
   "metadata": {},
   "outputs": [
    {
     "data": {
      "text/plain": [
       "5"
      ]
     },
     "execution_count": 39,
     "metadata": {},
     "output_type": "execute_result"
    }
   ],
   "source": [
    "test5(a,b)"
   ]
  },
  {
   "cell_type": "code",
   "execution_count": 45,
   "id": "e00caf31-20a7-4475-b146-23e11a480892",
   "metadata": {},
   "outputs": [
    {
     "data": {
      "text/plain": [
       "'xy'"
      ]
     },
     "execution_count": 45,
     "metadata": {},
     "output_type": "execute_result"
    }
   ],
   "source": [
    "test5('x','y')"
   ]
  },
  {
   "cell_type": "code",
   "execution_count": 46,
   "id": "315700d4-5055-4451-bbd9-8fee803aa1ab",
   "metadata": {},
   "outputs": [
    {
     "data": {
      "text/plain": [
       "[1, 2, 3, 4, 4, 5, 6, 7]"
      ]
     },
     "execution_count": 46,
     "metadata": {},
     "output_type": "execute_result"
    }
   ],
   "source": [
    "test5([1,2,3,4],[4,5,6,7,])"
   ]
  },
  {
   "cell_type": "code",
   "execution_count": 47,
   "id": "9042bea1-08d9-4dd2-8c2e-631e7de46dff",
   "metadata": {},
   "outputs": [
    {
     "data": {
      "text/plain": [
       "'kumsat'"
      ]
     },
     "execution_count": 47,
     "metadata": {},
     "output_type": "execute_result"
    }
   ],
   "source": [
    "test5(b='sat',a='kum')"
   ]
  },
  {
   "cell_type": "code",
   "execution_count": 48,
   "id": "3beb521f-800e-4eca-a4bd-6ad74bda442b",
   "metadata": {},
   "outputs": [],
   "source": [
    "l=[1,2,3,45,'sudh','pwskills',[1,2,3,4,5]]"
   ]
  },
  {
   "cell_type": "markdown",
   "id": "8db62382-175c-49cf-bcea-984a2cb6a4b2",
   "metadata": {},
   "source": [
    "## create a function which will take list as an import and give me final list with all the numeric value"
   ]
  },
  {
   "cell_type": "code",
   "execution_count": 52,
   "id": "4e584a06-92bb-4621-8898-7cbd096d7224",
   "metadata": {},
   "outputs": [],
   "source": [
    "def test6(a):\n",
    "    n=[]\n",
    "    for i in a:\n",
    "        if type(i)==int or type(i) == float:\n",
    "            n.append(i)\n",
    "    return n        \n",
    "    "
   ]
  },
  {
   "cell_type": "code",
   "execution_count": 53,
   "id": "9ee539c0-7f08-4178-942e-3a3541ae0be1",
   "metadata": {},
   "outputs": [
    {
     "data": {
      "text/plain": [
       "[1, 2, 3, 45]"
      ]
     },
     "execution_count": 53,
     "metadata": {},
     "output_type": "execute_result"
    }
   ],
   "source": [
    "test6(l)"
   ]
  },
  {
   "cell_type": "code",
   "execution_count": 54,
   "id": "c9a26677-7a68-4a2b-9d60-fc0650aec169",
   "metadata": {},
   "outputs": [
    {
     "data": {
      "text/plain": [
       "[1, 2, 3, 45, 'sudh', 'pwskills', [1, 2, 3, 4, 5]]"
      ]
     },
     "execution_count": 54,
     "metadata": {},
     "output_type": "execute_result"
    }
   ],
   "source": [
    "l"
   ]
  },
  {
   "cell_type": "code",
   "execution_count": 57,
   "id": "4708ce52-7e09-4d96-8c5e-5b633a01d2c4",
   "metadata": {},
   "outputs": [],
   "source": [
    "def test7(a):\n",
    "    n=[]\n",
    "    for i in a:\n",
    "        if type(i)==list:\n",
    "            for j in i:\n",
    "                if type(j)==int or type(j)==float:\n",
    "                    n.append(j)\n",
    "        else:\n",
    "            if type(i)==int or type(i)==float:\n",
    "                n.append(i)\n",
    "    return n           \n",
    "                "
   ]
  },
  {
   "cell_type": "code",
   "execution_count": 58,
   "id": "8225467d-bdc1-4d8f-ab59-d273a07762ff",
   "metadata": {},
   "outputs": [
    {
     "data": {
      "text/plain": [
       "[1, 2, 3, 45, 1, 2, 3, 4, 5]"
      ]
     },
     "execution_count": 58,
     "metadata": {},
     "output_type": "execute_result"
    }
   ],
   "source": [
    "test7(l)"
   ]
  },
  {
   "cell_type": "code",
   "execution_count": 60,
   "id": "ad0f7948-5e04-4311-8883-98f990dc9fd0",
   "metadata": {},
   "outputs": [],
   "source": [
    "def test(a,b,c,d,e):\n",
    "    pass"
   ]
  },
  {
   "cell_type": "code",
   "execution_count": 64,
   "id": "6657dde7-7d94-46e6-8c99-86cd51c7174f",
   "metadata": {},
   "outputs": [],
   "source": [
    "def test8(*args):\n",
    "          return args"
   ]
  },
  {
   "cell_type": "code",
   "execution_count": 65,
   "id": "8faf7fa6-d610-4033-9a12-290b0097f440",
   "metadata": {},
   "outputs": [
    {
     "data": {
      "text/plain": [
       "(1, 2, 3, 4, 5, 6, 7)"
      ]
     },
     "execution_count": 65,
     "metadata": {},
     "output_type": "execute_result"
    }
   ],
   "source": [
    "test8(1,2,3,4,5,6,7)"
   ]
  },
  {
   "cell_type": "code",
   "execution_count": 66,
   "id": "a0e1299b-bee2-4501-b3a8-4f2dc4e9f5f7",
   "metadata": {},
   "outputs": [],
   "source": [
    "## args is not a key word\n",
    "def test9(*sat):\n",
    "          return sat"
   ]
  },
  {
   "cell_type": "code",
   "execution_count": 67,
   "id": "16ec2a53-0848-47c2-a02c-f88754e44b96",
   "metadata": {},
   "outputs": [
    {
     "data": {
      "text/plain": [
       "(1, 2, 3, 4, 5)"
      ]
     },
     "execution_count": 67,
     "metadata": {},
     "output_type": "execute_result"
    }
   ],
   "source": [
    "test9(1,2,3,4,5)"
   ]
  },
  {
   "cell_type": "code",
   "execution_count": 3,
   "id": "cda544a7-0aeb-453b-a37c-25c0558f8400",
   "metadata": {},
   "outputs": [],
   "source": [
    "def test10(*args,a):\n",
    "    return args,a\n",
    "    \n"
   ]
  },
  {
   "cell_type": "code",
   "execution_count": 4,
   "id": "e6acb7d2-a4b6-4f07-9663-a4eb8a108b9d",
   "metadata": {},
   "outputs": [
    {
     "data": {
      "text/plain": [
       "((1, 2, 3, 4), 'sudh')"
      ]
     },
     "execution_count": 4,
     "metadata": {},
     "output_type": "execute_result"
    }
   ],
   "source": [
    "test10(1,2,3,4,a='sudh')"
   ]
  },
  {
   "cell_type": "code",
   "execution_count": 11,
   "id": "da8dd8bc-7397-4e66-9fc4-c21dc513d0d9",
   "metadata": {},
   "outputs": [],
   "source": [
    "def test11(*args):\n",
    "    l=[]\n",
    "    for i in args:\n",
    "        if type(i) == list:\n",
    "            l.append(i)\n",
    "    return l        "
   ]
  },
  {
   "cell_type": "code",
   "execution_count": 13,
   "id": "92c51c55-c936-4e34-bf70-c5f958dfca5e",
   "metadata": {},
   "outputs": [
    {
     "data": {
      "text/plain": [
       "[[1, 2, 3, 4, 5]]"
      ]
     },
     "execution_count": 13,
     "metadata": {},
     "output_type": "execute_result"
    }
   ],
   "source": [
    "test11(1,2,3,[1,2,3,4,5],(4,5,6,7,8),'sat')"
   ]
  },
  {
   "cell_type": "code",
   "execution_count": 14,
   "id": "eab485e0-f7d9-496f-8ede-0044831905da",
   "metadata": {},
   "outputs": [],
   "source": [
    "def test12(**kwargs):\n",
    "    return kwargs"
   ]
  },
  {
   "cell_type": "code",
   "execution_count": 16,
   "id": "f48c0faa-add5-4c70-aabf-59e5390c0daf",
   "metadata": {},
   "outputs": [
    {
     "data": {
      "text/plain": [
       "{}"
      ]
     },
     "execution_count": 16,
     "metadata": {},
     "output_type": "execute_result"
    }
   ],
   "source": [
    "test12()"
   ]
  },
  {
   "cell_type": "code",
   "execution_count": 17,
   "id": "badd7eb3-efd9-433b-86d4-fb7ecaccef96",
   "metadata": {},
   "outputs": [
    {
     "data": {
      "text/plain": [
       "{'a': 34, 'b': 23, 'c': [1, 2, 3, 4], 'd': ('sat', 'pwskills')}"
      ]
     },
     "execution_count": 17,
     "metadata": {},
     "output_type": "execute_result"
    }
   ],
   "source": [
    "test12(a=34,b=23,c=[1,2,3,4],d=('sat','pwskills'))"
   ]
  },
  {
   "cell_type": "code",
   "execution_count": 22,
   "id": "cb8b4d49-a658-484f-9877-fbcb52ea7a46",
   "metadata": {},
   "outputs": [],
   "source": [
    "def test13(**kwargs):\n",
    "    for i in kwargs.keys():\n",
    "        if type( kwargs[i]) == list:\n",
    "            return i, kwargs[i]"
   ]
  },
  {
   "cell_type": "code",
   "execution_count": 23,
   "id": "cfb1ba7b-3050-4f5d-b0c0-60b1eaab351e",
   "metadata": {},
   "outputs": [
    {
     "data": {
      "text/plain": [
       "('c', [1, 2, 3, 4])"
      ]
     },
     "execution_count": 23,
     "metadata": {},
     "output_type": "execute_result"
    }
   ],
   "source": [
    "test13(a = 34,b = 23, c = [1,2,3,4],d = ('sat','pwskills'))"
   ]
  },
  {
   "cell_type": "code",
   "execution_count": 24,
   "id": "69d60c96-1336-44de-9890-c33b9c55146e",
   "metadata": {},
   "outputs": [],
   "source": [
    "def test14(*args,**kwargs):\n",
    "    return(args,kwargs)"
   ]
  },
  {
   "cell_type": "code",
   "execution_count": 25,
   "id": "cb85a8de-c8f5-43cb-ab41-81ece99a3ec8",
   "metadata": {},
   "outputs": [
    {
     "data": {
      "text/plain": [
       "((2, 3, 4, 5), {'a': 34, 'b': 98})"
      ]
     },
     "execution_count": 25,
     "metadata": {},
     "output_type": "execute_result"
    }
   ],
   "source": [
    "test14(2,3,4,5,a=34,b=98)"
   ]
  },
  {
   "cell_type": "code",
   "execution_count": 26,
   "id": "97cf3c8b-ca72-4424-b76d-e96595881ea0",
   "metadata": {},
   "outputs": [],
   "source": [
    "def test15(a):\n",
    "    n=[]\n",
    "    for i in a:\n",
    "        if type(i) == int:\n",
    "            n.append(i)\n",
    "    return n        "
   ]
  },
  {
   "cell_type": "code",
   "execution_count": 27,
   "id": "d432637f-796e-4b1d-875a-a3edf3bc50d1",
   "metadata": {},
   "outputs": [],
   "source": [
    "l=[1,2,3,4,5,6,7,8,7,'sudh','pwskills']"
   ]
  },
  {
   "cell_type": "code",
   "execution_count": 28,
   "id": "f2057dd6-95fc-4413-913d-c2c487699cc4",
   "metadata": {},
   "outputs": [
    {
     "data": {
      "text/plain": [
       "[1, 2, 3, 4, 5, 6, 7, 8, 7]"
      ]
     },
     "execution_count": 28,
     "metadata": {},
     "output_type": "execute_result"
    }
   ],
   "source": [
    "test15(l)"
   ]
  },
  {
   "cell_type": "code",
   "execution_count": 29,
   "id": "4487d35b-490d-4b59-910b-ebea0ccbf5d5",
   "metadata": {},
   "outputs": [],
   "source": [
    "## fibonacci series\n",
    "\n",
    "## 0 1 1 2 3 5 8 13 21 34\n",
    "\n"
   ]
  },
  {
   "cell_type": "code",
   "execution_count": 32,
   "id": "e2583fb6-f433-41c6-b18f-edcbfb2f2180",
   "metadata": {},
   "outputs": [],
   "source": [
    "def test_fib (n):\n",
    "    a,b= 0,1\n",
    "    for i in range (n):\n",
    "        yield a\n",
    "        a,b=b,a+b"
   ]
  },
  {
   "cell_type": "code",
   "execution_count": 33,
   "id": "d5151006-a063-496a-8d63-7af2eba07d48",
   "metadata": {},
   "outputs": [
    {
     "data": {
      "text/plain": [
       "<generator object test_fib at 0x7fd10ce222d0>"
      ]
     },
     "execution_count": 33,
     "metadata": {},
     "output_type": "execute_result"
    }
   ],
   "source": [
    "test_fib(10)"
   ]
  },
  {
   "cell_type": "code",
   "execution_count": 35,
   "id": "8159b08f-cf91-468a-bb19-ddc4bc443ea0",
   "metadata": {},
   "outputs": [
    {
     "name": "stdout",
     "output_type": "stream",
     "text": [
      "0\n",
      "1\n",
      "1\n",
      "2\n",
      "3\n",
      "5\n",
      "8\n",
      "13\n",
      "21\n",
      "34\n",
      "55\n",
      "89\n",
      "144\n",
      "233\n",
      "377\n",
      "610\n",
      "987\n",
      "1597\n",
      "2584\n",
      "4181\n",
      "6765\n",
      "10946\n",
      "17711\n",
      "28657\n",
      "46368\n",
      "75025\n",
      "121393\n",
      "196418\n",
      "317811\n",
      "514229\n",
      "832040\n",
      "1346269\n",
      "2178309\n",
      "3524578\n",
      "5702887\n",
      "9227465\n",
      "14930352\n",
      "24157817\n",
      "39088169\n",
      "63245986\n",
      "102334155\n",
      "165580141\n",
      "267914296\n",
      "433494437\n",
      "701408733\n",
      "1134903170\n",
      "1836311903\n",
      "2971215073\n",
      "4807526976\n",
      "7778742049\n",
      "12586269025\n",
      "20365011074\n",
      "32951280099\n",
      "53316291173\n",
      "86267571272\n",
      "139583862445\n",
      "225851433717\n",
      "365435296162\n",
      "591286729879\n",
      "956722026041\n",
      "1548008755920\n",
      "2504730781961\n",
      "4052739537881\n",
      "6557470319842\n",
      "10610209857723\n",
      "17167680177565\n",
      "27777890035288\n",
      "44945570212853\n",
      "72723460248141\n",
      "117669030460994\n",
      "190392490709135\n",
      "308061521170129\n",
      "498454011879264\n",
      "806515533049393\n",
      "1304969544928657\n",
      "2111485077978050\n",
      "3416454622906707\n",
      "5527939700884757\n",
      "8944394323791464\n",
      "14472334024676221\n",
      "23416728348467685\n",
      "37889062373143906\n",
      "61305790721611591\n",
      "99194853094755497\n",
      "160500643816367088\n",
      "259695496911122585\n",
      "420196140727489673\n",
      "679891637638612258\n",
      "1100087778366101931\n",
      "1779979416004714189\n",
      "2880067194370816120\n",
      "4660046610375530309\n",
      "7540113804746346429\n",
      "12200160415121876738\n",
      "19740274219868223167\n",
      "31940434634990099905\n",
      "51680708854858323072\n",
      "83621143489848422977\n",
      "135301852344706746049\n",
      "218922995834555169026\n"
     ]
    }
   ],
   "source": [
    "for i in test_fib(100):\n",
    "    print(i)"
   ]
  },
  {
   "cell_type": "markdown",
   "id": "2c5af0b2-d229-4c3c-b69b-944e03f9c121",
   "metadata": {},
   "source": [
    "## lambda function\n",
    "### function without a name anonymous function"
   ]
  },
  {
   "cell_type": "code",
   "execution_count": 2,
   "id": "e416ceec-e66d-431d-8799-d74bc3af69fb",
   "metadata": {},
   "outputs": [],
   "source": [
    "n=3\n",
    "p=2"
   ]
  },
  {
   "cell_type": "code",
   "execution_count": 3,
   "id": "b35ba363-2828-4bff-9ee3-e4a43eb84345",
   "metadata": {},
   "outputs": [],
   "source": [
    "def test16(n,p):\n",
    "    return n**p"
   ]
  },
  {
   "cell_type": "code",
   "execution_count": 4,
   "id": "332de742-a2a5-4a9d-bba2-badc135bd227",
   "metadata": {},
   "outputs": [
    {
     "data": {
      "text/plain": [
       "6561"
      ]
     },
     "execution_count": 4,
     "metadata": {},
     "output_type": "execute_result"
    }
   ],
   "source": [
    "test16(9,4)"
   ]
  },
  {
   "cell_type": "code",
   "execution_count": 6,
   "id": "1878222f-4629-42b7-a581-f6cdbd5856ba",
   "metadata": {},
   "outputs": [],
   "source": [
    "a = lambda n,p : n**p"
   ]
  },
  {
   "cell_type": "code",
   "execution_count": 7,
   "id": "156538be-53fb-4303-9445-e5efbbd495a4",
   "metadata": {},
   "outputs": [
    {
     "data": {
      "text/plain": [
       "9"
      ]
     },
     "execution_count": 7,
     "metadata": {},
     "output_type": "execute_result"
    }
   ],
   "source": [
    "a(3,2)"
   ]
  },
  {
   "cell_type": "code",
   "execution_count": 9,
   "id": "fca5ec03-189a-4816-9915-ea441e00fbc6",
   "metadata": {},
   "outputs": [],
   "source": [
    "add = lambda x,y : x+y"
   ]
  },
  {
   "cell_type": "code",
   "execution_count": 10,
   "id": "8e145a52-a752-4135-b49f-af8c0e9816cc",
   "metadata": {},
   "outputs": [
    {
     "data": {
      "text/plain": [
       "3"
      ]
     },
     "execution_count": 10,
     "metadata": {},
     "output_type": "execute_result"
    }
   ],
   "source": [
    "add(1,2)"
   ]
  },
  {
   "cell_type": "code",
   "execution_count": 11,
   "id": "5c57b710-3e3a-42a9-b96b-9a1d26de5757",
   "metadata": {},
   "outputs": [],
   "source": [
    "c_to_f = lambda c: (9/5)*c+32"
   ]
  },
  {
   "cell_type": "code",
   "execution_count": 12,
   "id": "ca673fd5-2b74-46b5-9297-a74265cc7cd5",
   "metadata": {},
   "outputs": [
    {
     "data": {
      "text/plain": [
       "93.2"
      ]
     },
     "execution_count": 12,
     "metadata": {},
     "output_type": "execute_result"
    }
   ],
   "source": [
    "c_to_f(34)"
   ]
  },
  {
   "cell_type": "code",
   "execution_count": 13,
   "id": "a20af246-9359-493e-bd71-441a267056be",
   "metadata": {},
   "outputs": [],
   "source": [
    "max_two = lambda x,y : x if x>y else y\n"
   ]
  },
  {
   "cell_type": "code",
   "execution_count": 14,
   "id": "3b26ddf3-cb0a-4d2e-96a1-09d530dfe5e4",
   "metadata": {},
   "outputs": [
    {
     "data": {
      "text/plain": [
       "56"
      ]
     },
     "execution_count": 14,
     "metadata": {},
     "output_type": "execute_result"
    }
   ],
   "source": [
    "max_two(56,4)"
   ]
  },
  {
   "cell_type": "code",
   "execution_count": 15,
   "id": "cba6c872-ea39-4752-8281-c988d6482316",
   "metadata": {},
   "outputs": [],
   "source": [
    "s='pwskills'\n"
   ]
  },
  {
   "cell_type": "code",
   "execution_count": 16,
   "id": "bf53ee38-c800-4196-ae7f-a2e8363310bb",
   "metadata": {},
   "outputs": [
    {
     "data": {
      "text/plain": [
       "8"
      ]
     },
     "execution_count": 16,
     "metadata": {},
     "output_type": "execute_result"
    }
   ],
   "source": [
    "len(s)"
   ]
  },
  {
   "cell_type": "code",
   "execution_count": 17,
   "id": "31e00b56-f97a-4f7e-86ea-34583516bc94",
   "metadata": {},
   "outputs": [],
   "source": [
    "len_str=lambda s: len(s)"
   ]
  },
  {
   "cell_type": "code",
   "execution_count": 18,
   "id": "6f130c1c-303d-40c1-af93-7a03408fd0a1",
   "metadata": {},
   "outputs": [
    {
     "data": {
      "text/plain": [
       "8"
      ]
     },
     "execution_count": 18,
     "metadata": {},
     "output_type": "execute_result"
    }
   ],
   "source": [
    "len_str(s)"
   ]
  },
  {
   "cell_type": "code",
   "execution_count": null,
   "id": "f9340340-2f4f-477c-b1cc-da342a09ad24",
   "metadata": {},
   "outputs": [],
   "source": []
  }
 ],
 "metadata": {
  "kernelspec": {
   "display_name": "Python 3 (ipykernel)",
   "language": "python",
   "name": "python3"
  },
  "language_info": {
   "codemirror_mode": {
    "name": "ipython",
    "version": 3
   },
   "file_extension": ".py",
   "mimetype": "text/x-python",
   "name": "python",
   "nbconvert_exporter": "python",
   "pygments_lexer": "ipython3",
   "version": "3.10.8"
  }
 },
 "nbformat": 4,
 "nbformat_minor": 5
}
