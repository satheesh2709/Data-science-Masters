{
 "cells": [
  {
   "cell_type": "markdown",
   "id": "9382f1c6-5171-4d7a-809c-08fe27dabedf",
   "metadata": {},
   "source": [
    "### Q1. What is Min-Max scaling, and how is it used in data preprocessing? Provide an example to illustrate its application."
   ]
  },
  {
   "cell_type": "markdown",
   "id": "f96fb65d-16e7-4871-92e1-a6f7ce16d223",
   "metadata": {},
   "source": [
    "#### Min-max scaling is a data normalization technique used in data preprocessing to transform the features of a dataset so that they have values between 0 and 1\n",
    "#### when height and weight we can min max technique to bring the two features to a common range"
   ]
  },
  {
   "cell_type": "markdown",
   "id": "05a5aefa-35ac-4573-81a2-298e8d347853",
   "metadata": {},
   "source": [
    "### Q2. What is the Unit Vector technique in feature scaling, and how does it differ from Min-Max scaling? Provide an example to illustrate its application"
   ]
  },
  {
   "cell_type": "markdown",
   "id": "29d288bc-37c8-4539-8896-51d88be248bf",
   "metadata": {},
   "source": [
    "#### The unit vector technique is a feature scaling method that scales the values of a feature vector such that the Euclidean norm (magnitude) of the vector becomes 1. This method is also known as L2 normalization.\n",
    "\n",
    "#### One of the main differences between Min-Max scaling and unit vector scaling is that Min-Max scaling scales the values of a feature to a fixed range between 0 and 1, whereas unit vector scaling scales the entire feature vector such that its magnitude becomes 1\n"
   ]
  },
  {
   "cell_type": "markdown",
   "id": "42567c5a-922b-4b89-a0d0-e97aafbd4dee",
   "metadata": {},
   "source": [
    "### Q3. What is PCA (Principle Component Analysis), and how is it used in dimensionality reduction? Provide an example to illustrate its application."
   ]
  },
  {
   "cell_type": "markdown",
   "id": "7c3a8ff2-8ba7-49fc-9a36-3be21c120467",
   "metadata": {},
   "source": [
    "#### PCA, or Principal Component Analysis, is a commonly used technique in machine learning and data science for dimensionality reduction. It is a mathematical method that transforms a large set of variables into a smaller set of uncorrelated variables, known as principal components\n",
    "\n",
    "#### The goal of PCA is to identify the most important patterns in the data and reduce its dimensionality while retaining as much information as possible"
   ]
  },
  {
   "cell_type": "markdown",
   "id": "313fa728-f4d7-4449-9cb8-c03f75fe836e",
   "metadata": {},
   "source": [
    "### Q4. What is the relationship between PCA and Feature Extraction, and how can PCA be used for Feature Extraction? Provide an example to illustrate this concept."
   ]
  },
  {
   "cell_type": "markdown",
   "id": "7bc8e0e4-3985-455e-848a-94e4447f1878",
   "metadata": {},
   "source": [
    "#### PCA and feature extraction are closely related concepts. Feature extraction is the process of identifying the most important features in a dataset, and PCA is a method that can be used for feature extraction.\n"
   ]
  },
  {
   "cell_type": "markdown",
   "id": "3adf50b0-bd83-4d1d-a098-e7952be3f2b2",
   "metadata": {},
   "source": [
    "### Q5. You are working on a project to build a recommendation system for a food delivery service. The dataset contains features such as price, rating, and delivery time. Explain how you would use Min-Max scaling to preprocess the data."
   ]
  },
  {
   "cell_type": "markdown",
   "id": "82eb1b65-4f64-4b20-9e67-4557a5e1c2ed",
   "metadata": {},
   "source": [
    "#### we would first normalize the numerical features to a common scale"
   ]
  },
  {
   "cell_type": "markdown",
   "id": "de04c1b6-489d-4a41-854d-50e1649f27ba",
   "metadata": {},
   "source": [
    "### Q6. You are working on a project to build a model to predict stock prices. The dataset contains many features, such as company financial data and market trends. Explain how you would use PCA to reduce the dimensionality of the dataset."
   ]
  },
  {
   "cell_type": "markdown",
   "id": "645dcab8-97d3-45cd-ab60-755c2ffcc635",
   "metadata": {},
   "source": [
    "1. Normalize the dataset to ensure that each feature has zero mean and unit variance. This step is important because PCA is sensitive to the scale of the features.\n",
    "\n",
    "2. Calculate the covariance matrix of the normalized dataset.\n",
    "\n",
    "3. Calculate the eigenvectors and eigenvalues of the covariance matrix.\n",
    "\n",
    "4. Sort the eigenvalues in descending order and select the top k eigenvectors that correspond to the k largest eigenvalues. These k eigenvectors are the principal components that capture the most variability in the data.\n",
    "\n",
    "5. Project the original dataset onto the k principal components to obtain a reduced-dimensionality dataset."
   ]
  },
  {
   "cell_type": "markdown",
   "id": "10d5c3bf-6c1d-4495-b42c-48922aa9dcce",
   "metadata": {},
   "source": [
    "### Q7. For a dataset containing the following values: [1, 5, 10, 15, 20], perform Min-Max scaling to transform the values to a range of -1 to 1."
   ]
  },
  {
   "cell_type": "code",
   "execution_count": 1,
   "id": "35326be3-fd09-4ab7-8994-d86df27a16ef",
   "metadata": {},
   "outputs": [],
   "source": [
    "from sklearn.preprocessing import MinMaxScaler"
   ]
  },
  {
   "cell_type": "code",
   "execution_count": 2,
   "id": "e147a8eb-96cf-4f18-9a05-2117eaf71ba6",
   "metadata": {},
   "outputs": [],
   "source": [
    "min_max = MinMaxScaler()"
   ]
  },
  {
   "cell_type": "code",
   "execution_count": 4,
   "id": "9911d49b-d575-42e2-b82e-86691b8046f6",
   "metadata": {},
   "outputs": [
    {
     "data": {
      "text/plain": [
       "array([[0., 0., 0., 0., 0.]])"
      ]
     },
     "execution_count": 4,
     "metadata": {},
     "output_type": "execute_result"
    }
   ],
   "source": [
    "min_max.fit_transform([[1, 5, 10, 15, 20]])"
   ]
  },
  {
   "cell_type": "markdown",
   "id": "aded5a93-55ea-416c-ae26-baa863906c1d",
   "metadata": {},
   "source": [
    "### Q8. For a dataset containing the following features: [height, weight, age, gender, blood pressure], perform Feature Extraction using PCA. How many principal components would you choose to retain, and why?"
   ]
  },
  {
   "cell_type": "markdown",
   "id": "6bb4af4d-652d-4724-8af0-d6ae2c4afb4f",
   "metadata": {},
   "source": [
    "#### height, weight, age, blood pressure are the components will be choosen\n",
    "\n",
    "#### gender is the only rejected data since it does not required since its least information needed when performing medical background"
   ]
  },
  {
   "cell_type": "code",
   "execution_count": null,
   "id": "47b0a381-5030-41c1-aec4-d35c15782d5f",
   "metadata": {},
   "outputs": [],
   "source": []
  }
 ],
 "metadata": {
  "kernelspec": {
   "display_name": "Python 3 (ipykernel)",
   "language": "python",
   "name": "python3"
  },
  "language_info": {
   "codemirror_mode": {
    "name": "ipython",
    "version": 3
   },
   "file_extension": ".py",
   "mimetype": "text/x-python",
   "name": "python",
   "nbconvert_exporter": "python",
   "pygments_lexer": "ipython3",
   "version": "3.10.8"
  }
 },
 "nbformat": 4,
 "nbformat_minor": 5
}
