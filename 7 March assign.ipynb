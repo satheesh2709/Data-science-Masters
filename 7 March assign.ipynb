{
 "cells": [
  {
   "cell_type": "markdown",
   "id": "68a88042-3c4e-4024-9c2c-7de6e95c0e3d",
   "metadata": {},
   "source": [
    "### Q1. What are the three measures of central tendency?\n",
    "\n",
    "#### 1. Mean\n",
    "#### 2. Median\n",
    "#### 3. Mode"
   ]
  },
  {
   "cell_type": "markdown",
   "id": "6e926cca-2900-4fe4-a85f-d8ebf96a036f",
   "metadata": {},
   "source": [
    "### Q2. What is the difference between the mean, median, and mode? How are they used to measure the central tendency of a dataset?"
   ]
  },
  {
   "cell_type": "markdown",
   "id": "e773bac5-f102-42e6-881f-8cc784a1fdb0",
   "metadata": {},
   "source": [
    "#### Mean is the average value of the given observations. Median is the middle value of the given observations. Mode is the most repeated value in the given observation."
   ]
  },
  {
   "cell_type": "markdown",
   "id": "6e663aa9-258a-4658-a283-06237fe32251",
   "metadata": {},
   "source": [
    "### Q3. Measure the three measures of central tendency for the given height data:\n",
    "\n",
    " [178,177,176,177,178.2,178,175,179,180,175,178.9,176.2,177,172.5,178,176.5]\n",
    "\n"
   ]
  },
  {
   "cell_type": "code",
   "execution_count": 1,
   "id": "580e2abb-9e2d-4251-bd9a-97a18eb999ac",
   "metadata": {},
   "outputs": [],
   "source": [
    "data = [178,177,176,177,178.2,178,175,179,180,175,178.9,176.2,177,172.5,178,176.5]"
   ]
  },
  {
   "cell_type": "code",
   "execution_count": 2,
   "id": "9c1312d6-93ec-4bdc-8cd8-eff299f74278",
   "metadata": {},
   "outputs": [],
   "source": [
    "import numpy as np"
   ]
  },
  {
   "cell_type": "code",
   "execution_count": 3,
   "id": "6043f2c0-4c30-4d39-8619-1a254c9bafaa",
   "metadata": {},
   "outputs": [
    {
     "data": {
      "text/plain": [
       "177.01875"
      ]
     },
     "execution_count": 3,
     "metadata": {},
     "output_type": "execute_result"
    }
   ],
   "source": [
    "np.mean(data)"
   ]
  },
  {
   "cell_type": "code",
   "execution_count": 4,
   "id": "2cea7dea-59fd-45fb-a413-f9bffcd216a6",
   "metadata": {},
   "outputs": [
    {
     "data": {
      "text/plain": [
       "177.0"
      ]
     },
     "execution_count": 4,
     "metadata": {},
     "output_type": "execute_result"
    }
   ],
   "source": [
    "np.median(data)"
   ]
  },
  {
   "cell_type": "code",
   "execution_count": 6,
   "id": "859d3a2b-328f-4f5e-805e-ac33a8288d40",
   "metadata": {},
   "outputs": [
    {
     "name": "stderr",
     "output_type": "stream",
     "text": [
      "/tmp/ipykernel_2510/4250874983.py:3: FutureWarning: Unlike other reduction functions (e.g. `skew`, `kurtosis`), the default behavior of `mode` typically preserves the axis it acts along. In SciPy 1.11.0, this behavior will change: the default value of `keepdims` will become False, the `axis` over which the statistic is taken will be eliminated, and the value None will no longer be accepted. Set `keepdims` to True or False to avoid this warning.\n",
      "  stats.mode(data)\n"
     ]
    },
    {
     "data": {
      "text/plain": [
       "ModeResult(mode=array([177.]), count=array([3]))"
      ]
     },
     "execution_count": 6,
     "metadata": {},
     "output_type": "execute_result"
    }
   ],
   "source": [
    "from scipy import stats\n",
    "\n",
    "stats.mode(data)"
   ]
  },
  {
   "cell_type": "markdown",
   "id": "33e6c1cc-1ac7-4543-a488-5d0c391b2391",
   "metadata": {},
   "source": [
    "### Q4. Find the standard deviation for the given data:\n",
    "\n",
    "[178,177,176,177,178.2,178,175,179,180,175,178.9,176.2,177,172.5,178,176.5]"
   ]
  },
  {
   "cell_type": "code",
   "execution_count": 7,
   "id": "b25c9504-5c24-4c37-b90f-8d51bebbb8f3",
   "metadata": {},
   "outputs": [],
   "source": [
    "data1 = [178,177,176,177,178.2,178,175,179,180,175,178.9,176.2,177,172.5,178,176.5]"
   ]
  },
  {
   "cell_type": "code",
   "execution_count": 8,
   "id": "5a26cd50-bbe2-4acc-a5d0-b230cf0422d3",
   "metadata": {},
   "outputs": [
    {
     "data": {
      "text/plain": [
       "1.7885814036548633"
      ]
     },
     "execution_count": 8,
     "metadata": {},
     "output_type": "execute_result"
    }
   ],
   "source": [
    "np.std(data1)"
   ]
  },
  {
   "cell_type": "markdown",
   "id": "dcedc028-a772-4e3f-8e59-d21798a8b68a",
   "metadata": {},
   "source": [
    "### Q5. How are measures of dispersion such as range, variance, and standard deviation used to describe he spread of a dataset? Provide an example."
   ]
  },
  {
   "cell_type": "markdown",
   "id": "875efe78-5887-4095-9c54-bae0455092fb",
   "metadata": {},
   "source": [
    "#### Range: The range of a dataset is the difference between the largest and smallest values in the dataset\n",
    "#### Variance: The variance of a dataset measures how far the data points are from the mean, on average\n",
    "#### Standard deviation: The standard deviation of a dataset is the square root of the variance. \n",
    "#### all these in combine is used to identify the amount of variability in the data points."
   ]
  },
  {
   "cell_type": "markdown",
   "id": "6b40465b-efd5-42b3-9f84-ba377ab39133",
   "metadata": {},
   "source": [
    "### Q6. What is a Venn diagram?\n",
    "\n",
    "#### A Venn diagram is an illustration that uses circles to show the relationships among things or finite groups of things."
   ]
  },
  {
   "cell_type": "markdown",
   "id": "e6c59645-52c9-4c8c-b3f6-36aac6bc3d02",
   "metadata": {},
   "source": [
    "### Q7. For the two given sets A = (2,3,4,5,6,7) & B = (0,2,6,8,10). Find:\n",
    "\n",
    "(i) \tA B  - (2,6)\n",
    "\n",
    "(ii)\tA ⋃ B - (0,2,3,4,5,6,7,8,10)"
   ]
  },
  {
   "cell_type": "markdown",
   "id": "35571ce4-9221-4735-a894-389dd44c0d7d",
   "metadata": {
    "tags": []
   },
   "source": [
    "### Q8. What do you understand about skewness in data?\n",
    "\n",
    "#### Skewness is a measurement of the distortion of symmetrical distribution or asymmetry in a data set"
   ]
  },
  {
   "cell_type": "markdown",
   "id": "5d3623d8-bde3-45e3-92d7-da5d2225500e",
   "metadata": {},
   "source": [
    "### Q9. If a data is right skewed then what will be the position of median with respect to mean?\n",
    "\n",
    "#### mean will be greater than median"
   ]
  },
  {
   "cell_type": "markdown",
   "id": "67a4ef5a-84be-43dd-8fb0-483cc9ae05a9",
   "metadata": {},
   "source": [
    "### Q10. Explain the difference between covariance and correlation. How are these measures used in  statistical analysis?\n"
   ]
  },
  {
   "cell_type": "markdown",
   "id": "fe9b9cd0-4fd8-4d9c-8eff-d578d0cb8a96",
   "metadata": {},
   "source": [
    "#### Covariance is an indicator of the extent to which 2 random variables are dependent on each other. A higher number denotes higher dependency. \n",
    "\n",
    "#### Correlation is a statistical measure that indicates how strongly two variables are related. The value of covariance lies in the range of -∞ and +∞\n",
    "\n",
    "#### Covariance is often used as a preliminary measure to determine if a relationship exists between two variables. Correlation is a more commonly used measure because it provides a standardized value that can be easily interpreted."
   ]
  },
  {
   "cell_type": "markdown",
   "id": "09749a17-0dfb-4764-8e0e-8d103c0fe0cc",
   "metadata": {},
   "source": [
    "### Q11. What is the formula for calculating the sample mean? Provide an example calculation for a dataset.\n"
   ]
  },
  {
   "cell_type": "markdown",
   "id": "17119792-b604-459e-a0bd-cacaf1757362",
   "metadata": {},
   "source": [
    "#### The general formula for calculating the sample mean is given by x̄ = ( Σ xi ) / n\n"
   ]
  },
  {
   "cell_type": "markdown",
   "id": "d59dee86-85bb-4a87-a423-c84fcdea28f0",
   "metadata": {},
   "source": [
    "x̄ = ( Σ xi ) / n\n",
    "\n",
    "x̄ = ( 80 + 85 + 90 + 95 + 100 ) / 5\n",
    "\n",
    "x̄ = 450 / 5\n",
    "\n",
    "x̄ = 90"
   ]
  },
  {
   "cell_type": "markdown",
   "id": "eaebbcc9-d267-4450-90ab-e4236285261a",
   "metadata": {},
   "source": [
    "### Q12. For a normal distribution data what is the relationship between its measure of central tendency?\n",
    "\n",
    "#### For normal distribution the mean, median and mode will lying at the same point on the horixantal axis"
   ]
  },
  {
   "cell_type": "markdown",
   "id": "40f67e8e-165f-4ead-810d-587c3879545f",
   "metadata": {},
   "source": [
    "### Q13. How is covariance different from correlation?\n",
    "\n",
    "#### Covariance is used to identiy the extent of dependency of two variables where as variance is used to measure how striongly two variables are related"
   ]
  },
  {
   "cell_type": "markdown",
   "id": "d86d5ecb-c581-47e2-bac1-2decb387f860",
   "metadata": {},
   "source": [
    "### Q14. How do outliers affect measures of central tendency and dispersion? Provide an example.\n",
    "\n",
    "#### Mean is the only measure of central tendency that is always affected by an outlier."
   ]
  },
  {
   "cell_type": "code",
   "execution_count": null,
   "id": "ae21ef95-d4b3-48d2-8159-68bea501194a",
   "metadata": {},
   "outputs": [],
   "source": []
  }
 ],
 "metadata": {
  "kernelspec": {
   "display_name": "Python 3 (ipykernel)",
   "language": "python",
   "name": "python3"
  },
  "language_info": {
   "codemirror_mode": {
    "name": "ipython",
    "version": 3
   },
   "file_extension": ".py",
   "mimetype": "text/x-python",
   "name": "python",
   "nbconvert_exporter": "python",
   "pygments_lexer": "ipython3",
   "version": "3.10.8"
  }
 },
 "nbformat": 4,
 "nbformat_minor": 5
}
