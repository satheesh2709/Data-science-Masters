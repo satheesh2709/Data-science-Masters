{
 "cells": [
  {
   "cell_type": "markdown",
   "id": "33efc081-77e8-44c6-bcb9-8730bee1c551",
   "metadata": {},
   "source": [
    "Q1. What is Flask Framework? What are the advantages of Flask Framework?\n",
    "\n",
    "#### Flask is a web framework, it’s a Python module that lets you develop web applications easily. It’s has a small and easy-to-extend core: it’s a microframework that doesn’t include an ORM\n",
    "\n",
    "Advantage\n",
    "1. Scalable\n",
    "2. Flexible\n",
    "3. Easy to negotiate\n",
    "4. Lightweight\n",
    "5. Documentation\n",
    "6. Not a lot of tools"
   ]
  },
  {
   "cell_type": "markdown",
   "id": "a2fee01f-7c8b-4407-8502-d8f945f009f4",
   "metadata": {},
   "source": [
    "Q2. Create a simple Flask application to display ‘Hello World!!’. Attach the screenshot of the output in\n",
    "Jupyter Notebook."
   ]
  },
  {
   "cell_type": "code",
   "execution_count": null,
   "id": "0d3c3e6b-ef49-4442-a776-ec30fd18e67d",
   "metadata": {},
   "outputs": [],
   "source": [
    "from flask import Flask\n",
    "\n",
    "app = Flask(__name__)\n",
    "\n",
    "@app.route(\"/\")\n",
    "def hello_world():\n",
    "    return 'Hello world'\n",
    "\n",
    "if __name__==\"__main__\":\n",
    "    app.run(host=\"0.0.0.0\")    \n",
    "    \n",
    "\n",
    "'''\n",
    "[Running] python -u \"/config/workspace/test.py\"\n",
    " * Serving Flask app 'test'\n",
    " * Debug mode: off\n",
    "\u001b[31m\u001b[1mWARNING: This is a development server. Do not use it in a production deployment. Use a production WSGI server instead.\u001b[0m\n",
    " * Running on all addresses (0.0.0.0)\n",
    " * Running on http://127.0.0.1:5000\n",
    " * Running on http://172.18.0.9:5000\n",
    "\u001b[33mPress CTRL+C to quit\u001b[0m\n",
    "172.18.0.2 - - [30/Mar/2023 21:14:58] \"GET / HTTP/1.1\" 200 -\n",
    "\n",
    "'''\n",
    "\n",
    "# Please Note: I'm not sure how to attach the screenshot of the output in the jupyter notebook but copy pasted the result"
   ]
  },
  {
   "cell_type": "markdown",
   "id": "404bf2e9-280d-4904-abc1-f528deaacf7f",
   "metadata": {},
   "source": [
    "Q3. What is App routing in Flask? Why do we use app routes?\n",
    "\n",
    "###### App routing is used to map the specific URL with the associated function that is intended to perform some task. \n",
    "\n",
    "###### It is used to access some particular page like Flask Tutorial in the web application."
   ]
  },
  {
   "cell_type": "markdown",
   "id": "08a86efb-ca79-414c-b411-ac4a1ad785f9",
   "metadata": {},
   "source": [
    "Q4. Create a “/welcome” route to display the welcome message “Welcome to ABC Corporation” and a “/” route to show the following details:\n",
    "##### Company Name: ABC Corporation\n",
    "##### Location: India\n",
    "##### Contact Detail: 999-999-9999\n",
    "##### Attach the screenshot of the output in Jupyter Notebook."
   ]
  },
  {
   "cell_type": "code",
   "execution_count": null,
   "id": "c41a1670-48fb-499e-8a41-44d19da6dc8f",
   "metadata": {},
   "outputs": [],
   "source": [
    "from flask import Flask\n",
    "from flask import request\n",
    "\n",
    "app = Flask(__name__)\n",
    "\n",
    "@app.route(\"/welcome\")\n",
    "def welcome():\n",
    "    return \"Welcome to ABC Corporation\"\n",
    "\n",
    "\n",
    "@app.route(\"/\")\n",
    "def details():\n",
    "    return (f\"Company Name: ABC Corporation \\n Location: India \\n Contact Detail: 999-999-9999\")\n",
    "  \n",
    "\n",
    "if __name__==\"__main__\":\n",
    "    app.run(host=\"0.0.0.0\")\n"
   ]
  },
  {
   "cell_type": "markdown",
   "id": "faab2a44-3689-402d-90e4-d6d3b23b7fa7",
   "metadata": {},
   "source": [
    "Q5. What function is used in Flask for URL Building? Write a Python code to demonstrate the working of the\n",
    "url_for() function.\n",
    "\n",
    "###### url_for() is used to create url building\n"
   ]
  },
  {
   "cell_type": "code",
   "execution_count": null,
   "id": "29ae7319-0d12-45b9-9463-f5a1e45f0109",
   "metadata": {},
   "outputs": [],
   "source": [
    "from flask import Flask\n",
    "\n",
    "app = Flask(__name__)\n",
    "\n",
    "@app.route(\"/\")\n",
    "def hello_world():\n",
    "    return 'Hello world'\n",
    "\n",
    "if __name__==\"__main__\":\n",
    "    app.run(host=\"0.0.0.0\") "
   ]
  }
 ],
 "metadata": {
  "kernelspec": {
   "display_name": "Python 3 (ipykernel)",
   "language": "python",
   "name": "python3"
  },
  "language_info": {
   "codemirror_mode": {
    "name": "ipython",
    "version": 3
   },
   "file_extension": ".py",
   "mimetype": "text/x-python",
   "name": "python",
   "nbconvert_exporter": "python",
   "pygments_lexer": "ipython3",
   "version": "3.10.8"
  }
 },
 "nbformat": 4,
 "nbformat_minor": 5
}
